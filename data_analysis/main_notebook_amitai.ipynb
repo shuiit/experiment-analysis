{
 "cells": [
  {
   "cell_type": "code",
   "execution_count": 4,
   "metadata": {},
   "outputs": [],
   "source": [
    "\n",
    "from Experiment import Experiment\n",
    "import matplotlib.pyplot as plt\n",
    "import Plotters \n",
    "import plotly.graph_objects as go\n",
    "import plotly\n",
    "import numpy as np\n",
    "\n",
    "import time\n",
    "import matplotlib.cm as colormap\n",
    "\n",
    "%matplotlib qt\n",
    "\n",
    "loadir = 'C:/' # dir to save the data frame in # H:\\My Drive\\Ronis Exp\\sagiv\\data_analysis\n",
    "exp_name =['manipulated_05_12_22']\n",
    "experiments = {exp:Experiment(loadir,exp) for exp in exp_name} # load experiments\n"
   ]
  },
  {
   "cell_type": "code",
   "execution_count": 15,
   "metadata": {},
   "outputs": [
    {
     "name": "stdout",
     "output_type": "stream",
     "text": [
      "dict_keys(['pitch_body', 'yaw_body', 'roll_body', 'pitch_body_dot', 'yaw_body_dot', 'roll_body_dot', 'pitch_body_dot_dot', 'yaw_body_dot_dot', 'roll_body_dot_dot', 'frames', 'time', 'CM_real_x_body', 'CM_real_y_body', 'CM_real_z_body', 'phi_rw_max_idx', 'phi_rw_max_val', 'phi_lw_max_idx', 'phi_lw_max_val', 'phi_rw_min_idx', 'phi_rw_min_val', 'phi_lw_min_idx', 'phi_lw_min_val', 'yaw_z_frame', 'pitch_y_frame', 'roll_x_frame', 'yaw_z_frame_dot', 'pitch_y_frame_dot', 'roll_x_frame_dot', 'yaw_z_frame_dot_dot', 'pitch_y_frame_dot_dot', 'roll_x_frame_dot_dot'])\n"
     ]
    }
   ],
   "source": [
    "exp = experiments['manipulated_05_12_22']\n",
    "mov_name = exp.mov_names[0]\n",
    "mov = exp.get_mov(mov_name)\n",
    "print(mov.header['body'].keys()) \n",
    "pitch_body = mov.get_prop('pitch_body','body')\n",
    "prop = 'pitch_body'\n",
    "\n",
    "fig = go.Figure()\n",
    "exp.plot_prop_movies(prop,'body',fig,case = 'plot_mov',prop_x = 'time')\n",
    "fig.show()\n",
    "\n",
    "exp.plot_3d_traj_movies('pitch_body',mov = [mov_name])"
   ]
  }
 ],
 "metadata": {
  "kernelspec": {
   "display_name": "base",
   "language": "python",
   "name": "python3"
  },
  "language_info": {
   "codemirror_mode": {
    "name": "ipython",
    "version": 3
   },
   "file_extension": ".py",
   "mimetype": "text/x-python",
   "name": "python",
   "nbconvert_exporter": "python",
   "pygments_lexer": "ipython3",
   "version": "3.10.9"
  }
 },
 "nbformat": 4,
 "nbformat_minor": 2
}
