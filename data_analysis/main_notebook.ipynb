{
 "cells": [
  {
   "cell_type": "code",
   "execution_count": 1,
   "metadata": {},
   "outputs": [],
   "source": [
    "\n",
    "from Experiment import Experiment\n",
    "import matplotlib.pyplot as plt\n",
    "from Plotters import Plotters\n",
    "\n",
    "%matplotlib qt\n",
    "\n",
    "loadir = 'H:/My Drive/dark 2022/csv_dark' # dir to save the data frame in # H:\\My Drive\\Ronis Exp\\sagiv\\data_analysis\n",
    "exp_name = ['manipulated_2023_08_10_100ms','manipulated_2022_02_03_dark','manipulated_2023_08_06_40ms',\n",
    "                'manipulated_2023_08_09_60ms','manipulated_2023_08_07_5ms','manipulated_2023_08_07_10ms'\n",
    "                ]#['2022_02_03','2022_03_10','2022_05_19','2022_03_03'] # 22_11_28\n",
    "\n",
    "# exp_name = ['manipulated_2022_05_19_40ms']\n",
    "ref_frame = 0\n",
    "\n",
    "experiments = [Experiment(loadir,exp) for exp in exp_name]\n",
    "\n",
    "min_max_v = [exp.min_max_point('CM_xy_dot') for exp in experiments]\n",
    "min_max_pitch =[exp.min_max_point('pitch_y_frame') for exp in experiments]\n",
    "zero_velocity = [exp.zero_velocity('CM_xy_dot') for exp in experiments]\n",
    "\n"
   ]
  },
  {
   "cell_type": "code",
   "execution_count": 19,
   "metadata": {},
   "outputs": [
    {
     "ename": "KeyError",
     "evalue": "'mov22'",
     "output_type": "error",
     "traceback": [
      "\u001b[1;31m---------------------------------------------------------------------------\u001b[0m",
      "\u001b[1;31mKeyError\u001b[0m                                  Traceback (most recent call last)",
      "Cell \u001b[1;32mIn[19], line 9\u001b[0m\n\u001b[0;32m      6\u001b[0m     ploter \u001b[38;5;241m=\u001b[39m Plotters(data,\u001b[38;5;28;01mFalse\u001b[39;00m)\n\u001b[0;32m      7\u001b[0m     ploter\u001b[38;5;241m.\u001b[39mplot_3d_traj(data,plot_cofnig,mov\u001b[38;5;241m.\u001b[39mname,exp\u001b[38;5;241m.\u001b[39mexperiment_name,color_prop \u001b[38;5;241m=\u001b[39m \u001b[38;5;124m'\u001b[39m\u001b[38;5;124mCM_xy_dot\u001b[39m\u001b[38;5;124m'\u001b[39m )\n\u001b[1;32m----> 9\u001b[0m plot_3d_traj_movie(\u001b[43mexp\u001b[49m\u001b[38;5;241;43m.\u001b[39;49m\u001b[43mget_mov\u001b[49m\u001b[43m(\u001b[49m\u001b[38;5;124;43m'\u001b[39;49m\u001b[38;5;124;43mmov22\u001b[39;49m\u001b[38;5;124;43m'\u001b[39;49m\u001b[43m)\u001b[49m)\n",
      "File \u001b[1;32mc:\\Users\\Roni\\Documents\\experiment-analysis\\data_analysis\\Experiment.py:59\u001b[0m, in \u001b[0;36mExperiment.get_mov\u001b[1;34m(self, mov_name)\u001b[0m\n\u001b[0;32m     58\u001b[0m \u001b[38;5;28;01mdef\u001b[39;00m \u001b[38;5;21mget_mov\u001b[39m(\u001b[38;5;28mself\u001b[39m,mov_name):\n\u001b[1;32m---> 59\u001b[0m     \u001b[38;5;28;01mreturn\u001b[39;00m \u001b[38;5;28;43mself\u001b[39;49m\u001b[38;5;241;43m.\u001b[39;49m\u001b[43mexp_dict\u001b[49m\u001b[43m[\u001b[49m\u001b[43mmov_name\u001b[49m\u001b[43m]\u001b[49m\n",
      "\u001b[1;31mKeyError\u001b[0m: 'mov22'"
     ]
    }
   ],
   "source": [
    "import plotly.graph_objects as go\n",
    "exp = experiments[0]\n",
    "\n",
    "def plot_3d_traj_movie(mov):\n",
    "    data,plot_cofnig = mov.calculation_for_3d_traj(color_prop = 'CM_xy_dot')\n",
    "    ploter = Plotters(data,False)\n",
    "    ploter.plot_3d_traj(data,plot_cofnig,mov.name,exp.experiment_name,color_prop = 'CM_xy_dot' )\n",
    "\n",
    "plot_3d_traj_movie(exp.get_mov('mov22')) \n",
    "\n",
    "\n"
   ]
  },
  {
   "cell_type": "code",
   "execution_count": 12,
   "metadata": {},
   "outputs": [],
   "source": [
    "\n",
    "fig = go.Figure()\n",
    "exp.plot_movies('time','CM_xy_dot', case = 'plot_mov', fig = fig, add_horizontal_line = 0,mov = False)\n",
    "fig.show()\n",
    "\n",
    "\n",
    "fig = go.Figure()\n",
    "exp.plot_movies('time','pitch_y_frame', case = 'plot_mov', fig = fig, add_horizontal_line = 0,mov = False)\n",
    "fig.show()"
   ]
  },
  {
   "cell_type": "code",
   "execution_count": 22,
   "metadata": {},
   "outputs": [
    {
     "name": "stderr",
     "output_type": "stream",
     "text": [
      "c:\\Users\\Roni\\anaconda3\\lib\\site-packages\\numpy\\core\\fromnumeric.py:3432: RuntimeWarning:\n",
      "\n",
      "Mean of empty slice.\n",
      "\n",
      "c:\\Users\\Roni\\anaconda3\\lib\\site-packages\\numpy\\core\\_methods.py:190: RuntimeWarning:\n",
      "\n",
      "invalid value encountered in double_scalars\n",
      "\n"
     ]
    }
   ],
   "source": [
    "import numpy as np\n",
    "for mov_name in exp.mov_names:\n",
    "    mov = exp.get_mov(mov_name)\n",
    "    CM_xy_dot = mov.get_prop('CM_xy_dot','body')\n",
    "    CM_xy_dot = CM_xy_dot - np.mean(CM_xy_dot[0:mov.ref_frame])\n",
    "    \n",
    "    mov.data['body'] = np.hstack((mov.data['body'], CM_xy_dot[np.newaxis,:].T))\n",
    "    mov.add_to_header(['CM_xy_dot_mean_zero'],'body')\n",
    "\n"
   ]
  },
  {
   "cell_type": "code",
   "execution_count": 21,
   "metadata": {},
   "outputs": [
    {
     "data": {
      "text/plain": [
       "36"
      ]
     },
     "execution_count": 21,
     "metadata": {},
     "output_type": "execute_result"
    }
   ],
   "source": [
    "len(exp.exp_dict['mov1'].header['body'])"
   ]
  },
  {
   "cell_type": "code",
   "execution_count": 24,
   "metadata": {},
   "outputs": [],
   "source": [
    "\n",
    "fig = go.Figure()\n",
    "exp.plot_movies('time','CM_xy_dot_mean_zero', case = 'plot_mov', fig = fig, add_horizontal_line = 0,mov = False)\n",
    "fig.show()\n"
   ]
  },
  {
   "cell_type": "code",
   "execution_count": 3,
   "metadata": {},
   "outputs": [],
   "source": [
    "\n",
    "def plot_3d_traj_movie(mov):\n",
    "    data,plot_cofnig = mov.calculation_for_3d_traj()\n",
    "    ploter = Plotters(data,False)\n",
    "    ploter.plot_3d_traj(data,plot_cofnig,mov.name,exp.experiment_name)\n",
    "\n",
    "plot_3d_traj_movie(exp.get_mov('mov11')) \n",
    "\n",
    "# [plot_3d_traj_movie(exp.get_mov(mov_name)) for mov_name in exp.mov_names[73:74]]\n"
   ]
  },
  {
   "cell_type": "code",
   "execution_count": 14,
   "metadata": {},
   "outputs": [],
   "source": [
    "import plotly.graph_objects as go\n",
    "exp = experiments[2]\n",
    "\n",
    "fig = go.Figure()\n",
    "[exp.plot_movies('time','pitch_body', case = 'plot_mov', fig = fig, mov = False,add_horizontal_line=45,color = idx + 2) for idx,exp in enumerate(experiments[2:3])]\n",
    "fig.show()\n",
    "\n",
    "\n",
    "fig = go.Figure()\n",
    "[exp.plot_movies('time','CM_xy_dot', case = 'plot_exp', fig = fig, add_horizontal_line = 0,mov = False,color = idx + 2) for idx,exp in enumerate(experiments)]\n",
    "fig.show()\n",
    "\n",
    "\n",
    "fig = go.Figure()\n",
    "[exp.plot_movies('time','pitch_y_frame', case = 'plot_exp', fig = fig, add_horizontal_line = 0,mov = False,color = idx + 2) for idx,exp in enumerate(experiments)]\n",
    "fig.show()\n",
    "\n"
   ]
  },
  {
   "cell_type": "code",
   "execution_count": 13,
   "metadata": {},
   "outputs": [
    {
     "ename": "KeyError",
     "evalue": "'mean_front_phi'",
     "output_type": "error",
     "traceback": [
      "\u001b[1;31m---------------------------------------------------------------------------\u001b[0m",
      "\u001b[1;31mKeyError\u001b[0m                                  Traceback (most recent call last)",
      "Cell \u001b[1;32mIn[13], line 10\u001b[0m\n\u001b[0;32m      7\u001b[0m [exp\u001b[38;5;241m.\u001b[39mget_mov(mov_name)\u001b[38;5;241m.\u001b[39mmean_props(\u001b[38;5;124m'\u001b[39m\u001b[38;5;124mphi_rw\u001b[39m\u001b[38;5;124m'\u001b[39m,\u001b[38;5;124m'\u001b[39m\u001b[38;5;124mphi_lw\u001b[39m\u001b[38;5;124m'\u001b[39m,\u001b[38;5;124m'\u001b[39m\u001b[38;5;124mmean_wing\u001b[39m\u001b[38;5;124m'\u001b[39m,\u001b[38;5;124m'\u001b[39m\u001b[38;5;124mmean_mean_phi\u001b[39m\u001b[38;5;124m'\u001b[39m) \u001b[38;5;28;01mfor\u001b[39;00m mov_name \u001b[38;5;129;01min\u001b[39;00m exp\u001b[38;5;241m.\u001b[39mmov_names]\n\u001b[0;32m      9\u001b[0m fig \u001b[38;5;241m=\u001b[39m go\u001b[38;5;241m.\u001b[39mFigure()\n\u001b[1;32m---> 10\u001b[0m [exp\u001b[38;5;241m.\u001b[39mplot_movies(\u001b[38;5;124m'\u001b[39m\u001b[38;5;124mtime\u001b[39m\u001b[38;5;124m'\u001b[39m,\u001b[38;5;124m'\u001b[39m\u001b[38;5;124mmean_front_phi\u001b[39m\u001b[38;5;124m'\u001b[39m, case \u001b[38;5;241m=\u001b[39m \u001b[38;5;124m'\u001b[39m\u001b[38;5;124mplot_mov\u001b[39m\u001b[38;5;124m'\u001b[39m,prop \u001b[38;5;241m=\u001b[39m \u001b[38;5;124m'\u001b[39m\u001b[38;5;124mmean_wing\u001b[39m\u001b[38;5;124m'\u001b[39m, fig \u001b[38;5;241m=\u001b[39m fig, mov \u001b[38;5;241m=\u001b[39m \u001b[38;5;28;01mFalse\u001b[39;00m,color \u001b[38;5;241m=\u001b[39m idx \u001b[38;5;241m+\u001b[39m \u001b[38;5;241m2\u001b[39m) \u001b[38;5;28;01mfor\u001b[39;00m idx,exp \u001b[38;5;129;01min\u001b[39;00m \u001b[38;5;28menumerate\u001b[39m(experiments)]\n\u001b[0;32m     11\u001b[0m fig\u001b[38;5;241m.\u001b[39mshow()\n\u001b[0;32m     13\u001b[0m fig \u001b[38;5;241m=\u001b[39m go\u001b[38;5;241m.\u001b[39mFigure()\n",
      "Cell \u001b[1;32mIn[13], line 10\u001b[0m, in \u001b[0;36m<listcomp>\u001b[1;34m(.0)\u001b[0m\n\u001b[0;32m      7\u001b[0m [exp\u001b[38;5;241m.\u001b[39mget_mov(mov_name)\u001b[38;5;241m.\u001b[39mmean_props(\u001b[38;5;124m'\u001b[39m\u001b[38;5;124mphi_rw\u001b[39m\u001b[38;5;124m'\u001b[39m,\u001b[38;5;124m'\u001b[39m\u001b[38;5;124mphi_lw\u001b[39m\u001b[38;5;124m'\u001b[39m,\u001b[38;5;124m'\u001b[39m\u001b[38;5;124mmean_wing\u001b[39m\u001b[38;5;124m'\u001b[39m,\u001b[38;5;124m'\u001b[39m\u001b[38;5;124mmean_mean_phi\u001b[39m\u001b[38;5;124m'\u001b[39m) \u001b[38;5;28;01mfor\u001b[39;00m mov_name \u001b[38;5;129;01min\u001b[39;00m exp\u001b[38;5;241m.\u001b[39mmov_names]\n\u001b[0;32m      9\u001b[0m fig \u001b[38;5;241m=\u001b[39m go\u001b[38;5;241m.\u001b[39mFigure()\n\u001b[1;32m---> 10\u001b[0m [\u001b[43mexp\u001b[49m\u001b[38;5;241;43m.\u001b[39;49m\u001b[43mplot_movies\u001b[49m\u001b[43m(\u001b[49m\u001b[38;5;124;43m'\u001b[39;49m\u001b[38;5;124;43mtime\u001b[39;49m\u001b[38;5;124;43m'\u001b[39;49m\u001b[43m,\u001b[49m\u001b[38;5;124;43m'\u001b[39;49m\u001b[38;5;124;43mmean_front_phi\u001b[39;49m\u001b[38;5;124;43m'\u001b[39;49m\u001b[43m,\u001b[49m\u001b[43m \u001b[49m\u001b[43mcase\u001b[49m\u001b[43m \u001b[49m\u001b[38;5;241;43m=\u001b[39;49m\u001b[43m \u001b[49m\u001b[38;5;124;43m'\u001b[39;49m\u001b[38;5;124;43mplot_mov\u001b[39;49m\u001b[38;5;124;43m'\u001b[39;49m\u001b[43m,\u001b[49m\u001b[43mprop\u001b[49m\u001b[43m \u001b[49m\u001b[38;5;241;43m=\u001b[39;49m\u001b[43m \u001b[49m\u001b[38;5;124;43m'\u001b[39;49m\u001b[38;5;124;43mmean_wing\u001b[39;49m\u001b[38;5;124;43m'\u001b[39;49m\u001b[43m,\u001b[49m\u001b[43m \u001b[49m\u001b[43mfig\u001b[49m\u001b[43m \u001b[49m\u001b[38;5;241;43m=\u001b[39;49m\u001b[43m \u001b[49m\u001b[43mfig\u001b[49m\u001b[43m,\u001b[49m\u001b[43m \u001b[49m\u001b[43mmov\u001b[49m\u001b[43m \u001b[49m\u001b[38;5;241;43m=\u001b[39;49m\u001b[43m \u001b[49m\u001b[38;5;28;43;01mFalse\u001b[39;49;00m\u001b[43m,\u001b[49m\u001b[43mcolor\u001b[49m\u001b[43m \u001b[49m\u001b[38;5;241;43m=\u001b[39;49m\u001b[43m \u001b[49m\u001b[43midx\u001b[49m\u001b[43m \u001b[49m\u001b[38;5;241;43m+\u001b[39;49m\u001b[43m \u001b[49m\u001b[38;5;241;43m2\u001b[39;49m\u001b[43m)\u001b[49m \u001b[38;5;28;01mfor\u001b[39;00m idx,exp \u001b[38;5;129;01min\u001b[39;00m \u001b[38;5;28menumerate\u001b[39m(experiments)]\n\u001b[0;32m     11\u001b[0m fig\u001b[38;5;241m.\u001b[39mshow()\n\u001b[0;32m     13\u001b[0m fig \u001b[38;5;241m=\u001b[39m go\u001b[38;5;241m.\u001b[39mFigure()\n",
      "File \u001b[1;32mc:\\Users\\Roni\\Documents\\experiment-analysis\\data_analysis\\Experiment.py:44\u001b[0m, in \u001b[0;36mExperiment.plot_movies\u001b[1;34m(self, x_name, y_name, case, fig, mov, color, prop, add_horizontal_line)\u001b[0m\n\u001b[0;32m     42\u001b[0m mov_names \u001b[38;5;241m=\u001b[39m \u001b[38;5;28mself\u001b[39m\u001b[38;5;241m.\u001b[39mmov_names \u001b[38;5;28;01mif\u001b[39;00m mov \u001b[38;5;241m==\u001b[39m \u001b[38;5;28;01mFalse\u001b[39;00m \u001b[38;5;28;01melse\u001b[39;00m mov\n\u001b[0;32m     43\u001b[0m fig \u001b[38;5;241m=\u001b[39m go\u001b[38;5;241m.\u001b[39mFigure() \u001b[38;5;28;01mif\u001b[39;00m fig \u001b[38;5;241m==\u001b[39m \u001b[38;5;28;01mFalse\u001b[39;00m \u001b[38;5;28;01melse\u001b[39;00m fig\n\u001b[1;32m---> 44\u001b[0m [\u001b[38;5;28mself\u001b[39m\u001b[38;5;241m.\u001b[39mcases_plot_exp_mov(case,mov_name,x_name,y_name,fig,i \u001b[38;5;241m+\u001b[39m \u001b[38;5;241m2\u001b[39m,color,prop \u001b[38;5;241m=\u001b[39m prop,add_horizontal_line \u001b[38;5;241m=\u001b[39m add_horizontal_line) \u001b[38;5;28;01mfor\u001b[39;00m i,mov_name \u001b[38;5;129;01min\u001b[39;00m \u001b[38;5;28menumerate\u001b[39m(\u001b[38;5;28mlist\u001b[39m(mov_names))]        \n\u001b[0;32m     45\u001b[0m \u001b[38;5;28;01mreturn\u001b[39;00m fig\n",
      "File \u001b[1;32mc:\\Users\\Roni\\Documents\\experiment-analysis\\data_analysis\\Experiment.py:44\u001b[0m, in \u001b[0;36m<listcomp>\u001b[1;34m(.0)\u001b[0m\n\u001b[0;32m     42\u001b[0m mov_names \u001b[38;5;241m=\u001b[39m \u001b[38;5;28mself\u001b[39m\u001b[38;5;241m.\u001b[39mmov_names \u001b[38;5;28;01mif\u001b[39;00m mov \u001b[38;5;241m==\u001b[39m \u001b[38;5;28;01mFalse\u001b[39;00m \u001b[38;5;28;01melse\u001b[39;00m mov\n\u001b[0;32m     43\u001b[0m fig \u001b[38;5;241m=\u001b[39m go\u001b[38;5;241m.\u001b[39mFigure() \u001b[38;5;28;01mif\u001b[39;00m fig \u001b[38;5;241m==\u001b[39m \u001b[38;5;28;01mFalse\u001b[39;00m \u001b[38;5;28;01melse\u001b[39;00m fig\n\u001b[1;32m---> 44\u001b[0m [\u001b[38;5;28;43mself\u001b[39;49m\u001b[38;5;241;43m.\u001b[39;49m\u001b[43mcases_plot_exp_mov\u001b[49m\u001b[43m(\u001b[49m\u001b[43mcase\u001b[49m\u001b[43m,\u001b[49m\u001b[43mmov_name\u001b[49m\u001b[43m,\u001b[49m\u001b[43mx_name\u001b[49m\u001b[43m,\u001b[49m\u001b[43my_name\u001b[49m\u001b[43m,\u001b[49m\u001b[43mfig\u001b[49m\u001b[43m,\u001b[49m\u001b[43mi\u001b[49m\u001b[43m \u001b[49m\u001b[38;5;241;43m+\u001b[39;49m\u001b[43m \u001b[49m\u001b[38;5;241;43m2\u001b[39;49m\u001b[43m,\u001b[49m\u001b[43mcolor\u001b[49m\u001b[43m,\u001b[49m\u001b[43mprop\u001b[49m\u001b[43m \u001b[49m\u001b[38;5;241;43m=\u001b[39;49m\u001b[43m \u001b[49m\u001b[43mprop\u001b[49m\u001b[43m,\u001b[49m\u001b[43madd_horizontal_line\u001b[49m\u001b[43m \u001b[49m\u001b[38;5;241;43m=\u001b[39;49m\u001b[43m \u001b[49m\u001b[43madd_horizontal_line\u001b[49m\u001b[43m)\u001b[49m \u001b[38;5;28;01mfor\u001b[39;00m i,mov_name \u001b[38;5;129;01min\u001b[39;00m \u001b[38;5;28menumerate\u001b[39m(\u001b[38;5;28mlist\u001b[39m(mov_names))]        \n\u001b[0;32m     45\u001b[0m \u001b[38;5;28;01mreturn\u001b[39;00m fig\n",
      "File \u001b[1;32mc:\\Users\\Roni\\Documents\\experiment-analysis\\data_analysis\\Experiment.py:37\u001b[0m, in \u001b[0;36mExperiment.cases_plot_exp_mov\u001b[1;34m(self, case, mov_name, x_name, y_name, fig, i, color, prop, showlegend, add_horizontal_line)\u001b[0m\n\u001b[0;32m     34\u001b[0m \u001b[38;5;28;01mif\u001b[39;00m \u001b[38;5;124m'\u001b[39m\u001b[38;5;124mplot_mean\u001b[39m\u001b[38;5;124m'\u001b[39m \u001b[38;5;241m==\u001b[39m case: color, name,mode \u001b[38;5;241m=\u001b[39m i\u001b[38;5;241m%\u001b[39m\u001b[38;5;28mlen\u001b[39m(\u001b[38;5;28mself\u001b[39m\u001b[38;5;241m.\u001b[39mcolor_map),\u001b[38;5;124mf\u001b[39m\u001b[38;5;124m'\u001b[39m\u001b[38;5;124mstroke_mean\u001b[39m\u001b[38;5;124m'\u001b[39m,\u001b[38;5;124m'\u001b[39m\u001b[38;5;124mmarkers\u001b[39m\u001b[38;5;124m'\u001b[39m\n\u001b[0;32m     36\u001b[0m body_plot \u001b[38;5;241m=\u001b[39m Plotters(\u001b[38;5;28mself\u001b[39m\u001b[38;5;241m.\u001b[39mexp_dict[mov_name]\u001b[38;5;241m.\u001b[39mdata[prop],\u001b[38;5;28mself\u001b[39m\u001b[38;5;241m.\u001b[39mexp_dict[mov_name]\u001b[38;5;241m.\u001b[39mheader[prop])\n\u001b[1;32m---> 37\u001b[0m fig \u001b[38;5;241m=\u001b[39m \u001b[43mbody_plot\u001b[49m\u001b[38;5;241;43m.\u001b[39;49m\u001b[43mplot_prop_movie\u001b[49m\u001b[43m(\u001b[49m\u001b[43mx_name\u001b[49m\u001b[43m,\u001b[49m\u001b[43my_name\u001b[49m\u001b[43m,\u001b[49m\u001b[38;5;28;43mself\u001b[39;49m\u001b[38;5;241;43m.\u001b[39;49m\u001b[43mcolor_map\u001b[49m\u001b[43m[\u001b[49m\u001b[43mcolor\u001b[49m\u001b[43m]\u001b[49m\u001b[43m,\u001b[49m\u001b[43mname\u001b[49m\u001b[43m,\u001b[49m\u001b[43mfig\u001b[49m\u001b[43m \u001b[49m\u001b[38;5;241;43m=\u001b[39;49m\u001b[43m \u001b[49m\u001b[43mfig\u001b[49m\u001b[43m,\u001b[49m\u001b[43mshowlegend\u001b[49m\u001b[43m \u001b[49m\u001b[38;5;241;43m=\u001b[39;49m\u001b[43m \u001b[49m\u001b[43mshowlegend\u001b[49m\u001b[43m,\u001b[49m\u001b[43mmode\u001b[49m\u001b[43m \u001b[49m\u001b[38;5;241;43m=\u001b[39;49m\u001b[43m \u001b[49m\u001b[43mmode\u001b[49m\u001b[43m,\u001b[49m\u001b[43madd_horizontal_line\u001b[49m\u001b[43m \u001b[49m\u001b[38;5;241;43m=\u001b[39;49m\u001b[43m \u001b[49m\u001b[43madd_horizontal_line\u001b[49m\u001b[43m)\u001b[49m\n",
      "File \u001b[1;32mc:\\Users\\Roni\\Documents\\experiment-analysis\\data_analysis\\Plotters.py:30\u001b[0m, in \u001b[0;36mPlotters.plot_prop_movie\u001b[1;34m(self, x_name, y_name, color, name, marker_size, fig, showlegend, line_width, mode, add_horizontal_line)\u001b[0m\n\u001b[0;32m     28\u001b[0m fig \u001b[38;5;241m=\u001b[39m go\u001b[38;5;241m.\u001b[39mFigure() \u001b[38;5;28;01mif\u001b[39;00m fig \u001b[38;5;241m==\u001b[39m \u001b[38;5;28;01mFalse\u001b[39;00m \u001b[38;5;28;01melse\u001b[39;00m fig\n\u001b[0;32m     29\u001b[0m x_name_idx \u001b[38;5;241m=\u001b[39m \u001b[38;5;28mself\u001b[39m\u001b[38;5;241m.\u001b[39mheader[x_name]\n\u001b[1;32m---> 30\u001b[0m y_name_idx \u001b[38;5;241m=\u001b[39m \u001b[38;5;28;43mself\u001b[39;49m\u001b[38;5;241;43m.\u001b[39;49m\u001b[43mheader\u001b[49m\u001b[43m[\u001b[49m\u001b[43my_name\u001b[49m\u001b[43m]\u001b[49m\n\u001b[0;32m     32\u001b[0m traces \u001b[38;5;241m=\u001b[39m go\u001b[38;5;241m.\u001b[39mScattergl(\n\u001b[0;32m     33\u001b[0m     x\u001b[38;5;241m=\u001b[39m\u001b[38;5;28mself\u001b[39m\u001b[38;5;241m.\u001b[39mdata[:,x_name_idx],\n\u001b[0;32m     34\u001b[0m     y\u001b[38;5;241m=\u001b[39m\u001b[38;5;28mself\u001b[39m\u001b[38;5;241m.\u001b[39mdata[:,y_name_idx],\n\u001b[1;32m   (...)\u001b[0m\n\u001b[0;32m     39\u001b[0m     line_width\u001b[38;5;241m=\u001b[39m line_width,\n\u001b[0;32m     40\u001b[0m     marker\u001b[38;5;241m=\u001b[39m\u001b[38;5;28mdict\u001b[39m(color \u001b[38;5;241m=\u001b[39m \u001b[38;5;124mf\u001b[39m\u001b[38;5;124m'\u001b[39m\u001b[38;5;124mrgba\u001b[39m\u001b[38;5;132;01m{\u001b[39;00m\u001b[38;5;28mstr\u001b[39m(\u001b[38;5;28mtuple\u001b[39m(np\u001b[38;5;241m.\u001b[39mappend(color,\u001b[38;5;241m0.5\u001b[39m)))\u001b[38;5;132;01m}\u001b[39;00m\u001b[38;5;124m'\u001b[39m,size \u001b[38;5;241m=\u001b[39m marker_size, symbol \u001b[38;5;241m=\u001b[39m \u001b[38;5;124m'\u001b[39m\u001b[38;5;124mcircle\u001b[39m\u001b[38;5;124m'\u001b[39m))\n\u001b[0;32m     41\u001b[0m fig\u001b[38;5;241m.\u001b[39madd_traces(traces)\n",
      "\u001b[1;31mKeyError\u001b[0m: 'mean_front_phi'"
     ]
    }
   ],
   "source": [
    "import numpy as np\n",
    "import plotly.graph_objects as go\n",
    "\n",
    "\n",
    "exp = experiments[2]\n",
    "[exp.get_mov(mov_name).mean_props('phi_rw_min_val','phi_lw_min_val','mean_wing','mean_front_phi') for mov_name in exp.mov_names]\n",
    "[exp.get_mov(mov_name).mean_props('phi_rw','phi_lw','mean_wing','mean_mean_phi') for mov_name in exp.mov_names]\n",
    "\n",
    "fig = go.Figure()\n",
    "[exp.plot_movies('time','mean_front_phi', case = 'plot_mov',prop = 'mean_wing', fig = fig, mov = False,color = idx + 2) for idx,exp in enumerate(experiments)]\n",
    "fig.show()\n",
    "\n",
    "fig = go.Figure()\n",
    "[exp.plot_movies('time','mean_mean_phi', case = 'plot_mov',prop = 'mean_wing', fig = fig, mov = False,color = idx + 2) for idx,exp in enumerate(experiments)]\n",
    "fig.show()\n",
    "\n"
   ]
  },
  {
   "cell_type": "code",
   "execution_count": 5,
   "metadata": {},
   "outputs": [],
   "source": [
    "import plotly.graph_objects as go\n",
    "\n",
    "fig = go.Figure()    \n",
    "[fig.add_trace(go.Histogram(x=np.hstack(min), name=exp.experiment_name, nbinsx=30)) for min,exp in zip(zero_velocity,experiments)]\n",
    "fig.update_layout(title = 'time of minimum velocity')\n",
    "fig.update_traces(opacity = 0.9)\n",
    "fig.show()\n"
   ]
  }
 ],
 "metadata": {
  "kernelspec": {
   "display_name": "base",
   "language": "python",
   "name": "python3"
  },
  "language_info": {
   "codemirror_mode": {
    "name": "ipython",
    "version": 3
   },
   "file_extension": ".py",
   "mimetype": "text/x-python",
   "name": "python",
   "nbconvert_exporter": "python",
   "pygments_lexer": "ipython3",
   "version": "3.10.9"
  }
 },
 "nbformat": 4,
 "nbformat_minor": 2
}
