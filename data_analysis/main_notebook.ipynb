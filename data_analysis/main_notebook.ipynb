{
 "cells": [
  {
   "cell_type": "code",
   "execution_count": 441,
   "metadata": {},
   "outputs": [
    {
     "data": {
      "text/plain": [
       "[None, None, None]"
      ]
     },
     "execution_count": 441,
     "metadata": {},
     "output_type": "execute_result"
    }
   ],
   "source": [
    "\n",
    "from Experiment import Experiment\n",
    "import matplotlib.pyplot as plt\n",
    "from Plotters import Plotters\n",
    "import plotly.graph_objects as go\n",
    "import plotly\n",
    "import numpy as np\n",
    "import time\n",
    "import matplotlib.cm as colormap\n",
    "\n",
    "%matplotlib qt\n",
    "\n",
    "loadir = 'H:/My Drive/dark 2022/csv_dark' # dir to save the data frame in # H:\\My Drive\\Ronis Exp\\sagiv\\data_analysis\n",
    "exp_name = ['manipulated_2023_08_06_40ms','manipulated_2023_08_09_80ms','manipulated_2023_08_10_100ms']#,'manipulated_2022_02_03_dark']\n",
    "\n",
    "# ['manipulated_2022_02_03_dark',\n",
    "#            'manipulated_2023_08_10_100ms',\n",
    "#            'manipulated_2023_08_09_80ms',\n",
    "#            'manipulated_2023_08_09_60ms',\n",
    "#            'manipulated_2023_08_06_40ms',\n",
    "#            'manipulated_2023_08_07_10ms',\n",
    "#            'manipulated_2023_08_07_5ms',\n",
    "# ] \n",
    "\n",
    "\n",
    "\n",
    "experiments = {exp:Experiment(loadir,exp) for exp in exp_name}\n",
    "[exp.smooth_prop_movies('CM_real_x_body',['','_dot','_dot_dot'],'body')  for exp in experiments.values()]\n",
    "[exp.project_prop_movies('CM_real_x_body_dot_smth')  for exp in experiments.values()]\n",
    "[exp.project_prop_movies('CM_real_x_body_dot_dot_smth',header_name = 'CM_dot_dot')  for exp in experiments.values()]\n",
    "\n",
    "min_max_v = [exp.min_max_point_movies('CM_dot_projected') for exp in experiments.values()]\n",
    "min_max_pitch =[exp.min_max_point_movies('pitch_y_frame') for exp in experiments.values()]\n",
    "zero_velocity = [exp.zero_velocity_movies('CM_dot_dot_projected') for exp in experiments.values()]\n",
    "min_max_acc =[exp.min_max_point_movies('CM_dot_dot_projected') for exp in experiments.values()]\n",
    "\n",
    "[exp.pqr_movies() for exp in experiments.values()]\n",
    "# [exp.mean_mean_props_movies('phi_rw','phi_lw','mean_wing','mean_mean_phi') for exp in experiments]\n",
    "\n",
    "\n"
   ]
  },
  {
   "cell_type": "code",
   "execution_count": 437,
   "metadata": {},
   "outputs": [
    {
     "data": {
      "text/plain": [
       "(array([2., 1., 2., 1., 8., 5., 4., 5., 4., 2.]),\n",
       " array([ 79.3125 ,  85.94375,  92.575  ,  99.20625, 105.8375 , 112.46875,\n",
       "        119.1    , 125.73125, 132.3625 , 138.99375, 145.625  ]),\n",
       " <BarContainer object of 10 artists>)"
      ]
     },
     "execution_count": 437,
     "metadata": {},
     "output_type": "execute_result"
    }
   ],
   "source": [
    "plt.hist([v[v>50][0] for v in zero_velocity[0] if len(v[v>50])])\n"
   ]
  },
  {
   "cell_type": "code",
   "execution_count": 388,
   "metadata": {},
   "outputs": [],
   "source": [
    "from scipy.signal import find_peaks\n",
    "min_max_v[0][0]\n",
    "\n",
    "prop = 'CM_dot_dot_projected'\n",
    "experiments_name = list(experiments.keys())\n",
    "\n",
    "min_max_acc = [exp.min_max_point_movies('CM_dot_dot_projected',t0 = 15, t1 = 50) for exp in experiments.values()]\n",
    "min_max_v = [exp.min_max_point_movies('CM_dot_projected',t0 = 15, t1 = 50) for exp in experiments.values()]\n",
    "min_max_pitch = [exp.min_max_point_movies('pitch_body',t0 = 15, t1 = 50) for exp in experiments.values()]\n",
    "min_max_pitch_dot = [exp.min_max_point_movies('pitch_body_dot',t0 = 15, t1 = 50) for exp in experiments.values()]\n",
    "\n",
    "mov = experiments[experiments_name[0]].get_mov('mov106')\n",
    "acc = mov.get_prop(prop,'body')[:,0]\n",
    "time = mov.get_prop('time','body')[:,0]\n",
    "\n",
    "max = find_peaks(acc, prominence=0.1 )\n",
    "min = find_peaks(-acc, prominence=0.1 )\n"
   ]
  },
  {
   "cell_type": "code",
   "execution_count": 446,
   "metadata": {},
   "outputs": [
    {
     "data": {
      "text/plain": [
       "[array([ 719, 1717], dtype=int64),\n",
       " array([ 689, 1853, 2515, 3366, 4118], dtype=int64),\n",
       " array([2157, 3021, 3619], dtype=int64),\n",
       " array([ 753, 2217, 3119], dtype=int64),\n",
       " array([ 900, 2162, 2784], dtype=int64),\n",
       " array([ 657,  737, 1543, 1636, 1925, 2698], dtype=int64),\n",
       " array([2516, 3177], dtype=int64),\n",
       " array([ 512, 1444, 2310, 3123, 4437], dtype=int64),\n",
       " array([ 514, 1601, 2585, 3493], dtype=int64),\n",
       " array([ 709, 1720, 2683, 3442, 3981], dtype=int64),\n",
       " array([ 710, 1773, 2491, 3655], dtype=int64),\n",
       " array([ 728, 1791, 2657, 3262, 4176], dtype=int64),\n",
       " array([ 827, 1735, 2263, 3122, 3785, 4470], dtype=int64),\n",
       " array([ 626, 1808, 2374, 3107], dtype=int64),\n",
       " array([ 815, 1696, 2756, 3255, 4002], dtype=int64),\n",
       " array([ 641, 1867, 2373, 2635], dtype=int64),\n",
       " array([ 704, 2042, 2576, 2782], dtype=int64),\n",
       " array([ 727, 1853, 2660, 3421], dtype=int64),\n",
       " array([ 550, 1997], dtype=int64),\n",
       " array([ 937, 1974, 2863], dtype=int64),\n",
       " array([ 804, 1681, 2649], dtype=int64),\n",
       " array([1782, 2681], dtype=int64),\n",
       " array([ 574, 1966, 3149], dtype=int64),\n",
       " array([ 594, 1819, 2811, 3380, 4353], dtype=int64),\n",
       " array([ 572, 1912, 2444, 3756], dtype=int64),\n",
       " array([ 808, 1581, 2462, 3316, 4210], dtype=int64),\n",
       " array([ 654, 1771, 2951, 3418], dtype=int64),\n",
       " array([ 710, 2365, 3209, 3896], dtype=int64),\n",
       " array([1234, 2850, 3935, 4812], dtype=int64),\n",
       " array([ 677, 2300, 3321, 4646], dtype=int64),\n",
       " array([ 621, 1731, 2560, 2924, 3968], dtype=int64),\n",
       " array([ 612, 2209], dtype=int64),\n",
       " array([ 555, 1974, 3119], dtype=int64),\n",
       " array([1624, 2614, 2975, 3489, 3757, 4162], dtype=int64)]"
      ]
     },
     "execution_count": 446,
     "metadata": {},
     "output_type": "execute_result"
    }
   ],
   "source": [
    "def get_max_min_prop(prop,mov,t1 = 50,t0 = 5):\n",
    "    time = mov.get_prop('time','body')[:,0]\n",
    "    idx_t1 = np.where(t1 == time)[0][0]\n",
    "    idx_t0 = np.where(t0 == time)[0][0]\n",
    "    if (t1 == False) | (t0 == False):\n",
    "        acc = mov.get_prop(prop,'body')[:,0]\n",
    "        time = mov.get_prop('time','body')[:,0]\n",
    "        idx_t0 = 0\n",
    "    else:\n",
    "\n",
    "\n",
    "        acc = mov.get_prop(prop,'body')[idx_t0:idx_t1,0]\n",
    "        time = mov.get_prop('time','body')[idx_t0:idx_t1,0]\n",
    "\n",
    "    max = find_peaks(acc, prominence=0.1 )\n",
    "    min = np.argmin(acc)\n",
    "    return max[0] + idx_t0\n",
    "\n",
    "\n",
    "color_map = colormap.datad[\"tab10\"]['listed']\n",
    "\n",
    "prop = 'pitch_y_frame_dot_dot'\n",
    "prop = 'pitch_y_frame_dot_dot'\n",
    "plt.figure(1)\n",
    "fig,ax = plt.subplots(2,1)\n",
    "experiments_name = list(experiments.keys())\n",
    "for exp_idx,exp_name in  enumerate(experiments_name):\n",
    "    min_max_pitch = [get_max_min_prop('CM_dot_dot_projected',experiments[exp_name].get_mov(movnmae)) for movnmae in  experiments[exp_name].mov_names]\n",
    "    min_max_acc = [get_max_min_prop('CM_dot_dot_projected',experiments[exp_name].get_mov(movnmae),t1 = False,t0 = 10) for movnmae in  experiments[exp_name].mov_names]\n",
    "\n",
    "    time_list = []\n",
    "    time_list_min = []\n",
    "    time2_list = []\n",
    "    for idx,max in enumerate(min_max_pitch):\n",
    "        if (len(max) > 0) & (len(min_max_acc[idx]) > 0) :\n",
    "            \n",
    "            mov_name = experiments[exp_name].mov_names[idx]\n",
    "            mov = experiments[exp_name].get_mov(mov_name)\n",
    "            time = mov.get_prop('time','body')[:,0]\n",
    "            v_prop = mov.get_prop('CM_dot_projected','body')[:,0]\n",
    "            max_prop = mov.get_prop('CM_dot_dot_projected','body')[:,0]\n",
    "            min_idx = np.argmin(v_prop)\n",
    "            mac = max_prop\n",
    "            tm = time\n",
    "            max_idx = np.argmax(mac)\n",
    "\n",
    "            ax[0].plot(time,max_prop)\n",
    "            ax[0].plot(time[max],max_prop[max],'*',color = 'black')\n",
    "            ax[0].plot(tm[max_idx],mac[max_idx],'*',color = 'red')\n",
    "\n",
    "            ax[1].plot(time,v_prop)\n",
    "            ax[1].plot(time[min_idx],v_prop[min_idx],'*',color = 'blue')\n",
    "\n",
    "            time_list += [time[max[0]]]\n",
    "            time2_list += [time[min_max_acc[idx][-1]]]\n",
    "            time_list_min += [time[min_idx]]\n",
    "    plt.figure(1)\n",
    "    plt.hist(time_list,alpha = 0.5,bins = 10, color = color_map[exp_idx])\n",
    "    # plt.hist(time2_list,alpha = 0.5,bins = 10)\n",
    "    plt.hist(time_list_min,alpha = 0.7,bins = 5, label =exp_name, color = color_map[exp_idx] )\n",
    "plt.show()\n",
    "plt.legend()\n",
    "\n",
    "min_max"
   ]
  },
  {
   "cell_type": "code",
   "execution_count": 380,
   "metadata": {},
   "outputs": [
    {
     "data": {
      "text/plain": [
       "array([1097, 1378, 2039, 2445, 2879, 3336], dtype=int64)"
      ]
     },
     "execution_count": 380,
     "metadata": {},
     "output_type": "execute_result"
    }
   ],
   "source": [
    "min_max_acc[idx]"
   ]
  },
  {
   "cell_type": "code",
   "execution_count": 198,
   "metadata": {},
   "outputs": [
    {
     "data": {
      "text/plain": [
       "[[<matplotlib.lines.Line2D at 0x148ba355c30>],\n",
       " [<matplotlib.lines.Line2D at 0x148ba355ed0>],\n",
       " [<matplotlib.lines.Line2D at 0x148ba356170>]]"
      ]
     },
     "execution_count": 198,
     "metadata": {},
     "output_type": "execute_result"
    }
   ],
   "source": [
    "plt.plot(time,acc)\n",
    "[plt.plot(time[idx],acc[idx],'*') for idx in max[0]]\n",
    "[plt.plot(time[idx],acc[idx],'*') for idx in min[0]]"
   ]
  },
  {
   "cell_type": "code",
   "execution_count": 109,
   "metadata": {},
   "outputs": [
    {
     "name": "stderr",
     "output_type": "stream",
     "text": [
      "C:\\Users\\Roni\\AppData\\Local\\Temp\\ipykernel_15164\\3004972900.py:13: RuntimeWarning:\n",
      "\n",
      "Mean of empty slice\n",
      "\n",
      "C:\\Users\\Roni\\AppData\\Local\\Temp\\ipykernel_15164\\3004972900.py:13: RuntimeWarning:\n",
      "\n",
      "Mean of empty slice\n",
      "\n",
      "C:\\Users\\Roni\\AppData\\Local\\Temp\\ipykernel_15164\\3004972900.py:13: RuntimeWarning:\n",
      "\n",
      "Mean of empty slice\n",
      "\n",
      "c:\\Users\\Roni\\anaconda3\\lib\\site-packages\\sklearn\\cluster\\_kmeans.py:1382: UserWarning:\n",
      "\n",
      "KMeans is known to have a memory leak on Windows with MKL, when there are less chunks than available threads. You can avoid it by setting the environment variable OMP_NUM_THREADS=1.\n",
      "\n"
     ]
    },
    {
     "name": "stdout",
     "output_type": "stream",
     "text": [
      "[1 2 2 2 1 2 0 2 1 1 1 1 2 2 2 2 2 2 1 0 2 1 0 2 2 2 2 0 2 1 2 1 2 1 0 2 1\n",
      " 2 2 2 2 1 1 2 2 2 1 1 2 1 2 2 2 2 2 2 1 1 2 0 2 2 2 2 2 1 2 2 2]\n"
     ]
    },
    {
     "data": {
      "text/plain": [
       "array([[ 8.26905281e-06, -1.33426915e-06, -1.00000000e+00],\n",
       "       [-9.99983446e-01,  5.75392155e-03, -8.27659320e-06]])"
      ]
     },
     "execution_count": 109,
     "metadata": {},
     "output_type": "execute_result"
    }
   ],
   "source": [
    "from sklearn.decomposition import PCA\n",
    "import pandas as pd\n",
    "from sklearn.cluster import KMeans\n",
    "\n",
    "mov_feat = []\n",
    "props = ['CM_dot_dot_projected','CM_dot_projected','pitch_y_frame_dot_dot']\n",
    "\n",
    "exp_pd = []\n",
    "for exp in list(experiments.values())[0:3]:\n",
    "    mov_feat = []\n",
    "    for idx,mov_name in enumerate(exp.mov_names):\n",
    "        mov = exp.get_mov(mov_name)\n",
    "        mov_feat.append(np.nanmean(mov.data['body'][15:60,:],axis = 0))\n",
    "\n",
    "    featpd_exp = pd.DataFrame(data = mov_feat,columns = mov.header['body'])\n",
    "    featpd_exp['exp_name'] = exp.experiment_name\n",
    "    featpd_exp['mov'] = exp.mov_names\n",
    "    exp_pd.append(featpd_exp)\n",
    "\n",
    "feat = pd.concat(exp_pd,axis = 0).dropna().reset_index()\n",
    "\n",
    "\n",
    "dataforpca = feat[props]\n",
    "n_comp = 2\n",
    "pca = PCA(n_components=n_comp)\n",
    "principalComponents = pca.fit_transform(dataforpca)\n",
    "principalDf = pd.DataFrame(data = principalComponents\n",
    "             , columns = [f'pca_{idx}' for idx in range(n_comp)])\n",
    "\n",
    "pca_name = [f'pca_{idx}' for idx in range(pca.n_components_)]\n",
    "\n",
    "\n",
    "featpd = pd.concat([feat, principalDf], axis = 1)\n",
    "kmeans = KMeans(n_clusters=3, random_state=0, n_init=\"auto\").fit(featpd[pca_name])\n",
    "print(kmeans.labels_)\n",
    "pca.components_\n"
   ]
  },
  {
   "cell_type": "code",
   "execution_count": 110,
   "metadata": {},
   "outputs": [],
   "source": [
    "\n",
    "fig = go.Figure()\n",
    "\n",
    "for lbl in np.unique(kmeans.labels_):\n",
    "    exp_names = np.unique(feat.iloc[kmeans.labels_==lbl]['exp_name'])\n",
    "    feat_lbl = feat.iloc[kmeans.labels_==lbl]\n",
    "    for idx,exp_name in enumerate(exp_names): \n",
    "        mov_exp_lbl = list(feat_lbl.loc[feat_lbl['exp_name'] == exp_name]['mov'])\n",
    "\n",
    "        prop = 'pitch_y_frame_dot'\n",
    "        prop = 'CM_dot_dot_projected'\n",
    "        # prop = 'pitch_body'\n",
    "\n",
    "        color_map = colormap.datad[\"tab10\"]['listed']\n",
    "\n",
    "        experiments[exp_name].plot_prop_movies(prop,'body',fig,mov = mov_exp_lbl,case = 'plot_exp',prop_x = 'time',color = color_map[lbl],legend = f'{exp_name}_cluster{lbl}')\n",
    "fig.show()\n",
    "# feat.iloc[kmeans.labels_==lbl]['exp_name'] == exp_names[0]\n"
   ]
  },
  {
   "cell_type": "code",
   "execution_count": 62,
   "metadata": {},
   "outputs": [
    {
     "data": {
      "text/html": [
       "<div>\n",
       "<style scoped>\n",
       "    .dataframe tbody tr th:only-of-type {\n",
       "        vertical-align: middle;\n",
       "    }\n",
       "\n",
       "    .dataframe tbody tr th {\n",
       "        vertical-align: top;\n",
       "    }\n",
       "\n",
       "    .dataframe thead th {\n",
       "        text-align: right;\n",
       "    }\n",
       "</style>\n",
       "<table border=\"1\" class=\"dataframe\">\n",
       "  <thead>\n",
       "    <tr style=\"text-align: right;\">\n",
       "      <th></th>\n",
       "      <th>index</th>\n",
       "      <th>pitch_body</th>\n",
       "      <th>yaw_body</th>\n",
       "      <th>roll_body</th>\n",
       "      <th>pitch_body_dot</th>\n",
       "      <th>yaw_body_dot</th>\n",
       "      <th>roll_body_dot</th>\n",
       "      <th>pitch_body_dot_dot</th>\n",
       "      <th>yaw_body_dot_dot</th>\n",
       "      <th>roll_body_dot_dot</th>\n",
       "      <th>...</th>\n",
       "      <th>CM_dot_projected</th>\n",
       "      <th>CM_dot_dot_projected</th>\n",
       "      <th>p</th>\n",
       "      <th>q</th>\n",
       "      <th>r</th>\n",
       "      <th>p_dot</th>\n",
       "      <th>q_dot</th>\n",
       "      <th>r_dot</th>\n",
       "      <th>exp_name</th>\n",
       "      <th>mov</th>\n",
       "    </tr>\n",
       "  </thead>\n",
       "  <tbody>\n",
       "  </tbody>\n",
       "</table>\n",
       "<p>0 rows × 51 columns</p>\n",
       "</div>"
      ],
      "text/plain": [
       "Empty DataFrame\n",
       "Columns: [index, pitch_body, yaw_body, roll_body, pitch_body_dot, yaw_body_dot, roll_body_dot, pitch_body_dot_dot, yaw_body_dot_dot, roll_body_dot_dot, frames, time, CM_real_x_body, CM_real_y_body, CM_real_z_body, phi_rw_max_idx, phi_rw_max_val, phi_lw_max_idx, phi_lw_max_val, phi_rw_min_idx, phi_rw_min_val, phi_lw_min_idx, phi_lw_min_val, yaw_z_frame, pitch_y_frame, roll_x_frame, yaw_z_frame_dot, pitch_y_frame_dot, roll_x_frame_dot, yaw_z_frame_dot_dot, pitch_y_frame_dot_dot, roll_x_frame_dot_dot, CM_real_x_body_smth, CM_real_y_body_smth, CM_real_z_body_smth, CM_real_x_body_dot_smth, CM_real_y_body_dot_smth, CM_real_z_body_dot_smth, CM_real_x_body_dot_dot_smth, CM_real_y_body_dot_dot_smth, CM_real_z_body_dot_dot_smth, CM_dot_projected, CM_dot_dot_projected, p, q, r, p_dot, q_dot, r_dot, exp_name, mov]\n",
       "Index: []\n",
       "\n",
       "[0 rows x 51 columns]"
      ]
     },
     "execution_count": 62,
     "metadata": {},
     "output_type": "execute_result"
    }
   ],
   "source": [
    "feat_lbl[feat_lbl['exp_name'] == exp_name]"
   ]
  },
  {
   "cell_type": "code",
   "execution_count": 353,
   "metadata": {},
   "outputs": [
    {
     "name": "stderr",
     "output_type": "stream",
     "text": [
      "g:\\Documents\\experiment_analysis\\data_analysis\\Experiment.py:101: RuntimeWarning:\n",
      "\n",
      "Mean of empty slice\n",
      "\n"
     ]
    }
   ],
   "source": [
    "from scipy import stats\n",
    "\n",
    "\n",
    "exp = experiments[list(experiments.keys())[0]]\n",
    "prop = 'pitch_y_frame'\n",
    "prop = 'q'\n",
    "prop = 'CM_dot_dot_projected'\n",
    "props = ['pitch_y_frame_dot_dot','pitch_y_frame_dot']\n",
    "\n",
    "window = (73*3)//2\n",
    "fig,ax = plt.subplots(2,1,sharex=True)\n",
    "max_prop = {}\n",
    "for idx,prop in enumerate(props):\n",
    "    max_prop[prop] = [] \n",
    "    for exp in experiments.values():\n",
    "        mov_to_keep = []\n",
    "        acc_mean,time_inter = exp.mean_time_series_prop(prop,'body')\n",
    "        time_to_check = (time_inter > 0 ) & (time_inter <100 )\n",
    "        time_for_max = time_inter[time_to_check]\n",
    "        max_prop[prop].append(time_for_max[np.nanargmax(acc_mean[time_to_check])])\n",
    "        ax[idx].plot(time_inter,acc_mean)"
   ]
  },
  {
   "cell_type": "code",
   "execution_count": 355,
   "metadata": {},
   "outputs": [
    {
     "data": {
      "text/plain": [
       "(array([0., 0., 0., 0., 0., 0., 0., 6., 5., 2., 3., 5., 4., 5., 2., 0., 0.,\n",
       "        1., 0., 0., 0., 0., 0., 1., 0., 0., 0., 0., 0., 0., 0., 0., 0., 0.,\n",
       "        0., 0., 0., 0., 0., 0.]),\n",
       " array([  0. ,   2.5,   5. ,   7.5,  10. ,  12.5,  15. ,  17.5,  20. ,\n",
       "         22.5,  25. ,  27.5,  30. ,  32.5,  35. ,  37.5,  40. ,  42.5,\n",
       "         45. ,  47.5,  50. ,  52.5,  55. ,  57.5,  60. ,  62.5,  65. ,\n",
       "         67.5,  70. ,  72.5,  75. ,  77.5,  80. ,  82.5,  85. ,  87.5,\n",
       "         90. ,  92.5,  95. ,  97.5, 100. ]),\n",
       " <BarContainer object of 40 artists>)"
      ]
     },
     "execution_count": 355,
     "metadata": {},
     "output_type": "execute_result"
    }
   ],
   "source": [
    "max_prop['pitch_y_frame_dot_dot']\n",
    "prop = 'pitch_y_frame_dot_dot'\n",
    "\n",
    "acc_mean,time_inter = exp.mean_time_series_prop(prop,'body')\n",
    "idx0 = max_prop['pitch_y_frame_dot_dot'][0]\n",
    "idx1 = max_prop['pitch_y_frame_dot'][0]\n",
    "\n",
    "\n",
    "\n",
    "prop = 'pitch_y_frame_dot_dot'\n",
    "exp = experiments[list(experiments.keys())[0]]\n",
    "import matplotlib.cm as colormap\n",
    "\n",
    "color_map = colormap.datad[\"tab10\"]['listed']\n",
    "fig = go.Figure()\n",
    "# exp.plot_prop_movies('pitch_y_frame_dot_dot','body',0,fig,mov = False,case = 'plot_mov',prop_x = 'time')\n",
    "time_max = []\n",
    "for idx,mov_name in enumerate(exp.mov_names):\n",
    "    mov = exp.get_mov(mov_name)\n",
    "\n",
    "    time = mov.get_prop('time','body')[:,0]\n",
    "\n",
    "    idx_time = (time >idx0 -10 ) & (time < idx1+10) if (idx0 != False) & (idx1 != False) else (time >-np.inf ) & (time < np.inf)\n",
    "\n",
    "    acc = mov.get_prop(prop,'body')[idx_time,0]\n",
    "    time = mov.get_prop('time','body')[idx_time,0]\n",
    "\n",
    "\n",
    "    idx_max = np.argmax(acc)\n",
    "\n",
    "    # idx2 = np.where(time == min_max_pitch[1][idx])[0][0]\n",
    "    color = color_map[idx%len(color_map)]\n",
    "    fig.add_trace(go.Scattergl(x=[time[idx_max]],\n",
    "                    y=[acc[idx_max]],\n",
    "                    marker=dict(\n",
    "                        color=f'rgba{str(tuple(np.append(color,1)))}',\n",
    "                        size=10,\n",
    "                    ),\n",
    "                legendgroup = mov_name,\n",
    "                showlegend = False))\n",
    "    time_max.append(time[idx_max])\n",
    "fig.show()\n",
    "\n",
    "\n",
    "# plt.figure()\n",
    "# min_max_pitch =[exp.min_max_point_movies('pitch_y_frame_dot_dot') for exp in experiments]\n",
    "plt.figure()\n",
    "plt.hist(time_max ,alpha = 0.5,bins = 40,label =exp.experiment_name, range = (0,100) ) \n",
    "\n",
    "\n",
    "\n"
   ]
  },
  {
   "cell_type": "code",
   "execution_count": 17,
   "metadata": {},
   "outputs": [
    {
     "name": "stdout",
     "output_type": "stream",
     "text": [
      "[0 1 0 0 0 0 0 1 0 0 1 0 1 0 1 0 1 0 1 1 0 1 0 1 0 1 0 1 0 1 0 1 1 1]\n"
     ]
    },
    {
     "name": "stderr",
     "output_type": "stream",
     "text": [
      "c:\\Users\\Roni\\anaconda3\\lib\\site-packages\\sklearn\\cluster\\_kmeans.py:1382: UserWarning:\n",
      "\n",
      "KMeans is known to have a memory leak on Windows with MKL, when there are less chunks than available threads. You can avoid it by setting the environment variable OMP_NUM_THREADS=1.\n",
      "\n"
     ]
    }
   ],
   "source": [
    "from sklearn.decomposition import PCA\n",
    "import pandas as pd\n",
    "\n",
    "from sklearn.cluster import KMeans\n",
    "\n",
    "mov_feat = []\n",
    "exp = experiments[4]\n",
    "\n",
    "exp_pd = []\n",
    "for exp in experiments[0:1]:\n",
    "    mov_feat = []\n",
    "    for idx,mov_name in enumerate(exp.mov_names):\n",
    "        mov = exp.get_mov(mov_name)\n",
    "        mov_feat.append(np.nanmean(mov.data['body'][mov.ref_frame:mov.ref_frame +200*16  ,:],axis = 0))\n",
    "\n",
    "    featpd_exp = pd.DataFrame(data = mov_feat,columns = mov.header['body'])\n",
    "    featpd_exp['exp_name'] = exp.experiment_name\n",
    "    featpd_exp['mov'] = exp.mov_names\n",
    "    exp_pd.append(featpd_exp)\n",
    "\n",
    "feat = pd.concat(exp_pd,axis = 0).dropna().reset_index()\n",
    "\n",
    "\n",
    "props = ['CM_dot_projected','pitch_body','pitch_body_dot','pitch_y_frame']\n",
    "dataforpca = feat[props]\n",
    "n_comp = 4\n",
    "pca = PCA(n_components=n_comp)\n",
    "principalComponents = pca.fit_transform(dataforpca)\n",
    "principalDf = pd.DataFrame(data = principalComponents\n",
    "             , columns = [f'pca_{idx}' for idx in range(n_comp)])\n",
    "\n",
    "\n",
    "\n",
    "featpd = pd.concat([feat, principalDf], axis = 1)\n",
    "kmeans = KMeans(n_clusters=2, random_state=0, n_init=\"auto\").fit(featpd[pca_name])\n",
    "print(kmeans.labels_)\n"
   ]
  },
  {
   "cell_type": "code",
   "execution_count": 14,
   "metadata": {},
   "outputs": [],
   "source": [
    "exp = experiments[0]\n",
    "mov_name1 = [exp.mov_names[idx] for idx in np.where(kmeans.labels_==0)[0]]\n",
    "mov_name2 = [exp.mov_names[idx] for idx in np.where(kmeans.labels_==1)[0]]\n",
    "# mov_name3 = [exp.mov_names[idx] for idx in np.where(labels==2)[0]]\n",
    "\n",
    "prop = 'pitch_body'\n",
    "prop = 'CM_dot_projected'\n",
    "# prop = 'pitch_body'\n",
    "\n",
    "color_map = colormap.datad[\"tab10\"]['listed']\n",
    "\n",
    "fig = go.Figure()\n",
    "exp.plot_prop_movies(prop,'body',fig,mov = mov_name1,case = 'plot_exp',prop_x = 'time',color = color_map[0],legend = 'custer1')\n",
    "exp.plot_prop_movies(prop,'body',fig,mov = mov_name2,case = 'plot_exp',prop_x = 'time',color = color_map[1],legend='cluster2')\n",
    "# exp.plot_prop_movies(prop,'body',fig,mov = mov_name3,case = 'plot_exp',prop_x = 'time',color = color_map[2],legend='cluster3')\n",
    "\n",
    "\n",
    "fig.show()\n"
   ]
  },
  {
   "cell_type": "code",
   "execution_count": 4,
   "metadata": {},
   "outputs": [
    {
     "name": "stdout",
     "output_type": "stream",
     "text": [
      "[0 0 1 1 1 1 1 1 0 1 1 1 0 1 0 1 0 1 1 0 1 1 1 0 1 0 1 0 0 0 1 1 0 1]\n"
     ]
    },
    {
     "name": "stderr",
     "output_type": "stream",
     "text": [
      "c:\\Users\\Roni\\anaconda3\\lib\\site-packages\\sklearn\\cluster\\_kmeans.py:1382: UserWarning:\n",
      "\n",
      "KMeans is known to have a memory leak on Windows with MKL, when there are less chunks than available threads. You can avoid it by setting the environment variable OMP_NUM_THREADS=1.\n",
      "\n"
     ]
    }
   ],
   "source": [
    "\n",
    "pca_name = [f'pca_{idx}' for idx in range(pca.n_components_)]\n",
    "from sklearn.cluster import KMeans\n",
    "kmeans = KMeans(n_clusters=2, random_state=0, n_init=\"auto\").fit(featpd[pca_name])\n",
    "print(kmeans.labels_)\n",
    "plt.plot(featpd[pca_name[0]][kmeans.labels_==0],featpd[pca_name[1]][kmeans.labels_==0],'*')\n",
    "plt.plot(featpd[pca_name[0]][kmeans.labels_==3],featpd[pca_name[1]][kmeans.labels_==3],'*')\n",
    "\n",
    "\n",
    "pca_color = ['red','blue','green','pink','yellow','gray']\n",
    "prop = 'pitch_y_frame'\n",
    "\n",
    "for lbl in  np.unique(kmeans.labels_):\n",
    "    mov_name = [exp.mov_names[idx] for idx in np.where(kmeans.labels_==lbl)[0]]\n",
    "    for mov in  mov_name:\n",
    "        mov1 = exp.get_mov(mov)\n",
    "        plt.plot(mov1.get_prop(prop,'body'),pca_color[lbl])\n",
    "\n"
   ]
  },
  {
   "cell_type": "code",
   "execution_count": 253,
   "metadata": {},
   "outputs": [
    {
     "name": "stderr",
     "output_type": "stream",
     "text": [
      "c:\\Users\\Roni\\anaconda3\\lib\\site-packages\\sklearn\\cluster\\_agglomerative.py:983: FutureWarning:\n",
      "\n",
      "Attribute `affinity` was deprecated in version 1.2 and will be removed in 1.4. Use `metric` instead\n",
      "\n"
     ]
    },
    {
     "data": {
      "text/plain": [
       "array([0, 0, 0, 0, 0, 0, 0, 0, 0, 1, 0, 0, 0, 0, 0, 0, 0, 0, 0, 0, 0, 0,\n",
       "       0, 0, 0, 0, 0, 0, 0, 0, 0, 1, 0, 0, 0, 0, 0, 0, 0, 0, 0, 0, 0, 0],\n",
       "      dtype=int64)"
      ]
     },
     "execution_count": 253,
     "metadata": {},
     "output_type": "execute_result"
    }
   ],
   "source": [
    "from scipy.cluster.hierarchy import dendrogram, linkage\n",
    "from sklearn.cluster import AgglomerativeClustering\n",
    "props = ['CM_dot_projected','pitch_body','pitch_body_dot','pitch_y_frame','pitch_y_frame_dot','pitch_y_frame_dot_dot','CM_real_x_body_dot_smth','CM_real_z_body_dot_smth']\n",
    "\n",
    "linkage_data = linkage(featpd[props], method='ward', metric='euclidean')\n",
    "dendrogram(linkage_data)\n",
    "\n",
    "hierarchical_cluster = AgglomerativeClustering(n_clusters=2, affinity='euclidean', linkage='ward')\n",
    "\n",
    "labels = hierarchical_cluster.fit_predict(featpd[props])\n",
    "\n",
    "labels"
   ]
  },
  {
   "cell_type": "code",
   "execution_count": 235,
   "metadata": {},
   "outputs": [],
   "source": [
    "\n",
    "fig = go.Figure()\n",
    "prop = props[0]\n",
    "mov_name1 = [exp.mov_names[idx] for idx in np.where(labels==0)[0]]\n",
    "\n",
    "exp.plot_prop_movies(prop,'body',fig,case = 'plot_mov',prop_x = 'time',mov = mov_name1)\n",
    "\n",
    "fig.show()\n"
   ]
  },
  {
   "cell_type": "code",
   "execution_count": 5,
   "metadata": {},
   "outputs": [],
   "source": [
    "exp = experiments[0]\n",
    "mov_name1 = [exp.mov_names[idx] for idx in np.where(kmeans.labels_==0)[0]]\n",
    "mov_name2 = [exp.mov_names[idx] for idx in np.where(kmeans.labels_==1)[0]]\n",
    "# mov_name3 = [exp.mov_names[idx] for idx in np.where(labels==2)[0]]\n",
    "\n",
    "prop = 'pitch_y_frame_dot'\n",
    "prop = 'CM_dot_dot_projected'\n",
    "# prop = 'pitch_body'\n",
    "\n",
    "color_map = colormap.datad[\"tab10\"]['listed']\n",
    "\n",
    "fig = go.Figure()\n",
    "exp.plot_prop_movies(prop,'body',fig,mov = mov_name1,case = 'plot_exp',prop_x = 'time',color = color_map[0],legend = 'custer1')\n",
    "exp.plot_prop_movies(prop,'body',fig,mov = mov_name2,case = 'plot_exp',prop_x = 'time',color = color_map[1],legend='cluster2')\n",
    "# exp.plot_prop_movies(prop,'body',fig,mov = mov_name3,case = 'plot_exp',prop_x = 'time',color = color_map[2],legend='cluster3')\n",
    "\n",
    "\n",
    "fig.show()\n"
   ]
  },
  {
   "cell_type": "code",
   "execution_count": 34,
   "metadata": {},
   "outputs": [
    {
     "data": {
      "text/plain": [
       "array([0, 0, 0, 0, 5, 0, 0, 5, 0, 5, 1, 5, 0, 0, 0, 5, 5, 5, 5, 5, 0, 6,\n",
       "       5, 4, 0, 0, 0, 6, 0, 0, 0, 0, 5, 5, 5, 0, 4, 4, 2, 5, 5, 5, 3, 5])"
      ]
     },
     "execution_count": 34,
     "metadata": {},
     "output_type": "execute_result"
    }
   ],
   "source": [
    "kmeans.labels_"
   ]
  },
  {
   "cell_type": "code",
   "execution_count": 375,
   "metadata": {},
   "outputs": [],
   "source": [
    "from scipy import stats\n",
    "\n",
    "\n",
    "exp = experiments[0]\n",
    "prop = 'pitch_y_frame'\n",
    "prop = 'q'\n",
    "prop = 'CM_dot_dot_projected'\n",
    "\n",
    "window = (73*3)//2\n",
    "fig,ax = plt.subplots(2,1,sharex=True,sharey=True)\n",
    "for exp in experiments:\n",
    "    mov_to_keep = []\n",
    "    acc_mean,time_inter = exp.mean_time_series_prop(prop,'body')\n",
    "\n",
    "    for mov_name in exp.mov_names[:]:\n",
    "        mov = exp.get_mov(mov_name)\n",
    "        acc = mov.get_prop(prop,'body')\n",
    "        time = mov.get_prop('time','body')\n",
    "        time_to_sub,time_inter_idx,time_idx = np.intersect1d(time_inter,time,return_indices = True)\n",
    "\n",
    "        dist = acc_mean[time_inter_idx] - acc[time_idx,0]\n",
    "        # if (np.abs(np.nansum(acc_mean[time_inter_idx] - acc[time_idx,0])/np.nansum(acc[time_idx,0])) < 2) & (np.nanmax(dist) < 8):\n",
    "        if (np.nanmax(dist) < 10) & (np.abs(np.nanmin(dist)) < 10):\n",
    "            mov_to_keep.append(mov_name)\n",
    "            # ax[0].plot(time[time_idx],dist.T,'gray')\n",
    "            # ax[1].plot(time,acc,'gray')\n",
    "    # exp.mov_names = mov_to_keep\n",
    "            \n",
    "\n",
    "    idx = np.where(np.isfinite(time_inter) & np.isfinite(acc_mean))[0]\n",
    "    idx0 = 200\n",
    "    idx1 = 1000\n",
    "    p = np.poly1d(np.polyfit(time_inter[idx[idx0:idx1]], acc_mean[idx[idx0:idx1]], 4, rcond=None, full=False, w=None, cov=False)   )     \n",
    "    xp = time[idx0:idx1]\n",
    "    plt.plot(time_inter[idx],acc_mean[idx],linewidth = 6)\n",
    "    # plt.plot(time_inter[idx[idx0:idx1]], acc_mean[idx[idx0:idx1]], '.', xp, p(xp), '-')\n",
    "    # p = np.poly1d(np.polyfit(time[idx0:idx1,0].T, acc[idx0:idx1,0].T, 4, rcond=None, full=False, w=None, cov=False)   )     \n",
    "\n",
    "    # plt.plot(time[window:-1,0],acc[window:-1,0], '.', xp, p(xp), '-',linewidth = 3)\n"
   ]
  },
  {
   "cell_type": "code",
   "execution_count": 313,
   "metadata": {},
   "outputs": [
    {
     "data": {
      "text/plain": [
       "[<matplotlib.lines.Line2D at 0x1e3a7d12c50>]"
      ]
     },
     "execution_count": 313,
     "metadata": {},
     "output_type": "execute_result"
    }
   ],
   "source": [
    "x = time[idx0:idx1]\n",
    "p = np.polyfit(time[idx0:idx1,0].T, acc[idx0:idx1,0].T, 4, rcond=None, full=False, w=None, cov=False)\n",
    "plt.plot(x,p[0]*x**4+p[1]*x**3+p[2]*x**2+p[3]*x+p[4])\n",
    "\n",
    "plt.plot(4*p[0]*x**3+3*p[1]*x**2+2*p[2]*x+p[3])"
   ]
  },
  {
   "cell_type": "code",
   "execution_count": 367,
   "metadata": {},
   "outputs": [
    {
     "ename": "KeyError",
     "evalue": "'mov111'",
     "output_type": "error",
     "traceback": [
      "\u001b[1;31m---------------------------------------------------------------------------\u001b[0m",
      "\u001b[1;31mKeyError\u001b[0m                                  Traceback (most recent call last)",
      "Cell \u001b[1;32mIn[367], line 2\u001b[0m\n\u001b[0;32m      1\u001b[0m mov_name \u001b[38;5;241m=\u001b[39m \u001b[38;5;124m'\u001b[39m\u001b[38;5;124mmov111\u001b[39m\u001b[38;5;124m'\u001b[39m\n\u001b[1;32m----> 2\u001b[0m mov \u001b[38;5;241m=\u001b[39m \u001b[43mexp\u001b[49m\u001b[38;5;241;43m.\u001b[39;49m\u001b[43mget_mov\u001b[49m\u001b[43m(\u001b[49m\u001b[43mmov_name\u001b[49m\u001b[43m)\u001b[49m\n\u001b[0;32m      3\u001b[0m acc \u001b[38;5;241m=\u001b[39m mov\u001b[38;5;241m.\u001b[39mget_prop(\u001b[38;5;124m'\u001b[39m\u001b[38;5;124mpitch_y_frame_dot_dot\u001b[39m\u001b[38;5;124m'\u001b[39m,\u001b[38;5;124m'\u001b[39m\u001b[38;5;124mbody\u001b[39m\u001b[38;5;124m'\u001b[39m)\n\u001b[0;32m      4\u001b[0m cm_dot \u001b[38;5;241m=\u001b[39m mov\u001b[38;5;241m.\u001b[39mget_prop(\u001b[38;5;124m'\u001b[39m\u001b[38;5;124mCM_dot_projected\u001b[39m\u001b[38;5;124m'\u001b[39m,\u001b[38;5;124m'\u001b[39m\u001b[38;5;124mbody\u001b[39m\u001b[38;5;124m'\u001b[39m)\n",
      "File \u001b[1;32mc:\\Users\\Roni\\Documents\\experiment-analysis\\data_analysis\\Experiment.py:84\u001b[0m, in \u001b[0;36mExperiment.get_mov\u001b[1;34m(self, mov_name)\u001b[0m\n\u001b[0;32m     83\u001b[0m \u001b[38;5;28;01mdef\u001b[39;00m \u001b[38;5;21mget_mov\u001b[39m(\u001b[38;5;28mself\u001b[39m,mov_name):\n\u001b[1;32m---> 84\u001b[0m     \u001b[38;5;28;01mreturn\u001b[39;00m \u001b[38;5;28;43mself\u001b[39;49m\u001b[38;5;241;43m.\u001b[39;49m\u001b[43mexp_dict\u001b[49m\u001b[43m[\u001b[49m\u001b[43mmov_name\u001b[49m\u001b[43m]\u001b[49m\n",
      "\u001b[1;31mKeyError\u001b[0m: 'mov111'"
     ]
    }
   ],
   "source": [
    "mov_name = 'mov111'\n",
    "mov = exp.get_mov(mov_name)\n",
    "acc = mov.get_prop('pitch_y_frame_dot_dot','body')\n",
    "cm_dot = mov.get_prop('CM_dot_projected','body')\n",
    "time = mov.get_prop('time','body')\n",
    "\n",
    "fig,ax = plt.subplots(2,1)\n",
    "ax[0].plot(time,cm_dot)\n",
    "ax[1].plot(time,acc)\n",
    "plt.figure()\n",
    "min_max_pitch =[exp.min_max_point_movies('q') for exp in experiments]\n",
    "[plt.hist(min_max[1],alpha = 0.5,bins = 20,label =exp.experiment_name, range = (0,100) ) for min_max,exp in zip(min_max_pitch,experiments)]\n"
   ]
  },
  {
   "cell_type": "code",
   "execution_count": 428,
   "metadata": {},
   "outputs": [
    {
     "data": {
      "text/plain": [
       "[(array([1., 0., 0., 0., 0., 1., 3., 7., 8., 5., 4., 0., 0., 0., 0., 1., 0.,\n",
       "         0., 0., 0., 0., 0., 1., 1., 2., 0., 0., 0., 0., 1., 0., 1., 1., 2.,\n",
       "         1., 1., 1., 0., 0., 2.]),\n",
       "  array([-10.5625,  -5.7875,  -1.0125,   3.7625,   8.5375,  13.3125,\n",
       "          18.0875,  22.8625,  27.6375,  32.4125,  37.1875,  41.9625,\n",
       "          46.7375,  51.5125,  56.2875,  61.0625,  65.8375,  70.6125,\n",
       "          75.3875,  80.1625,  84.9375,  89.7125,  94.4875,  99.2625,\n",
       "         104.0375, 108.8125, 113.5875, 118.3625, 123.1375, 127.9125,\n",
       "         132.6875, 137.4625, 142.2375, 147.0125, 151.7875, 156.5625,\n",
       "         161.3375, 166.1125, 170.8875, 175.6625, 180.4375]),\n",
       "  <BarContainer object of 40 artists>),\n",
       " (array([ 3.,  1.,  0.,  0.,  7., 10., 11., 10.,  3.,  2.,  1.,  0.,  2.,\n",
       "          0.,  0.,  1.,  3.,  3.,  5.,  2.,  6.,  2.,  5.,  2.,  1.,  0.,\n",
       "          1.,  7.,  1.,  2.,  1.,  0.,  0.,  0.,  0.,  0.,  1.,  1.,  0.,\n",
       "          1.]),\n",
       "  array([-17.875    , -10.0421875,  -2.209375 ,   5.6234375,  13.45625  ,\n",
       "          21.2890625,  29.121875 ,  36.9546875,  44.7875   ,  52.6203125,\n",
       "          60.453125 ,  68.2859375,  76.11875  ,  83.9515625,  91.784375 ,\n",
       "          99.6171875, 107.45     , 115.2828125, 123.115625 , 130.9484375,\n",
       "         138.78125  , 146.6140625, 154.446875 , 162.2796875, 170.1125   ,\n",
       "         177.9453125, 185.778125 , 193.6109375, 201.44375  , 209.2765625,\n",
       "         217.109375 , 224.9421875, 232.775    , 240.6078125, 248.440625 ,\n",
       "         256.2734375, 264.10625  , 271.9390625, 279.771875 , 287.6046875,\n",
       "         295.4375   ]),\n",
       "  <BarContainer object of 40 artists>),\n",
       " (array([2., 0., 0., 0., 0., 3., 9., 7., 4., 2., 1., 2., 0., 1., 2., 0., 0.,\n",
       "         0., 0., 0., 1., 0., 3., 2., 0., 0., 2., 0., 0., 1., 1., 0., 0., 1.,\n",
       "         0., 0., 0., 0., 0., 1.]),\n",
       "  array([-16.375  ,  -9.34375,  -2.3125 ,   4.71875,  11.75   ,  18.78125,\n",
       "          25.8125 ,  32.84375,  39.875  ,  46.90625,  53.9375 ,  60.96875,\n",
       "          68.     ,  75.03125,  82.0625 ,  89.09375,  96.125  , 103.15625,\n",
       "         110.1875 , 117.21875, 124.25   , 131.28125, 138.3125 , 145.34375,\n",
       "         152.375  , 159.40625, 166.4375 , 173.46875, 180.5    , 187.53125,\n",
       "         194.5625 , 201.59375, 208.625  , 215.65625, 222.6875 , 229.71875,\n",
       "         236.75   , 243.78125, 250.8125 , 257.84375, 264.875  ]),\n",
       "  <BarContainer object of 40 artists>),\n",
       " (array([1., 0., 0., 0., 0., 1., 4., 6., 2., 2., 2., 0., 0., 1., 2., 1., 1.,\n",
       "         1., 0., 1., 0., 2., 0., 0., 1., 2., 0., 2., 3., 0., 0., 1., 1., 1.,\n",
       "         0., 1., 0., 1., 0., 1.]),\n",
       "  array([-2.09375000e+01, -1.39953125e+01, -7.05312500e+00, -1.10937500e-01,\n",
       "          6.83125000e+00,  1.37734375e+01,  2.07156250e+01,  2.76578125e+01,\n",
       "          3.46000000e+01,  4.15421875e+01,  4.84843750e+01,  5.54265625e+01,\n",
       "          6.23687500e+01,  6.93109375e+01,  7.62531250e+01,  8.31953125e+01,\n",
       "          9.01375000e+01,  9.70796875e+01,  1.04021875e+02,  1.10964063e+02,\n",
       "          1.17906250e+02,  1.24848438e+02,  1.31790625e+02,  1.38732812e+02,\n",
       "          1.45675000e+02,  1.52617188e+02,  1.59559375e+02,  1.66501563e+02,\n",
       "          1.73443750e+02,  1.80385938e+02,  1.87328125e+02,  1.94270313e+02,\n",
       "          2.01212500e+02,  2.08154687e+02,  2.15096875e+02,  2.22039062e+02,\n",
       "          2.28981250e+02,  2.35923438e+02,  2.42865625e+02,  2.49807813e+02,\n",
       "          2.56750000e+02]),\n",
       "  <BarContainer object of 40 artists>)]"
      ]
     },
     "execution_count": 428,
     "metadata": {},
     "output_type": "execute_result"
    }
   ],
   "source": [
    "min_max_v = [exp.min_max_point_movies('pitch_y_frame_dot_dot') for exp in experiments[0:4]]\n",
    "plt.figure()\n",
    "[plt.hist(min_max[1],alpha = 0.5,bins = 40,label =exp.experiment_name ) for min_max,exp in zip(min_max_v,experiments[0:4])]\n"
   ]
  },
  {
   "cell_type": "code",
   "execution_count": 99,
   "metadata": {},
   "outputs": [],
   "source": [
    "exp = experiments[3]\n",
    "mov = exp.get_mov('mov101')\n",
    "\n",
    "\n",
    "for mov_name in exp.mov_names[0:20]:\n",
    "    mov = exp.get_mov(mov_name)\n",
    "\n",
    "    v = mov.get_prop('CM_real_x_body_smth','body',three_col=3)\n",
    "    cm = mov.get_prop('CM_real_x_body_smth','body',three_col=3)\n",
    "    cm[:,2] = 0\n",
    "    v[:,2] = 0\n",
    "\n",
    "    cm = cm - cm[mov.ref_frame]\n",
    "\n",
    "    vax = v[mov.ref_frame,:]/np.linalg.norm(v[mov.ref_frame,:])\n",
    "    angle_to_rotate = np.arctan2(vax[1],vax[0])\n",
    "    x_rotated = cm[:,0]*np.cos(angle_to_rotate) + cm[:,1]*np.sin(angle_to_rotate)\n",
    "    y_rotated = cm[:,0]*np.sin(angle_to_rotate) - cm[:,1]*np.cos(angle_to_rotate)\n",
    "\n",
    "\n",
    "    plt.plot(x_rotated,y_rotated)\n",
    "\n"
   ]
  },
  {
   "cell_type": "code",
   "execution_count": 19,
   "metadata": {},
   "outputs": [],
   "source": [
    "exp = experiments[3]\n",
    "\n",
    "time_for_mean = 30\n",
    "num_std = 4\n",
    "winsow_size = (73*7)//2\n",
    "plot_all = True\n",
    "prop = 'CM_dot_dot_projected'\n",
    "add_std = False\n",
    "sub_std = True\n",
    "# fig,ax = plt.subplots(len(experiments),1)\n",
    "plt.figure()\n",
    "for idx,exp in enumerate(experiments[4:5]):\n",
    "    time_onset = []\n",
    "\n",
    "    for mov_name in exp.mov_names:\n",
    "        mov = exp.get_mov(mov_name) \n",
    "        acc = mov.get_prop(prop,'body')[:,0]\n",
    "\n",
    "\n",
    "        time = mov.get_prop('time','body')[:,0]\n",
    "        try:\n",
    "            end_time = np.where(time == time_for_mean)[0][0]\n",
    "        except:\n",
    "            continue\n",
    "        # acc = acc - np.mean(acc[winsow_size:end_time])\n",
    "\n",
    "        mean_acc = np.mean(acc[winsow_size:end_time])\n",
    "        std_acc = np.std(acc[winsow_size:end_time])\n",
    "        if len(np.where(acc[end_time:-1] < (mean_acc - np.abs(num_std*std_acc)))[0]) > 0:\n",
    "            if add_std == True: \n",
    "                idx_onset = np.where(acc[end_time:-1] > (mean_acc + np.abs(num_std*std_acc)))[0][0]\n",
    "            if sub_std == True:\n",
    "                idx_onset = np.where(acc[end_time:-1] < (mean_acc - np.abs(num_std*std_acc)))[0][0]\n",
    "\n",
    "            time_onset.append(time[end_time:][idx_onset])\n",
    "            \n",
    "            if plot_all == True:\n",
    "                # plt.figure()\n",
    "                plt.plot(time[winsow_size:],acc[winsow_size:])\n",
    "                plt.scatter(time[end_time:][idx_onset],acc[end_time:][idx_onset])\n",
    "\n",
    "\n",
    "\n",
    "                plt.vlines(time[end_time],-0.2,0.5,'red')\n",
    "                # plt.vlines(time[winsow_size],-3,5,'red')\n",
    "\n",
    "                # plt.vlines(time[end_time:][idx_onset],-3,5,'green')\n",
    "                # plt.hlines(mean_acc,-10,200,'gray')\n",
    "                # plt.hlines(mean_acc + std_acc,-10,200,'black')\n",
    "                # plt.hlines(mean_acc - std_acc,-10,200,'black')\n",
    "\n",
    "    \n",
    "#     ax[idx].hist(time_onset,bins = 30,range = (time_for_mean,80))\n",
    "#     ax[idx].set_title(exp.pertubation_name)\n",
    "# plt.title(exp.pertubation_name)\n"
   ]
  },
  {
   "cell_type": "code",
   "execution_count": 10,
   "metadata": {},
   "outputs": [
    {
     "data": {
      "text/plain": [
       "234"
      ]
     },
     "execution_count": 10,
     "metadata": {},
     "output_type": "execute_result"
    }
   ],
   "source": [
    "end_time - winsow_size"
   ]
  },
  {
   "cell_type": "code",
   "execution_count": 187,
   "metadata": {},
   "outputs": [
    {
     "data": {
      "text/plain": [
       "<matplotlib.collections.LineCollection at 0x17ce61f6050>"
      ]
     },
     "execution_count": 187,
     "metadata": {},
     "output_type": "execute_result"
    }
   ],
   "source": [
    "\n",
    "\n",
    "plt.figure()\n",
    "plt.plot(time,acc)\n",
    "plt.vlines(time[end_time],-3,2,'red')\n",
    "plt.vlines(time[winsow_size],-3,2,'red')\n",
    "\n",
    "plt.vlines(time[end_time:][idx_onset],-3,2,'green')\n",
    "plt.hlines(mean_acc,-10,200,'gray')\n",
    "plt.hlines(mean_acc + std_acc,-10,200,'black')\n",
    "plt.hlines(mean_acc - std_acc,-10,200,'black')"
   ]
  },
  {
   "cell_type": "code",
   "execution_count": null,
   "metadata": {},
   "outputs": [],
   "source": [
    "zero_acc = [exp.zero_velocity_movies('CM_dot_dot_projected') for exp in experiments]\n",
    "new_zer = []\n",
    "for zero_acc_exp in zero_acc:\n",
    "    zero = []\n",
    "    for zer in zero_acc_exp:\n",
    "       \n",
    "        if len(zer) > 1:\n",
    "            zero.append(zer[1])\n",
    "        else: \n",
    "            zero.append(zer[0])\n",
    "    new_zer.append(zero)\n"
   ]
  },
  {
   "cell_type": "code",
   "execution_count": null,
   "metadata": {},
   "outputs": [
    {
     "data": {
      "text/plain": [
       "Text(0.5, 1.0, 'diff max pitch min v')"
      ]
     },
     "execution_count": 9,
     "metadata": {},
     "output_type": "execute_result"
    }
   ],
   "source": [
    "\n",
    "plt.figure()\n",
    "[plt.hist(np.array(new_zer[idx]),alpha=0.5,bins = 20,label = exp.experiment_name) for idx,exp in enumerate(experiments[0:5]) if exp.pertubation != False]\n",
    "plt.legend()\n",
    "plt.title('zero acc')\n",
    "\n"
   ]
  },
  {
   "cell_type": "code",
   "execution_count": null,
   "metadata": {},
   "outputs": [
    {
     "data": {
      "text/plain": [
       "[<matplotlib.lines.Line2D at 0x15df24364a0>]"
      ]
     },
     "execution_count": 39,
     "metadata": {},
     "output_type": "execute_result"
    }
   ],
   "source": [
    "from scipy.signal import argrelextrema, savgol_filter,find_peaks\n",
    "\n",
    "x = np.array(range(80))\n",
    "data = (x - 50)**3  + (np.random.rand(1,len(x)) - 0.5)[0]*10000\n",
    "\n",
    "\n",
    "smoothed = savgol_filter(data,31,2,deriv = 1)\n",
    "smoothed2 = savgol_filter(data,31,2,deriv = 2) \n",
    "fig,ax = plt.subplots(3,1)\n",
    "ax[0].plot(data)\n",
    "ax[1].plot(smoothed)\n",
    "ax[2].plot(smoothed2)\n",
    "\n"
   ]
  },
  {
   "cell_type": "code",
   "execution_count": 3,
   "metadata": {},
   "outputs": [],
   "source": [
    "import matplotlib.cm as colormap\n",
    "color_map = colormap.datad[\"tab10\"]['listed']\n",
    "\n",
    "exp = experiments[3]\n",
    "\n",
    "fig = go.Figure()\n",
    "[exp.plot_prop_movies('pitch_y_frame_dot','body',fig,mov = False,legend = exp.pertubation_name,case = 'plot_exp',mode = 'lines',color = color_map[idx + 2]) for idx,exp in enumerate(experiments)]\n",
    "fig.show()\n",
    "\n",
    "# fig = go.Figure()\n",
    "# exp.plot_prop_movies('pitch_y_frame_dot','body',color_map[0],fig,mov = False,case = 'plot_mov',prop_x = 'time')\n",
    "# fig.show()\n",
    "\n",
    "# fig = go.Figure()\n",
    "# exp.plot_prop_movies('roll_body','body',color_map[0],fig,mov = False,case = 'plot_mov')\n",
    "# fig.show()\n",
    "\n",
    "\n"
   ]
  },
  {
   "cell_type": "code",
   "execution_count": null,
   "metadata": {},
   "outputs": [],
   "source": [
    "import matplotlib.cm as colormap\n",
    "exp = experiments[3]\n",
    "\n",
    "# exp.plot_movie_prop('time','v_xy', case = 'plot_exp',prop = 'body', \n",
    "#                      fig = fig, mov = False,mode = 'markers') \n",
    "# fig.show()\n",
    "color_map = colormap.datad[\"tab10\"]['listed']\n",
    "fig = go.Figure()\n",
    "exp.plot_prop_movies('CM_dot_dot_projected','body',color_map[0],fig,mov = False,case = 'plot_mov')\n",
    "fig.show()\n",
    "\n",
    "\n",
    "\n",
    "\n",
    "fig = go.Figure()\n",
    "[exp.plot_prop_movies('CM_dot_projected','body',color_map[idx + 2],fig,mov = False,case = 'plot_exp',mode = 'lines') for idx,exp in enumerate(experiments)]\n",
    "fig.show()\n",
    "\n",
    "\n",
    "fig = go.Figure()\n",
    "[exp.plot_prop_movies('CM_dot_dot_projected','body',color_map[idx + 2],fig,mov = False,case = 'plot_exp',mode = 'lines') for idx,exp in enumerate(experiments)]\n",
    "fig.show()\n",
    "\n",
    "fig = go.Figure()\n",
    "[exp.plot_prop_movies('pitch_y_frame','body',color_map[idx + 2],fig,mov = False,case = 'plot_exp',mode = 'lines') for idx,exp in enumerate(experiments)]\n",
    "fig.show()\n",
    "\n",
    "\n",
    "fig = go.Figure()\n",
    "exp.plot_prop_movies('q','body',color_map[0],fig,mov = False,case = 'plot_mov',mode = 'lines') \n",
    "fig.show()\n",
    "\n",
    "\n",
    "fig = go.Figure()\n",
    "exp.plot_prop_movies('pitch_y_frame_dot','body',color_map[0],fig,mov = False,case = 'plot_mov',mode = 'lines') \n",
    "fig.show()\n",
    "\n",
    "fig = go.Figure()\n",
    "exp.plot_prop_movies('pitch_y_frame_dot_dot','body',color_map[0],fig,mov = False,case = 'plot_mov',mode = 'lines') \n",
    "fig.show()\n",
    "\n",
    "\n",
    "fig = go.Figure()\n",
    "[exp.plot_prop_movies('CM_dot_dot_projected','body',color_map[idx + 2],fig,mov = False,case = 'plot_exp',mode = 'lines') for idx,exp in enumerate(experiments)]\n",
    "fig.show()"
   ]
  },
  {
   "cell_type": "code",
   "execution_count": null,
   "metadata": {},
   "outputs": [
    {
     "data": {
      "text/plain": [
       "Text(0.5, 1.0, 'diff max pitch min v')"
      ]
     },
     "execution_count": 10,
     "metadata": {},
     "output_type": "execute_result"
    }
   ],
   "source": [
    "import numpy as np\n",
    "\n",
    "\n",
    "\n",
    "plt.figure()\n",
    "delta_zero = [plt.hist(np.array(zero_velocity[idx]) ,alpha=0.5,bins = 20,label = exp.experiment_name) for idx,exp in enumerate(experiments) if exp.pertubation != False]\n",
    "plt.title('time of zero velocity')\n",
    "plt.legend()\n",
    "\n",
    "plt.figure()\n",
    "[plt.hist(np.array(min_max_v[idx][0]) ,alpha=0.5,bins = 20,label = exp.experiment_name) for idx,exp in enumerate(experiments) if exp.pertubation != False]\n",
    "plt.legend()\n",
    "plt.title('time of minimal velocity')\n",
    "\n",
    "\n",
    "plt.figure()\n",
    "[plt.hist(np.array(min_max_pitch[idx][1]),alpha=0.5,bins = 15,label = exp.experiment_name,range=(50, 120)) for idx,exp in enumerate(experiments) if exp.pertubation != False]\n",
    "plt.legend()\n",
    "plt.title('time of maximal pitch')\n",
    "\n",
    "\n",
    "plt.figure()\n",
    "[plt.hist(np.array(min_max_v[idx][0] - min_max_pitch[idx][1] ),alpha=0.5,bins = 20,label = exp.experiment_name) for idx,exp in enumerate(experiments[0:2]) if exp.pertubation != False]\n",
    "plt.legend()\n",
    "plt.title('diff max pitch min v')\n",
    "\n",
    "\n"
   ]
  },
  {
   "cell_type": "markdown",
   "metadata": {},
   "source": [
    "mean of all lines. normalized: data - mean(data(0:t == 0))\n",
    "velocity\n",
    "pitch\n",
    "mean mean phi\n",
    "\n",
    "- difference in peek between pulses - velocity and pitch\n",
    "- pitch - long time reaction - above 100 ms\n",
    "- (mean(phi)L + mean(phi)R)/2 - visible peek at ~55\n",
    "- peek around 45 pitch_dot\n",
    "- peek around 60 - p \n",
    "\n",
    "maybe a better way to do it? \n"
   ]
  },
  {
   "cell_type": "code",
   "execution_count": null,
   "metadata": {},
   "outputs": [
    {
     "data": {
      "text/plain": [
       "dict_keys(['pitch_body', 'yaw_body', 'roll_body', 'pitch_body_dot', 'yaw_body_dot', 'roll_body_dot', 'pitch_body_dot_dot', 'yaw_body_dot_dot', 'roll_body_dot_dot', 'frames', 'time', 'CM_real_x_body', 'CM_real_y_body', 'CM_real_z_body', 'phi_rw_max_idx', 'phi_rw_max_val', 'phi_lw_max_idx', 'phi_lw_max_val', 'phi_rw_min_idx', 'phi_rw_min_val', 'phi_lw_min_idx', 'phi_lw_min_val', 'yaw_z_frame', 'pitch_y_frame', 'roll_x_frame', 'yaw_z_frame_dot', 'pitch_y_frame_dot', 'roll_x_frame_dot', 'yaw_z_frame_dot_dot', 'pitch_y_frame_dot_dot', 'roll_x_frame_dot_dot', 'CM_real_x_body_smth', 'CM_real_y_body_smth', 'CM_real_z_body_smth', 'CM_real_x_body_dot_smth', 'CM_real_y_body_dot_smth', 'CM_real_z_body_dot_smth', 'CM_real_x_body_dot_dot_smth', 'CM_real_y_body_dot_dot_smth', 'CM_real_z_body_dot_dot_smth', 'CM_dot_projected', 'p', 'q', 'r', 'p_dot', 'q_dot', 'r_dot', 'p_dot_dot', 'q_dot_dot', 'r_dot_dot'])"
      ]
     },
     "execution_count": 37,
     "metadata": {},
     "output_type": "execute_result"
    }
   ],
   "source": [
    "exp = experiments[-1]\n",
    "exp.mov_names\n",
    "mov = exp.get_mov('mov10')\n",
    "mov.header['body'].keys()"
   ]
  },
  {
   "cell_type": "code",
   "execution_count": 366,
   "metadata": {},
   "outputs": [
    {
     "name": "stderr",
     "output_type": "stream",
     "text": [
      "c:\\Users\\Roni\\anaconda3\\lib\\site-packages\\numpy\\core\\fromnumeric.py:3432: RuntimeWarning:\n",
      "\n",
      "Mean of empty slice.\n",
      "\n",
      "c:\\Users\\Roni\\anaconda3\\lib\\site-packages\\numpy\\core\\_methods.py:190: RuntimeWarning:\n",
      "\n",
      "invalid value encountered in double_scalars\n",
      "\n",
      "C:\\Users\\Roni\\AppData\\Local\\Temp\\ipykernel_14100\\406941317.py:38: RuntimeWarning:\n",
      "\n",
      "Mean of empty slice\n",
      "\n"
     ]
    },
    {
     "ename": "ValueError",
     "evalue": "One of the input time series contains only nans or has zero length.",
     "output_type": "error",
     "traceback": [
      "\u001b[1;31m---------------------------------------------------------------------------\u001b[0m",
      "\u001b[1;31mValueError\u001b[0m                                Traceback (most recent call last)",
      "Cell \u001b[1;32mIn[366], line 46\u001b[0m\n\u001b[0;32m     42\u001b[0m \u001b[38;5;28;01mfrom\u001b[39;00m \u001b[38;5;21;01mtslearn\u001b[39;00m\u001b[38;5;21;01m.\u001b[39;00m\u001b[38;5;21;01mclustering\u001b[39;00m \u001b[38;5;28;01mimport\u001b[39;00m TimeSeriesKMeans\n\u001b[0;32m     44\u001b[0m model \u001b[38;5;241m=\u001b[39m TimeSeriesKMeans(n_clusters\u001b[38;5;241m=\u001b[39m\u001b[38;5;241m3\u001b[39m, metric\u001b[38;5;241m=\u001b[39m\u001b[38;5;124m\"\u001b[39m\u001b[38;5;124mdtw\u001b[39m\u001b[38;5;124m\"\u001b[39m,\n\u001b[0;32m     45\u001b[0m                          max_iter\u001b[38;5;241m=\u001b[39m\u001b[38;5;241m10\u001b[39m)\n\u001b[1;32m---> 46\u001b[0m \u001b[43mmodel\u001b[49m\u001b[38;5;241;43m.\u001b[39;49m\u001b[43mfit\u001b[49m\u001b[43m(\u001b[49m\u001b[43mcmlist\u001b[49m\u001b[43m)\u001b[49m\n",
      "File \u001b[1;32mc:\\Users\\Roni\\anaconda3\\lib\\site-packages\\tslearn\\clustering\\kmeans.py:821\u001b[0m, in \u001b[0;36mTimeSeriesKMeans.fit\u001b[1;34m(self, X, y)\u001b[0m\n\u001b[0;32m    819\u001b[0m     \u001b[38;5;28mprint\u001b[39m(\u001b[38;5;124m\"\u001b[39m\u001b[38;5;124mInit \u001b[39m\u001b[38;5;132;01m%d\u001b[39;00m\u001b[38;5;124m\"\u001b[39m \u001b[38;5;241m%\u001b[39m (n_successful \u001b[38;5;241m+\u001b[39m \u001b[38;5;241m1\u001b[39m))\n\u001b[0;32m    820\u001b[0m n_attempts \u001b[38;5;241m+\u001b[39m\u001b[38;5;241m=\u001b[39m \u001b[38;5;241m1\u001b[39m\n\u001b[1;32m--> 821\u001b[0m \u001b[38;5;28;43mself\u001b[39;49m\u001b[38;5;241;43m.\u001b[39;49m\u001b[43m_fit_one_init\u001b[49m\u001b[43m(\u001b[49m\u001b[43mX_\u001b[49m\u001b[43m,\u001b[49m\u001b[43m \u001b[49m\u001b[43mx_squared_norms\u001b[49m\u001b[43m,\u001b[49m\u001b[43m \u001b[49m\u001b[43mrs\u001b[49m\u001b[43m)\u001b[49m\n\u001b[0;32m    822\u001b[0m \u001b[38;5;28;01mif\u001b[39;00m \u001b[38;5;28mself\u001b[39m\u001b[38;5;241m.\u001b[39minertia_ \u001b[38;5;241m<\u001b[39m min_inertia:\n\u001b[0;32m    823\u001b[0m     best_correct_centroids \u001b[38;5;241m=\u001b[39m \u001b[38;5;28mself\u001b[39m\u001b[38;5;241m.\u001b[39mcluster_centers_\u001b[38;5;241m.\u001b[39mcopy()\n",
      "File \u001b[1;32mc:\\Users\\Roni\\anaconda3\\lib\\site-packages\\tslearn\\clustering\\kmeans.py:675\u001b[0m, in \u001b[0;36mTimeSeriesKMeans._fit_one_init\u001b[1;34m(self, X, x_squared_norms, rs)\u001b[0m\n\u001b[0;32m    670\u001b[0m         \u001b[38;5;28;01melse\u001b[39;00m:\n\u001b[0;32m    671\u001b[0m             \u001b[38;5;28;01mraise\u001b[39;00m \u001b[38;5;167;01mValueError\u001b[39;00m(\n\u001b[0;32m    672\u001b[0m                 \u001b[38;5;124m\"\u001b[39m\u001b[38;5;124mIncorrect metric: \u001b[39m\u001b[38;5;132;01m%s\u001b[39;00m\u001b[38;5;124m (should be one of \u001b[39m\u001b[38;5;124m'\u001b[39m\u001b[38;5;124mdtw\u001b[39m\u001b[38;5;124m'\u001b[39m\u001b[38;5;124m, \u001b[39m\u001b[38;5;124m\"\u001b[39m\n\u001b[0;32m    673\u001b[0m                 \u001b[38;5;124m\"\u001b[39m\u001b[38;5;124m'\u001b[39m\u001b[38;5;124msoftdtw\u001b[39m\u001b[38;5;124m'\u001b[39m\u001b[38;5;124m, \u001b[39m\u001b[38;5;124m'\u001b[39m\u001b[38;5;124meuclidean\u001b[39m\u001b[38;5;124m'\u001b[39m\u001b[38;5;124m)\u001b[39m\u001b[38;5;124m\"\u001b[39m \u001b[38;5;241m%\u001b[39m \u001b[38;5;28mself\u001b[39m\u001b[38;5;241m.\u001b[39mmetric\n\u001b[0;32m    674\u001b[0m             )\n\u001b[1;32m--> 675\u001b[0m         \u001b[38;5;28mself\u001b[39m\u001b[38;5;241m.\u001b[39mcluster_centers_ \u001b[38;5;241m=\u001b[39m \u001b[43m_k_init_metric\u001b[49m\u001b[43m(\u001b[49m\n\u001b[0;32m    676\u001b[0m \u001b[43m            \u001b[49m\u001b[43mX\u001b[49m\u001b[43m,\u001b[49m\u001b[43m \u001b[49m\u001b[38;5;28;43mself\u001b[39;49m\u001b[38;5;241;43m.\u001b[39;49m\u001b[43mn_clusters\u001b[49m\u001b[43m,\u001b[49m\u001b[43m \u001b[49m\u001b[43mcdist_metric\u001b[49m\u001b[38;5;241;43m=\u001b[39;49m\u001b[43mmetric_fun\u001b[49m\u001b[43m,\u001b[49m\u001b[43m \u001b[49m\u001b[43mrandom_state\u001b[49m\u001b[38;5;241;43m=\u001b[39;49m\u001b[43mrs\u001b[49m\n\u001b[0;32m    677\u001b[0m \u001b[43m        \u001b[49m\u001b[43m)\u001b[49m\n\u001b[0;32m    678\u001b[0m \u001b[38;5;28;01melif\u001b[39;00m \u001b[38;5;28mself\u001b[39m\u001b[38;5;241m.\u001b[39minit \u001b[38;5;241m==\u001b[39m \u001b[38;5;124m\"\u001b[39m\u001b[38;5;124mrandom\u001b[39m\u001b[38;5;124m\"\u001b[39m:\n\u001b[0;32m    679\u001b[0m     indices \u001b[38;5;241m=\u001b[39m rs\u001b[38;5;241m.\u001b[39mchoice(X\u001b[38;5;241m.\u001b[39mshape[\u001b[38;5;241m0\u001b[39m], \u001b[38;5;28mself\u001b[39m\u001b[38;5;241m.\u001b[39mn_clusters)\n",
      "File \u001b[1;32mc:\\Users\\Roni\\anaconda3\\lib\\site-packages\\tslearn\\clustering\\kmeans.py:112\u001b[0m, in \u001b[0;36m_k_init_metric\u001b[1;34m(X, n_clusters, cdist_metric, random_state, n_local_trials)\u001b[0m\n\u001b[0;32m    109\u001b[0m centers[\u001b[38;5;241m0\u001b[39m] \u001b[38;5;241m=\u001b[39m X[center_id]\n\u001b[0;32m    111\u001b[0m \u001b[38;5;66;03m# Initialize list of closest distances and calculate current potential\u001b[39;00m\n\u001b[1;32m--> 112\u001b[0m closest_dist_sq \u001b[38;5;241m=\u001b[39m \u001b[43mcdist_metric\u001b[49m\u001b[43m(\u001b[49m\u001b[43mcenters\u001b[49m\u001b[43m[\u001b[49m\u001b[38;5;241;43m0\u001b[39;49m\u001b[43m,\u001b[49m\u001b[43m \u001b[49m\u001b[43mnumpy\u001b[49m\u001b[38;5;241;43m.\u001b[39;49m\u001b[43mnewaxis\u001b[49m\u001b[43m]\u001b[49m\u001b[43m,\u001b[49m\u001b[43m \u001b[49m\u001b[43mX\u001b[49m\u001b[43m)\u001b[49m \u001b[38;5;241m*\u001b[39m\u001b[38;5;241m*\u001b[39m \u001b[38;5;241m2\u001b[39m\n\u001b[0;32m    113\u001b[0m current_pot \u001b[38;5;241m=\u001b[39m closest_dist_sq\u001b[38;5;241m.\u001b[39msum()\n\u001b[0;32m    115\u001b[0m \u001b[38;5;66;03m# Pick the remaining n_clusters-1 points\u001b[39;00m\n",
      "File \u001b[1;32mc:\\Users\\Roni\\anaconda3\\lib\\site-packages\\tslearn\\clustering\\kmeans.py:657\u001b[0m, in \u001b[0;36mTimeSeriesKMeans._fit_one_init.<locals>.metric_fun\u001b[1;34m(x, y)\u001b[0m\n\u001b[0;32m    656\u001b[0m \u001b[38;5;28;01mdef\u001b[39;00m \u001b[38;5;21mmetric_fun\u001b[39m(x, y):\n\u001b[1;32m--> 657\u001b[0m     \u001b[38;5;28;01mreturn\u001b[39;00m cdist_dtw(\n\u001b[0;32m    658\u001b[0m         x,\n\u001b[0;32m    659\u001b[0m         y,\n\u001b[0;32m    660\u001b[0m         n_jobs\u001b[38;5;241m=\u001b[39m\u001b[38;5;28mself\u001b[39m\u001b[38;5;241m.\u001b[39mn_jobs,\n\u001b[0;32m    661\u001b[0m         verbose\u001b[38;5;241m=\u001b[39m\u001b[38;5;28mself\u001b[39m\u001b[38;5;241m.\u001b[39mverbose,\n\u001b[0;32m    662\u001b[0m         \u001b[38;5;241m*\u001b[39m\u001b[38;5;241m*\u001b[39mmetric_params\n\u001b[0;32m    663\u001b[0m     )\n",
      "File \u001b[1;32mc:\\Users\\Roni\\anaconda3\\lib\\site-packages\\tslearn\\metrics\\dtw_variants.py:1934\u001b[0m, in \u001b[0;36mcdist_dtw\u001b[1;34m(dataset1, dataset2, global_constraint, sakoe_chiba_radius, itakura_max_slope, n_jobs, verbose, be)\u001b[0m\n\u001b[0;32m   1833\u001b[0m \u001b[38;5;124mr\u001b[39m\u001b[38;5;124;03m\"\"\"Compute cross-similarity matrix using Dynamic Time Warping (DTW)\u001b[39;00m\n\u001b[0;32m   1834\u001b[0m \u001b[38;5;124;03msimilarity measure.\u001b[39;00m\n\u001b[0;32m   1835\u001b[0m \n\u001b[1;32m   (...)\u001b[0m\n\u001b[0;32m   1931\u001b[0m \u001b[38;5;124;03m       Signal Processing, vol. 26(1), pp. 43--49, 1978.\u001b[39;00m\n\u001b[0;32m   1932\u001b[0m \u001b[38;5;124;03m\"\"\"\u001b[39;00m  \u001b[38;5;66;03m# noqa: E501\u001b[39;00m\n\u001b[0;32m   1933\u001b[0m be \u001b[38;5;241m=\u001b[39m instantiate_backend(be, dataset1, dataset2)\n\u001b[1;32m-> 1934\u001b[0m \u001b[38;5;28;01mreturn\u001b[39;00m \u001b[43m_cdist_generic\u001b[49m\u001b[43m(\u001b[49m\n\u001b[0;32m   1935\u001b[0m \u001b[43m    \u001b[49m\u001b[43mdist_fun\u001b[49m\u001b[38;5;241;43m=\u001b[39;49m\u001b[43mdtw\u001b[49m\u001b[43m,\u001b[49m\n\u001b[0;32m   1936\u001b[0m \u001b[43m    \u001b[49m\u001b[43mdataset1\u001b[49m\u001b[38;5;241;43m=\u001b[39;49m\u001b[43mdataset1\u001b[49m\u001b[43m,\u001b[49m\n\u001b[0;32m   1937\u001b[0m \u001b[43m    \u001b[49m\u001b[43mdataset2\u001b[49m\u001b[38;5;241;43m=\u001b[39;49m\u001b[43mdataset2\u001b[49m\u001b[43m,\u001b[49m\n\u001b[0;32m   1938\u001b[0m \u001b[43m    \u001b[49m\u001b[43mn_jobs\u001b[49m\u001b[38;5;241;43m=\u001b[39;49m\u001b[43mn_jobs\u001b[49m\u001b[43m,\u001b[49m\n\u001b[0;32m   1939\u001b[0m \u001b[43m    \u001b[49m\u001b[43mverbose\u001b[49m\u001b[38;5;241;43m=\u001b[39;49m\u001b[43mverbose\u001b[49m\u001b[43m,\u001b[49m\n\u001b[0;32m   1940\u001b[0m \u001b[43m    \u001b[49m\u001b[43mcompute_diagonal\u001b[49m\u001b[38;5;241;43m=\u001b[39;49m\u001b[38;5;28;43;01mFalse\u001b[39;49;00m\u001b[43m,\u001b[49m\n\u001b[0;32m   1941\u001b[0m \u001b[43m    \u001b[49m\u001b[43mglobal_constraint\u001b[49m\u001b[38;5;241;43m=\u001b[39;49m\u001b[43mglobal_constraint\u001b[49m\u001b[43m,\u001b[49m\n\u001b[0;32m   1942\u001b[0m \u001b[43m    \u001b[49m\u001b[43msakoe_chiba_radius\u001b[49m\u001b[38;5;241;43m=\u001b[39;49m\u001b[43msakoe_chiba_radius\u001b[49m\u001b[43m,\u001b[49m\n\u001b[0;32m   1943\u001b[0m \u001b[43m    \u001b[49m\u001b[43mitakura_max_slope\u001b[49m\u001b[38;5;241;43m=\u001b[39;49m\u001b[43mitakura_max_slope\u001b[49m\u001b[43m,\u001b[49m\n\u001b[0;32m   1944\u001b[0m \u001b[43m    \u001b[49m\u001b[43mbe\u001b[49m\u001b[38;5;241;43m=\u001b[39;49m\u001b[43mbe\u001b[49m\u001b[43m,\u001b[49m\n\u001b[0;32m   1945\u001b[0m \u001b[43m\u001b[49m\u001b[43m)\u001b[49m\n",
      "File \u001b[1;32mc:\\Users\\Roni\\anaconda3\\lib\\site-packages\\tslearn\\metrics\\utils.py:101\u001b[0m, in \u001b[0;36m_cdist_generic\u001b[1;34m(dist_fun, dataset1, dataset2, n_jobs, verbose, compute_diagonal, dtype, be, *args, **kwargs)\u001b[0m\n\u001b[0;32m     99\u001b[0m \u001b[38;5;28;01melse\u001b[39;00m:\n\u001b[0;32m    100\u001b[0m     dataset2 \u001b[38;5;241m=\u001b[39m to_time_series_dataset(dataset2, dtype\u001b[38;5;241m=\u001b[39mdtype, be\u001b[38;5;241m=\u001b[39mbe)\n\u001b[1;32m--> 101\u001b[0m     matrix \u001b[38;5;241m=\u001b[39m \u001b[43mParallel\u001b[49m\u001b[43m(\u001b[49m\u001b[43mn_jobs\u001b[49m\u001b[38;5;241;43m=\u001b[39;49m\u001b[43mn_jobs\u001b[49m\u001b[43m,\u001b[49m\u001b[43m \u001b[49m\u001b[43mprefer\u001b[49m\u001b[38;5;241;43m=\u001b[39;49m\u001b[38;5;124;43m\"\u001b[39;49m\u001b[38;5;124;43mthreads\u001b[39;49m\u001b[38;5;124;43m\"\u001b[39;49m\u001b[43m,\u001b[49m\u001b[43m \u001b[49m\u001b[43mverbose\u001b[49m\u001b[38;5;241;43m=\u001b[39;49m\u001b[43mverbose\u001b[49m\u001b[43m)\u001b[49m\u001b[43m(\u001b[49m\n\u001b[0;32m    102\u001b[0m \u001b[43m        \u001b[49m\u001b[43mdelayed\u001b[49m\u001b[43m(\u001b[49m\u001b[43mdist_fun\u001b[49m\u001b[43m)\u001b[49m\u001b[43m(\u001b[49m\u001b[43mdataset1\u001b[49m\u001b[43m[\u001b[49m\u001b[43mi\u001b[49m\u001b[43m]\u001b[49m\u001b[43m,\u001b[49m\u001b[43m \u001b[49m\u001b[43mdataset2\u001b[49m\u001b[43m[\u001b[49m\u001b[43mj\u001b[49m\u001b[43m]\u001b[49m\u001b[43m,\u001b[49m\u001b[43m \u001b[49m\u001b[38;5;241;43m*\u001b[39;49m\u001b[43margs\u001b[49m\u001b[43m,\u001b[49m\u001b[43m \u001b[49m\u001b[38;5;241;43m*\u001b[39;49m\u001b[38;5;241;43m*\u001b[39;49m\u001b[43mkwargs\u001b[49m\u001b[43m)\u001b[49m\n\u001b[0;32m    103\u001b[0m \u001b[43m        \u001b[49m\u001b[38;5;28;43;01mfor\u001b[39;49;00m\u001b[43m \u001b[49m\u001b[43mi\u001b[49m\u001b[43m \u001b[49m\u001b[38;5;129;43;01min\u001b[39;49;00m\u001b[43m \u001b[49m\u001b[38;5;28;43mrange\u001b[39;49m\u001b[43m(\u001b[49m\u001b[38;5;28;43mlen\u001b[39;49m\u001b[43m(\u001b[49m\u001b[43mdataset1\u001b[49m\u001b[43m)\u001b[49m\u001b[43m)\u001b[49m\n\u001b[0;32m    104\u001b[0m \u001b[43m        \u001b[49m\u001b[38;5;28;43;01mfor\u001b[39;49;00m\u001b[43m \u001b[49m\u001b[43mj\u001b[49m\u001b[43m \u001b[49m\u001b[38;5;129;43;01min\u001b[39;49;00m\u001b[43m \u001b[49m\u001b[38;5;28;43mrange\u001b[39;49m\u001b[43m(\u001b[49m\u001b[38;5;28;43mlen\u001b[39;49m\u001b[43m(\u001b[49m\u001b[43mdataset2\u001b[49m\u001b[43m)\u001b[49m\u001b[43m)\u001b[49m\n\u001b[0;32m    105\u001b[0m \u001b[43m    \u001b[49m\u001b[43m)\u001b[49m\n\u001b[0;32m    106\u001b[0m     \u001b[38;5;28;01mreturn\u001b[39;00m be\u001b[38;5;241m.\u001b[39mreshape(be\u001b[38;5;241m.\u001b[39marray(matrix), (\u001b[38;5;28mlen\u001b[39m(dataset1), \u001b[38;5;241m-\u001b[39m\u001b[38;5;241m1\u001b[39m))\n",
      "File \u001b[1;32mc:\\Users\\Roni\\anaconda3\\lib\\site-packages\\joblib\\parallel.py:1051\u001b[0m, in \u001b[0;36mParallel.__call__\u001b[1;34m(self, iterable)\u001b[0m\n\u001b[0;32m   1048\u001b[0m \u001b[38;5;28;01mif\u001b[39;00m \u001b[38;5;28mself\u001b[39m\u001b[38;5;241m.\u001b[39mdispatch_one_batch(iterator):\n\u001b[0;32m   1049\u001b[0m     \u001b[38;5;28mself\u001b[39m\u001b[38;5;241m.\u001b[39m_iterating \u001b[38;5;241m=\u001b[39m \u001b[38;5;28mself\u001b[39m\u001b[38;5;241m.\u001b[39m_original_iterator \u001b[38;5;129;01mis\u001b[39;00m \u001b[38;5;129;01mnot\u001b[39;00m \u001b[38;5;28;01mNone\u001b[39;00m\n\u001b[1;32m-> 1051\u001b[0m \u001b[38;5;28;01mwhile\u001b[39;00m \u001b[38;5;28;43mself\u001b[39;49m\u001b[38;5;241;43m.\u001b[39;49m\u001b[43mdispatch_one_batch\u001b[49m\u001b[43m(\u001b[49m\u001b[43miterator\u001b[49m\u001b[43m)\u001b[49m:\n\u001b[0;32m   1052\u001b[0m     \u001b[38;5;28;01mpass\u001b[39;00m\n\u001b[0;32m   1054\u001b[0m \u001b[38;5;28;01mif\u001b[39;00m pre_dispatch \u001b[38;5;241m==\u001b[39m \u001b[38;5;124m\"\u001b[39m\u001b[38;5;124mall\u001b[39m\u001b[38;5;124m\"\u001b[39m \u001b[38;5;129;01mor\u001b[39;00m n_jobs \u001b[38;5;241m==\u001b[39m \u001b[38;5;241m1\u001b[39m:\n\u001b[0;32m   1055\u001b[0m     \u001b[38;5;66;03m# The iterable was consumed all at once by the above for loop.\u001b[39;00m\n\u001b[0;32m   1056\u001b[0m     \u001b[38;5;66;03m# No need to wait for async callbacks to trigger to\u001b[39;00m\n\u001b[0;32m   1057\u001b[0m     \u001b[38;5;66;03m# consumption.\u001b[39;00m\n",
      "File \u001b[1;32mc:\\Users\\Roni\\anaconda3\\lib\\site-packages\\joblib\\parallel.py:864\u001b[0m, in \u001b[0;36mParallel.dispatch_one_batch\u001b[1;34m(self, iterator)\u001b[0m\n\u001b[0;32m    862\u001b[0m     \u001b[38;5;28;01mreturn\u001b[39;00m \u001b[38;5;28;01mFalse\u001b[39;00m\n\u001b[0;32m    863\u001b[0m \u001b[38;5;28;01melse\u001b[39;00m:\n\u001b[1;32m--> 864\u001b[0m     \u001b[38;5;28;43mself\u001b[39;49m\u001b[38;5;241;43m.\u001b[39;49m\u001b[43m_dispatch\u001b[49m\u001b[43m(\u001b[49m\u001b[43mtasks\u001b[49m\u001b[43m)\u001b[49m\n\u001b[0;32m    865\u001b[0m     \u001b[38;5;28;01mreturn\u001b[39;00m \u001b[38;5;28;01mTrue\u001b[39;00m\n",
      "File \u001b[1;32mc:\\Users\\Roni\\anaconda3\\lib\\site-packages\\joblib\\parallel.py:782\u001b[0m, in \u001b[0;36mParallel._dispatch\u001b[1;34m(self, batch)\u001b[0m\n\u001b[0;32m    780\u001b[0m \u001b[38;5;28;01mwith\u001b[39;00m \u001b[38;5;28mself\u001b[39m\u001b[38;5;241m.\u001b[39m_lock:\n\u001b[0;32m    781\u001b[0m     job_idx \u001b[38;5;241m=\u001b[39m \u001b[38;5;28mlen\u001b[39m(\u001b[38;5;28mself\u001b[39m\u001b[38;5;241m.\u001b[39m_jobs)\n\u001b[1;32m--> 782\u001b[0m     job \u001b[38;5;241m=\u001b[39m \u001b[38;5;28;43mself\u001b[39;49m\u001b[38;5;241;43m.\u001b[39;49m\u001b[43m_backend\u001b[49m\u001b[38;5;241;43m.\u001b[39;49m\u001b[43mapply_async\u001b[49m\u001b[43m(\u001b[49m\u001b[43mbatch\u001b[49m\u001b[43m,\u001b[49m\u001b[43m \u001b[49m\u001b[43mcallback\u001b[49m\u001b[38;5;241;43m=\u001b[39;49m\u001b[43mcb\u001b[49m\u001b[43m)\u001b[49m\n\u001b[0;32m    783\u001b[0m     \u001b[38;5;66;03m# A job can complete so quickly than its callback is\u001b[39;00m\n\u001b[0;32m    784\u001b[0m     \u001b[38;5;66;03m# called before we get here, causing self._jobs to\u001b[39;00m\n\u001b[0;32m    785\u001b[0m     \u001b[38;5;66;03m# grow. To ensure correct results ordering, .insert is\u001b[39;00m\n\u001b[0;32m    786\u001b[0m     \u001b[38;5;66;03m# used (rather than .append) in the following line\u001b[39;00m\n\u001b[0;32m    787\u001b[0m     \u001b[38;5;28mself\u001b[39m\u001b[38;5;241m.\u001b[39m_jobs\u001b[38;5;241m.\u001b[39minsert(job_idx, job)\n",
      "File \u001b[1;32mc:\\Users\\Roni\\anaconda3\\lib\\site-packages\\joblib\\_parallel_backends.py:208\u001b[0m, in \u001b[0;36mSequentialBackend.apply_async\u001b[1;34m(self, func, callback)\u001b[0m\n\u001b[0;32m    206\u001b[0m \u001b[38;5;28;01mdef\u001b[39;00m \u001b[38;5;21mapply_async\u001b[39m(\u001b[38;5;28mself\u001b[39m, func, callback\u001b[38;5;241m=\u001b[39m\u001b[38;5;28;01mNone\u001b[39;00m):\n\u001b[0;32m    207\u001b[0m     \u001b[38;5;124;03m\"\"\"Schedule a func to be run\"\"\"\u001b[39;00m\n\u001b[1;32m--> 208\u001b[0m     result \u001b[38;5;241m=\u001b[39m \u001b[43mImmediateResult\u001b[49m\u001b[43m(\u001b[49m\u001b[43mfunc\u001b[49m\u001b[43m)\u001b[49m\n\u001b[0;32m    209\u001b[0m     \u001b[38;5;28;01mif\u001b[39;00m callback:\n\u001b[0;32m    210\u001b[0m         callback(result)\n",
      "File \u001b[1;32mc:\\Users\\Roni\\anaconda3\\lib\\site-packages\\joblib\\_parallel_backends.py:572\u001b[0m, in \u001b[0;36mImmediateResult.__init__\u001b[1;34m(self, batch)\u001b[0m\n\u001b[0;32m    569\u001b[0m \u001b[38;5;28;01mdef\u001b[39;00m \u001b[38;5;21m__init__\u001b[39m(\u001b[38;5;28mself\u001b[39m, batch):\n\u001b[0;32m    570\u001b[0m     \u001b[38;5;66;03m# Don't delay the application, to avoid keeping the input\u001b[39;00m\n\u001b[0;32m    571\u001b[0m     \u001b[38;5;66;03m# arguments in memory\u001b[39;00m\n\u001b[1;32m--> 572\u001b[0m     \u001b[38;5;28mself\u001b[39m\u001b[38;5;241m.\u001b[39mresults \u001b[38;5;241m=\u001b[39m \u001b[43mbatch\u001b[49m\u001b[43m(\u001b[49m\u001b[43m)\u001b[49m\n",
      "File \u001b[1;32mc:\\Users\\Roni\\anaconda3\\lib\\site-packages\\joblib\\parallel.py:263\u001b[0m, in \u001b[0;36mBatchedCalls.__call__\u001b[1;34m(self)\u001b[0m\n\u001b[0;32m    259\u001b[0m \u001b[38;5;28;01mdef\u001b[39;00m \u001b[38;5;21m__call__\u001b[39m(\u001b[38;5;28mself\u001b[39m):\n\u001b[0;32m    260\u001b[0m     \u001b[38;5;66;03m# Set the default nested backend to self._backend but do not set the\u001b[39;00m\n\u001b[0;32m    261\u001b[0m     \u001b[38;5;66;03m# change the default number of processes to -1\u001b[39;00m\n\u001b[0;32m    262\u001b[0m     \u001b[38;5;28;01mwith\u001b[39;00m parallel_backend(\u001b[38;5;28mself\u001b[39m\u001b[38;5;241m.\u001b[39m_backend, n_jobs\u001b[38;5;241m=\u001b[39m\u001b[38;5;28mself\u001b[39m\u001b[38;5;241m.\u001b[39m_n_jobs):\n\u001b[1;32m--> 263\u001b[0m         \u001b[38;5;28;01mreturn\u001b[39;00m [func(\u001b[38;5;241m*\u001b[39margs, \u001b[38;5;241m*\u001b[39m\u001b[38;5;241m*\u001b[39mkwargs)\n\u001b[0;32m    264\u001b[0m                 \u001b[38;5;28;01mfor\u001b[39;00m func, args, kwargs \u001b[38;5;129;01min\u001b[39;00m \u001b[38;5;28mself\u001b[39m\u001b[38;5;241m.\u001b[39mitems]\n",
      "File \u001b[1;32mc:\\Users\\Roni\\anaconda3\\lib\\site-packages\\joblib\\parallel.py:263\u001b[0m, in \u001b[0;36m<listcomp>\u001b[1;34m(.0)\u001b[0m\n\u001b[0;32m    259\u001b[0m \u001b[38;5;28;01mdef\u001b[39;00m \u001b[38;5;21m__call__\u001b[39m(\u001b[38;5;28mself\u001b[39m):\n\u001b[0;32m    260\u001b[0m     \u001b[38;5;66;03m# Set the default nested backend to self._backend but do not set the\u001b[39;00m\n\u001b[0;32m    261\u001b[0m     \u001b[38;5;66;03m# change the default number of processes to -1\u001b[39;00m\n\u001b[0;32m    262\u001b[0m     \u001b[38;5;28;01mwith\u001b[39;00m parallel_backend(\u001b[38;5;28mself\u001b[39m\u001b[38;5;241m.\u001b[39m_backend, n_jobs\u001b[38;5;241m=\u001b[39m\u001b[38;5;28mself\u001b[39m\u001b[38;5;241m.\u001b[39m_n_jobs):\n\u001b[1;32m--> 263\u001b[0m         \u001b[38;5;28;01mreturn\u001b[39;00m [func(\u001b[38;5;241m*\u001b[39margs, \u001b[38;5;241m*\u001b[39m\u001b[38;5;241m*\u001b[39mkwargs)\n\u001b[0;32m    264\u001b[0m                 \u001b[38;5;28;01mfor\u001b[39;00m func, args, kwargs \u001b[38;5;129;01min\u001b[39;00m \u001b[38;5;28mself\u001b[39m\u001b[38;5;241m.\u001b[39mitems]\n",
      "File \u001b[1;32mc:\\Users\\Roni\\anaconda3\\lib\\site-packages\\tslearn\\metrics\\dtw_variants.py:779\u001b[0m, in \u001b[0;36mdtw\u001b[1;34m(s1, s2, global_constraint, sakoe_chiba_radius, itakura_max_slope, be)\u001b[0m\n\u001b[0;32m    776\u001b[0m s2 \u001b[38;5;241m=\u001b[39m to_time_series(s2, remove_nans\u001b[38;5;241m=\u001b[39m\u001b[38;5;28;01mTrue\u001b[39;00m, be\u001b[38;5;241m=\u001b[39mbe)\n\u001b[0;32m    778\u001b[0m \u001b[38;5;28;01mif\u001b[39;00m \u001b[38;5;28mlen\u001b[39m(s1) \u001b[38;5;241m==\u001b[39m \u001b[38;5;241m0\u001b[39m \u001b[38;5;129;01mor\u001b[39;00m \u001b[38;5;28mlen\u001b[39m(s2) \u001b[38;5;241m==\u001b[39m \u001b[38;5;241m0\u001b[39m:\n\u001b[1;32m--> 779\u001b[0m     \u001b[38;5;28;01mraise\u001b[39;00m \u001b[38;5;167;01mValueError\u001b[39;00m(\n\u001b[0;32m    780\u001b[0m         \u001b[38;5;124m\"\u001b[39m\u001b[38;5;124mOne of the input time series contains only nans or has zero length.\u001b[39m\u001b[38;5;124m\"\u001b[39m\n\u001b[0;32m    781\u001b[0m     )\n\u001b[0;32m    783\u001b[0m \u001b[38;5;28;01mif\u001b[39;00m be\u001b[38;5;241m.\u001b[39mshape(s1)[\u001b[38;5;241m1\u001b[39m] \u001b[38;5;241m!=\u001b[39m be\u001b[38;5;241m.\u001b[39mshape(s2)[\u001b[38;5;241m1\u001b[39m]:\n\u001b[0;32m    784\u001b[0m     \u001b[38;5;28;01mraise\u001b[39;00m \u001b[38;5;167;01mValueError\u001b[39;00m(\u001b[38;5;124m\"\u001b[39m\u001b[38;5;124mAll input time series must have the same feature size.\u001b[39m\u001b[38;5;124m\"\u001b[39m)\n",
      "\u001b[1;31mValueError\u001b[0m: One of the input time series contains only nans or has zero length."
     ]
    }
   ],
   "source": [
    "N = 15\n",
    "dt = 1/16000\n",
    "window = (73*7)//2\n",
    "# prop = 'pitch_y_frame'\n",
    "prop = 'CM_xy_dot_dot'\n",
    "# prop = 'mean_mean_phi'\n",
    "wing_body = 'mean_wing'\n",
    "wing_body = 'body'\n",
    "# prop = 'pitch_y_frame_dot'\n",
    "prop = 'CM_dot_projected'\n",
    "prop = 'q'\n",
    "\n",
    "# prop = 'q'\n",
    "# prop = 'pitch_y_frame_dot_dot'\n",
    "\n",
    "conv = False\n",
    "\n",
    "plt.figure()\n",
    "\n",
    "\n",
    "\n",
    "for exp,color in zip(experiments[:],['blue','red','green','pink','orange','yellow','black']):\n",
    "    t_list = np.arange(-40,400,dt*1000)\n",
    "    cmlist = np.full((len(exp.mov_names),len(t_list)),np.nan)\n",
    "    for idx_mov,mov_name in enumerate(exp.mov_names):\n",
    "        mov = exp.get_mov(mov_name)\n",
    "        time = mov.get_prop('time',wing_body)[window:,0]\n",
    "        start_end_time = np.where(np.isin(time , t_list))[0]\n",
    "\n",
    "        cm_dot = mov.get_prop(prop,wing_body)[window:,0]\n",
    "        cm_dot = cm_dot - np.mean(cm_dot[window:mov.ref_frame + 1])\n",
    "        time_inter,tlist_idx,time_idx = np.intersect1d(t_list,time,return_indices = True )\n",
    "        cmlist[idx_mov,tlist_idx] = cm_dot[time_idx]\n",
    "\n",
    "\n",
    "    \n",
    "        \n",
    "    plt.plot(t_list,np.nanmean(cmlist,axis = 0),color = color,linestyle='None',\n",
    "             label = exp.experiment_name,linewidth = 2,marker = 'o',markersize = 3)\n",
    "#     plt.hlines(0,t_list[0],t_list[-1],color = 'black')\n",
    "# plt.legend()\n",
    "from tslearn.clustering import TimeSeriesKMeans\n",
    "\n",
    "model = TimeSeriesKMeans(n_clusters=3, metric=\"dtw\",\n",
    "                         max_iter=10)\n",
    "model.fit(cmlist)\n"
   ]
  },
  {
   "cell_type": "markdown",
   "metadata": {},
   "source": [
    "plot velocity, pitch and p per movie"
   ]
  },
  {
   "cell_type": "code",
   "execution_count": 230,
   "metadata": {},
   "outputs": [
    {
     "ename": "KeyboardInterrupt",
     "evalue": "",
     "output_type": "error",
     "traceback": [
      "\u001b[1;31m---------------------------------------------------------------------------\u001b[0m",
      "\u001b[1;31mKeyboardInterrupt\u001b[0m                         Traceback (most recent call last)",
      "Cell \u001b[1;32mIn[230], line 15\u001b[0m\n\u001b[0;32m     11\u001b[0m     wakka \u001b[38;5;241m=\u001b[39m np\u001b[38;5;241m.\u001b[39mvstack(wak)\n\u001b[0;32m     13\u001b[0m model \u001b[38;5;241m=\u001b[39m TimeSeriesKMeans(n_clusters\u001b[38;5;241m=\u001b[39m\u001b[38;5;28mlen\u001b[39m(experiments[\u001b[38;5;241m0\u001b[39m:\u001b[38;5;241m3\u001b[39m]), metric\u001b[38;5;241m=\u001b[39m\u001b[38;5;124m\"\u001b[39m\u001b[38;5;124mdtw\u001b[39m\u001b[38;5;124m\"\u001b[39m,\n\u001b[0;32m     14\u001b[0m                          max_iter\u001b[38;5;241m=\u001b[39m\u001b[38;5;241m10\u001b[39m)\n\u001b[1;32m---> 15\u001b[0m y \u001b[38;5;241m=\u001b[39m \u001b[43mmodel\u001b[49m\u001b[38;5;241;43m.\u001b[39;49m\u001b[43mfit\u001b[49m\u001b[43m(\u001b[49m\u001b[43mwakka\u001b[49m\u001b[43m)\u001b[49m\n",
      "File \u001b[1;32mc:\\Users\\Roni\\anaconda3\\lib\\site-packages\\tslearn\\clustering\\kmeans.py:821\u001b[0m, in \u001b[0;36mTimeSeriesKMeans.fit\u001b[1;34m(self, X, y)\u001b[0m\n\u001b[0;32m    819\u001b[0m     \u001b[38;5;28mprint\u001b[39m(\u001b[38;5;124m\"\u001b[39m\u001b[38;5;124mInit \u001b[39m\u001b[38;5;132;01m%d\u001b[39;00m\u001b[38;5;124m\"\u001b[39m \u001b[38;5;241m%\u001b[39m (n_successful \u001b[38;5;241m+\u001b[39m \u001b[38;5;241m1\u001b[39m))\n\u001b[0;32m    820\u001b[0m n_attempts \u001b[38;5;241m+\u001b[39m\u001b[38;5;241m=\u001b[39m \u001b[38;5;241m1\u001b[39m\n\u001b[1;32m--> 821\u001b[0m \u001b[38;5;28;43mself\u001b[39;49m\u001b[38;5;241;43m.\u001b[39;49m\u001b[43m_fit_one_init\u001b[49m\u001b[43m(\u001b[49m\u001b[43mX_\u001b[49m\u001b[43m,\u001b[49m\u001b[43m \u001b[49m\u001b[43mx_squared_norms\u001b[49m\u001b[43m,\u001b[49m\u001b[43m \u001b[49m\u001b[43mrs\u001b[49m\u001b[43m)\u001b[49m\n\u001b[0;32m    822\u001b[0m \u001b[38;5;28;01mif\u001b[39;00m \u001b[38;5;28mself\u001b[39m\u001b[38;5;241m.\u001b[39minertia_ \u001b[38;5;241m<\u001b[39m min_inertia:\n\u001b[0;32m    823\u001b[0m     best_correct_centroids \u001b[38;5;241m=\u001b[39m \u001b[38;5;28mself\u001b[39m\u001b[38;5;241m.\u001b[39mcluster_centers_\u001b[38;5;241m.\u001b[39mcopy()\n",
      "File \u001b[1;32mc:\\Users\\Roni\\anaconda3\\lib\\site-packages\\tslearn\\clustering\\kmeans.py:675\u001b[0m, in \u001b[0;36mTimeSeriesKMeans._fit_one_init\u001b[1;34m(self, X, x_squared_norms, rs)\u001b[0m\n\u001b[0;32m    670\u001b[0m         \u001b[38;5;28;01melse\u001b[39;00m:\n\u001b[0;32m    671\u001b[0m             \u001b[38;5;28;01mraise\u001b[39;00m \u001b[38;5;167;01mValueError\u001b[39;00m(\n\u001b[0;32m    672\u001b[0m                 \u001b[38;5;124m\"\u001b[39m\u001b[38;5;124mIncorrect metric: \u001b[39m\u001b[38;5;132;01m%s\u001b[39;00m\u001b[38;5;124m (should be one of \u001b[39m\u001b[38;5;124m'\u001b[39m\u001b[38;5;124mdtw\u001b[39m\u001b[38;5;124m'\u001b[39m\u001b[38;5;124m, \u001b[39m\u001b[38;5;124m\"\u001b[39m\n\u001b[0;32m    673\u001b[0m                 \u001b[38;5;124m\"\u001b[39m\u001b[38;5;124m'\u001b[39m\u001b[38;5;124msoftdtw\u001b[39m\u001b[38;5;124m'\u001b[39m\u001b[38;5;124m, \u001b[39m\u001b[38;5;124m'\u001b[39m\u001b[38;5;124meuclidean\u001b[39m\u001b[38;5;124m'\u001b[39m\u001b[38;5;124m)\u001b[39m\u001b[38;5;124m\"\u001b[39m \u001b[38;5;241m%\u001b[39m \u001b[38;5;28mself\u001b[39m\u001b[38;5;241m.\u001b[39mmetric\n\u001b[0;32m    674\u001b[0m             )\n\u001b[1;32m--> 675\u001b[0m         \u001b[38;5;28mself\u001b[39m\u001b[38;5;241m.\u001b[39mcluster_centers_ \u001b[38;5;241m=\u001b[39m \u001b[43m_k_init_metric\u001b[49m\u001b[43m(\u001b[49m\n\u001b[0;32m    676\u001b[0m \u001b[43m            \u001b[49m\u001b[43mX\u001b[49m\u001b[43m,\u001b[49m\u001b[43m \u001b[49m\u001b[38;5;28;43mself\u001b[39;49m\u001b[38;5;241;43m.\u001b[39;49m\u001b[43mn_clusters\u001b[49m\u001b[43m,\u001b[49m\u001b[43m \u001b[49m\u001b[43mcdist_metric\u001b[49m\u001b[38;5;241;43m=\u001b[39;49m\u001b[43mmetric_fun\u001b[49m\u001b[43m,\u001b[49m\u001b[43m \u001b[49m\u001b[43mrandom_state\u001b[49m\u001b[38;5;241;43m=\u001b[39;49m\u001b[43mrs\u001b[49m\n\u001b[0;32m    677\u001b[0m \u001b[43m        \u001b[49m\u001b[43m)\u001b[49m\n\u001b[0;32m    678\u001b[0m \u001b[38;5;28;01melif\u001b[39;00m \u001b[38;5;28mself\u001b[39m\u001b[38;5;241m.\u001b[39minit \u001b[38;5;241m==\u001b[39m \u001b[38;5;124m\"\u001b[39m\u001b[38;5;124mrandom\u001b[39m\u001b[38;5;124m\"\u001b[39m:\n\u001b[0;32m    679\u001b[0m     indices \u001b[38;5;241m=\u001b[39m rs\u001b[38;5;241m.\u001b[39mchoice(X\u001b[38;5;241m.\u001b[39mshape[\u001b[38;5;241m0\u001b[39m], \u001b[38;5;28mself\u001b[39m\u001b[38;5;241m.\u001b[39mn_clusters)\n",
      "File \u001b[1;32mc:\\Users\\Roni\\anaconda3\\lib\\site-packages\\tslearn\\clustering\\kmeans.py:125\u001b[0m, in \u001b[0;36m_k_init_metric\u001b[1;34m(X, n_clusters, cdist_metric, random_state, n_local_trials)\u001b[0m\n\u001b[0;32m    122\u001b[0m numpy\u001b[38;5;241m.\u001b[39mclip(candidate_ids, \u001b[38;5;28;01mNone\u001b[39;00m, closest_dist_sq\u001b[38;5;241m.\u001b[39msize \u001b[38;5;241m-\u001b[39m \u001b[38;5;241m1\u001b[39m, out\u001b[38;5;241m=\u001b[39mcandidate_ids)\n\u001b[0;32m    124\u001b[0m \u001b[38;5;66;03m# Compute distances to center candidates\u001b[39;00m\n\u001b[1;32m--> 125\u001b[0m distance_to_candidates \u001b[38;5;241m=\u001b[39m \u001b[43mcdist_metric\u001b[49m\u001b[43m(\u001b[49m\u001b[43mX\u001b[49m\u001b[43m[\u001b[49m\u001b[43mcandidate_ids\u001b[49m\u001b[43m]\u001b[49m\u001b[43m,\u001b[49m\u001b[43m \u001b[49m\u001b[43mX\u001b[49m\u001b[43m)\u001b[49m \u001b[38;5;241m*\u001b[39m\u001b[38;5;241m*\u001b[39m \u001b[38;5;241m2\u001b[39m\n\u001b[0;32m    127\u001b[0m \u001b[38;5;66;03m# update closest distances squared and potential for each candidate\u001b[39;00m\n\u001b[0;32m    128\u001b[0m numpy\u001b[38;5;241m.\u001b[39mminimum(\n\u001b[0;32m    129\u001b[0m     closest_dist_sq, distance_to_candidates, out\u001b[38;5;241m=\u001b[39mdistance_to_candidates\n\u001b[0;32m    130\u001b[0m )\n",
      "File \u001b[1;32mc:\\Users\\Roni\\anaconda3\\lib\\site-packages\\tslearn\\clustering\\kmeans.py:657\u001b[0m, in \u001b[0;36mTimeSeriesKMeans._fit_one_init.<locals>.metric_fun\u001b[1;34m(x, y)\u001b[0m\n\u001b[0;32m    656\u001b[0m \u001b[38;5;28;01mdef\u001b[39;00m \u001b[38;5;21mmetric_fun\u001b[39m(x, y):\n\u001b[1;32m--> 657\u001b[0m     \u001b[38;5;28;01mreturn\u001b[39;00m cdist_dtw(\n\u001b[0;32m    658\u001b[0m         x,\n\u001b[0;32m    659\u001b[0m         y,\n\u001b[0;32m    660\u001b[0m         n_jobs\u001b[38;5;241m=\u001b[39m\u001b[38;5;28mself\u001b[39m\u001b[38;5;241m.\u001b[39mn_jobs,\n\u001b[0;32m    661\u001b[0m         verbose\u001b[38;5;241m=\u001b[39m\u001b[38;5;28mself\u001b[39m\u001b[38;5;241m.\u001b[39mverbose,\n\u001b[0;32m    662\u001b[0m         \u001b[38;5;241m*\u001b[39m\u001b[38;5;241m*\u001b[39mmetric_params\n\u001b[0;32m    663\u001b[0m     )\n",
      "File \u001b[1;32mc:\\Users\\Roni\\anaconda3\\lib\\site-packages\\tslearn\\metrics\\dtw_variants.py:1934\u001b[0m, in \u001b[0;36mcdist_dtw\u001b[1;34m(dataset1, dataset2, global_constraint, sakoe_chiba_radius, itakura_max_slope, n_jobs, verbose, be)\u001b[0m\n\u001b[0;32m   1833\u001b[0m \u001b[38;5;124mr\u001b[39m\u001b[38;5;124;03m\"\"\"Compute cross-similarity matrix using Dynamic Time Warping (DTW)\u001b[39;00m\n\u001b[0;32m   1834\u001b[0m \u001b[38;5;124;03msimilarity measure.\u001b[39;00m\n\u001b[0;32m   1835\u001b[0m \n\u001b[1;32m   (...)\u001b[0m\n\u001b[0;32m   1931\u001b[0m \u001b[38;5;124;03m       Signal Processing, vol. 26(1), pp. 43--49, 1978.\u001b[39;00m\n\u001b[0;32m   1932\u001b[0m \u001b[38;5;124;03m\"\"\"\u001b[39;00m  \u001b[38;5;66;03m# noqa: E501\u001b[39;00m\n\u001b[0;32m   1933\u001b[0m be \u001b[38;5;241m=\u001b[39m instantiate_backend(be, dataset1, dataset2)\n\u001b[1;32m-> 1934\u001b[0m \u001b[38;5;28;01mreturn\u001b[39;00m \u001b[43m_cdist_generic\u001b[49m\u001b[43m(\u001b[49m\n\u001b[0;32m   1935\u001b[0m \u001b[43m    \u001b[49m\u001b[43mdist_fun\u001b[49m\u001b[38;5;241;43m=\u001b[39;49m\u001b[43mdtw\u001b[49m\u001b[43m,\u001b[49m\n\u001b[0;32m   1936\u001b[0m \u001b[43m    \u001b[49m\u001b[43mdataset1\u001b[49m\u001b[38;5;241;43m=\u001b[39;49m\u001b[43mdataset1\u001b[49m\u001b[43m,\u001b[49m\n\u001b[0;32m   1937\u001b[0m \u001b[43m    \u001b[49m\u001b[43mdataset2\u001b[49m\u001b[38;5;241;43m=\u001b[39;49m\u001b[43mdataset2\u001b[49m\u001b[43m,\u001b[49m\n\u001b[0;32m   1938\u001b[0m \u001b[43m    \u001b[49m\u001b[43mn_jobs\u001b[49m\u001b[38;5;241;43m=\u001b[39;49m\u001b[43mn_jobs\u001b[49m\u001b[43m,\u001b[49m\n\u001b[0;32m   1939\u001b[0m \u001b[43m    \u001b[49m\u001b[43mverbose\u001b[49m\u001b[38;5;241;43m=\u001b[39;49m\u001b[43mverbose\u001b[49m\u001b[43m,\u001b[49m\n\u001b[0;32m   1940\u001b[0m \u001b[43m    \u001b[49m\u001b[43mcompute_diagonal\u001b[49m\u001b[38;5;241;43m=\u001b[39;49m\u001b[38;5;28;43;01mFalse\u001b[39;49;00m\u001b[43m,\u001b[49m\n\u001b[0;32m   1941\u001b[0m \u001b[43m    \u001b[49m\u001b[43mglobal_constraint\u001b[49m\u001b[38;5;241;43m=\u001b[39;49m\u001b[43mglobal_constraint\u001b[49m\u001b[43m,\u001b[49m\n\u001b[0;32m   1942\u001b[0m \u001b[43m    \u001b[49m\u001b[43msakoe_chiba_radius\u001b[49m\u001b[38;5;241;43m=\u001b[39;49m\u001b[43msakoe_chiba_radius\u001b[49m\u001b[43m,\u001b[49m\n\u001b[0;32m   1943\u001b[0m \u001b[43m    \u001b[49m\u001b[43mitakura_max_slope\u001b[49m\u001b[38;5;241;43m=\u001b[39;49m\u001b[43mitakura_max_slope\u001b[49m\u001b[43m,\u001b[49m\n\u001b[0;32m   1944\u001b[0m \u001b[43m    \u001b[49m\u001b[43mbe\u001b[49m\u001b[38;5;241;43m=\u001b[39;49m\u001b[43mbe\u001b[49m\u001b[43m,\u001b[49m\n\u001b[0;32m   1945\u001b[0m \u001b[43m\u001b[49m\u001b[43m)\u001b[49m\n",
      "File \u001b[1;32mc:\\Users\\Roni\\anaconda3\\lib\\site-packages\\tslearn\\metrics\\utils.py:101\u001b[0m, in \u001b[0;36m_cdist_generic\u001b[1;34m(dist_fun, dataset1, dataset2, n_jobs, verbose, compute_diagonal, dtype, be, *args, **kwargs)\u001b[0m\n\u001b[0;32m     99\u001b[0m \u001b[38;5;28;01melse\u001b[39;00m:\n\u001b[0;32m    100\u001b[0m     dataset2 \u001b[38;5;241m=\u001b[39m to_time_series_dataset(dataset2, dtype\u001b[38;5;241m=\u001b[39mdtype, be\u001b[38;5;241m=\u001b[39mbe)\n\u001b[1;32m--> 101\u001b[0m     matrix \u001b[38;5;241m=\u001b[39m \u001b[43mParallel\u001b[49m\u001b[43m(\u001b[49m\u001b[43mn_jobs\u001b[49m\u001b[38;5;241;43m=\u001b[39;49m\u001b[43mn_jobs\u001b[49m\u001b[43m,\u001b[49m\u001b[43m \u001b[49m\u001b[43mprefer\u001b[49m\u001b[38;5;241;43m=\u001b[39;49m\u001b[38;5;124;43m\"\u001b[39;49m\u001b[38;5;124;43mthreads\u001b[39;49m\u001b[38;5;124;43m\"\u001b[39;49m\u001b[43m,\u001b[49m\u001b[43m \u001b[49m\u001b[43mverbose\u001b[49m\u001b[38;5;241;43m=\u001b[39;49m\u001b[43mverbose\u001b[49m\u001b[43m)\u001b[49m\u001b[43m(\u001b[49m\n\u001b[0;32m    102\u001b[0m \u001b[43m        \u001b[49m\u001b[43mdelayed\u001b[49m\u001b[43m(\u001b[49m\u001b[43mdist_fun\u001b[49m\u001b[43m)\u001b[49m\u001b[43m(\u001b[49m\u001b[43mdataset1\u001b[49m\u001b[43m[\u001b[49m\u001b[43mi\u001b[49m\u001b[43m]\u001b[49m\u001b[43m,\u001b[49m\u001b[43m \u001b[49m\u001b[43mdataset2\u001b[49m\u001b[43m[\u001b[49m\u001b[43mj\u001b[49m\u001b[43m]\u001b[49m\u001b[43m,\u001b[49m\u001b[43m \u001b[49m\u001b[38;5;241;43m*\u001b[39;49m\u001b[43margs\u001b[49m\u001b[43m,\u001b[49m\u001b[43m \u001b[49m\u001b[38;5;241;43m*\u001b[39;49m\u001b[38;5;241;43m*\u001b[39;49m\u001b[43mkwargs\u001b[49m\u001b[43m)\u001b[49m\n\u001b[0;32m    103\u001b[0m \u001b[43m        \u001b[49m\u001b[38;5;28;43;01mfor\u001b[39;49;00m\u001b[43m \u001b[49m\u001b[43mi\u001b[49m\u001b[43m \u001b[49m\u001b[38;5;129;43;01min\u001b[39;49;00m\u001b[43m \u001b[49m\u001b[38;5;28;43mrange\u001b[39;49m\u001b[43m(\u001b[49m\u001b[38;5;28;43mlen\u001b[39;49m\u001b[43m(\u001b[49m\u001b[43mdataset1\u001b[49m\u001b[43m)\u001b[49m\u001b[43m)\u001b[49m\n\u001b[0;32m    104\u001b[0m \u001b[43m        \u001b[49m\u001b[38;5;28;43;01mfor\u001b[39;49;00m\u001b[43m \u001b[49m\u001b[43mj\u001b[49m\u001b[43m \u001b[49m\u001b[38;5;129;43;01min\u001b[39;49;00m\u001b[43m \u001b[49m\u001b[38;5;28;43mrange\u001b[39;49m\u001b[43m(\u001b[49m\u001b[38;5;28;43mlen\u001b[39;49m\u001b[43m(\u001b[49m\u001b[43mdataset2\u001b[49m\u001b[43m)\u001b[49m\u001b[43m)\u001b[49m\n\u001b[0;32m    105\u001b[0m \u001b[43m    \u001b[49m\u001b[43m)\u001b[49m\n\u001b[0;32m    106\u001b[0m     \u001b[38;5;28;01mreturn\u001b[39;00m be\u001b[38;5;241m.\u001b[39mreshape(be\u001b[38;5;241m.\u001b[39marray(matrix), (\u001b[38;5;28mlen\u001b[39m(dataset1), \u001b[38;5;241m-\u001b[39m\u001b[38;5;241m1\u001b[39m))\n",
      "File \u001b[1;32mc:\\Users\\Roni\\anaconda3\\lib\\site-packages\\joblib\\parallel.py:1051\u001b[0m, in \u001b[0;36mParallel.__call__\u001b[1;34m(self, iterable)\u001b[0m\n\u001b[0;32m   1048\u001b[0m \u001b[38;5;28;01mif\u001b[39;00m \u001b[38;5;28mself\u001b[39m\u001b[38;5;241m.\u001b[39mdispatch_one_batch(iterator):\n\u001b[0;32m   1049\u001b[0m     \u001b[38;5;28mself\u001b[39m\u001b[38;5;241m.\u001b[39m_iterating \u001b[38;5;241m=\u001b[39m \u001b[38;5;28mself\u001b[39m\u001b[38;5;241m.\u001b[39m_original_iterator \u001b[38;5;129;01mis\u001b[39;00m \u001b[38;5;129;01mnot\u001b[39;00m \u001b[38;5;28;01mNone\u001b[39;00m\n\u001b[1;32m-> 1051\u001b[0m \u001b[38;5;28;01mwhile\u001b[39;00m \u001b[38;5;28;43mself\u001b[39;49m\u001b[38;5;241;43m.\u001b[39;49m\u001b[43mdispatch_one_batch\u001b[49m\u001b[43m(\u001b[49m\u001b[43miterator\u001b[49m\u001b[43m)\u001b[49m:\n\u001b[0;32m   1052\u001b[0m     \u001b[38;5;28;01mpass\u001b[39;00m\n\u001b[0;32m   1054\u001b[0m \u001b[38;5;28;01mif\u001b[39;00m pre_dispatch \u001b[38;5;241m==\u001b[39m \u001b[38;5;124m\"\u001b[39m\u001b[38;5;124mall\u001b[39m\u001b[38;5;124m\"\u001b[39m \u001b[38;5;129;01mor\u001b[39;00m n_jobs \u001b[38;5;241m==\u001b[39m \u001b[38;5;241m1\u001b[39m:\n\u001b[0;32m   1055\u001b[0m     \u001b[38;5;66;03m# The iterable was consumed all at once by the above for loop.\u001b[39;00m\n\u001b[0;32m   1056\u001b[0m     \u001b[38;5;66;03m# No need to wait for async callbacks to trigger to\u001b[39;00m\n\u001b[0;32m   1057\u001b[0m     \u001b[38;5;66;03m# consumption.\u001b[39;00m\n",
      "File \u001b[1;32mc:\\Users\\Roni\\anaconda3\\lib\\site-packages\\joblib\\parallel.py:864\u001b[0m, in \u001b[0;36mParallel.dispatch_one_batch\u001b[1;34m(self, iterator)\u001b[0m\n\u001b[0;32m    862\u001b[0m     \u001b[38;5;28;01mreturn\u001b[39;00m \u001b[38;5;28;01mFalse\u001b[39;00m\n\u001b[0;32m    863\u001b[0m \u001b[38;5;28;01melse\u001b[39;00m:\n\u001b[1;32m--> 864\u001b[0m     \u001b[38;5;28;43mself\u001b[39;49m\u001b[38;5;241;43m.\u001b[39;49m\u001b[43m_dispatch\u001b[49m\u001b[43m(\u001b[49m\u001b[43mtasks\u001b[49m\u001b[43m)\u001b[49m\n\u001b[0;32m    865\u001b[0m     \u001b[38;5;28;01mreturn\u001b[39;00m \u001b[38;5;28;01mTrue\u001b[39;00m\n",
      "File \u001b[1;32mc:\\Users\\Roni\\anaconda3\\lib\\site-packages\\joblib\\parallel.py:782\u001b[0m, in \u001b[0;36mParallel._dispatch\u001b[1;34m(self, batch)\u001b[0m\n\u001b[0;32m    780\u001b[0m \u001b[38;5;28;01mwith\u001b[39;00m \u001b[38;5;28mself\u001b[39m\u001b[38;5;241m.\u001b[39m_lock:\n\u001b[0;32m    781\u001b[0m     job_idx \u001b[38;5;241m=\u001b[39m \u001b[38;5;28mlen\u001b[39m(\u001b[38;5;28mself\u001b[39m\u001b[38;5;241m.\u001b[39m_jobs)\n\u001b[1;32m--> 782\u001b[0m     job \u001b[38;5;241m=\u001b[39m \u001b[38;5;28;43mself\u001b[39;49m\u001b[38;5;241;43m.\u001b[39;49m\u001b[43m_backend\u001b[49m\u001b[38;5;241;43m.\u001b[39;49m\u001b[43mapply_async\u001b[49m\u001b[43m(\u001b[49m\u001b[43mbatch\u001b[49m\u001b[43m,\u001b[49m\u001b[43m \u001b[49m\u001b[43mcallback\u001b[49m\u001b[38;5;241;43m=\u001b[39;49m\u001b[43mcb\u001b[49m\u001b[43m)\u001b[49m\n\u001b[0;32m    783\u001b[0m     \u001b[38;5;66;03m# A job can complete so quickly than its callback is\u001b[39;00m\n\u001b[0;32m    784\u001b[0m     \u001b[38;5;66;03m# called before we get here, causing self._jobs to\u001b[39;00m\n\u001b[0;32m    785\u001b[0m     \u001b[38;5;66;03m# grow. To ensure correct results ordering, .insert is\u001b[39;00m\n\u001b[0;32m    786\u001b[0m     \u001b[38;5;66;03m# used (rather than .append) in the following line\u001b[39;00m\n\u001b[0;32m    787\u001b[0m     \u001b[38;5;28mself\u001b[39m\u001b[38;5;241m.\u001b[39m_jobs\u001b[38;5;241m.\u001b[39minsert(job_idx, job)\n",
      "File \u001b[1;32mc:\\Users\\Roni\\anaconda3\\lib\\site-packages\\joblib\\_parallel_backends.py:208\u001b[0m, in \u001b[0;36mSequentialBackend.apply_async\u001b[1;34m(self, func, callback)\u001b[0m\n\u001b[0;32m    206\u001b[0m \u001b[38;5;28;01mdef\u001b[39;00m \u001b[38;5;21mapply_async\u001b[39m(\u001b[38;5;28mself\u001b[39m, func, callback\u001b[38;5;241m=\u001b[39m\u001b[38;5;28;01mNone\u001b[39;00m):\n\u001b[0;32m    207\u001b[0m     \u001b[38;5;124;03m\"\"\"Schedule a func to be run\"\"\"\u001b[39;00m\n\u001b[1;32m--> 208\u001b[0m     result \u001b[38;5;241m=\u001b[39m \u001b[43mImmediateResult\u001b[49m\u001b[43m(\u001b[49m\u001b[43mfunc\u001b[49m\u001b[43m)\u001b[49m\n\u001b[0;32m    209\u001b[0m     \u001b[38;5;28;01mif\u001b[39;00m callback:\n\u001b[0;32m    210\u001b[0m         callback(result)\n",
      "File \u001b[1;32mc:\\Users\\Roni\\anaconda3\\lib\\site-packages\\joblib\\_parallel_backends.py:572\u001b[0m, in \u001b[0;36mImmediateResult.__init__\u001b[1;34m(self, batch)\u001b[0m\n\u001b[0;32m    569\u001b[0m \u001b[38;5;28;01mdef\u001b[39;00m \u001b[38;5;21m__init__\u001b[39m(\u001b[38;5;28mself\u001b[39m, batch):\n\u001b[0;32m    570\u001b[0m     \u001b[38;5;66;03m# Don't delay the application, to avoid keeping the input\u001b[39;00m\n\u001b[0;32m    571\u001b[0m     \u001b[38;5;66;03m# arguments in memory\u001b[39;00m\n\u001b[1;32m--> 572\u001b[0m     \u001b[38;5;28mself\u001b[39m\u001b[38;5;241m.\u001b[39mresults \u001b[38;5;241m=\u001b[39m \u001b[43mbatch\u001b[49m\u001b[43m(\u001b[49m\u001b[43m)\u001b[49m\n",
      "File \u001b[1;32mc:\\Users\\Roni\\anaconda3\\lib\\site-packages\\joblib\\parallel.py:263\u001b[0m, in \u001b[0;36mBatchedCalls.__call__\u001b[1;34m(self)\u001b[0m\n\u001b[0;32m    259\u001b[0m \u001b[38;5;28;01mdef\u001b[39;00m \u001b[38;5;21m__call__\u001b[39m(\u001b[38;5;28mself\u001b[39m):\n\u001b[0;32m    260\u001b[0m     \u001b[38;5;66;03m# Set the default nested backend to self._backend but do not set the\u001b[39;00m\n\u001b[0;32m    261\u001b[0m     \u001b[38;5;66;03m# change the default number of processes to -1\u001b[39;00m\n\u001b[0;32m    262\u001b[0m     \u001b[38;5;28;01mwith\u001b[39;00m parallel_backend(\u001b[38;5;28mself\u001b[39m\u001b[38;5;241m.\u001b[39m_backend, n_jobs\u001b[38;5;241m=\u001b[39m\u001b[38;5;28mself\u001b[39m\u001b[38;5;241m.\u001b[39m_n_jobs):\n\u001b[1;32m--> 263\u001b[0m         \u001b[38;5;28;01mreturn\u001b[39;00m [func(\u001b[38;5;241m*\u001b[39margs, \u001b[38;5;241m*\u001b[39m\u001b[38;5;241m*\u001b[39mkwargs)\n\u001b[0;32m    264\u001b[0m                 \u001b[38;5;28;01mfor\u001b[39;00m func, args, kwargs \u001b[38;5;129;01min\u001b[39;00m \u001b[38;5;28mself\u001b[39m\u001b[38;5;241m.\u001b[39mitems]\n",
      "File \u001b[1;32mc:\\Users\\Roni\\anaconda3\\lib\\site-packages\\joblib\\parallel.py:263\u001b[0m, in \u001b[0;36m<listcomp>\u001b[1;34m(.0)\u001b[0m\n\u001b[0;32m    259\u001b[0m \u001b[38;5;28;01mdef\u001b[39;00m \u001b[38;5;21m__call__\u001b[39m(\u001b[38;5;28mself\u001b[39m):\n\u001b[0;32m    260\u001b[0m     \u001b[38;5;66;03m# Set the default nested backend to self._backend but do not set the\u001b[39;00m\n\u001b[0;32m    261\u001b[0m     \u001b[38;5;66;03m# change the default number of processes to -1\u001b[39;00m\n\u001b[0;32m    262\u001b[0m     \u001b[38;5;28;01mwith\u001b[39;00m parallel_backend(\u001b[38;5;28mself\u001b[39m\u001b[38;5;241m.\u001b[39m_backend, n_jobs\u001b[38;5;241m=\u001b[39m\u001b[38;5;28mself\u001b[39m\u001b[38;5;241m.\u001b[39m_n_jobs):\n\u001b[1;32m--> 263\u001b[0m         \u001b[38;5;28;01mreturn\u001b[39;00m [func(\u001b[38;5;241m*\u001b[39margs, \u001b[38;5;241m*\u001b[39m\u001b[38;5;241m*\u001b[39mkwargs)\n\u001b[0;32m    264\u001b[0m                 \u001b[38;5;28;01mfor\u001b[39;00m func, args, kwargs \u001b[38;5;129;01min\u001b[39;00m \u001b[38;5;28mself\u001b[39m\u001b[38;5;241m.\u001b[39mitems]\n",
      "File \u001b[1;32mc:\\Users\\Roni\\anaconda3\\lib\\site-packages\\tslearn\\metrics\\dtw_variants.py:786\u001b[0m, in \u001b[0;36mdtw\u001b[1;34m(s1, s2, global_constraint, sakoe_chiba_radius, itakura_max_slope, be)\u001b[0m\n\u001b[0;32m    783\u001b[0m \u001b[38;5;28;01mif\u001b[39;00m be\u001b[38;5;241m.\u001b[39mshape(s1)[\u001b[38;5;241m1\u001b[39m] \u001b[38;5;241m!=\u001b[39m be\u001b[38;5;241m.\u001b[39mshape(s2)[\u001b[38;5;241m1\u001b[39m]:\n\u001b[0;32m    784\u001b[0m     \u001b[38;5;28;01mraise\u001b[39;00m \u001b[38;5;167;01mValueError\u001b[39;00m(\u001b[38;5;124m\"\u001b[39m\u001b[38;5;124mAll input time series must have the same feature size.\u001b[39m\u001b[38;5;124m\"\u001b[39m)\n\u001b[1;32m--> 786\u001b[0m mask \u001b[38;5;241m=\u001b[39m \u001b[43mcompute_mask\u001b[49m\u001b[43m(\u001b[49m\n\u001b[0;32m    787\u001b[0m \u001b[43m    \u001b[49m\u001b[43ms1\u001b[49m\u001b[43m,\u001b[49m\n\u001b[0;32m    788\u001b[0m \u001b[43m    \u001b[49m\u001b[43ms2\u001b[49m\u001b[43m,\u001b[49m\n\u001b[0;32m    789\u001b[0m \u001b[43m    \u001b[49m\u001b[43mGLOBAL_CONSTRAINT_CODE\u001b[49m\u001b[43m[\u001b[49m\u001b[43mglobal_constraint\u001b[49m\u001b[43m]\u001b[49m\u001b[43m,\u001b[49m\n\u001b[0;32m    790\u001b[0m \u001b[43m    \u001b[49m\u001b[43msakoe_chiba_radius\u001b[49m\u001b[38;5;241;43m=\u001b[39;49m\u001b[43msakoe_chiba_radius\u001b[49m\u001b[43m,\u001b[49m\n\u001b[0;32m    791\u001b[0m \u001b[43m    \u001b[49m\u001b[43mitakura_max_slope\u001b[49m\u001b[38;5;241;43m=\u001b[39;49m\u001b[43mitakura_max_slope\u001b[49m\u001b[43m,\u001b[49m\n\u001b[0;32m    792\u001b[0m \u001b[43m    \u001b[49m\u001b[43mbe\u001b[49m\u001b[38;5;241;43m=\u001b[39;49m\u001b[43mbe\u001b[49m\u001b[43m,\u001b[49m\n\u001b[0;32m    793\u001b[0m \u001b[43m\u001b[49m\u001b[43m)\u001b[49m\n\u001b[0;32m    794\u001b[0m \u001b[38;5;28;01mif\u001b[39;00m be\u001b[38;5;241m.\u001b[39mis_numpy:\n\u001b[0;32m    795\u001b[0m     \u001b[38;5;28;01mreturn\u001b[39;00m _njit_dtw(s1, s2, mask\u001b[38;5;241m=\u001b[39mmask)\n",
      "File \u001b[1;32mc:\\Users\\Roni\\anaconda3\\lib\\site-packages\\tslearn\\metrics\\dtw_variants.py:1819\u001b[0m, in \u001b[0;36mcompute_mask\u001b[1;34m(s1, s2, global_constraint, sakoe_chiba_radius, itakura_max_slope, be)\u001b[0m\n\u001b[0;32m   1817\u001b[0m     mask \u001b[38;5;241m=\u001b[39m itakura_mask(sz1, sz2, max_slope\u001b[38;5;241m=\u001b[39mitakura_max_slope, be\u001b[38;5;241m=\u001b[39mbe)\n\u001b[0;32m   1818\u001b[0m \u001b[38;5;28;01melse\u001b[39;00m:\n\u001b[1;32m-> 1819\u001b[0m     mask \u001b[38;5;241m=\u001b[39m \u001b[43mbe\u001b[49m\u001b[38;5;241;43m.\u001b[39;49m\u001b[43mzeros\u001b[49m\u001b[43m(\u001b[49m\u001b[43m(\u001b[49m\u001b[43msz1\u001b[49m\u001b[43m,\u001b[49m\u001b[43m \u001b[49m\u001b[43msz2\u001b[49m\u001b[43m)\u001b[49m\u001b[43m)\u001b[49m\n\u001b[0;32m   1820\u001b[0m \u001b[38;5;28;01mreturn\u001b[39;00m mask\n",
      "\u001b[1;31mKeyboardInterrupt\u001b[0m: "
     ]
    }
   ],
   "source": [
    "from tslearn.clustering import TimeSeriesKMeans\n",
    "\n",
    "prop_exp = []\n",
    "for exp in experiments[0:3]:\n",
    "    for mov_name in exp.mov_names[0:10]:\n",
    "        mov = exp.get_mov(mov_name)\n",
    "        prop.append(mov.get_prop('CM_dot_dot_projected','body')[window:2000,:])\n",
    "\n",
    "        wak = np.hstack(prop)\n",
    "\n",
    "    wakka = np.vstack(wak)\n",
    "\n",
    "model = TimeSeriesKMeans(n_clusters=len(experiments[0:3]), metric=\"dtw\",\n",
    "                         max_iter=10)\n",
    "y = model.fit(wakka)\n"
   ]
  },
  {
   "cell_type": "code",
   "execution_count": 224,
   "metadata": {},
   "outputs": [],
   "source": [
    "\n",
    "prop_exp = []\n",
    "for exp in experiments[:]:\n",
    "    prop = []\n",
    "    for mov_name in exp.mov_names:\n",
    "        mov = exp.get_mov(mov_name)\n",
    "        prop.append(mov.get_prop('CM_dot_dot_projected','body')[window:2000,:])\n",
    "\n",
    "        wak = np.hstack(prop)\n",
    "\n",
    "    wakka = np.vstack(wak)"
   ]
  },
  {
   "cell_type": "code",
   "execution_count": 225,
   "metadata": {},
   "outputs": [
    {
     "data": {
      "text/plain": [
       "array([[ 1.0985002 , -0.89911951,  0.02226098, ...,  0.04350475,\n",
       "         0.84437364,  0.12369192],\n",
       "       [ 1.09910101, -0.900818  ,  0.02050402, ...,  0.0433696 ,\n",
       "         0.85254303,  0.12260795],\n",
       "       [ 1.10099964, -0.90065647,  0.01956409, ...,  0.04388182,\n",
       "         0.86069173,  0.12296666],\n",
       "       ...,\n",
       "       [-0.67824592, -2.05947014,  0.888622  , ..., -0.43594607,\n",
       "        -0.31557689,  0.46349992],\n",
       "       [-0.67639865, -2.06800012,  0.88757633, ..., -0.4377551 ,\n",
       "        -0.31451646,  0.46189768],\n",
       "       [-0.67455139, -2.07653009,  0.88575382, ..., -0.43952561,\n",
       "        -0.31464514,  0.46200124]])"
      ]
     },
     "execution_count": 225,
     "metadata": {},
     "output_type": "execute_result"
    }
   ],
   "source": [
    "wakka"
   ]
  },
  {
   "cell_type": "code",
   "execution_count": null,
   "metadata": {},
   "outputs": [
    {
     "data": {
      "text/plain": [
       "Text(0, 0.5, 'pitch angle')"
      ]
     },
     "execution_count": 15,
     "metadata": {},
     "output_type": "execute_result"
    }
   ],
   "source": [
    "plt.figure()\n",
    "exp_name =['manipulated_2023_08_10_100ms',\n",
    "           'manipulated_2023_08_09_60ms',\n",
    "           'manipulated_2022_02_03_dark',\n",
    "           'manipulated_2023_08_06_40ms',\n",
    "           'manipulated_2023_08_09_80ms',\n",
    "           'manipulated_2023_08_07_10ms',\n",
    "           'manipulated_2023_08_07_5ms',\n",
    "            # 'manipulated_2022_01_31_darkdown',\n",
    "] \n",
    "for exp in  experiments:\n",
    "    for mov,color in zip(exp.mov_names[:],['red']*len(exp.mov_names)):#,'blue','green','black']):\n",
    "        mov = exp.get_mov(mov)\n",
    "        cm_xy_dot_dot = mov.get_prop('CM_dot_projected','body')\n",
    "        # cm_xy_dot = mov.get_prop('CM_dot_projected','body')\n",
    "        time = mov.get_prop('time','body')\n",
    "\n",
    "        # pitch = mov.get_prop('pitch_y_frame','body')/100\n",
    "        p = mov.get_prop('pitch_body','body')\n",
    "\n",
    "        # plt.plot(time,cm_xy_dot_dot,color, linestyle = 'dashed')\n",
    "        # plt.plot(time,cm_xy_dot,color, linestyle = '--')\n",
    "\n",
    "        # plt.plot(time,pitch,color)\n",
    "        # plt.plot(time,p,color,linestyle=':')\n",
    "        plt.plot(cm_xy_dot_dot,p,color,linestyle=':')\n",
    "\n",
    "plt.xlabel('cm_dot_dot')\n",
    "plt.ylabel('pitch angle')\n",
    "\n",
    "# plt.hlines(45,-15,10,color = 'black')\n",
    "\n"
   ]
  },
  {
   "cell_type": "code",
   "execution_count": null,
   "metadata": {},
   "outputs": [],
   "source": [
    "exp = experiments[0]\n",
    "\n",
    "fig = go.Figure()\n",
    "exp.plot_movie_prop('time','roll_body', case = 'plot_mov',prop = 'body', fig = fig, mov = False,add_horizontal_line = 0)\n",
    "fig.show()"
   ]
  },
  {
   "cell_type": "code",
   "execution_count": null,
   "metadata": {},
   "outputs": [],
   "source": [
    "\n",
    "exp = experiments[3]\n",
    "mov = exp.get_mov('mov104')\n",
    "mov.plot_3d_traj_movie('CM_dot_dot_projected')"
   ]
  },
  {
   "cell_type": "code",
   "execution_count": null,
   "metadata": {},
   "outputs": [],
   "source": [
    "\n",
    "exp = experiments[1]\n",
    "mov = exp.get_mov('mov12')\n",
    "mov.plot_3d_traj_movie('CM_dot_dot_projected')"
   ]
  },
  {
   "cell_type": "code",
   "execution_count": null,
   "metadata": {},
   "outputs": [],
   "source": [
    "\n",
    "exp = experiments[0]\n",
    "mov = exp.get_mov('mov130')\n",
    "mov.plot_3d_traj_movie('CM_dot_dot_projected')"
   ]
  },
  {
   "cell_type": "code",
   "execution_count": null,
   "metadata": {},
   "outputs": [
    {
     "data": {
      "text/plain": [
       "{'pitch_body': 0,\n",
       " 'yaw_body': 1,\n",
       " 'roll_body': 2,\n",
       " 'pitch_body_dot': 3,\n",
       " 'yaw_body_dot': 4,\n",
       " 'roll_body_dot': 5,\n",
       " 'pitch_body_dot_dot': 6,\n",
       " 'yaw_body_dot_dot': 7,\n",
       " 'roll_body_dot_dot': 8,\n",
       " 'frames': 9,\n",
       " 'time': 10,\n",
       " 'CM_real_x_body': 11,\n",
       " 'CM_real_y_body': 12,\n",
       " 'CM_real_z_body': 13,\n",
       " 'phi_rw_max_idx': 14,\n",
       " 'phi_rw_max_val': 15,\n",
       " 'phi_lw_max_idx': 16,\n",
       " 'phi_lw_max_val': 17,\n",
       " 'phi_rw_min_idx': 18,\n",
       " 'phi_rw_min_val': 19,\n",
       " 'phi_lw_min_idx': 20,\n",
       " 'phi_lw_min_val': 21,\n",
       " 'CM_xy': 22,\n",
       " 'CM_xy_dot': 23,\n",
       " 'CM_xy_dot_dot': 24,\n",
       " 'yaw_z_frame': 25,\n",
       " 'pitch_y_frame': 26,\n",
       " 'roll_x_frame': 27,\n",
       " 'yaw_z_frame_dot': 28,\n",
       " 'pitch_y_frame_dot': 29,\n",
       " 'roll_x_frame_dot': 30,\n",
       " 'yaw_z_frame_dot_dot': 31,\n",
       " 'pitch_y_frame_dot_dot': 32,\n",
       " 'roll_x_frame_dot_dot': 33,\n",
       " 'mean_idx': 34,\n",
       " 'p': 35,\n",
       " 'q': 36,\n",
       " 'r': 37,\n",
       " 'p_dot': 38,\n",
       " 'q_dot': 39,\n",
       " 'r_dot': 40,\n",
       " 'p_dot_dot': 41,\n",
       " 'q_dot_dot': 42,\n",
       " 'r_dot_dot': 43}"
      ]
     },
     "execution_count": 4,
     "metadata": {},
     "output_type": "execute_result"
    }
   ],
   "source": [
    "exp = experiments[0]\n",
    "mov = exp.get_mov('mov3')\n",
    "mov.header['body']"
   ]
  },
  {
   "cell_type": "code",
   "execution_count": null,
   "metadata": {},
   "outputs": [],
   "source": [
    "\n",
    "fig = go.Figure()\n",
    "exp.plot_movie_prop('time','p', case = 'plot_mov',prop = 'body', fig = fig, mov = False,add_horizontal_line = 0)\n",
    "fig.show()\n"
   ]
  },
  {
   "cell_type": "code",
   "execution_count": null,
   "metadata": {},
   "outputs": [],
   "source": [
    "import plotly.graph_objects as go\n",
    "import plotly\n",
    "\n",
    "exp = experiments[0]\n",
    "exp.pqr_movies() \n",
    "exp.add_mean_prop_movies('q','body','mean_wing') \n",
    "exp.mean_mean_props_movies('phi_rw_min_val','phi_lw_min_val','mean_wing','mean_front_phi')\n",
    "exp.mean_mean_props_movies('phi_rw','phi_lw','mean_wing','mean_mean_phi')\n",
    "\n",
    "fig = go.Figure()\n",
    "exp.plot_movie_prop('time','q', case = 'plot_mean',prop = 'mean_wing', fig = fig, mov = False,add_horizontal_line = 0)\n",
    "fig.show()\n",
    "\n",
    "fig = go.Figure()\n",
    "\n",
    "exp.plot_movie_prop('time','p', case = 'plot_mov',prop = 'body', fig = fig, mov = False,add_horizontal_line = 0)\n",
    "fig.show()"
   ]
  },
  {
   "cell_type": "code",
   "execution_count": null,
   "metadata": {},
   "outputs": [],
   "source": [
    "import plotly.graph_objects as go\n",
    "\n",
    "fig = go.Figure()    \n",
    "[fig.add_trace(go.Histogram(x=np.hstack(min), name=exp.experiment_name, nbinsx=30)) for min,exp in zip(zero_velocity,experiments)]\n",
    "fig.update_layout(title = 'time of minimum velocity')\n",
    "fig.update_traces(opacity = 0.9)\n",
    "fig.show()\n"
   ]
  },
  {
   "cell_type": "markdown",
   "metadata": {},
   "source": [
    "Save plots to folders"
   ]
  },
  {
   "cell_type": "code",
   "execution_count": null,
   "metadata": {},
   "outputs": [],
   "source": [
    "import plotly.graph_objects as go\n",
    "import plotly\n",
    "import matplotlib.cm as colormap\n",
    "color_map = colormap.datad[\"tab10\"]['listed']\n",
    "\n",
    "\n",
    "\n",
    "def plot_and_save_movie_prop(exp,yprop,wing_body,add_horizontal_line = False):\n",
    "    \n",
    "    fig = go.Figure()\n",
    "\n",
    "    exp.plot_prop_movies(yprop,'body',color_map[0],fig,mov = False,case = 'plot_mov')\n",
    "    fig.show()\n",
    "    plotly.offline.plot(fig, filename=f'{exp.figures_path}/{yprop}_plot.html',auto_open=False)\n",
    "\n",
    "\n",
    "\n",
    "\n",
    "for exp in experiments:\n",
    "    try:\n",
    "        exp.plot_3d_traj_movies('CM_dot_dot_projected',save_plot = True, mov = False)\n",
    "\n",
    "        plot_and_save_movie_prop(exp,yprop = 'CM_dot_dot_projected',wing_body = 'body',add_horizontal_line = 0)\n",
    "        plot_and_save_movie_prop(exp,yprop = 'pitch_y_frame',wing_body = 'body',add_horizontal_line = 0)\n",
    "        plot_and_save_movie_prop(exp,yprop = 'pitch_y_frame_dot',wing_body = 'body',add_horizontal_line = 0)\n",
    "        plot_and_save_movie_prop(exp,yprop = 'CM_dot_projected',wing_body = 'body',add_horizontal_line = 0)\n",
    "    except:\n",
    "        continue\n",
    "    # exp.mean_mean_props_movies('phi_rw_min_val','phi_lw_min_val','mean_wing','mean_front_phi')\n",
    "    # exp.mean_mean_props_movies('phi_rw','phi_lw','mean_wing','mean_mean_phi')\n",
    "\n",
    "    # plot_and_save_movie_prop(exp,yprop = 'mean_front_phi',wing_body = 'mean_wing')\n",
    "    # plot_and_save_movie_prop(exp,yprop = 'mean_mean_phi',wing_body = 'mean_wing')\n",
    "\n"
   ]
  }
 ],
 "metadata": {
  "kernelspec": {
   "display_name": "base",
   "language": "python",
   "name": "python3"
  },
  "language_info": {
   "codemirror_mode": {
    "name": "ipython",
    "version": 3
   },
   "file_extension": ".py",
   "mimetype": "text/x-python",
   "name": "python",
   "nbconvert_exporter": "python",
   "pygments_lexer": "ipython3",
   "version": "3.10.9"
  }
 },
 "nbformat": 4,
 "nbformat_minor": 2
}
