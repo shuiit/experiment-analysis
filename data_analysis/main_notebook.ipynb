{
 "cells": [
  {
   "cell_type": "markdown",
   "metadata": {},
   "source": [
    "Plots: \n",
    "- time response: pitch_dot_dot ~ 30ms\n",
    "                 zero_x: ~ 85 ms\n",
    "                 min_CM_dot_dot: ~ 75 ms\n",
    "- linear correletion: pitch vs CM_dot_dot\n",
    "- correction of velocity direction: time series: CM_x_dot_projected\n",
    "                                                 delta angle between initial CM_x_dot_projected direction and final\n",
    "                                    histogram :  initial angle (mean on frames) - final angle(mean on frames)\n",
    "                        - memory? \n",
    "                        - correction time from light? \n",
    "                        - correct in dark? in 100 ms? not sure"
   ]
  },
  {
   "cell_type": "code",
   "execution_count": 54,
   "metadata": {},
   "outputs": [],
   "source": [
    "\n",
    "from Experiment import Experiment\n",
    "import matplotlib.pyplot as plt\n",
    "import Plotters \n",
    "import plotly.graph_objects as go\n",
    "import plotly\n",
    "import numpy as np\n",
    "\n",
    "import time\n",
    "import matplotlib.cm as colormap\n",
    "\n",
    "%matplotlib qt\n",
    "\n",
    "loadir = 'H:/My Drive/dark 2022/csv_dark' # dir to save the data frame in # H:\\My Drive\\Ronis Exp\\sagiv\\data_analysis\n",
    "exp_name =['manipulated_2023_08_07_10ms',\n",
    "            'manipulated_2023_08_06_40ms',\n",
    "           'manipulated_2023_08_09_60ms',\n",
    "           'manipulated_2023_08_09_80ms',\n",
    "           'manipulated_2023_08_10_100ms',\n",
    "           'manipulated_2022_02_03_dark']\n",
    "\n",
    "\n",
    "\n",
    "def dont_show_movs(exp_name,movs_to_del):\n",
    "    return [mov_name for mov_name in experiments[exp_name].mov_names if mov_name not in movs_to_del ] \n",
    "\n",
    "mov_dark_delete = ['mov30','mov40','mov57','mov59']\n",
    "mov_100_delete = ['mov10','mov102','mov19','mov34','mov35','mov47','mov51','mov52','mov66','mov68','mov73','mov90']\n",
    "mov_80_delete = ['mov119','mov49','mov97','mov99']\n",
    "mov_40_delete = ['mov64']\n",
    "mov_60_delete = ['mov12','mov13','mov147','mov165','mov21','mov24','mov26','mov48','mov86']\n",
    "mov_10_delete = ['mov46','mov54']\n",
    "mov_5_delete = ['mov44']\n",
    "\n",
    "\n",
    "color_map = colormap.datad[\"tab10\"]['listed']\n",
    "\n",
    "experiments = {exp:Experiment(loadir,exp) for exp in exp_name} # load experiments\n"
   ]
  },
  {
   "cell_type": "markdown",
   "metadata": {},
   "source": [
    "Smooth, calculate projected axes and angles"
   ]
  },
  {
   "cell_type": "code",
   "execution_count": 55,
   "metadata": {},
   "outputs": [
    {
     "name": "stderr",
     "output_type": "stream",
     "text": [
      "c:\\Users\\Roni\\Documents\\experiment-analysis\\data_analysis\\Movie.py:107: RuntimeWarning:\n",
      "\n",
      "invalid value encountered in arccos\n",
      "\n"
     ]
    },
    {
     "data": {
      "text/plain": [
       "[None, None, None, None, None, None]"
      ]
     },
     "execution_count": 55,
     "metadata": {},
     "output_type": "execute_result"
    }
   ],
   "source": [
    "[exp.smooth_prop_movies('CM_real_x_body',['','_dot','_dot_dot'],'body')  for exp in experiments.values()] # smooth and derive\n",
    "\n",
    "\n",
    "[exp.project_axes_movies(['X_x_body_projected','X_y_body_projected'])  for exp in experiments.values()] # X_body axis projected to xy plane\n",
    "[exp.project_axes_movies(['Y_x_body_projected','Y_y_body_projected'],axis = 'Y_x_body')  for exp in experiments.values()] # X_body axis projected to xy plane\n",
    "\n",
    "[exp.project_axes_movies(['CM_dot_xax','CM_dot_yax'],axis = 'CM_real_x_body_dot_smth',wing_body = 'body',add_to_vectors = True)  for exp in experiments.values()] # Velocity direction in the projected X_body axes (xy plane) \n",
    "\n",
    "# calculate the size of the velocity projected on the xy plane\n",
    "[exp.project_prop_movies('CM_real_x_body_dot_smth',header_name = 'CM_dot_x',three_col = 2,ax_to_proj = 'X_x_body_projected',add_to_vectors = True)  for exp in experiments.values()]\n",
    "[exp.project_prop_movies('CM_real_x_body_dot_smth',header_name = 'CM_dot_y',three_col = 2,ax_to_proj = 'Y_x_body_projected',add_to_vectors = True)  for exp in experiments.values()]\n",
    "\n",
    "\n",
    "# calculate the size of the acceleration projected on the xy plane\n",
    "[exp.project_prop_movies('CM_real_x_body_dot_dot_smth',header_name = 'CM_dot_dot_x',three_col = 2,ax_to_proj = 'X_x_body_projected')  for exp in experiments.values()]\n",
    "[exp.project_prop_movies('CM_real_x_body_dot_dot_smth',header_name = 'CM_dot_dot_y',three_col = 2,ax_to_proj = 'X_y_body_projected')  for exp in experiments.values()]\n",
    "\n",
    "[exp.pqr_movies() for exp in experiments.values()] # calculate p,q,r (angular velocity in body axis)\n",
    "\n",
    "[exp.mean_mean_props_movies('phi_rw','phi_lw','mean_wing','mean_mean_phi') for exp in experiments.values()] # calculate the mean value of two properties\n",
    "\n",
    "\n",
    "[exp.substruct_first_frame('yaw_body','body')  for exp in experiments.values()] # substract the zero frame from a property ( {prop}_min_ref_frame )\n",
    "\n",
    "# calculate the difference between current direction and another one at the same time:\n",
    "# the angle between Xbody on the xy plane and the velocity direction on the xy plane \n",
    "[exp.delta_ang_all_time_movies('X_x_body_projected','CM_dot_xax','slip_angle_beta',three_col = 2) for exp in experiments.values()] \n",
    "\n",
    "# calculate the difference in angle between current property and in referance frame:\n",
    "# the angle between Xbody on the xy (in 0 time) plane and Xbody on xy plane \n",
    "[exp.delta_ref_ang_movies('X_x_body_projected','delta_ang_Xax',axis = 'X_x_body_projected')  for exp in experiments.values()]\n",
    "\n",
    "# the angle between Xbody on the xy (in 0 time) plane and the velocity direction on the xy plane \n",
    "[exp.delta_ref_ang_movies('CM_dot_x_projected','delta_ang_CM_dot_x',axis = 'CM_dot_x_projected',delta_ang = 0) for exp in experiments.values()]\n",
    "[exp.substruct_first_frame('delta_ang_CM_dot_x','body') for exp in experiments.values()]\n"
   ]
  },
  {
   "cell_type": "markdown",
   "metadata": {},
   "source": [
    "Histograms"
   ]
  },
  {
   "cell_type": "code",
   "execution_count": 56,
   "metadata": {},
   "outputs": [],
   "source": [
    "exp = experiments[list(experiments.keys())[0]]\n",
    "[exp.get_peaks_movies('pitch_y_frame_dot_dot','peaks_max',t0 = 5, t1 = 100) for exp in experiments.values()]\n",
    "[exp.get_peaks_movies('pitch_y_frame_dot_dot','min') for exp in experiments.values()]\n",
    "[exp.get_peaks_movies('q','max') for exp in experiments.values()]\n",
    "[exp.get_peaks_movies('pitch_body','peaks_max',t0 = 40, t1 = 100) for exp in experiments.values()]\n",
    "[exp.get_peaks_movies('CM_dot_dot_x_projected','min') for exp in experiments.values()]\n",
    "[exp.get_peaks_movies('pitch_y_frame','max') for exp in experiments.values()]\n",
    "[exp.get_peaks_movies('pitch_body','max') for exp in experiments.values()]\n",
    "[exp.get_peaks_movies('CM_dot_x_projected','min') for exp in experiments.values()]\n",
    "[exp.get_peaks_movies('CM_dot_x_projected','zero_v') for exp in experiments.values()]\n",
    "[exp.get_peaks_movies('delta_ang_Xax','max') for exp in experiments.values()]\n",
    "[exp.get_peaks_movies('CM_dot_x_projected','half_v') for exp in experiments.values()]\n",
    "prop = 'pitch_y_frame_dot_dot_peaks_max'\n",
    "[exp.subtract_interest_time_from_time(prop,'time_m_pitch_dot_dot_max') for exp in experiments.values()]\n",
    "\n",
    "prop  = 'CM_dot_x_projected_zero_v'\n",
    "[exp.subtract_interest_time_from_time(prop,'time_m_zero_v') for exp in experiments.values()]\n",
    "\n",
    "point_name = 'CM_dot_x_projected_zero_v'\n",
    "list_trace,layout = zip(*[exp.interest_point_hist(point_name,xbins = dict(start=0,end=300, size=5)) for exp in experiments.values()])\n",
    "\n",
    "fig = go.Figure(data=list_trace, layout=layout[0]).show()\n",
    "\n",
    "\n",
    "point_name = 'CM_dot_dot_x_projected_min'\n",
    "list_trace,layout = zip(*[exp.interest_point_hist(point_name,xbins = dict(start=0,end=300, size=5)) for exp in experiments.values()])\n",
    "fig = go.Figure(data=list_trace, layout=layout[0]).show()\n",
    "\n",
    "\n",
    "point_name = 'pitch_y_frame_dot_dot_peaks_max'\n",
    "list_trace,layout = zip(*[exp.interest_point_hist(point_name,xbins = dict(start=0,end=300, size=5)) for exp in experiments.values()])\n",
    "fig = go.Figure(data=list_trace, layout=layout[0]).show()\n"
   ]
  },
  {
   "cell_type": "code",
   "execution_count": 69,
   "metadata": {},
   "outputs": [],
   "source": [
    "\n",
    "time_fin_exp = [100,210,250,230,265,213]\n",
    "delta_v = [exp.get_delta_angle_movies('delta_ang_CM_dot_x', time_prop = 'time_m_pitch_dot_dot_max', t_fin = tfin, delta_frames = 300) for exp,tfin in zip(experiments.values(),time_fin_exp)]\n",
    "\n",
    "list_trace,layout = zip(*[Plotters.histogram(delt_v_exp,exp_name,'angle', 'delta_angle_velocity',xbins = dict(start=0,end=500, size=10),histnorm = None) for delt_v_exp,exp_name in zip(delta_v,experiments.keys())])\n",
    "fig = go.Figure(data=list_trace, layout=layout[0]).show()\n"
   ]
  },
  {
   "cell_type": "code",
   "execution_count": 51,
   "metadata": {},
   "outputs": [
    {
     "data": {
      "text/plain": [
       "[375.70340514348385, 349.692095592977, 63.209305381215465]"
      ]
     },
     "execution_count": 51,
     "metadata": {},
     "output_type": "execute_result"
    }
   ],
   "source": [
    "exp = experiments['manipulated_2022_02_03_dark']#['manipulated_2022_02_03_dark']#['manipulated_2023_08_09_60ms']\n",
    "exp.interest_points['pitch_y_frame_dot_dot_peaks_max'][2]\n",
    "exp.get_delta_angle_movies('delta_ang_CM_dot_x', time_prop = 'time_m_pitch_dot_dot_max', t_fin = 200, delta_frames = 300) "
   ]
  },
  {
   "cell_type": "code",
   "execution_count": 66,
   "metadata": {},
   "outputs": [],
   "source": [
    "exp = experiments['manipulated_2023_08_06_40ms']#['manipulated_2022_02_03_dark']#['manipulated_2023_08_09_60ms']\n",
    "# exp_name =['manipulated_2023_08_07_10ms',\n",
    "#             'manipulated_2023_08_06_40ms',\n",
    "#            'manipulated_2023_08_09_60ms',\n",
    "#            'manipulated_2023_08_09_80ms',\n",
    "#            'manipulated_2023_08_10_100ms',\n",
    "#            'manipulated_2022_02_03_dark']\n",
    "prop = 'pitch_y_frame_dot_dot_peaks_max'\n",
    "[exp.subtract_interest_time_from_time(prop,'time_m_pitch_dot_dot_max') for exp in experiments.values()]\n",
    "\n",
    "prop = 'delta_ang_CM_dot_x'\n",
    "fig = go.Figure()\n",
    "exp.plot_prop_movies(prop,'body',fig,case = 'plot_mov',prop_x = 'time_m_pitch_dot_dot_max')\n",
    "fig.show()\n",
    "\n",
    "\n",
    "prop = 'CM_dot_x_projected'\n",
    "fig = go.Figure()\n",
    "exp.plot_prop_movies(prop,'body',fig,case = 'plot_mov',prop_x = 'time')\n",
    "fig.show()"
   ]
  },
  {
   "cell_type": "markdown",
   "metadata": {},
   "source": [
    "Plot 3d trajectory"
   ]
  },
  {
   "cell_type": "code",
   "execution_count": null,
   "metadata": {},
   "outputs": [],
   "source": [
    "mov = ['mov109','mov169','mov40']\n",
    "exp = experiments['manipulated_2023_08_09_60ms']\n",
    "exp.plot_3d_traj_movies('slip_angle_beta',mov = mov)\n"
   ]
  },
  {
   "cell_type": "code",
   "execution_count": null,
   "metadata": {},
   "outputs": [],
   "source": [
    "\n",
    "\n",
    "exp = experiments['manipulated_2023_08_09_60ms']\n",
    "prop_name = 'delta_ang_CM_dot_x'\n",
    "dict_v = {'lt_zero':[],'gt_zero':[]}\n",
    "for mov_nm in exp.mov_names:\n",
    "    mov = exp.get_mov(mov_nm)\n",
    "    prop = mov.get_prop(prop_name,'body')\n",
    "    if np.abs(np.nanmean(prop[:300]) - np.nanmean(prop[-300:]))>300:\n",
    "        dict_v['lt_zero'].append(mov_nm )\n",
    "    else:\n",
    "        dict_v['gt_zero'].append(mov_nm )\n",
    "\n",
    "fig = go.Figure()\n",
    "\n",
    "exp.plot_prop_movies(prop_name,'body',fig,mov = dict_v['lt_zero'],case = 'plot_exp',prop_x = 'time',color = color_map[3],legend = f'cluster{1}')\n",
    "exp.plot_prop_movies(prop_name,'body',fig,mov = dict_v['gt_zero'],case = 'plot_exp',prop_x = 'time',color = color_map[4],legend = f'cluster{2}')\n",
    "fig.show()\n",
    "\n",
    "prop_name = 'CM_dot_x_projected'\n",
    "fig = go.Figure()\n",
    "\n",
    "exp.plot_prop_movies(prop_name,'body',fig,mov = dict_v['lt_zero'],case = 'plot_exp',prop_x = 'time',color = color_map[3],legend = f'cluster{1}')\n",
    "exp.plot_prop_movies(prop_name,'body',fig,mov = dict_v['gt_zero'],case = 'plot_exp',prop_x = 'time',color = color_map[4],legend = f'cluster{2}')\n",
    "fig.show()\n",
    "\n",
    "\n",
    "\n",
    "prop_name = 'slip_angle_beta'\n",
    "fig = go.Figure()\n",
    "\n",
    "exp.plot_prop_movies(prop_name,'body',fig,mov = dict_v['lt_zero'],case = 'plot_exp',prop_x = 'time',color = color_map[3],legend = f'cluster{1}')\n",
    "exp.plot_prop_movies(prop_name,'body',fig,mov = dict_v['gt_zero'],case = 'plot_exp',prop_x = 'time',color = color_map[4],legend = f'cluster{2}')\n",
    "fig.show()\n",
    "\n",
    "\n",
    "prop_name = 'CM_dot_y_projected'\n",
    "fig = go.Figure()\n",
    "\n",
    "exp.plot_prop_movies(prop_name,'body',fig,mov = dict_v['lt_zero'],case = 'plot_exp',prop_x = 'time',color = color_map[3],legend = f'cluster{1}')\n",
    "exp.plot_prop_movies(prop_name,'body',fig,mov = dict_v['gt_zero'],case = 'plot_exp',prop_x = 'time',color = color_map[4],legend = f'cluster{2}')\n",
    "fig.show()\n"
   ]
  },
  {
   "cell_type": "code",
   "execution_count": null,
   "metadata": {},
   "outputs": [],
   "source": [
    "\n",
    "def rotation_matrix(yaw,pitch,roll):\n",
    "    roll_mat = np.vstack([[1,0,0],[0 ,np.cos(roll),-np.sin(roll)],[0, np.sin(roll), np.cos(roll)]])\n",
    "    pitch_mat = np.vstack([[np.cos(pitch),0,np.sin(pitch)],[0, 1,0],[-np.sin(pitch), 0, np.cos(pitch)]])\n",
    "    yaw_mat = np.vstack([[np.cos(yaw),-np.sin(yaw),0],[np.sin(yaw),np.cos(yaw),0],[0, 0, 1]])\n",
    "    return yaw_mat @ pitch_mat @ roll_mat\n",
    "\n",
    "\n",
    "for exp_name in experiments.keys():\n",
    "    exp = experiments[exp_name]\n",
    "    wing_body = 'body'\n",
    "    for mov_name in exp.mov_names:\n",
    "        mov = exp.get_mov(mov_name)\n",
    "\n",
    "        yaw = mov.get_prop('yaw_body','body')[:,0]\n",
    "        pitch = mov.get_prop('pitch_body','body')[:,0]\n",
    "        roll = mov.get_prop('roll_body','body')[:,0]\n",
    "        time = mov.get_prop('time','body')[:,0]\n",
    "\n",
    "        rot_mat = [rotation_matrix(yaw*np.pi/180,-pitch*np.pi/180,roll*np.pi/180).T for yaw,pitch,roll in zip(yaw,pitch,roll)]\n",
    "        vxyz = mov.get_prop('CM_real_x_body_dot_smth','body',three_col=3)\n",
    "        axyz = mov.get_prop('CM_real_x_body_dot_dot_smth','body',three_col=3)\n",
    "\n",
    "        uvw = np.vstack([rot_mat @ vxyz for rot_mat,vxyz in zip(rot_mat,vxyz)])\n",
    "        uvw_dot = np.vstack([rot_mat @ axyz for rot_mat,axyz in zip(rot_mat,axyz)])\n",
    "\n",
    "        vz_sp = uvw[:,0]*np.cos(np.radians(45)) + uvw[:,2]*np.cos(np.radians(45))\n",
    "        vx_sp = uvw[:,0]*np.cos(np.radians(45)) - uvw[:,2]*np.cos(np.radians(45))\n",
    "\n",
    "\n",
    "\n",
    "        az_sp = uvw_dot[:,0]*np.cos(np.radians(45)) + uvw_dot[:,2]*np.cos(np.radians(45))\n",
    "        ax_sp = uvw_dot[:,0]*np.cos(np.radians(45)) - uvw_dot[:,2]*np.cos(np.radians(45))\n",
    "\n",
    "        mov.data[wing_body] = np.hstack((mov.data[wing_body], uvw))\n",
    "        mov.add_to_header(['u','v','w'],wing_body)\n",
    "\n",
    "        \n",
    "        mov.data[wing_body] = np.hstack((mov.data[wing_body], uvw_dot))\n",
    "        mov.add_to_header(['u_dot','v_dot','w_dot'],wing_body)\n",
    "\n",
    "        mov.data[wing_body] = np.vstack((mov.data[wing_body].T, vz_sp)).T\n",
    "        mov.add_to_header(['vz_sp'],wing_body)\n",
    "        mov.data[wing_body] = np.vstack((mov.data[wing_body].T, vx_sp)).T\n",
    "        mov.add_to_header(['vx_sp'],wing_body)\n",
    "\n",
    "        \n",
    "        mov.data[wing_body] = np.vstack((mov.data[wing_body].T, az_sp)).T\n",
    "        mov.add_to_header(['az_sp'],wing_body)\n",
    "        mov.data[wing_body] = np.vstack((mov.data[wing_body].T, ax_sp)).T\n",
    "        mov.add_to_header(['ax_sp'],wing_body)\n",
    "# fig,ax = plt.subplots(2,1)\n",
    "# ax[0].plot(time,vx_sp)\n",
    "# ax[0].plot(time,uvw[:,1])\n",
    "# ax[0].plot(time,vz_sp)\n",
    "\n",
    "# ax[1].plot(vxyz)\n",
    "    \n",
    "# for mov_name in exp.mov_names:\n",
    "\n",
    "    \n",
    "    # mov.data[wing_body] = np.hstack((mov.data[wing_body], uvw))\n",
    "    # mov.add_to_header(['u','v','w'],wing_body)\n",
    "\n",
    "    # mov.data[wing_body] = np.vstack((mov.data[wing_body].T, asp_z)).T\n",
    "    # mov.add_to_header(['asp_z'],wing_body)\n"
   ]
  },
  {
   "cell_type": "code",
   "execution_count": null,
   "metadata": {},
   "outputs": [
    {
     "name": "stderr",
     "output_type": "stream",
     "text": [
      "c:\\Users\\Roni\\Documents\\experiment-analysis\\data_analysis\\Experiment.py:131: RuntimeWarning:\n",
      "\n",
      "Mean of empty slice\n",
      "\n"
     ]
    }
   ],
   "source": [
    "for name in ['ax_sp','az_sp','v_dot']:\n",
    "    f,tm = exp.mean_time_series_prop(name,wing_body,window = (73*7)//2,dt = 1/16000)\n",
    "    plt.plot(tm,f)"
   ]
  },
  {
   "cell_type": "markdown",
   "metadata": {},
   "source": [
    "Plot property and add interest point"
   ]
  },
  {
   "cell_type": "code",
   "execution_count": null,
   "metadata": {},
   "outputs": [],
   "source": [
    "\n",
    "exp = experiments['manipulated_2023_08_09_60ms']\n",
    "prop = 'CM_dot_x_projected'\n",
    "\n",
    "fig = go.Figure()\n",
    "exp.plot_prop_movies(prop,'body',fig,case = 'plot_mov',prop_x = 'time')\n",
    "exp.add_point_to_plot_movies('CM_dot_x_projected_half_v',prop,fig) \n",
    "fig.show()\n",
    "\n"
   ]
  },
  {
   "cell_type": "code",
   "execution_count": null,
   "metadata": {},
   "outputs": [],
   "source": [
    "fig = go.Figure()\n",
    "exp = experiments['manipulated_2022_02_03_dark']\n",
    "exp.plot_prop_movies('CM_dot_dot_y_projected','body',fig,case = 'plot_mov',prop_x = 'time')\n",
    "fig.show()\n",
    "\n",
    "phi_r_color = [[256,0,0]]*len(exp.mov_names)\n",
    "phi_l_color = [[0,0,256]]*len(exp.mov_names)\n",
    "\n",
    "fig = go.Figure()\n",
    "exp = experiments['manipulated_2022_02_03_dark']\n",
    "exp.plot_prop_movies('phi_rw','wing',fig,case = 'plot_mov',prop_x = 'time',color = phi_r_color )\n",
    "exp.plot_prop_movies('phi_lw','wing',fig,case = 'plot_mov',prop_x = 'time', color = phi_l_color)\n",
    "\n",
    "fig.show()"
   ]
  },
  {
   "cell_type": "markdown",
   "metadata": {},
   "source": [
    "3D trajectory plot"
   ]
  },
  {
   "cell_type": "code",
   "execution_count": null,
   "metadata": {},
   "outputs": [],
   "source": [
    "\n",
    "exp = experiments['manipulated_2023_08_09_60ms']\n",
    "mov = ['mov60']\n",
    "exp.plot_3d_traj_movies('CM_dot_x_projected',mov = mov)\n"
   ]
  },
  {
   "cell_type": "markdown",
   "metadata": {},
   "source": [
    "Plot histograms of peaks, plot movies time seires data with the max/min/peak data point on them"
   ]
  },
  {
   "cell_type": "code",
   "execution_count": null,
   "metadata": {},
   "outputs": [],
   "source": [
    "# Histograms\n",
    "point_name = 'pitch_y_frame_dot_dot_peaks_max'\n",
    "list_trace,layout = zip(*[exp.interest_point_hist(point_name,xbins = dict(start=0,end=300, size=5)) for exp in experiments.values()])\n",
    "fig = go.Figure(data=list_trace, layout=layout[0]).show()\n",
    "\n",
    "point_name = 'pitch_y_frame_max'\n",
    "list_trace,layout = zip(*[exp.interest_point_hist(point_name,xbins = dict(start=0,end=300, size=5)) for exp in experiments.values()])\n",
    "fig = go.Figure(data=list_trace, layout=layout[0]).show()\n",
    "\n",
    "\n",
    "point_name = 'CM_dot_dot_projected_min'\n",
    "list_trace,layout = zip(*[exp.interest_point_hist(point_name,xbins = dict(start=0,end=300, size=5)) for exp in experiments.values()])\n",
    "fig = go.Figure(data=list_trace, layout=layout[0]).show()\n",
    "\n",
    "\n",
    "point_name = 'amp_v_peaks_min'\n",
    "list_trace,layout = zip(*[exp.interest_point_hist(point_name,xbins = dict(start=0,end=300, size=5)) for exp in experiments.values()])\n",
    "fig = go.Figure(data=list_trace, layout=layout[0]).show()\n",
    "\n",
    "\n",
    "point_name = 'CM_dot_projected_zero_v'\n",
    "list_trace,layout = zip(*[exp.interest_point_hist(point_name,xbins = dict(start=0,end=300, size=5)) for exp in experiments.values()])\n",
    "fig = go.Figure(data=list_trace, layout=layout[0]).show()"
   ]
  },
  {
   "cell_type": "code",
   "execution_count": null,
   "metadata": {},
   "outputs": [],
   "source": [
    "exp = experiments['manipulated_2022_02_03_dark']\n",
    "fig = go.Figure()\n",
    "exp.plot_prop_movies('CM_dot_projected','body',fig,case = 'plot_mov',prop_x = 'time')\n",
    "exp.add_point_to_plot_movies('amp_v_peaks_min','amp_v',fig) \n",
    "fig.show()"
   ]
  },
  {
   "cell_type": "code",
   "execution_count": null,
   "metadata": {},
   "outputs": [],
   "source": [
    "# time series of movies with min/max on them\n",
    "exp = experiments['manipulated_2022_02_03_dark']\n",
    "fig = go.Figure()\n",
    "exp.plot_prop_movies('pitch_y_frame_dot_dot','body',fig,case = 'plot_mov',prop_x = 'time')\n",
    "exp.add_point_to_plot_movies('pitch_y_frame_dot_dot_peaks_max','pitch_y_frame_dot_dot',fig) \n",
    "fig.show()\n",
    "\n",
    "fig = go.Figure()\n",
    "exp.plot_prop_movies('CM_dot_projected','body',fig,case = 'plot_mov',prop_x = 'time')\n",
    "exp.add_point_to_plot_movies('pitch_y_frame_dot_dot_peaks_max','CM_dot_projected',fig) \n",
    "fig.show()"
   ]
  },
  {
   "cell_type": "code",
   "execution_count": null,
   "metadata": {},
   "outputs": [],
   "source": [
    "\n",
    "fig = go.Figure()\n",
    "exp.plot_prop_movies('roll_x_frame','body',fig,case = 'plot_mov',prop_x = 'time')\n",
    "# exp.add_point_to_plot_movies('CM_dot_projected_zero_v','CM_dot_y_projected',fig) \n",
    "exp.plot_prop_movies('yaw_z_frame','body',fig,case = 'plot_mov',prop_x = 'time',yaxis = 'y2')\n",
    "# exp.add_point_to_plot_movies('CM_dot_projected_zero_v','roll_body',fig,yaxis = 'y2') \n",
    "\n",
    "# yax_dict[f\"yaxis2\"] = (dict(title=prop,titlefont=dict(color=color),tickfont=dict(color=color),side = side[i],position=position[i]))\n",
    "\n",
    "\n",
    "\n",
    "fig.update_layout(title = exp.experiment_name,\n",
    "    xaxis=dict(domain=[0, 0.95]),\n",
    "    yaxis=dict(title='roll_x_frame', titlefont=dict(color='red'), tickfont=dict(color='red'), side='left', position=0),\n",
    "    yaxis2=dict(title='yaw_y_frame', titlefont=dict(color='green'), tickfont=dict(color='green'), side='right', position=0.95),\n",
    ")\n",
    "\n",
    "fig.show()"
   ]
  },
  {
   "cell_type": "markdown",
   "metadata": {},
   "source": [
    "Plot all experiments - time series"
   ]
  },
  {
   "cell_type": "code",
   "execution_count": null,
   "metadata": {},
   "outputs": [],
   "source": [
    "fig = go.Figure()\n",
    "prop = 'pitch_y_frame_dot_dot'\n",
    "[exp.plot_prop_movies(prop,'body',fig,case = 'plot_exp',prop_x = 'time',color = color_map[idx],legend = exp.pertubation_name) for idx,exp in enumerate(experiments.values())]\n",
    "fig.show()"
   ]
  },
  {
   "cell_type": "markdown",
   "metadata": {},
   "source": [
    "Calculate and plot mean property (time series,  mean per frame of all movies)"
   ]
  },
  {
   "cell_type": "code",
   "execution_count": null,
   "metadata": {},
   "outputs": [
    {
     "name": "stderr",
     "output_type": "stream",
     "text": [
      "g:\\Documents\\experiment_analysis\\data_analysis\\Experiment.py:121: RuntimeWarning:\n",
      "\n",
      "Mean of empty slice\n",
      "\n"
     ]
    },
    {
     "data": {
      "text/plain": [
       "<matplotlib.legend.Legend at 0x1ee687a2e60>"
      ]
     },
     "execution_count": 53,
     "metadata": {},
     "output_type": "execute_result"
    }
   ],
   "source": [
    "from scipy import stats\n",
    "\n",
    "\n",
    "exp = experiments[list(experiments.keys())[0]]\n",
    "prop = 'pitch_y_frame'\n",
    "prop = 'r'\n",
    "prop = 'CM_dot_dot_projected'\n",
    "props = ['delta_ang','delta_ang']\n",
    "\n",
    "window = (73*3)//2\n",
    "fig,ax = plt.subplots(2,1,sharex=True)\n",
    "max_prop = {}\n",
    "for idx,prop in enumerate(props):\n",
    "    max_prop[prop] = [] \n",
    "    for exp in experiments.values():\n",
    "        mov_to_keep = []\n",
    "        acc_mean,time_inter = exp.mean_time_series_prop(prop,'vectors')\n",
    "        time_to_check = (time_inter > 0 ) & (time_inter <100 )\n",
    "        time_for_max = time_inter[time_to_check]\n",
    "        max_prop[prop].append(time_for_max[np.nanargmax(acc_mean[time_to_check])])\n",
    "        ax[idx].plot(time_inter,acc_mean, label = exp.experiment_name)\n",
    "\n",
    "\n",
    "plt.legend()"
   ]
  },
  {
   "cell_type": "markdown",
   "metadata": {},
   "source": [
    "Try PCA"
   ]
  },
  {
   "cell_type": "code",
   "execution_count": null,
   "metadata": {},
   "outputs": [
    {
     "name": "stderr",
     "output_type": "stream",
     "text": [
      "C:\\Users\\Roni\\AppData\\Local\\Temp\\ipykernel_31184\\2630784800.py:13: RuntimeWarning:\n",
      "\n",
      "Mean of empty slice\n",
      "\n",
      "C:\\Users\\Roni\\AppData\\Local\\Temp\\ipykernel_31184\\2630784800.py:13: RuntimeWarning:\n",
      "\n",
      "Mean of empty slice\n",
      "\n",
      "C:\\Users\\Roni\\AppData\\Local\\Temp\\ipykernel_31184\\2630784800.py:13: RuntimeWarning:\n",
      "\n",
      "Mean of empty slice\n",
      "\n",
      "c:\\Users\\Roni\\anaconda3\\lib\\site-packages\\sklearn\\cluster\\_kmeans.py:1382: UserWarning:\n",
      "\n",
      "KMeans is known to have a memory leak on Windows with MKL, when there are less chunks than available threads. You can avoid it by setting the environment variable OMP_NUM_THREADS=1.\n",
      "\n"
     ]
    },
    {
     "name": "stdout",
     "output_type": "stream",
     "text": [
      "[0 0 0 0 0 0 0 2 2 2 0 0 2 1 0 0 1 0 2 2 2 2 2 0 0 2 2 2 0 0 0 2 0 0 2 2 0\n",
      " 0 2]\n"
     ]
    },
    {
     "data": {
      "text/plain": [
       "array([[ 2.58930919e-03, -3.21593360e-07, -9.99996648e-01],\n",
       "       [-9.99996645e-01, -7.69076209e-05, -2.58930916e-03]])"
      ]
     },
     "execution_count": 19,
     "metadata": {},
     "output_type": "execute_result"
    }
   ],
   "source": [
    "from sklearn.decomposition import PCA\n",
    "import pandas as pd\n",
    "from sklearn.cluster import KMeans\n",
    "\n",
    "mov_feat = []\n",
    "props = ['CM_dot_dot_projected','CM_dot_projected','pitch_y_frame_dot_dot']\n",
    "\n",
    "exp_pd = []\n",
    "for exp in list(experiments.values())[0:3]:\n",
    "    mov_feat = []\n",
    "    for idx,mov_name in enumerate(exp.mov_names):\n",
    "        mov = exp.get_mov(mov_name)\n",
    "        mov_feat.append(np.nanmean(mov.data['body'][15:60,:],axis = 0))\n",
    "\n",
    "    featpd_exp = pd.DataFrame(data = mov_feat,columns = mov.header['body'])\n",
    "    featpd_exp['exp_name'] = exp.experiment_name\n",
    "    featpd_exp['mov'] = exp.mov_names\n",
    "    exp_pd.append(featpd_exp)\n",
    "\n",
    "feat = pd.concat(exp_pd,axis = 0).dropna().reset_index()\n",
    "\n",
    "\n",
    "dataforpca = feat[props]\n",
    "n_comp = 2\n",
    "pca = PCA(n_components=n_comp)\n",
    "principalComponents = pca.fit_transform(dataforpca)\n",
    "principalDf = pd.DataFrame(data = principalComponents\n",
    "             , columns = [f'pca_{idx}' for idx in range(n_comp)])\n",
    "\n",
    "pca_name = [f'pca_{idx}' for idx in range(pca.n_components_)]\n",
    "\n",
    "\n",
    "featpd = pd.concat([feat, principalDf], axis = 1)\n",
    "kmeans = KMeans(n_clusters=3, random_state=0, n_init=\"auto\").fit(featpd[pca_name])\n",
    "print(kmeans.labels_)\n",
    "pca.components_\n"
   ]
  },
  {
   "cell_type": "code",
   "execution_count": null,
   "metadata": {},
   "outputs": [
    {
     "name": "stderr",
     "output_type": "stream",
     "text": [
      "c:\\Users\\Roni\\Documents\\experiment-analysis\\data_analysis\\Experiment.py:112: RuntimeWarning:\n",
      "\n",
      "Mean of empty slice\n",
      "\n"
     ]
    }
   ],
   "source": [
    "\n",
    "fig = go.Figure()\n",
    "\n",
    "for lbl in np.unique(kmeans.labels_):\n",
    "    exp_names = np.unique(feat.iloc[kmeans.labels_==lbl]['exp_name'])\n",
    "    feat_lbl = feat.iloc[kmeans.labels_==lbl]\n",
    "    for idx,exp_name in enumerate(exp_names): \n",
    "        mov_exp_lbl = list(feat_lbl.loc[feat_lbl['exp_name'] == exp_name]['mov'])\n",
    "\n",
    "        prop = 'pitch_y_frame_dot'\n",
    "        prop = 'CM_dot_dot_projected'\n",
    "        # prop = 'pitch_body'\n",
    "\n",
    "        color_map = colormap.datad[\"tab10\"]['listed']\n",
    "\n",
    "        experiments[exp_name].plot_prop_movies(prop,'body',fig,mov = mov_exp_lbl,case = 'plot_exp',prop_x = 'time',color = color_map[lbl],legend = f'{exp_name}_cluster{lbl}')\n",
    "fig.show()\n",
    "# feat.iloc[kmeans.labels_==lbl]['exp_name'] == exp_names[0]\n",
    "from scipy import stats\n",
    "\n",
    "\n",
    "exp = experiments[list(experiments.keys())[0]]\n",
    "prop = 'pitch_y_frame'\n",
    "prop = 'q'\n",
    "prop = 'CM_dot_dot_projected'\n",
    "props = ['pitch_y_frame_dot_dot','pitch_y_frame_dot']\n",
    "\n",
    "window = (73*3)//2\n",
    "fig,ax = plt.subplots(2,1,sharex=True)\n",
    "max_prop = {}\n",
    "for idx,prop in enumerate(props):\n",
    "    max_prop[prop] = [] \n",
    "    for exp in experiments.values():\n",
    "        mov_to_keep = []\n",
    "        acc_mean,time_inter = exp.mean_time_series_prop(prop,'body')\n",
    "        time_to_check = (time_inter > 0 ) & (time_inter <100 )\n",
    "        time_for_max = time_inter[time_to_check]\n",
    "        max_prop[prop].append(time_for_max[np.nanargmax(acc_mean[time_to_check])])\n",
    "        ax[idx].plot(time_inter,acc_mean)"
   ]
  },
  {
   "cell_type": "markdown",
   "metadata": {},
   "source": [
    "Plot and save figures"
   ]
  },
  {
   "cell_type": "code",
   "execution_count": null,
   "metadata": {},
   "outputs": [
    {
     "data": {
      "text/plain": [
       "<Experiment.Experiment at 0x2b537c203d0>"
      ]
     },
     "execution_count": 11,
     "metadata": {},
     "output_type": "execute_result"
    }
   ],
   "source": [
    "exp"
   ]
  },
  {
   "cell_type": "code",
   "execution_count": null,
   "metadata": {},
   "outputs": [],
   "source": [
    "import plotly.graph_objects as go\n",
    "import plotly\n",
    "import matplotlib.cm as colormap\n",
    "color_map = colormap.datad[\"tab10\"]['listed']\n",
    "\n",
    "\n",
    "\n",
    "def plot_and_save_movie_prop(exp,yprop,wing_body,title,add_horizontal_line = None):\n",
    "    \n",
    "    fig = go.Figure()\n",
    "\n",
    "    exp.plot_prop_movies(yprop,wing_body,fig,case = 'plot_mov',prop_x = 'time',add_horizontal_line = add_horizontal_line)\n",
    "    fig.update_layout(title = title)\n",
    "   \n",
    "    fig.show()\n",
    "    plotly.offline.plot(fig, filename=f'{exp.figures_path}/{yprop}_plot.html',auto_open=False)\n",
    "\n",
    "\n",
    "\n",
    "\n",
    "for exp in experiments:\n",
    "    try:\n",
    "        exp = experiments[exp]\n",
    "        exp.plot_3d_traj_movies('CM_dot_dot_x_projected',save_plot = True, mov = False)\n",
    "\n",
    "        plot_and_save_movie_prop(exp, 'slip_angle_beta', 'vectors','dot product between Xbody_xy and V_xy', add_horizontal_line = 0)\n",
    "        plot_and_save_movie_prop(exp, 'delta_ang_CM_dot_x','vectors','dot product between initial V_xy and V_xy',add_horizontal_line = None)\n",
    "        plot_and_save_movie_prop(exp, 'delta_ang_Xax','vectors','dot product between initial Xbody_xy and Xbody_xy',add_horizontal_line = None)\n",
    "\n",
    "        plot_and_save_movie_prop(exp, 'CM_dot_dot_x_projected','acceleration projected on XY',wing_body = 'body',add_horizontal_line = 0)\n",
    "        plot_and_save_movie_prop(exp, 'pitch_y_frame','pitch angle rotated to first frame', 'body',add_horizontal_line = 0)\n",
    "        plot_and_save_movie_prop(exp, 'pitch_y_frame_dot','pitch_dot rotated to first frame' 'body',add_horizontal_line = 0)\n",
    "        plot_and_save_movie_prop(exp, 'CM_dot_x_projected','velocity projected on XY', 'body',add_horizontal_line = 0)\n",
    "    except:\n",
    "        continue\n",
    "    # exp.mean_mean_props_movies('phi_rw_min_val','phi_lw_min_val','mean_wing','mean_front_phi')\n",
    "    # exp.mean_mean_props_movies('phi_rw','phi_lw','mean_wing','mean_mean_phi')\n",
    "\n",
    "    # plot_and_save_movie_prop(exp,yprop = 'mean_front_phi',wing_body = 'mean_wing')\n",
    "    # plot_and_save_movie_prop(exp,yprop = 'mean_mean_phi',wing_body = 'mean_wing')\n",
    "\n"
   ]
  }
 ],
 "metadata": {
  "kernelspec": {
   "display_name": "base",
   "language": "python",
   "name": "python3"
  },
  "language_info": {
   "codemirror_mode": {
    "name": "ipython",
    "version": 3
   },
   "file_extension": ".py",
   "mimetype": "text/x-python",
   "name": "python",
   "nbconvert_exporter": "python",
   "pygments_lexer": "ipython3",
   "version": "3.10.9"
  }
 },
 "nbformat": 4,
 "nbformat_minor": 2
}
