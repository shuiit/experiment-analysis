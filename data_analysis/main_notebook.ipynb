{
 "cells": [
  {
   "cell_type": "code",
   "execution_count": 1,
   "metadata": {},
   "outputs": [],
   "source": [
    "\n",
    "from Experiment import Experiment\n",
    "import matplotlib.pyplot as plt\n",
    "%matplotlib qt\n",
    "\n",
    "loadir = 'H:/My Drive/dark 2022/csv_dark/' # dir to save the data frame in # H:\\My Drive\\Ronis Exp\\sagiv\\data_analysis\n",
    "exp_name = ['manipulated_2022_01_31_dark']#['2022_02_03','2022_03_10','2022_05_19','2022_03_03'] # 22_11_28\n",
    "ref_frame = 0\n",
    "\n",
    "experiment = Experiment(loadir,exp_name[0])\n"
   ]
  },
  {
   "cell_type": "code",
   "execution_count": 3,
   "metadata": {},
   "outputs": [],
   "source": [
    "fig = experiment.plot_movies('time','pitch_y_frame', case = 'plot_mov', fig = False, mov = False)\n",
    "fig.show()\n",
    "fig = experiment.plot_movies('time','pitch_y_frame', case = 'plot_exp', fig = False, mov = False)\n",
    "fig.show()\n",
    "fig = experiment.plot_movies('time','pitch_body', case = 'plot_mov', fig = False, mov = False)\n",
    "fig.show()\n",
    "\n",
    "fig = experiment.plot_movies('time','CM_xy', case = 'plot_mov', fig = False, mov = False)\n",
    "fig.show()"
   ]
  },
  {
   "cell_type": "code",
   "execution_count": 4,
   "metadata": {},
   "outputs": [
    {
     "ename": "KeyError",
     "evalue": "'mov1'",
     "output_type": "error",
     "traceback": [
      "\u001b[1;31m---------------------------------------------------------------------------\u001b[0m",
      "\u001b[1;31mKeyError\u001b[0m                                  Traceback (most recent call last)",
      "Cell \u001b[1;32mIn[4], line 1\u001b[0m\n\u001b[1;32m----> 1\u001b[0m \u001b[43mexperiment\u001b[49m\u001b[38;5;241;43m.\u001b[39;49m\u001b[43mexp_dict\u001b[49m\u001b[43m[\u001b[49m\u001b[38;5;124;43m'\u001b[39;49m\u001b[38;5;124;43mmov1\u001b[39;49m\u001b[38;5;124;43m'\u001b[39;49m\u001b[43m]\u001b[49m\u001b[38;5;241m.\u001b[39mheader[\u001b[38;5;124m'\u001b[39m\u001b[38;5;124mbody\u001b[39m\u001b[38;5;124m'\u001b[39m]\n",
      "\u001b[1;31mKeyError\u001b[0m: 'mov1'"
     ]
    }
   ],
   "source": [
    "experiment.exp_dict['mov1'].header['body']"
   ]
  },
  {
   "cell_type": "code",
   "execution_count": null,
   "metadata": {},
   "outputs": [],
   "source": [
    "experiment.exp_dict['mov1'].data['body'][]"
   ]
  },
  {
   "cell_type": "code",
   "execution_count": 6,
   "metadata": {},
   "outputs": [],
   "source": [
    "\n",
    "fig = experiment.plot_movies('time','pitch_y_frame', case = 'plot_mov', fig = False, mov = False)\n",
    "fig.show()\n",
    "\n",
    "\n",
    "fig = experiment.plot_movies('time','pitch_y_frame_dot', case = 'plot_mov', fig = False, mov = False)\n",
    "fig.show()"
   ]
  },
  {
   "cell_type": "code",
   "execution_count": 12,
   "metadata": {},
   "outputs": [],
   "source": [
    "\n",
    "fig = experiment.plot_movies('time','yaw_z_frame', case = 'plot_mov', fig = False, mov = False)\n",
    "fig.show()\n",
    "fig = experiment.plot_movies('time','pitch_y_frame', case = 'plot_mov', fig = False, mov = False)\n",
    "fig.show()\n",
    "fig = experiment.plot_movies('time','roll_x_frame', case = 'plot_mov', fig = False, mov = False)\n",
    "fig.show()"
   ]
  },
  {
   "cell_type": "code",
   "execution_count": 6,
   "metadata": {},
   "outputs": [],
   "source": [
    "\n",
    "fig = experiment.plot_movies('time','CM_xy_dot_dot', case = 'plot_mov', fig = False, mov = False)\n",
    "fig.show()"
   ]
  },
  {
   "cell_type": "code",
   "execution_count": 32,
   "metadata": {},
   "outputs": [
    {
     "data": {
      "text/plain": [
       "array([-0.01120494108875665, -0.01091411000928482, -0.01062909751261977,\n",
       "       ..., 0.034560426105704624, 0.03410571371421179,\n",
       "       0.03364042511486203], dtype=object)"
      ]
     },
     "execution_count": 32,
     "metadata": {},
     "output_type": "execute_result"
    }
   ],
   "source": [
    "experiment.exp_dict[mov].data['body'][:,25] - experiment.exp_dict[mov].data['body'][:,25][experiment.exp_dict[mov].ref_frame]"
   ]
  },
  {
   "cell_type": "code",
   "execution_count": 19,
   "metadata": {},
   "outputs": [
    {
     "ename": "TypeError",
     "evalue": "can't multiply sequence by non-int of type 'list'",
     "output_type": "error",
     "traceback": [
      "\u001b[1;31m---------------------------------------------------------------------------\u001b[0m",
      "\u001b[1;31mTypeError\u001b[0m                                 Traceback (most recent call last)",
      "Cell \u001b[1;32mIn[19], line 1\u001b[0m\n\u001b[1;32m----> 1\u001b[0m [[\u001b[38;5;124m'\u001b[39m\u001b[38;5;124myaw_z_frame\u001b[39m\u001b[38;5;124m'\u001b[39m,\u001b[38;5;124m'\u001b[39m\u001b[38;5;124mpitch_y_frame\u001b[39m\u001b[38;5;124m'\u001b[39m,\u001b[38;5;124m'\u001b[39m\u001b[38;5;124mroll_x_frame\u001b[39m\u001b[38;5;124m'\u001b[39m] \u001b[38;5;241m*\u001b[39m [deriv] \u001b[38;5;28;01mfor\u001b[39;00m deriv \u001b[38;5;129;01min\u001b[39;00m [\u001b[38;5;124m'\u001b[39m\u001b[38;5;124m'\u001b[39m,\u001b[38;5;124m'\u001b[39m\u001b[38;5;124m_dot\u001b[39m\u001b[38;5;124m'\u001b[39m,\u001b[38;5;124m'\u001b[39m\u001b[38;5;124m_dot_dot\u001b[39m\u001b[38;5;124m'\u001b[39m]]\n",
      "Cell \u001b[1;32mIn[19], line 1\u001b[0m, in \u001b[0;36m<listcomp>\u001b[1;34m(.0)\u001b[0m\n\u001b[1;32m----> 1\u001b[0m [\u001b[43m[\u001b[49m\u001b[38;5;124;43m'\u001b[39;49m\u001b[38;5;124;43myaw_z_frame\u001b[39;49m\u001b[38;5;124;43m'\u001b[39;49m\u001b[43m,\u001b[49m\u001b[38;5;124;43m'\u001b[39;49m\u001b[38;5;124;43mpitch_y_frame\u001b[39;49m\u001b[38;5;124;43m'\u001b[39;49m\u001b[43m,\u001b[49m\u001b[38;5;124;43m'\u001b[39;49m\u001b[38;5;124;43mroll_x_frame\u001b[39;49m\u001b[38;5;124;43m'\u001b[39;49m\u001b[43m]\u001b[49m\u001b[43m \u001b[49m\u001b[38;5;241;43m*\u001b[39;49m\u001b[43m \u001b[49m\u001b[43m[\u001b[49m\u001b[43mderiv\u001b[49m\u001b[43m]\u001b[49m \u001b[38;5;28;01mfor\u001b[39;00m deriv \u001b[38;5;129;01min\u001b[39;00m [\u001b[38;5;124m'\u001b[39m\u001b[38;5;124m'\u001b[39m,\u001b[38;5;124m'\u001b[39m\u001b[38;5;124m_dot\u001b[39m\u001b[38;5;124m'\u001b[39m,\u001b[38;5;124m'\u001b[39m\u001b[38;5;124m_dot_dot\u001b[39m\u001b[38;5;124m'\u001b[39m]]\n",
      "\u001b[1;31mTypeError\u001b[0m: can't multiply sequence by non-int of type 'list'"
     ]
    }
   ],
   "source": [
    " [['yaw_z_frame','pitch_y_frame','roll_x_frame'] * [deriv] for deriv in ['','_dot','_dot_dot']]"
   ]
  },
  {
   "cell_type": "code",
   "execution_count": 15,
   "metadata": {},
   "outputs": [
    {
     "ename": "IndexError",
     "evalue": "index 25 is out of bounds for axis 1 with size 24",
     "output_type": "error",
     "traceback": [
      "\u001b[1;31m---------------------------------------------------------------------------\u001b[0m",
      "\u001b[1;31mIndexError\u001b[0m                                Traceback (most recent call last)",
      "Cell \u001b[1;32mIn[15], line 4\u001b[0m\n\u001b[0;32m      1\u001b[0m \u001b[38;5;28;01mimport\u001b[39;00m \u001b[38;5;21;01mnumpy\u001b[39;00m \u001b[38;5;28;01mas\u001b[39;00m \u001b[38;5;21;01mnp\u001b[39;00m\n\u001b[0;32m      2\u001b[0m \u001b[38;5;28;01mfor\u001b[39;00m mov \u001b[38;5;129;01min\u001b[39;00m experiment\u001b[38;5;241m.\u001b[39mexp_dict\u001b[38;5;241m.\u001b[39mkeys():\n\u001b[1;32m----> 4\u001b[0m    experiment\u001b[38;5;241m.\u001b[39mexp_dict[mov]\u001b[38;5;241m.\u001b[39mdata[\u001b[38;5;124m'\u001b[39m\u001b[38;5;124mbody\u001b[39m\u001b[38;5;124m'\u001b[39m]\u001b[38;5;241m=\u001b[39mnp\u001b[38;5;241m.\u001b[39mhstack((experiment\u001b[38;5;241m.\u001b[39mexp_dict[mov]\u001b[38;5;241m.\u001b[39mdata[\u001b[38;5;124m'\u001b[39m\u001b[38;5;124mbody\u001b[39m\u001b[38;5;124m'\u001b[39m], (\u001b[43mexperiment\u001b[49m\u001b[38;5;241;43m.\u001b[39;49m\u001b[43mexp_dict\u001b[49m\u001b[43m[\u001b[49m\u001b[43mmov\u001b[49m\u001b[43m]\u001b[49m\u001b[38;5;241;43m.\u001b[39;49m\u001b[43mdata\u001b[49m\u001b[43m[\u001b[49m\u001b[38;5;124;43m'\u001b[39;49m\u001b[38;5;124;43mbody\u001b[39;49m\u001b[38;5;124;43m'\u001b[39;49m\u001b[43m]\u001b[49m\u001b[43m[\u001b[49m\u001b[43m:\u001b[49m\u001b[43m,\u001b[49m\u001b[38;5;241;43m25\u001b[39;49m\u001b[43m]\u001b[49m \u001b[38;5;241m-\u001b[39m experiment\u001b[38;5;241m.\u001b[39mexp_dict[mov]\u001b[38;5;241m.\u001b[39mdata[\u001b[38;5;124m'\u001b[39m\u001b[38;5;124mbody\u001b[39m\u001b[38;5;124m'\u001b[39m][experiment\u001b[38;5;241m.\u001b[39mexp_dict[mov]\u001b[38;5;241m.\u001b[39mref_frame,\u001b[38;5;241m25\u001b[39m])[np\u001b[38;5;241m.\u001b[39mnewaxis,:]\u001b[38;5;241m.\u001b[39mT))\n\u001b[0;32m      5\u001b[0m    experiment\u001b[38;5;241m.\u001b[39mexp_dict[mov]\u001b[38;5;241m.\u001b[39mheader[\u001b[38;5;124m'\u001b[39m\u001b[38;5;124mbody\u001b[39m\u001b[38;5;124m'\u001b[39m][\u001b[38;5;124m'\u001b[39m\u001b[38;5;124mcm_test_dot\u001b[39m\u001b[38;5;124m'\u001b[39m] \u001b[38;5;241m=\u001b[39m experiment\u001b[38;5;241m.\u001b[39mexp_dict[mov]\u001b[38;5;241m.\u001b[39mdata[\u001b[38;5;124m'\u001b[39m\u001b[38;5;124mbody\u001b[39m\u001b[38;5;124m'\u001b[39m]\u001b[38;5;241m.\u001b[39mshape[\u001b[38;5;241m1\u001b[39m] \u001b[38;5;241m-\u001b[39m \u001b[38;5;241m1\u001b[39m\n\u001b[0;32m      6\u001b[0m fig \u001b[38;5;241m=\u001b[39m experiment\u001b[38;5;241m.\u001b[39mplot_movies(\u001b[38;5;124m'\u001b[39m\u001b[38;5;124mtime\u001b[39m\u001b[38;5;124m'\u001b[39m,\u001b[38;5;124m'\u001b[39m\u001b[38;5;124mcm_test_dot\u001b[39m\u001b[38;5;124m'\u001b[39m, case \u001b[38;5;241m=\u001b[39m \u001b[38;5;124m'\u001b[39m\u001b[38;5;124mplot_mov\u001b[39m\u001b[38;5;124m'\u001b[39m, fig \u001b[38;5;241m=\u001b[39m \u001b[38;5;28;01mFalse\u001b[39;00m, mov \u001b[38;5;241m=\u001b[39m \u001b[38;5;28;01mFalse\u001b[39;00m)\n",
      "\u001b[1;31mIndexError\u001b[0m: index 25 is out of bounds for axis 1 with size 24"
     ]
    }
   ],
   "source": [
    "import numpy as np\n",
    "from scipy.signal import argrelextrema, savgol_filter,find_peaks\n",
    "\n",
    "idx = experiment.exp_dict['mov1'].header['body']['pitch_y_frame']\n",
    "for mov in experiment.exp_dict.keys():\n",
    "\n",
    "   experiment.exp_dict[mov].data['body']=np.hstack((experiment.exp_dict[mov].data['body'], (experiment.exp_dict[mov].data['body'][:,25] - experiment.exp_dict[mov].data['body'][experiment.exp_dict[mov].ref_frame,25])[np.newaxis,:].T))\n",
    "   experiment.exp_dict[mov].header['body']['cm_test_dot'] = experiment.exp_dict[mov].data['body'].shape[1] - 1\n",
    "fig = experiment.plot_movies('time','cm_test_dot', case = 'plot_mov', fig = False, mov = False)\n",
    "fig.show()"
   ]
  }
 ],
 "metadata": {
  "kernelspec": {
   "display_name": "base",
   "language": "python",
   "name": "python3"
  },
  "language_info": {
   "codemirror_mode": {
    "name": "ipython",
    "version": 3
   },
   "file_extension": ".py",
   "mimetype": "text/x-python",
   "name": "python",
   "nbconvert_exporter": "python",
   "pygments_lexer": "ipython3",
   "version": "3.10.9"
  }
 },
 "nbformat": 4,
 "nbformat_minor": 2
}
