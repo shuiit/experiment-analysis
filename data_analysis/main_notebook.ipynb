{
 "cells": [
  {
   "cell_type": "code",
   "execution_count": 1,
   "metadata": {},
   "outputs": [
    {
     "ename": "KeyboardInterrupt",
     "evalue": "",
     "output_type": "error",
     "traceback": [
      "\u001b[1;31m---------------------------------------------------------------------------\u001b[0m",
      "\u001b[1;31mKeyboardInterrupt\u001b[0m                         Traceback (most recent call last)",
      "Cell \u001b[1;32mIn[1], line 9\u001b[0m\n\u001b[0;32m      6\u001b[0m exp_name \u001b[38;5;241m=\u001b[39m [\u001b[38;5;124m'\u001b[39m\u001b[38;5;124mmanipulated_2023_08_10_100ms\u001b[39m\u001b[38;5;124m'\u001b[39m,\u001b[38;5;124m'\u001b[39m\u001b[38;5;124mmanipulated_2022_02_03_dark\u001b[39m\u001b[38;5;124m'\u001b[39m]\u001b[38;5;66;03m#['2022_02_03','2022_03_10','2022_05_19','2022_03_03'] # 22_11_28\u001b[39;00m\n\u001b[0;32m      7\u001b[0m ref_frame \u001b[38;5;241m=\u001b[39m \u001b[38;5;241m0\u001b[39m\n\u001b[1;32m----> 9\u001b[0m experiment \u001b[38;5;241m=\u001b[39m \u001b[43mExperiment\u001b[49m\u001b[43m(\u001b[49m\u001b[43mloadir\u001b[49m\u001b[43m,\u001b[49m\u001b[43mexp_name\u001b[49m\u001b[43m[\u001b[49m\u001b[38;5;241;43m0\u001b[39;49m\u001b[43m]\u001b[49m\u001b[43m)\u001b[49m\n\u001b[0;32m     10\u001b[0m experiment2 \u001b[38;5;241m=\u001b[39m Experiment(loadir,exp_name[\u001b[38;5;241m1\u001b[39m])\n",
      "File \u001b[1;32mg:\\Documents\\experiment_analysis\\data_analysis\\Experiment.py:23\u001b[0m, in \u001b[0;36mExperiment.__init__\u001b[1;34m(self, loadir, exp_name, movie_name_list)\u001b[0m\n\u001b[0;32m     21\u001b[0m \u001b[38;5;28mself\u001b[39m\u001b[38;5;241m.\u001b[39mcolor_map \u001b[38;5;241m=\u001b[39m colormap\u001b[38;5;241m.\u001b[39mdatad[\u001b[38;5;124m\"\u001b[39m\u001b[38;5;124mtab10\u001b[39m\u001b[38;5;124m\"\u001b[39m][\u001b[38;5;124m'\u001b[39m\u001b[38;5;124mlisted\u001b[39m\u001b[38;5;124m'\u001b[39m]\n\u001b[0;32m     22\u001b[0m \u001b[38;5;28mself\u001b[39m\u001b[38;5;241m.\u001b[39mmov_names \u001b[38;5;241m=\u001b[39m \u001b[38;5;28mlist\u001b[39m(\u001b[38;5;28mself\u001b[39m\u001b[38;5;241m.\u001b[39mexperiment\u001b[38;5;241m.\u001b[39mkeys()) \u001b[38;5;28;01mif\u001b[39;00m movie_name_list \u001b[38;5;241m==\u001b[39m \u001b[38;5;28;01mFalse\u001b[39;00m \u001b[38;5;28;01melse\u001b[39;00m movie_name_list\n\u001b[1;32m---> 23\u001b[0m \u001b[38;5;28mself\u001b[39m\u001b[38;5;241m.\u001b[39mexp_dict \u001b[38;5;241m=\u001b[39m {mov : ManipulatedMovie(\u001b[38;5;28mself\u001b[39m\u001b[38;5;241m.\u001b[39mexperiment,mov) \u001b[38;5;28;01mfor\u001b[39;00m mov \u001b[38;5;129;01min\u001b[39;00m \u001b[38;5;28mself\u001b[39m\u001b[38;5;241m.\u001b[39mmov_names}\n",
      "File \u001b[1;32mg:\\Documents\\experiment_analysis\\data_analysis\\Experiment.py:23\u001b[0m, in \u001b[0;36m<dictcomp>\u001b[1;34m(.0)\u001b[0m\n\u001b[0;32m     21\u001b[0m \u001b[38;5;28mself\u001b[39m\u001b[38;5;241m.\u001b[39mcolor_map \u001b[38;5;241m=\u001b[39m colormap\u001b[38;5;241m.\u001b[39mdatad[\u001b[38;5;124m\"\u001b[39m\u001b[38;5;124mtab10\u001b[39m\u001b[38;5;124m\"\u001b[39m][\u001b[38;5;124m'\u001b[39m\u001b[38;5;124mlisted\u001b[39m\u001b[38;5;124m'\u001b[39m]\n\u001b[0;32m     22\u001b[0m \u001b[38;5;28mself\u001b[39m\u001b[38;5;241m.\u001b[39mmov_names \u001b[38;5;241m=\u001b[39m \u001b[38;5;28mlist\u001b[39m(\u001b[38;5;28mself\u001b[39m\u001b[38;5;241m.\u001b[39mexperiment\u001b[38;5;241m.\u001b[39mkeys()) \u001b[38;5;28;01mif\u001b[39;00m movie_name_list \u001b[38;5;241m==\u001b[39m \u001b[38;5;28;01mFalse\u001b[39;00m \u001b[38;5;28;01melse\u001b[39;00m movie_name_list\n\u001b[1;32m---> 23\u001b[0m \u001b[38;5;28mself\u001b[39m\u001b[38;5;241m.\u001b[39mexp_dict \u001b[38;5;241m=\u001b[39m {mov : \u001b[43mManipulatedMovie\u001b[49m\u001b[43m(\u001b[49m\u001b[38;5;28;43mself\u001b[39;49m\u001b[38;5;241;43m.\u001b[39;49m\u001b[43mexperiment\u001b[49m\u001b[43m,\u001b[49m\u001b[43mmov\u001b[49m\u001b[43m)\u001b[49m \u001b[38;5;28;01mfor\u001b[39;00m mov \u001b[38;5;129;01min\u001b[39;00m \u001b[38;5;28mself\u001b[39m\u001b[38;5;241m.\u001b[39mmov_names}\n",
      "File \u001b[1;32mg:\\Documents\\experiment_analysis\\data_analysis\\ManipulatedMovie.py:22\u001b[0m, in \u001b[0;36mManipulatedMovie.__init__\u001b[1;34m(self, experiment, mov_name)\u001b[0m\n\u001b[0;32m     20\u001b[0m \u001b[38;5;28;01mdef\u001b[39;00m \u001b[38;5;21m__init__\u001b[39m(\u001b[38;5;28mself\u001b[39m,experiment,mov_name):    \n\u001b[0;32m     21\u001b[0m     \u001b[38;5;28mself\u001b[39m\u001b[38;5;241m.\u001b[39mmov \u001b[38;5;241m=\u001b[39m {}\n\u001b[1;32m---> 22\u001b[0m     \u001b[38;5;28mself\u001b[39m\u001b[38;5;241m.\u001b[39mdata \u001b[38;5;241m=\u001b[39m {dict_name:np\u001b[38;5;241m.\u001b[39marray(experiment[mov_name][dict_name]) \u001b[38;5;28;01mfor\u001b[39;00m dict_name \u001b[38;5;129;01min\u001b[39;00m experiment[mov_name]\u001b[38;5;241m.\u001b[39mkeys()}\n\u001b[0;32m     23\u001b[0m     \u001b[38;5;28mself\u001b[39m\u001b[38;5;241m.\u001b[39mheader \u001b[38;5;241m=\u001b[39m {dict_name:\u001b[38;5;28mself\u001b[39m\u001b[38;5;241m.\u001b[39mget_header(experiment[mov_name][dict_name]) \u001b[38;5;28;01mfor\u001b[39;00m dict_name \u001b[38;5;129;01min\u001b[39;00m experiment[mov_name]\u001b[38;5;241m.\u001b[39mkeys()}\n\u001b[0;32m     24\u001b[0m     \u001b[38;5;28mself\u001b[39m\u001b[38;5;241m.\u001b[39mname \u001b[38;5;241m=\u001b[39m mov_name\n",
      "File \u001b[1;32mg:\\Documents\\experiment_analysis\\data_analysis\\ManipulatedMovie.py:22\u001b[0m, in \u001b[0;36m<dictcomp>\u001b[1;34m(.0)\u001b[0m\n\u001b[0;32m     20\u001b[0m \u001b[38;5;28;01mdef\u001b[39;00m \u001b[38;5;21m__init__\u001b[39m(\u001b[38;5;28mself\u001b[39m,experiment,mov_name):    \n\u001b[0;32m     21\u001b[0m     \u001b[38;5;28mself\u001b[39m\u001b[38;5;241m.\u001b[39mmov \u001b[38;5;241m=\u001b[39m {}\n\u001b[1;32m---> 22\u001b[0m     \u001b[38;5;28mself\u001b[39m\u001b[38;5;241m.\u001b[39mdata \u001b[38;5;241m=\u001b[39m {dict_name:np\u001b[38;5;241m.\u001b[39marray(\u001b[43mexperiment\u001b[49m\u001b[43m[\u001b[49m\u001b[43mmov_name\u001b[49m\u001b[43m]\u001b[49m\u001b[43m[\u001b[49m\u001b[43mdict_name\u001b[49m\u001b[43m]\u001b[49m) \u001b[38;5;28;01mfor\u001b[39;00m dict_name \u001b[38;5;129;01min\u001b[39;00m experiment[mov_name]\u001b[38;5;241m.\u001b[39mkeys()}\n\u001b[0;32m     23\u001b[0m     \u001b[38;5;28mself\u001b[39m\u001b[38;5;241m.\u001b[39mheader \u001b[38;5;241m=\u001b[39m {dict_name:\u001b[38;5;28mself\u001b[39m\u001b[38;5;241m.\u001b[39mget_header(experiment[mov_name][dict_name]) \u001b[38;5;28;01mfor\u001b[39;00m dict_name \u001b[38;5;129;01min\u001b[39;00m experiment[mov_name]\u001b[38;5;241m.\u001b[39mkeys()}\n\u001b[0;32m     24\u001b[0m     \u001b[38;5;28mself\u001b[39m\u001b[38;5;241m.\u001b[39mname \u001b[38;5;241m=\u001b[39m mov_name\n",
      "File \u001b[1;32mh5py\\_objects.pyx:54\u001b[0m, in \u001b[0;36mh5py._objects.with_phil.wrapper\u001b[1;34m()\u001b[0m\n",
      "File \u001b[1;32mh5py\\_objects.pyx:55\u001b[0m, in \u001b[0;36mh5py._objects.with_phil.wrapper\u001b[1;34m()\u001b[0m\n",
      "File \u001b[1;32mc:\\Users\\Roni\\anaconda3\\lib\\site-packages\\h5py\\_hl\\group.py:328\u001b[0m, in \u001b[0;36mGroup.__getitem__\u001b[1;34m(self, name)\u001b[0m\n\u001b[0;32m    326\u001b[0m         \u001b[38;5;28;01mraise\u001b[39;00m \u001b[38;5;167;01mValueError\u001b[39;00m(\u001b[38;5;124m\"\u001b[39m\u001b[38;5;124mInvalid HDF5 object reference\u001b[39m\u001b[38;5;124m\"\u001b[39m)\n\u001b[0;32m    327\u001b[0m \u001b[38;5;28;01melif\u001b[39;00m \u001b[38;5;28misinstance\u001b[39m(name, (\u001b[38;5;28mbytes\u001b[39m, \u001b[38;5;28mstr\u001b[39m)):\n\u001b[1;32m--> 328\u001b[0m     oid \u001b[38;5;241m=\u001b[39m \u001b[43mh5o\u001b[49m\u001b[38;5;241;43m.\u001b[39;49m\u001b[43mopen\u001b[49m\u001b[43m(\u001b[49m\u001b[38;5;28;43mself\u001b[39;49m\u001b[38;5;241;43m.\u001b[39;49m\u001b[43mid\u001b[49m\u001b[43m,\u001b[49m\u001b[43m \u001b[49m\u001b[38;5;28;43mself\u001b[39;49m\u001b[38;5;241;43m.\u001b[39;49m\u001b[43m_e\u001b[49m\u001b[43m(\u001b[49m\u001b[43mname\u001b[49m\u001b[43m)\u001b[49m\u001b[43m,\u001b[49m\u001b[43m \u001b[49m\u001b[43mlapl\u001b[49m\u001b[38;5;241;43m=\u001b[39;49m\u001b[38;5;28;43mself\u001b[39;49m\u001b[38;5;241;43m.\u001b[39;49m\u001b[43m_lapl\u001b[49m\u001b[43m)\u001b[49m\n\u001b[0;32m    329\u001b[0m \u001b[38;5;28;01melse\u001b[39;00m:\n\u001b[0;32m    330\u001b[0m     \u001b[38;5;28;01mraise\u001b[39;00m \u001b[38;5;167;01mTypeError\u001b[39;00m(\u001b[38;5;124m\"\u001b[39m\u001b[38;5;124mAccessing a group is done with bytes or str, \u001b[39m\u001b[38;5;124m\"\u001b[39m\n\u001b[0;32m    331\u001b[0m                     \u001b[38;5;124m\"\u001b[39m\u001b[38;5;124m not \u001b[39m\u001b[38;5;132;01m{}\u001b[39;00m\u001b[38;5;124m\"\u001b[39m\u001b[38;5;241m.\u001b[39mformat(\u001b[38;5;28mtype\u001b[39m(name)))\n",
      "File \u001b[1;32mh5py\\_objects.pyx:54\u001b[0m, in \u001b[0;36mh5py._objects.with_phil.wrapper\u001b[1;34m()\u001b[0m\n",
      "File \u001b[1;32mh5py\\_objects.pyx:55\u001b[0m, in \u001b[0;36mh5py._objects.with_phil.wrapper\u001b[1;34m()\u001b[0m\n",
      "File \u001b[1;32mh5py\\h5o.pyx:190\u001b[0m, in \u001b[0;36mh5py.h5o.open\u001b[1;34m()\u001b[0m\n",
      "File \u001b[1;32mh5py\\h5i.pyx:43\u001b[0m, in \u001b[0;36mh5py.h5i.wrap_identifier\u001b[1;34m()\u001b[0m\n",
      "File \u001b[1;32m<frozen importlib._bootstrap>:408\u001b[0m, in \u001b[0;36mparent\u001b[1;34m(self)\u001b[0m\n",
      "\u001b[1;31mKeyboardInterrupt\u001b[0m: "
     ]
    }
   ],
   "source": [
    "\n",
    "from Experiment import Experiment\n",
    "import matplotlib.pyplot as plt\n",
    "%matplotlib qt\n",
    "\n",
    "loadir = 'H:/My Drive/dark 2022/csv_dark/' # dir to save the data frame in # H:\\My Drive\\Ronis Exp\\sagiv\\data_analysis\n",
    "exp_name = ['manipulated_2023_08_10_100ms','manipulated_2022_02_03_dark']#['2022_02_03','2022_03_10','2022_05_19','2022_03_03'] # 22_11_28\n",
    "ref_frame = 0\n",
    "\n",
    "experiment = Experiment(loadir,exp_name[0])\n",
    "experiment2 = Experiment(loadir,exp_name[1])\n",
    "\n",
    "\n"
   ]
  },
  {
   "cell_type": "code",
   "execution_count": null,
   "metadata": {},
   "outputs": [
    {
     "ename": "UnboundLocalError",
     "evalue": "local variable 'color' referenced before assignment",
     "output_type": "error",
     "traceback": [
      "\u001b[1;31m---------------------------------------------------------------------------\u001b[0m",
      "\u001b[1;31mUnboundLocalError\u001b[0m                         Traceback (most recent call last)",
      "Cell \u001b[1;32mIn[14], line 1\u001b[0m\n\u001b[1;32m----> 1\u001b[0m fig \u001b[38;5;241m=\u001b[39m \u001b[43mexperiment\u001b[49m\u001b[38;5;241;43m.\u001b[39;49m\u001b[43mplot_movies\u001b[49m\u001b[43m(\u001b[49m\u001b[38;5;124;43m'\u001b[39;49m\u001b[38;5;124;43mtime\u001b[39;49m\u001b[38;5;124;43m'\u001b[39;49m\u001b[43m,\u001b[49m\u001b[38;5;124;43m'\u001b[39;49m\u001b[38;5;124;43mCM_xy_dot\u001b[39;49m\u001b[38;5;124;43m'\u001b[39;49m\u001b[43m,\u001b[49m\u001b[43m \u001b[49m\u001b[43mcase\u001b[49m\u001b[43m \u001b[49m\u001b[38;5;241;43m=\u001b[39;49m\u001b[43m \u001b[49m\u001b[38;5;124;43m'\u001b[39;49m\u001b[38;5;124;43mplot_exp\u001b[39;49m\u001b[38;5;124;43m'\u001b[39;49m\u001b[43m,\u001b[49m\u001b[43m \u001b[49m\u001b[43mfig\u001b[49m\u001b[43m \u001b[49m\u001b[38;5;241;43m=\u001b[39;49m\u001b[43m \u001b[49m\u001b[38;5;28;43;01mFalse\u001b[39;49;00m\u001b[43m,\u001b[49m\u001b[43m \u001b[49m\u001b[43mmov\u001b[49m\u001b[43m \u001b[49m\u001b[38;5;241;43m=\u001b[39;49m\u001b[43m \u001b[49m\u001b[38;5;28;43;01mFalse\u001b[39;49;00m\u001b[43m)\u001b[49m\n\u001b[0;32m      2\u001b[0m fig \u001b[38;5;241m=\u001b[39m experiment2\u001b[38;5;241m.\u001b[39mplot_movies(\u001b[38;5;124m'\u001b[39m\u001b[38;5;124mtime\u001b[39m\u001b[38;5;124m'\u001b[39m,\u001b[38;5;124m'\u001b[39m\u001b[38;5;124mCM_xy_dot\u001b[39m\u001b[38;5;124m'\u001b[39m, case \u001b[38;5;241m=\u001b[39m \u001b[38;5;124m'\u001b[39m\u001b[38;5;124mplot_exp\u001b[39m\u001b[38;5;124m'\u001b[39m, fig \u001b[38;5;241m=\u001b[39m fig, mov \u001b[38;5;241m=\u001b[39m \u001b[38;5;28;01mFalse\u001b[39;00m)\n\u001b[0;32m      4\u001b[0m fig\u001b[38;5;241m.\u001b[39mshow()\n",
      "File \u001b[1;32mg:\\Documents\\experiment_analysis\\data_analysis\\Experiment.py:39\u001b[0m, in \u001b[0;36mExperiment.plot_movies\u001b[1;34m(self, x_name, y_name, case, fig, mov, prop)\u001b[0m\n\u001b[0;32m     37\u001b[0m mov_names \u001b[38;5;241m=\u001b[39m \u001b[38;5;28mself\u001b[39m\u001b[38;5;241m.\u001b[39mmov_names \u001b[38;5;28;01mif\u001b[39;00m mov \u001b[38;5;241m==\u001b[39m \u001b[38;5;28;01mFalse\u001b[39;00m \u001b[38;5;28;01melse\u001b[39;00m mov\n\u001b[0;32m     38\u001b[0m fig \u001b[38;5;241m=\u001b[39m go\u001b[38;5;241m.\u001b[39mFigure() \u001b[38;5;28;01mif\u001b[39;00m fig \u001b[38;5;241m==\u001b[39m \u001b[38;5;28;01mFalse\u001b[39;00m \u001b[38;5;28;01melse\u001b[39;00m fig\n\u001b[1;32m---> 39\u001b[0m [\u001b[38;5;28mself\u001b[39m\u001b[38;5;241m.\u001b[39mcases_plot_exp_mov(case,mov_name,x_name,y_name,fig,i \u001b[38;5;241m+\u001b[39m \u001b[38;5;241m2\u001b[39m,prop \u001b[38;5;241m=\u001b[39m prop) \u001b[38;5;28;01mfor\u001b[39;00m i,mov_name \u001b[38;5;129;01min\u001b[39;00m \u001b[38;5;28menumerate\u001b[39m(\u001b[38;5;28mlist\u001b[39m(mov_names))]        \n\u001b[0;32m     40\u001b[0m \u001b[38;5;28;01mreturn\u001b[39;00m fig\n",
      "File \u001b[1;32mg:\\Documents\\experiment_analysis\\data_analysis\\Experiment.py:39\u001b[0m, in \u001b[0;36m<listcomp>\u001b[1;34m(.0)\u001b[0m\n\u001b[0;32m     37\u001b[0m mov_names \u001b[38;5;241m=\u001b[39m \u001b[38;5;28mself\u001b[39m\u001b[38;5;241m.\u001b[39mmov_names \u001b[38;5;28;01mif\u001b[39;00m mov \u001b[38;5;241m==\u001b[39m \u001b[38;5;28;01mFalse\u001b[39;00m \u001b[38;5;28;01melse\u001b[39;00m mov\n\u001b[0;32m     38\u001b[0m fig \u001b[38;5;241m=\u001b[39m go\u001b[38;5;241m.\u001b[39mFigure() \u001b[38;5;28;01mif\u001b[39;00m fig \u001b[38;5;241m==\u001b[39m \u001b[38;5;28;01mFalse\u001b[39;00m \u001b[38;5;28;01melse\u001b[39;00m fig\n\u001b[1;32m---> 39\u001b[0m [\u001b[38;5;28;43mself\u001b[39;49m\u001b[38;5;241;43m.\u001b[39;49m\u001b[43mcases_plot_exp_mov\u001b[49m\u001b[43m(\u001b[49m\u001b[43mcase\u001b[49m\u001b[43m,\u001b[49m\u001b[43mmov_name\u001b[49m\u001b[43m,\u001b[49m\u001b[43mx_name\u001b[49m\u001b[43m,\u001b[49m\u001b[43my_name\u001b[49m\u001b[43m,\u001b[49m\u001b[43mfig\u001b[49m\u001b[43m,\u001b[49m\u001b[43mi\u001b[49m\u001b[43m \u001b[49m\u001b[38;5;241;43m+\u001b[39;49m\u001b[43m \u001b[49m\u001b[38;5;241;43m2\u001b[39;49m\u001b[43m,\u001b[49m\u001b[43mprop\u001b[49m\u001b[43m \u001b[49m\u001b[38;5;241;43m=\u001b[39;49m\u001b[43m \u001b[49m\u001b[43mprop\u001b[49m\u001b[43m)\u001b[49m \u001b[38;5;28;01mfor\u001b[39;00m i,mov_name \u001b[38;5;129;01min\u001b[39;00m \u001b[38;5;28menumerate\u001b[39m(\u001b[38;5;28mlist\u001b[39m(mov_names))]        \n\u001b[0;32m     40\u001b[0m \u001b[38;5;28;01mreturn\u001b[39;00m fig\n",
      "File \u001b[1;32mg:\\Documents\\experiment_analysis\\data_analysis\\Experiment.py:26\u001b[0m, in \u001b[0;36mExperiment.cases_plot_exp_mov\u001b[1;34m(self, case, mov_name, x_name, y_name, fig, i, prop, showlegend)\u001b[0m\n\u001b[0;32m     25\u001b[0m \u001b[38;5;28;01mdef\u001b[39;00m \u001b[38;5;21mcases_plot_exp_mov\u001b[39m(\u001b[38;5;28mself\u001b[39m,case,mov_name,x_name,y_name,fig,i,prop \u001b[38;5;241m=\u001b[39m \u001b[38;5;124m'\u001b[39m\u001b[38;5;124mbody\u001b[39m\u001b[38;5;124m'\u001b[39m,showlegend \u001b[38;5;241m=\u001b[39m \u001b[38;5;28;01mTrue\u001b[39;00m):\n\u001b[1;32m---> 26\u001b[0m     \u001b[38;5;28;01mif\u001b[39;00m \u001b[38;5;124m'\u001b[39m\u001b[38;5;124mplot_exp\u001b[39m\u001b[38;5;124m'\u001b[39m \u001b[38;5;241m==\u001b[39m case: color,name,mode \u001b[38;5;241m=\u001b[39m \u001b[43mcolor\u001b[49m,\u001b[38;5;28mself\u001b[39m\u001b[38;5;241m.\u001b[39mpertubation_name,\u001b[38;5;124m'\u001b[39m\u001b[38;5;124mlines\u001b[39m\u001b[38;5;124m'\u001b[39m\n\u001b[0;32m     27\u001b[0m     \u001b[38;5;28;01mif\u001b[39;00m (\u001b[38;5;124m'\u001b[39m\u001b[38;5;124mplot_exp\u001b[39m\u001b[38;5;124m'\u001b[39m \u001b[38;5;241m==\u001b[39m case) \u001b[38;5;241m|\u001b[39m (\u001b[38;5;124m'\u001b[39m\u001b[38;5;124mplot_mean_with_t\u001b[39m\u001b[38;5;124m'\u001b[39m \u001b[38;5;241m==\u001b[39m case):showlegend \u001b[38;5;241m=\u001b[39m \u001b[38;5;28;01mTrue\u001b[39;00m \u001b[38;5;28;01mif\u001b[39;00m i \u001b[38;5;241m==\u001b[39m \u001b[38;5;241m2\u001b[39m \u001b[38;5;28;01melse\u001b[39;00m \u001b[38;5;28;01mFalse\u001b[39;00m\n\u001b[0;32m     28\u001b[0m     \u001b[38;5;28;01mif\u001b[39;00m \u001b[38;5;124m'\u001b[39m\u001b[38;5;124mplot_mov\u001b[39m\u001b[38;5;124m'\u001b[39m \u001b[38;5;241m==\u001b[39m case: color,name,mode \u001b[38;5;241m=\u001b[39m i\u001b[38;5;241m%\u001b[39m\u001b[38;5;28mlen\u001b[39m(\u001b[38;5;28mself\u001b[39m\u001b[38;5;241m.\u001b[39mcolor_map),mov_name,\u001b[38;5;124m'\u001b[39m\u001b[38;5;124mlines\u001b[39m\u001b[38;5;124m'\u001b[39m\n",
      "\u001b[1;31mUnboundLocalError\u001b[0m: local variable 'color' referenced before assignment"
     ]
    }
   ],
   "source": [
    "\n",
    "fig = experiment.plot_movies('time','CM_xy_dot', case = 'plot_exp', fig = False, mov = False)\n",
    "fig = experiment2.plot_movies('time','CM_xy_dot', case = 'plot_exp', fig = fig, mov = False)\n",
    "\n",
    "fig.show()\n",
    "fig = experiment.plot_movies('time','pitch_y_frame', case = 'plot_exp', fig = False, mov = False)\n",
    "fig = experiment2.plot_movies('time','pitch_y_frame', case = 'plot_exp', fig = fig, mov = False)\n",
    "\n",
    "\n",
    "fig.show()\n"
   ]
  },
  {
   "cell_type": "code",
   "execution_count": 10,
   "metadata": {},
   "outputs": [],
   "source": [
    "mov = [1,11,12,13,14,17,20,21,22,24,25,3,30,32,35,37,38,39,4,41,43,44,48,5,52,54,6,61,66,67,68,70,72,73,76,8]\n",
    "mov_name = [f'mov{mov}' for mov in mov]\n",
    "\n",
    "fig = experiment.plot_movies('time','CM_xy_dot', case = 'plot_mov', fig = False, mov = False)\n",
    "fig.show()\n",
    "fig = experiment.plot_movies('time','pitch_y_frame', case = 'plot_mov', fig = False, mov = False,prop = 'mean_body')\n",
    "\n",
    "fig.show()\n",
    "\n",
    "fig = experiment.plot_movies('CM_real_y_body','CM_real_x_body', case = 'plot_mov', fig = False, mov = False)\n",
    "fig.show()"
   ]
  },
  {
   "cell_type": "code",
   "execution_count": 3,
   "metadata": {},
   "outputs": [],
   "source": [
    "data = experiment.exp_dict['mov2'].data['body']\n",
    "\n"
   ]
  },
  {
   "cell_type": "code",
   "execution_count": 64,
   "metadata": {},
   "outputs": [
    {
     "data": {
      "text/plain": [
       "array([ 169.,  170.,  171., ..., 4066., 4067., 4068.])"
      ]
     },
     "execution_count": 64,
     "metadata": {},
     "output_type": "execute_result"
    }
   ],
   "source": [
    "idx_frame = experiment.exp_dict['mov2'].header['body']['frames']\n",
    "data['mov3'].data['body'][:,idx_frame]"
   ]
  },
  {
   "cell_type": "code",
   "execution_count": 3,
   "metadata": {},
   "outputs": [],
   "source": [
    "import numpy as np\n",
    "mov = [1,11,12,13,14,17,20,21,22,24,25,3,30,32,35,37,38,39,4,41,43,44,48,5,52,54,6,61,66,67,68,70,72,73,76,8]\n",
    "mov_name = [f'mov{mov}' for mov in mov]\n",
    "idx = experiment.exp_dict['mov2'].header['body']['CM_xy_dot']\n",
    "idx_time = experiment.exp_dict['mov2'].header['body']['time']\n",
    "idx_vecolity = experiment.exp_dict['mov2'].header['body']['CM_xy_dot']\n",
    "idx_pitch = experiment.exp_dict['mov2'].header['body']['pitch_body']\n",
    "\n",
    "\n",
    "data = experiment.exp_dict\n",
    "\n",
    "time_zero_v = np.hstack([data[mov_name].data['body'][np.where(np.diff(np.sign(data[mov_name].data['body'][:,idx]))<0)[0],idx_time] for mov_name in mov_name])\n",
    "time_min_v = np.hstack([data[mov_name].data['body'][np.argmin(data[mov_name].data['body'][:,idx_vecolity]),idx_time] for mov_name in mov_name])\n",
    "time_max_pitch = np.hstack([data[mov_name].data['body'][np.argmax(data[mov_name].data['body'][:,idx_pitch]),idx_time] for mov_name in mov_name])\n",
    "\n"
   ]
  },
  {
   "cell_type": "code",
   "execution_count": 55,
   "metadata": {},
   "outputs": [
    {
     "data": {
      "text/plain": [
       "dict_keys(['body', 'mean_body', 'mean_wing', 'vectors', 'wing'])"
      ]
     },
     "execution_count": 55,
     "metadata": {},
     "output_type": "execute_result"
    }
   ],
   "source": [
    "data['mov2'].data.keys()"
   ]
  },
  {
   "cell_type": "code",
   "execution_count": 7,
   "metadata": {},
   "outputs": [
    {
     "data": {
      "text/plain": [
       "(array([1., 0., 0., 0., 4., 4., 6., 4., 8., 2., 4., 1., 1., 0., 1.]),\n",
       " array([  1.25      ,  12.13333333,  23.01666667,  33.9       ,\n",
       "         44.78333333,  55.66666667,  66.55      ,  77.43333333,\n",
       "         88.31666667,  99.2       , 110.08333333, 120.96666667,\n",
       "        131.85      , 142.73333333, 153.61666667, 164.5       ]),\n",
       " <BarContainer object of 15 artists>)"
      ]
     },
     "execution_count": 7,
     "metadata": {},
     "output_type": "execute_result"
    }
   ],
   "source": [
    "plt.figure()\n",
    "plt.hist(time_zero_v,bins = 15)\n",
    "plt.figure()\n",
    "\n",
    "plt.hist(time_min_v,bins = 15)\n",
    "plt.figure()\n",
    "\n",
    "plt.hist(time_max_pitch,bins = 15)"
   ]
  },
  {
   "cell_type": "code",
   "execution_count": 4,
   "metadata": {},
   "outputs": [
    {
     "data": {
      "text/plain": [
       "{'pitch_body': 0,\n",
       " 'yaw_body': 1,\n",
       " 'roll_body': 2,\n",
       " 'pitch_body_dot': 3,\n",
       " 'yaw_body_dot': 4,\n",
       " 'roll_body_dot': 5,\n",
       " 'pitch_body_dot_dot': 6,\n",
       " 'yaw_body_dot_dot': 7,\n",
       " 'roll_body_dot_dot': 8,\n",
       " 'frames': 9,\n",
       " 'time': 10,\n",
       " 'CM_real_x_body': 11,\n",
       " 'CM_real_y_body': 12,\n",
       " 'CM_real_z_body': 13,\n",
       " 'phi_rw_max_idx': 14,\n",
       " 'phi_lw_max_idx': 15,\n",
       " 'phi_rw_min_idx': 16,\n",
       " 'phi_lw_min_idx': 17,\n",
       " 'CM_xy': 18,\n",
       " 'CM_xy_dot': 19,\n",
       " 'CM_xy_dot_dot': 20,\n",
       " 'yaw_z_frame': 21,\n",
       " 'pitch_y_frame': 22,\n",
       " 'roll_x_frame': 23,\n",
       " 'yaw_z_frame_dot': 24,\n",
       " 'pitch_y_frame_dot': 25,\n",
       " 'roll_x_frame_dot': 26,\n",
       " 'yaw_z_frame_dot_dot': 27,\n",
       " 'pitch_y_frame_dot_dot': 28,\n",
       " 'roll_x_frame_dot_dot': 29,\n",
       " 'mean_idx': 30}"
      ]
     },
     "execution_count": 4,
     "metadata": {},
     "output_type": "execute_result"
    }
   ],
   "source": [
    "experiment.exp_dict['mov1'].header['mean_body']"
   ]
  },
  {
   "cell_type": "code",
   "execution_count": 78,
   "metadata": {},
   "outputs": [
    {
     "ename": "UnboundLocalError",
     "evalue": "local variable 'color' referenced before assignment",
     "output_type": "error",
     "traceback": [
      "\u001b[1;31m---------------------------------------------------------------------------\u001b[0m",
      "\u001b[1;31mUnboundLocalError\u001b[0m                         Traceback (most recent call last)",
      "Cell \u001b[1;32mIn[78], line 7\u001b[0m\n\u001b[0;32m      3\u001b[0m mov \u001b[38;5;241m=\u001b[39m [\u001b[38;5;241m1\u001b[39m,\u001b[38;5;241m10\u001b[39m,\u001b[38;5;241m11\u001b[39m,\u001b[38;5;241m13\u001b[39m,\u001b[38;5;241m15\u001b[39m,\u001b[38;5;241m16\u001b[39m,\u001b[38;5;241m17\u001b[39m,\u001b[38;5;241m2\u001b[39m,\u001b[38;5;241m4\u001b[39m,\u001b[38;5;241m5\u001b[39m,\u001b[38;5;241m6\u001b[39m,\u001b[38;5;241m7\u001b[39m,\u001b[38;5;241m8\u001b[39m,\u001b[38;5;241m9\u001b[39m]\n\u001b[0;32m      4\u001b[0m mov_name2 \u001b[38;5;241m=\u001b[39m [\u001b[38;5;124mf\u001b[39m\u001b[38;5;124m'\u001b[39m\u001b[38;5;124mmov\u001b[39m\u001b[38;5;132;01m{\u001b[39;00mmov\u001b[38;5;132;01m}\u001b[39;00m\u001b[38;5;124m'\u001b[39m \u001b[38;5;28;01mfor\u001b[39;00m mov \u001b[38;5;129;01min\u001b[39;00m mov]\n\u001b[1;32m----> 7\u001b[0m fig \u001b[38;5;241m=\u001b[39m \u001b[43mexperiment\u001b[49m\u001b[38;5;241;43m.\u001b[39;49m\u001b[43mplot_movies\u001b[49m\u001b[43m(\u001b[49m\u001b[38;5;124;43m'\u001b[39;49m\u001b[38;5;124;43mtime\u001b[39;49m\u001b[38;5;124;43m'\u001b[39;49m\u001b[43m,\u001b[49m\u001b[38;5;124;43m'\u001b[39;49m\u001b[38;5;124;43mpitch_y_frame_dot\u001b[39;49m\u001b[38;5;124;43m'\u001b[39;49m\u001b[43m,\u001b[49m\u001b[43m \u001b[49m\u001b[43mcase\u001b[49m\u001b[43m \u001b[49m\u001b[38;5;241;43m=\u001b[39;49m\u001b[43m \u001b[49m\u001b[38;5;124;43m'\u001b[39;49m\u001b[38;5;124;43mplot_exp\u001b[39;49m\u001b[38;5;124;43m'\u001b[39;49m\u001b[43m,\u001b[49m\u001b[43m \u001b[49m\u001b[43mfig\u001b[49m\u001b[43m \u001b[49m\u001b[38;5;241;43m=\u001b[39;49m\u001b[43m \u001b[49m\u001b[38;5;28;43;01mFalse\u001b[39;49;00m\u001b[43m,\u001b[49m\u001b[43m \u001b[49m\u001b[43mmov\u001b[49m\u001b[43m \u001b[49m\u001b[38;5;241;43m=\u001b[39;49m\u001b[43m \u001b[49m\u001b[43mmov_name\u001b[49m\u001b[43m)\u001b[49m\n\u001b[0;32m      8\u001b[0m fig\u001b[38;5;241m.\u001b[39mshow()\n\u001b[0;32m     10\u001b[0m fig \u001b[38;5;241m=\u001b[39m experiment\u001b[38;5;241m.\u001b[39mplot_movies(\u001b[38;5;124m'\u001b[39m\u001b[38;5;124mtime\u001b[39m\u001b[38;5;124m'\u001b[39m,\u001b[38;5;124m'\u001b[39m\u001b[38;5;124mpitch_body\u001b[39m\u001b[38;5;124m'\u001b[39m, case \u001b[38;5;241m=\u001b[39m \u001b[38;5;124m'\u001b[39m\u001b[38;5;124mplot_exp\u001b[39m\u001b[38;5;124m'\u001b[39m, fig \u001b[38;5;241m=\u001b[39m \u001b[38;5;28;01mFalse\u001b[39;00m, mov \u001b[38;5;241m=\u001b[39m mov_name)\n",
      "File \u001b[1;32mg:\\Documents\\experiment_analysis\\data_analysis\\Experiment.py:38\u001b[0m, in \u001b[0;36mExperiment.plot_movies\u001b[1;34m(self, x_name, y_name, case, fig, mov, prop)\u001b[0m\n\u001b[0;32m     36\u001b[0m mov_names \u001b[38;5;241m=\u001b[39m \u001b[38;5;28mself\u001b[39m\u001b[38;5;241m.\u001b[39mmov_names \u001b[38;5;28;01mif\u001b[39;00m mov \u001b[38;5;241m==\u001b[39m \u001b[38;5;28;01mFalse\u001b[39;00m \u001b[38;5;28;01melse\u001b[39;00m mov\n\u001b[0;32m     37\u001b[0m fig \u001b[38;5;241m=\u001b[39m go\u001b[38;5;241m.\u001b[39mFigure() \u001b[38;5;28;01mif\u001b[39;00m fig \u001b[38;5;241m==\u001b[39m \u001b[38;5;28;01mFalse\u001b[39;00m \u001b[38;5;28;01melse\u001b[39;00m fig\n\u001b[1;32m---> 38\u001b[0m [\u001b[38;5;28mself\u001b[39m\u001b[38;5;241m.\u001b[39mcases_plot_exp_mov(case,mov_name,x_name,y_name,fig,i \u001b[38;5;241m+\u001b[39m \u001b[38;5;241m2\u001b[39m,prop \u001b[38;5;241m=\u001b[39m prop) \u001b[38;5;28;01mfor\u001b[39;00m i,mov_name \u001b[38;5;129;01min\u001b[39;00m \u001b[38;5;28menumerate\u001b[39m(\u001b[38;5;28mlist\u001b[39m(mov_names))]        \n\u001b[0;32m     39\u001b[0m \u001b[38;5;28;01mreturn\u001b[39;00m fig\n",
      "File \u001b[1;32mg:\\Documents\\experiment_analysis\\data_analysis\\Experiment.py:38\u001b[0m, in \u001b[0;36m<listcomp>\u001b[1;34m(.0)\u001b[0m\n\u001b[0;32m     36\u001b[0m mov_names \u001b[38;5;241m=\u001b[39m \u001b[38;5;28mself\u001b[39m\u001b[38;5;241m.\u001b[39mmov_names \u001b[38;5;28;01mif\u001b[39;00m mov \u001b[38;5;241m==\u001b[39m \u001b[38;5;28;01mFalse\u001b[39;00m \u001b[38;5;28;01melse\u001b[39;00m mov\n\u001b[0;32m     37\u001b[0m fig \u001b[38;5;241m=\u001b[39m go\u001b[38;5;241m.\u001b[39mFigure() \u001b[38;5;28;01mif\u001b[39;00m fig \u001b[38;5;241m==\u001b[39m \u001b[38;5;28;01mFalse\u001b[39;00m \u001b[38;5;28;01melse\u001b[39;00m fig\n\u001b[1;32m---> 38\u001b[0m [\u001b[38;5;28;43mself\u001b[39;49m\u001b[38;5;241;43m.\u001b[39;49m\u001b[43mcases_plot_exp_mov\u001b[49m\u001b[43m(\u001b[49m\u001b[43mcase\u001b[49m\u001b[43m,\u001b[49m\u001b[43mmov_name\u001b[49m\u001b[43m,\u001b[49m\u001b[43mx_name\u001b[49m\u001b[43m,\u001b[49m\u001b[43my_name\u001b[49m\u001b[43m,\u001b[49m\u001b[43mfig\u001b[49m\u001b[43m,\u001b[49m\u001b[43mi\u001b[49m\u001b[43m \u001b[49m\u001b[38;5;241;43m+\u001b[39;49m\u001b[43m \u001b[49m\u001b[38;5;241;43m2\u001b[39;49m\u001b[43m,\u001b[49m\u001b[43mprop\u001b[49m\u001b[43m \u001b[49m\u001b[38;5;241;43m=\u001b[39;49m\u001b[43m \u001b[49m\u001b[43mprop\u001b[49m\u001b[43m)\u001b[49m \u001b[38;5;28;01mfor\u001b[39;00m i,mov_name \u001b[38;5;129;01min\u001b[39;00m \u001b[38;5;28menumerate\u001b[39m(\u001b[38;5;28mlist\u001b[39m(mov_names))]        \n\u001b[0;32m     39\u001b[0m \u001b[38;5;28;01mreturn\u001b[39;00m fig\n",
      "File \u001b[1;32mg:\\Documents\\experiment_analysis\\data_analysis\\Experiment.py:26\u001b[0m, in \u001b[0;36mExperiment.cases_plot_exp_mov\u001b[1;34m(self, case, mov_name, x_name, y_name, fig, i, prop, showlegend)\u001b[0m\n\u001b[0;32m     25\u001b[0m \u001b[38;5;28;01mdef\u001b[39;00m \u001b[38;5;21mcases_plot_exp_mov\u001b[39m(\u001b[38;5;28mself\u001b[39m,case,mov_name,x_name,y_name,fig,i,prop \u001b[38;5;241m=\u001b[39m \u001b[38;5;124m'\u001b[39m\u001b[38;5;124mbody\u001b[39m\u001b[38;5;124m'\u001b[39m,showlegend \u001b[38;5;241m=\u001b[39m \u001b[38;5;28;01mTrue\u001b[39;00m):\n\u001b[1;32m---> 26\u001b[0m     \u001b[38;5;28;01mif\u001b[39;00m \u001b[38;5;124m'\u001b[39m\u001b[38;5;124mplot_exp\u001b[39m\u001b[38;5;124m'\u001b[39m \u001b[38;5;241m==\u001b[39m case: color,name,mode \u001b[38;5;241m=\u001b[39m \u001b[43mcolor\u001b[49m,\u001b[38;5;28mself\u001b[39m\u001b[38;5;241m.\u001b[39mpertubation_name,\u001b[38;5;124m'\u001b[39m\u001b[38;5;124mlines\u001b[39m\u001b[38;5;124m'\u001b[39m\n\u001b[0;32m     27\u001b[0m     \u001b[38;5;28;01mif\u001b[39;00m (\u001b[38;5;124m'\u001b[39m\u001b[38;5;124mplot_exp\u001b[39m\u001b[38;5;124m'\u001b[39m \u001b[38;5;241m==\u001b[39m case) \u001b[38;5;241m|\u001b[39m (\u001b[38;5;124m'\u001b[39m\u001b[38;5;124mplot_mean\u001b[39m\u001b[38;5;124m'\u001b[39m \u001b[38;5;241m==\u001b[39m case):showlegend \u001b[38;5;241m=\u001b[39m \u001b[38;5;28;01mTrue\u001b[39;00m \u001b[38;5;28;01mif\u001b[39;00m i \u001b[38;5;241m==\u001b[39m \u001b[38;5;241m2\u001b[39m \u001b[38;5;28;01melse\u001b[39;00m \u001b[38;5;28;01mFalse\u001b[39;00m\n\u001b[0;32m     28\u001b[0m     \u001b[38;5;28;01mif\u001b[39;00m \u001b[38;5;124m'\u001b[39m\u001b[38;5;124mplot_mov\u001b[39m\u001b[38;5;124m'\u001b[39m \u001b[38;5;241m==\u001b[39m case: color,name,mode \u001b[38;5;241m=\u001b[39m i\u001b[38;5;241m%\u001b[39m\u001b[38;5;28mlen\u001b[39m(\u001b[38;5;28mself\u001b[39m\u001b[38;5;241m.\u001b[39mcolor_map),mov_name,\u001b[38;5;124m'\u001b[39m\u001b[38;5;124mlines\u001b[39m\u001b[38;5;124m'\u001b[39m\n",
      "\u001b[1;31mUnboundLocalError\u001b[0m: local variable 'color' referenced before assignment"
     ]
    }
   ],
   "source": [
    "mov = [1,11,12,13,14,17,20,21,22,24,25,3,30,32,35,37,38,39,4,41,43,44,48,5,52,54,6,61,66,67,68,7,70,72,73,76,8]\n",
    "mov_name = [f'mov{mov}' for mov in mov]\n",
    "mov = [1,10,11,13,15,16,17,2,4,5,6,7,8,9]\n",
    "mov_name2 = [f'mov{mov}' for mov in mov]\n",
    "\n",
    "\n",
    "fig = experiment.plot_movies('time','pitch_y_frame_dot', case = 'plot_exp', fig = False, mov = mov_name)\n",
    "fig.show()\n",
    "\n",
    "fig = experiment.plot_movies('time','pitch_body', case = 'plot_exp', fig = False, mov = mov_name)\n",
    "fig.show()\n"
   ]
  },
  {
   "cell_type": "code",
   "execution_count": 25,
   "metadata": {},
   "outputs": [],
   "source": [
    "\n",
    "fig = experiment.plot_movies('time','CM_xy_dot', case = 'plot_exp', fig = False, mov = mov_name)\n",
    "fig = experiment2.plot_movies('time','CM_xy_dot', case = 'plot_exp', fig = fig, mov = mov_name2,color = 3)\n",
    "fig.show()\n"
   ]
  },
  {
   "cell_type": "code",
   "execution_count": 22,
   "metadata": {},
   "outputs": [],
   "source": [
    "mov_name = False\n",
    "mov = [1,10,11,13,15,16,17,2,4,5,6,7,8,9]\n",
    "mov_name = [f'mov{mov}' for mov in mov]\n",
    "\n",
    "fig = experiment2.plot_movies('time','pitch_y_frame', case = 'plot_mov', fig = False, mov = mov_name)\n",
    "fig.show()\n",
    "fig = experiment2.plot_movies('time','pitch_body', case = 'plot_mov', fig = False, mov = mov_name)\n",
    "fig.show()"
   ]
  },
  {
   "cell_type": "code",
   "execution_count": 10,
   "metadata": {},
   "outputs": [],
   "source": [
    "\n",
    "fig = experiment.plot_movies('time','pitch_y_frame', case = 'plot_mov', fig = False, mov = mov_name)\n",
    "fig.show()\n",
    "fig = experiment.plot_movies('time','pitch_body', case = 'plot_mov', fig = False, mov = mov_name)\n",
    "fig.show()\n",
    "\n",
    "\n",
    "fig = experiment.plot_movies('time','roll_x_frame', case = 'plot_mov', fig = False, mov = mov_name)\n",
    "fig.show()\n",
    "fig = experiment.plot_movies('time','roll_body', case = 'plot_mov', fig = False, mov = mov_name)\n",
    "fig.show()\n",
    "\n",
    "fig = experiment.plot_movies('time','yaw_z_frame', case = 'plot_mov', fig = False, mov = mov_name)\n",
    "fig.show()\n",
    "fig = experiment.plot_movies('time','yaw_body', case = 'plot_mov', fig = False, mov = mov_name)\n",
    "fig.show()"
   ]
  },
  {
   "cell_type": "code",
   "execution_count": null,
   "metadata": {},
   "outputs": [],
   "source": [
    "experiment.exp_dict['mov1'].data['body'][]"
   ]
  },
  {
   "cell_type": "code",
   "execution_count": 6,
   "metadata": {},
   "outputs": [],
   "source": [
    "\n",
    "fig = experiment.plot_movies('time','pitch_y_frame', case = 'plot_mov', fig = False, mov = False)\n",
    "fig.show()\n",
    "\n",
    "\n",
    "fig = experiment.plot_movies('time','pitch_y_frame_dot', case = 'plot_mov', fig = False, mov = False)\n",
    "fig.show()"
   ]
  },
  {
   "cell_type": "code",
   "execution_count": 12,
   "metadata": {},
   "outputs": [],
   "source": [
    "\n",
    "fig = experiment.plot_movies('time','yaw_z_frame', case = 'plot_mov', fig = False, mov = False)\n",
    "fig.show()\n",
    "fig = experiment.plot_movies('time','pitch_y_frame', case = 'plot_mov', fig = False, mov = False)\n",
    "fig.show()\n",
    "fig = experiment.plot_movies('time','roll_x_frame', case = 'plot_mov', fig = False, mov = False)\n",
    "fig.show()"
   ]
  },
  {
   "cell_type": "code",
   "execution_count": 6,
   "metadata": {},
   "outputs": [],
   "source": [
    "\n",
    "fig = experiment.plot_movies('time','CM_xy_dot_dot', case = 'plot_mov', fig = False, mov = False)\n",
    "fig.show()"
   ]
  },
  {
   "cell_type": "code",
   "execution_count": 32,
   "metadata": {},
   "outputs": [
    {
     "data": {
      "text/plain": [
       "array([-0.01120494108875665, -0.01091411000928482, -0.01062909751261977,\n",
       "       ..., 0.034560426105704624, 0.03410571371421179,\n",
       "       0.03364042511486203], dtype=object)"
      ]
     },
     "execution_count": 32,
     "metadata": {},
     "output_type": "execute_result"
    }
   ],
   "source": [
    "experiment.exp_dict[mov].data['body'][:,25] - experiment.exp_dict[mov].data['body'][:,25][experiment.exp_dict[mov].ref_frame]"
   ]
  },
  {
   "cell_type": "code",
   "execution_count": 19,
   "metadata": {},
   "outputs": [
    {
     "ename": "TypeError",
     "evalue": "can't multiply sequence by non-int of type 'list'",
     "output_type": "error",
     "traceback": [
      "\u001b[1;31m---------------------------------------------------------------------------\u001b[0m",
      "\u001b[1;31mTypeError\u001b[0m                                 Traceback (most recent call last)",
      "Cell \u001b[1;32mIn[19], line 1\u001b[0m\n\u001b[1;32m----> 1\u001b[0m [[\u001b[38;5;124m'\u001b[39m\u001b[38;5;124myaw_z_frame\u001b[39m\u001b[38;5;124m'\u001b[39m,\u001b[38;5;124m'\u001b[39m\u001b[38;5;124mpitch_y_frame\u001b[39m\u001b[38;5;124m'\u001b[39m,\u001b[38;5;124m'\u001b[39m\u001b[38;5;124mroll_x_frame\u001b[39m\u001b[38;5;124m'\u001b[39m] \u001b[38;5;241m*\u001b[39m [deriv] \u001b[38;5;28;01mfor\u001b[39;00m deriv \u001b[38;5;129;01min\u001b[39;00m [\u001b[38;5;124m'\u001b[39m\u001b[38;5;124m'\u001b[39m,\u001b[38;5;124m'\u001b[39m\u001b[38;5;124m_dot\u001b[39m\u001b[38;5;124m'\u001b[39m,\u001b[38;5;124m'\u001b[39m\u001b[38;5;124m_dot_dot\u001b[39m\u001b[38;5;124m'\u001b[39m]]\n",
      "Cell \u001b[1;32mIn[19], line 1\u001b[0m, in \u001b[0;36m<listcomp>\u001b[1;34m(.0)\u001b[0m\n\u001b[1;32m----> 1\u001b[0m [\u001b[43m[\u001b[49m\u001b[38;5;124;43m'\u001b[39;49m\u001b[38;5;124;43myaw_z_frame\u001b[39;49m\u001b[38;5;124;43m'\u001b[39;49m\u001b[43m,\u001b[49m\u001b[38;5;124;43m'\u001b[39;49m\u001b[38;5;124;43mpitch_y_frame\u001b[39;49m\u001b[38;5;124;43m'\u001b[39;49m\u001b[43m,\u001b[49m\u001b[38;5;124;43m'\u001b[39;49m\u001b[38;5;124;43mroll_x_frame\u001b[39;49m\u001b[38;5;124;43m'\u001b[39;49m\u001b[43m]\u001b[49m\u001b[43m \u001b[49m\u001b[38;5;241;43m*\u001b[39;49m\u001b[43m \u001b[49m\u001b[43m[\u001b[49m\u001b[43mderiv\u001b[49m\u001b[43m]\u001b[49m \u001b[38;5;28;01mfor\u001b[39;00m deriv \u001b[38;5;129;01min\u001b[39;00m [\u001b[38;5;124m'\u001b[39m\u001b[38;5;124m'\u001b[39m,\u001b[38;5;124m'\u001b[39m\u001b[38;5;124m_dot\u001b[39m\u001b[38;5;124m'\u001b[39m,\u001b[38;5;124m'\u001b[39m\u001b[38;5;124m_dot_dot\u001b[39m\u001b[38;5;124m'\u001b[39m]]\n",
      "\u001b[1;31mTypeError\u001b[0m: can't multiply sequence by non-int of type 'list'"
     ]
    }
   ],
   "source": [
    " [['yaw_z_frame','pitch_y_frame','roll_x_frame'] * [deriv] for deriv in ['','_dot','_dot_dot']]"
   ]
  },
  {
   "cell_type": "code",
   "execution_count": 15,
   "metadata": {},
   "outputs": [
    {
     "ename": "IndexError",
     "evalue": "index 25 is out of bounds for axis 1 with size 24",
     "output_type": "error",
     "traceback": [
      "\u001b[1;31m---------------------------------------------------------------------------\u001b[0m",
      "\u001b[1;31mIndexError\u001b[0m                                Traceback (most recent call last)",
      "Cell \u001b[1;32mIn[15], line 4\u001b[0m\n\u001b[0;32m      1\u001b[0m \u001b[38;5;28;01mimport\u001b[39;00m \u001b[38;5;21;01mnumpy\u001b[39;00m \u001b[38;5;28;01mas\u001b[39;00m \u001b[38;5;21;01mnp\u001b[39;00m\n\u001b[0;32m      2\u001b[0m \u001b[38;5;28;01mfor\u001b[39;00m mov \u001b[38;5;129;01min\u001b[39;00m experiment\u001b[38;5;241m.\u001b[39mexp_dict\u001b[38;5;241m.\u001b[39mkeys():\n\u001b[1;32m----> 4\u001b[0m    experiment\u001b[38;5;241m.\u001b[39mexp_dict[mov]\u001b[38;5;241m.\u001b[39mdata[\u001b[38;5;124m'\u001b[39m\u001b[38;5;124mbody\u001b[39m\u001b[38;5;124m'\u001b[39m]\u001b[38;5;241m=\u001b[39mnp\u001b[38;5;241m.\u001b[39mhstack((experiment\u001b[38;5;241m.\u001b[39mexp_dict[mov]\u001b[38;5;241m.\u001b[39mdata[\u001b[38;5;124m'\u001b[39m\u001b[38;5;124mbody\u001b[39m\u001b[38;5;124m'\u001b[39m], (\u001b[43mexperiment\u001b[49m\u001b[38;5;241;43m.\u001b[39;49m\u001b[43mexp_dict\u001b[49m\u001b[43m[\u001b[49m\u001b[43mmov\u001b[49m\u001b[43m]\u001b[49m\u001b[38;5;241;43m.\u001b[39;49m\u001b[43mdata\u001b[49m\u001b[43m[\u001b[49m\u001b[38;5;124;43m'\u001b[39;49m\u001b[38;5;124;43mbody\u001b[39;49m\u001b[38;5;124;43m'\u001b[39;49m\u001b[43m]\u001b[49m\u001b[43m[\u001b[49m\u001b[43m:\u001b[49m\u001b[43m,\u001b[49m\u001b[38;5;241;43m25\u001b[39;49m\u001b[43m]\u001b[49m \u001b[38;5;241m-\u001b[39m experiment\u001b[38;5;241m.\u001b[39mexp_dict[mov]\u001b[38;5;241m.\u001b[39mdata[\u001b[38;5;124m'\u001b[39m\u001b[38;5;124mbody\u001b[39m\u001b[38;5;124m'\u001b[39m][experiment\u001b[38;5;241m.\u001b[39mexp_dict[mov]\u001b[38;5;241m.\u001b[39mref_frame,\u001b[38;5;241m25\u001b[39m])[np\u001b[38;5;241m.\u001b[39mnewaxis,:]\u001b[38;5;241m.\u001b[39mT))\n\u001b[0;32m      5\u001b[0m    experiment\u001b[38;5;241m.\u001b[39mexp_dict[mov]\u001b[38;5;241m.\u001b[39mheader[\u001b[38;5;124m'\u001b[39m\u001b[38;5;124mbody\u001b[39m\u001b[38;5;124m'\u001b[39m][\u001b[38;5;124m'\u001b[39m\u001b[38;5;124mcm_test_dot\u001b[39m\u001b[38;5;124m'\u001b[39m] \u001b[38;5;241m=\u001b[39m experiment\u001b[38;5;241m.\u001b[39mexp_dict[mov]\u001b[38;5;241m.\u001b[39mdata[\u001b[38;5;124m'\u001b[39m\u001b[38;5;124mbody\u001b[39m\u001b[38;5;124m'\u001b[39m]\u001b[38;5;241m.\u001b[39mshape[\u001b[38;5;241m1\u001b[39m] \u001b[38;5;241m-\u001b[39m \u001b[38;5;241m1\u001b[39m\n\u001b[0;32m      6\u001b[0m fig \u001b[38;5;241m=\u001b[39m experiment\u001b[38;5;241m.\u001b[39mplot_movies(\u001b[38;5;124m'\u001b[39m\u001b[38;5;124mtime\u001b[39m\u001b[38;5;124m'\u001b[39m,\u001b[38;5;124m'\u001b[39m\u001b[38;5;124mcm_test_dot\u001b[39m\u001b[38;5;124m'\u001b[39m, case \u001b[38;5;241m=\u001b[39m \u001b[38;5;124m'\u001b[39m\u001b[38;5;124mplot_mov\u001b[39m\u001b[38;5;124m'\u001b[39m, fig \u001b[38;5;241m=\u001b[39m \u001b[38;5;28;01mFalse\u001b[39;00m, mov \u001b[38;5;241m=\u001b[39m \u001b[38;5;28;01mFalse\u001b[39;00m)\n",
      "\u001b[1;31mIndexError\u001b[0m: index 25 is out of bounds for axis 1 with size 24"
     ]
    }
   ],
   "source": [
    "import numpy as np\n",
    "from scipy.signal import argrelextrema, savgol_filter,find_peaks\n",
    "\n",
    "idx = experiment.exp_dict['mov1'].header['body']['pitch_y_frame']\n",
    "for mov in experiment.exp_dict.keys():\n",
    "\n",
    "   experiment.exp_dict[mov].data['body']=np.hstack((experiment.exp_dict[mov].data['body'], (experiment.exp_dict[mov].data['body'][:,25] - experiment.exp_dict[mov].data['body'][experiment.exp_dict[mov].ref_frame,25])[np.newaxis,:].T))\n",
    "   experiment.exp_dict[mov].header['body']['cm_test_dot'] = experiment.exp_dict[mov].data['body'].shape[1] - 1\n",
    "fig = experiment.plot_movies('time','cm_test_dot', case = 'plot_mov', fig = False, mov = False)\n",
    "fig.show()"
   ]
  }
 ],
 "metadata": {
  "kernelspec": {
   "display_name": "base",
   "language": "python",
   "name": "python3"
  },
  "language_info": {
   "codemirror_mode": {
    "name": "ipython",
    "version": 3
   },
   "file_extension": ".py",
   "mimetype": "text/x-python",
   "name": "python",
   "nbconvert_exporter": "python",
   "pygments_lexer": "ipython3",
   "version": "3.10.9"
  }
 },
 "nbformat": 4,
 "nbformat_minor": 2
}
