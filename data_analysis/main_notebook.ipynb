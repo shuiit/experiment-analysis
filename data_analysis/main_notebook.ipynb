{
 "cells": [
  {
   "cell_type": "code",
   "execution_count": 6,
   "metadata": {},
   "outputs": [],
   "source": [
    "\n",
    "from Experiment import Experiment\n",
    "import matplotlib.pyplot as plt\n",
    "%matplotlib qt\n",
    "\n",
    "loadir = 'H:/My Drive/dark 2022/csv_dark/' # dir to save the data frame in # H:\\My Drive\\Ronis Exp\\sagiv\\data_analysis\n",
    "exp_name = ['2022_01_31_dark']#['2022_02_03','2022_03_10','2022_05_19','2022_03_03'] # 22_11_28\n",
    "ref_frame = 0\n",
    "\n",
    "experiment = Experiment(loadir,exp_name[0])\n"
   ]
  },
  {
   "cell_type": "code",
   "execution_count": 2,
   "metadata": {},
   "outputs": [
    {
     "data": {
      "text/plain": [
       "(4708, 30)"
      ]
     },
     "execution_count": 2,
     "metadata": {},
     "output_type": "execute_result"
    }
   ],
   "source": [
    "experiment.exp_dict['mov1'].data['body'].shape\n"
   ]
  },
  {
   "cell_type": "code",
   "execution_count": 3,
   "metadata": {},
   "outputs": [
    {
     "data": {
      "text/plain": [
       "{'pitch_body': 0,\n",
       " 'yaw_body': 1,\n",
       " 'roll_body': 2,\n",
       " 'CM_x_body': 3,\n",
       " 'CM_y_body': 4,\n",
       " 'CM_z_body': 5,\n",
       " 'CM_real_x_body': 6,\n",
       " 'CM_real_y_body': 7,\n",
       " 'CM_real_z_body': 8,\n",
       " 'pitch_body_dot': 9,\n",
       " 'yaw_body_dot': 10,\n",
       " 'roll_body_dot': 11,\n",
       " 'CM_x_body_dot': 12,\n",
       " 'CM_y_body_dot': 13,\n",
       " 'CM_z_body_dot': 14,\n",
       " 'CM_real_x_body_dot': 15,\n",
       " 'CM_real_y_body_dot': 16,\n",
       " 'CM_real_z_body_dot': 17,\n",
       " 'frames': 18,\n",
       " 'time': 19,\n",
       " 'phi_rw_max_idx': 20,\n",
       " 'phi_lw_max_idx': 21,\n",
       " 'phi_rw_min_idx': 22,\n",
       " 'phi_lw_min_idx': 23,\n",
       " 'CM_xy': 24,\n",
       " 'CM_xy_dot': 25,\n",
       " 'CM_xy_dot_dot': 26,\n",
       " 'yaw_z_frame': 27,\n",
       " 'pitch_y_frame': 28,\n",
       " 'roll_x_frame': 29}"
      ]
     },
     "execution_count": 3,
     "metadata": {},
     "output_type": "execute_result"
    }
   ],
   "source": [
    "experiment.exp_dict['mov1'].header['body']"
   ]
  },
  {
   "cell_type": "code",
   "execution_count": 4,
   "metadata": {},
   "outputs": [],
   "source": [
    "# for mov_name in list(experiment.exp_dict.keys()):\n",
    "#     mov = experiment.exp_dict[mov_name]\n",
    "#     mov.get_strokes()\n",
    "#     mov.project_body_props_on_xy(['CM_real_x_body','CM_real_y_body','CM_real_z_body'],'CM_xy')\n",
    "#     mov.calculate_angles_frame_ref_axes()\n",
    "\n"
   ]
  },
  {
   "cell_type": "code",
   "execution_count": 8,
   "metadata": {},
   "outputs": [],
   "source": [
    "fig = experiment.plot_movies('time','pitch_y_frame', case = 'plot_mov', fig = False, mov = False)\n",
    "fig.show()\n",
    "fig = experiment.plot_movies('time','pitch_y_frame', case = 'plot_exp', fig = False, mov = False)\n",
    "fig.show()\n",
    "fig = experiment.plot_movies('time','pitch_body', case = 'plot_exp', fig = False, mov = False)\n",
    "fig.show()"
   ]
  }
 ],
 "metadata": {
  "kernelspec": {
   "display_name": "base",
   "language": "python",
   "name": "python3"
  },
  "language_info": {
   "codemirror_mode": {
    "name": "ipython",
    "version": 3
   },
   "file_extension": ".py",
   "mimetype": "text/x-python",
   "name": "python",
   "nbconvert_exporter": "python",
   "pygments_lexer": "ipython3",
   "version": "3.10.9"
  }
 },
 "nbformat": 4,
 "nbformat_minor": 2
}
