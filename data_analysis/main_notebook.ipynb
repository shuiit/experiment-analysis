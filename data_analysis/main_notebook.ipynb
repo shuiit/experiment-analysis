{
 "cells": [
  {
   "cell_type": "code",
   "execution_count": 359,
   "metadata": {},
   "outputs": [
    {
     "data": {
      "text/plain": [
       "[None, None, None, None, None, None, None]"
      ]
     },
     "execution_count": 359,
     "metadata": {},
     "output_type": "execute_result"
    }
   ],
   "source": [
    "\n",
    "from Experiment import Experiment\n",
    "import matplotlib.pyplot as plt\n",
    "import Plotters \n",
    "import plotly.graph_objects as go\n",
    "import plotly\n",
    "import numpy as np\n",
    "\n",
    "import time\n",
    "import matplotlib.cm as colormap\n",
    "\n",
    "%matplotlib qt\n",
    "\n",
    "loadir = 'H:/My Drive/dark 2022/csv_dark' # dir to save the data frame in # H:\\My Drive\\Ronis Exp\\sagiv\\data_analysis\n",
    "exp_name =['manipulated_2022_02_03_dark',\n",
    "           'manipulated_2023_08_10_100ms',\n",
    "           'manipulated_2023_08_09_80ms',\n",
    "           'manipulated_2023_08_09_60ms',\n",
    "           'manipulated_2023_08_06_40ms',\n",
    "           'manipulated_2023_08_07_10ms',\n",
    "           'manipulated_2023_08_07_5ms',\n",
    "] \n",
    "color_map = colormap.datad[\"tab10\"]['listed']\n",
    "\n",
    "\n",
    "experiments = {exp:Experiment(loadir,exp) for exp in exp_name}\n",
    "[exp.smooth_prop_movies('CM_real_x_body',['','_dot','_dot_dot'],'body')  for exp in experiments.values()]\n",
    "[exp.project_prop_movies('CM_real_x_body_dot_smth')  for exp in experiments.values()]\n",
    "[exp.project_prop_movies('CM_real_x_body_dot_dot_smth',header_name = 'CM_dot_dot')  for exp in experiments.values()]\n",
    "zero_velocity = [exp.zero_velocity_movies('CM_dot_projected') for exp in experiments.values()]\n",
    "\n",
    "[exp.pqr_movies() for exp in experiments.values()]\n",
    "# [exp.mean_mean_props_movies('phi_rw','phi_lw','mean_wing','mean_mean_phi') for exp in experiments]\n",
    "\n",
    "\n"
   ]
  },
  {
   "cell_type": "markdown",
   "metadata": {},
   "source": [
    "Calculate first peak/ min/ max"
   ]
  },
  {
   "cell_type": "code",
   "execution_count": 146,
   "metadata": {},
   "outputs": [
    {
     "data": {
      "text/plain": [
       "[None, None, None, None, None, None, None]"
      ]
     },
     "execution_count": 146,
     "metadata": {},
     "output_type": "execute_result"
    }
   ],
   "source": [
    "fig = go.Figure()\n",
    "exp = experiments[list(experiments.keys())[0]]\n",
    "[exp.get_peaks_movies('pitch_y_frame_dot_dot','peaks',t0 = 5, t1 = 50) for exp in experiments.values()]\n",
    "[exp.get_peaks_movies('pitch_y_frame_dot_dot','min') for exp in experiments.values()]\n",
    "[exp.get_peaks_movies('pitch_body','peaks',t0 = 40, t1 = 100) for exp in experiments.values()]\n",
    "[exp.get_peaks_movies('CM_dot_dot_projected','min') for exp in experiments.values()]\n",
    "[exp.get_peaks_movies('pitch_y_frame','max',t0 = 40, t1 = 100) for exp in experiments.values()]\n",
    "\n",
    "[exp.get_peaks_movies('CM_dot_projected','min') for exp in experiments.values()]\n",
    "[exp.get_peaks_movies('CM_dot_projected','zero_v') for exp in experiments.values()]\n",
    "\n"
   ]
  },
  {
   "cell_type": "markdown",
   "metadata": {},
   "source": [
    "Plot histograms of peaks, plot movies time seires data with the max/min/peak data point on them"
   ]
  },
  {
   "cell_type": "code",
   "execution_count": 347,
   "metadata": {},
   "outputs": [],
   "source": [
    "# Histograms\n",
    "point_name = 'pitch_y_frame_dot_dot_min'\n",
    "list_trace,layout = zip(*[exp.interest_point_hist(point_name,xbins = dict(start=0,end=300, size=5)) for exp in experiments.values()])\n",
    "fig = go.Figure(data=list_trace, layout=layout[0]).show()\n",
    "\n",
    "point_name = 'pitch_y_frame_max'\n",
    "list_trace,layout = zip(*[exp.interest_point_hist(point_name,xbins = dict(start=0,end=300, size=5)) for exp in experiments.values()])\n",
    "fig = go.Figure(data=list_trace, layout=layout[0]).show()\n",
    "\n",
    "\n",
    "point_name = 'CM_dot_dot_projected_min'\n",
    "list_trace,layout = zip(*[exp.interest_point_hist(point_name,xbins = dict(start=0,end=300, size=5)) for exp in experiments.values()])\n",
    "fig = go.Figure(data=list_trace, layout=layout[0]).show()\n",
    "\n",
    "\n",
    "# time series of movies with min/max on them\n",
    "exp = experiments['manipulated_2022_02_03_dark']\n",
    "fig = go.Figure()\n",
    "exp.plot_prop_movies('pitch_y_frame_dot_dot','body',fig,case = 'plot_mov',prop_x = 'time')\n",
    "exp.add_point_to_plot_movies('pitch_y_frame_dot_dot_peaks','pitch_y_frame_dot_dot',fig) \n",
    "fig.show()\n",
    "\n",
    "fig = go.Figure()\n",
    "exp.plot_prop_movies('pitch_y_frame','body',fig,case = 'plot_mov',prop_x = 'time')\n",
    "exp.add_point_to_plot_movies('pitch_y_frame_dot_dot_min','pitch_y_frame',fig) \n",
    "fig.show()\n",
    "\n",
    "\n",
    "fig = go.Figure()\n",
    "exp.plot_prop_movies('pitch_y_frame_dot_dot','body',fig,case = 'plot_mov',prop_x = 'time')\n",
    "exp.add_point_to_plot_movies('pitch_y_frame_max','pitch_y_frame_dot_dot',fig) \n",
    "fig.show()\n",
    "\n",
    "\n",
    "fig = go.Figure()\n",
    "exp.plot_prop_movies('CM_dot_dot_projected','body',fig,case = 'plot_mov',prop_x = 'time')\n",
    "exp.add_point_to_plot_movies('CM_dot_dot_projected_min','CM_dot_dot_projected',fig) \n",
    "fig.show()\n",
    "\n",
    "# \n"
   ]
  },
  {
   "cell_type": "markdown",
   "metadata": {},
   "source": [
    "3D trajectory plot "
   ]
  },
  {
   "cell_type": "code",
   "execution_count": 358,
   "metadata": {},
   "outputs": [],
   "source": [
    "exp = experiments['manipulated_2022_02_03_dark']\n",
    "mov = ['mov71']\n",
    "exp.plot_3d_traj_movies('CM_dot_projected',mov = mov)\n"
   ]
  },
  {
   "cell_type": "code",
   "execution_count": 343,
   "metadata": {},
   "outputs": [],
   "source": [
    "\n",
    "import cmath\n",
    "input_num = complex(1, 2) # stored as 1+2j\n",
    "\n",
    "\n",
    "def rotate_vectors_to_reference(vectors, reference_vector):\n",
    "    # Normalize the reference vector\n",
    "    reference_vector = reference_vector / np.linalg.norm(reference_vector)\n",
    "    \n",
    "    # Calculate the rotation matrix\n",
    "    rotation_matrix = np.eye(2) + np.outer(reference_vector, reference_vector) - np.outer(reference_vector, reference_vector)\n",
    "    \n",
    "    # Rotate the vectors\n",
    "    rotated_vectors = vectors @ rotation_matrix.T\n",
    "    \n",
    "    return rotated_vectors\n",
    "\n",
    "# Example vectors\n",
    "vectors = np.array([[1, 2, 3], [2, 3, 4], [3, 4, 5]])\n",
    "\n",
    "t0 = 20\n",
    "t1 = 40\n",
    "fig, ax = plt.subplots()\n",
    "ang_exp = []\n",
    "\n",
    "for exp_name in list(experiments.keys()): #experiments['manipulated_2023_08_06_40ms']\n",
    "    ang= []\n",
    "\n",
    "    exp = experiments[exp_name]\n",
    "    [exp.project_prop_movies('X_x_body',wing_body = 'vectors',header_name = 'X_x_body')  for exp in experiments.values()]\n",
    "\n",
    "    for mov_name in exp.mov_names:\n",
    "        vec= [None]*2\n",
    "        mov = exp.get_mov(mov_name)\n",
    "        mov.get_prop('X_x_body_projected','vectors')\n",
    "        try:\n",
    "            for idx,(t,color) in enumerate(zip([(-10,10),(100,110)],['red','blue','black'])):\n",
    "                \n",
    "                data = mov.get_prop('X_z_body','vectors', three_col= 3)[1:,:]\n",
    "                vector_to_project = mov.get_prop('X_z_body','vectors',three_col = 3)\n",
    "                ref_axes = vector_to_project[mov.ref_frame,:]\n",
    "                x_axis_on_xy = (ref_axes - ref_axes * [0,0,1])/np.linalg.norm(ref_axes-ref_axes * [0,0,1] )[np.newaxis].T # project the new axis to XY plane\n",
    "                data_axis_on_xy = (data[:,0:2])/np.linalg.norm(data[:,0:2],axis = 1)[np.newaxis].T # project the new axis to XY plane\n",
    "\n",
    "                # Example reference vector (one of the vectors in the list)\n",
    "                reference_vector = vectors[0]\n",
    "                idx_t0,idx_t1 = mov.t0_t1_idx(t[0],t[1])\n",
    "\n",
    "                # Rotate the vectors to be in the frame of axes defined by the reference vector\n",
    "                rotated_vectors = rotate_vectors_to_reference(data_axis_on_xy[:,0:2], x_axis_on_xy[0:2])[idx_t0:idx_t1,:]\n",
    "                vec[idx] = np.nanmean(rotated_vectors,axis = 0)\n",
    "\n",
    "                # Convert 3D vectors to polar coordinates\n",
    "                angles = np.arctan2(rotated_vectors[:, 1], rotated_vectors[:, 0])\n",
    "                magnitudes = np.linalg.norm(rotated_vectors, axis=1)\n",
    "\n",
    "                quiveropts = dict( headlength=5, scale=20, \n",
    "                    linewidth=.5, units='xy', width=.0005, headwidth=5,color = color) # common options\n",
    "                # Create a polar plot with arrows\n",
    "                # \n",
    "                skip = 20\n",
    "                # quiver = ax.quiver(rotated_vectors[::skip,0]*0, rotated_vectors[::skip,1]*0, rotated_vectors[::skip,0], rotated_vectors[::skip,1], headaxislength=4.5,alpha = 0.5, **quiveropts)\n",
    "                # plt.title(mov.name)\n",
    "\n",
    "        except:\n",
    "            continue\n",
    "        ang.append(np.arccos((vec[0] @ vec[1]/(np.linalg.norm(vec[0])*np.linalg.norm(vec[1]))))*180/np.pi)\n",
    "    ang_exp.append(ang)\n",
    "# # Create a polar plot with arrows\n",
    "# fig, ax = plt.subplots(subplot_kw=dict(projection='polar'))\n",
    "# quiver = ax.quiver(angles*0, magnitudes*0, angles, magnitudes, units='xy', scale=1, color='blue', width=0.01)\n"
   ]
  },
  {
   "cell_type": "code",
   "execution_count": 344,
   "metadata": {},
   "outputs": [
    {
     "data": {
      "text/plain": [
       "<matplotlib.legend.Legend at 0x1f6a350e560>"
      ]
     },
     "execution_count": 344,
     "metadata": {},
     "output_type": "execute_result"
    }
   ],
   "source": [
    "plt.hist(ang_exp[0:2],bins = 50,label = list(experiments.keys())[0:2],stacked= True, density= True)\n",
    "plt.legend()"
   ]
  },
  {
   "cell_type": "code",
   "execution_count": 41,
   "metadata": {},
   "outputs": [
    {
     "data": {
      "text/plain": [
       "array([-0.597548  , -0.80183315,  0.        ])"
      ]
     },
     "execution_count": 41,
     "metadata": {},
     "output_type": "execute_result"
    }
   ],
   "source": [
    "data_axis_on_xy = (data[:,0:2])/np.linalg.norm(data[:,0:2],axis = 1)[np.newaxis].T # project the new axis to XY plane\n",
    "x_axis_on_xy"
   ]
  },
  {
   "cell_type": "code",
   "execution_count": 41,
   "metadata": {},
   "outputs": [],
   "source": [
    "exp = experiments['manipulated_2023_08_10_100ms']\n",
    "\n",
    "point_name = 'CM_dot_projected_min'\n",
    "list_trace,layout = zip(*[exp.interest_point_hist(point_name,xbins = dict(start=0,end=300, size=5)) for exp in experiments.values()])\n",
    "fig = go.Figure(data=list_trace, layout=layout[0]).show()\n",
    "\n",
    "\n",
    "fig = go.Figure()\n",
    "exp.plot_prop_movies('CM_dot_projected','body',fig,case = 'plot_mov',prop_x = 'time')\n",
    "exp.add_point_to_plot_movies('CM_dot_projected_min','CM_dot_projected',fig) \n",
    "fig.show()"
   ]
  },
  {
   "cell_type": "code",
   "execution_count": 39,
   "metadata": {},
   "outputs": [],
   "source": [
    "exp = experiments['manipulated_2023_08_10_100ms']\n",
    "\n",
    "point_name = 'pitch_body_peaks'\n",
    "list_trace,layout = zip(*[exp.interest_point_hist(point_name,xbins = dict(start=0,end=300, size=5)) for exp in experiments.values()])\n",
    "fig = go.Figure(data=list_trace, layout=layout[0]).show()\n",
    "\n",
    "\n",
    "fig = go.Figure()\n",
    "exp.plot_prop_movies('pitch_body','body',fig,case = 'plot_mov',prop_x = 'time')\n",
    "exp.add_point_to_plot_movies('pitch_body_peaks','pitch_body',fig) \n",
    "fig.show()"
   ]
  },
  {
   "cell_type": "code",
   "execution_count": 22,
   "metadata": {},
   "outputs": [],
   "source": [
    "\n",
    "fig = go.Figure()\n",
    "exp.plot_prop_movies('CM_dot_dot_projected','body',fig,case = 'plot_mov',prop_x = 'time')\n",
    "exp.add_point_to_plot_movies('CM_dot_dot_projected_min','CM_dot_dot_projected',fig) \n",
    "exp.plot_prop_movies('pitch_y_frame_dot_dot','body',fig,case = 'plot_mov',prop_x = 'time',yaxis = 'y2')\n",
    "exp.add_point_to_plot_movies('CM_dot_dot_projected_min','pitch_y_frame_dot_dot',fig,yaxis = 'y2') \n",
    "\n",
    "# yax_dict[f\"yaxis2\"] = (dict(title=prop,titlefont=dict(color=color),tickfont=dict(color=color),side = side[i],position=position[i]))\n",
    "\n",
    "\n",
    "\n",
    "\n",
    "fig.update_layout(\n",
    "    xaxis=dict(domain=[0, 0.95]),\n",
    "    yaxis=dict(title='CM_dot_dot_projected', titlefont=dict(color='red'), tickfont=dict(color='red'), side='left', position=0),\n",
    "    yaxis2=dict(title='pitch_body', titlefont=dict(color='green'), tickfont=dict(color='green'), side='right', position=0.95),\n",
    ")\n",
    "\n",
    "fig.show()"
   ]
  },
  {
   "cell_type": "markdown",
   "metadata": {},
   "source": [
    "Plot all experiments - time series"
   ]
  },
  {
   "cell_type": "code",
   "execution_count": 6,
   "metadata": {},
   "outputs": [],
   "source": [
    "fig = go.Figure()\n",
    "prop = 'pitch_y_frame_dot_dot'\n",
    "[exp.plot_prop_movies(prop,'body',fig,case = 'plot_exp',prop_x = 'time',color = color_map[idx],legend = exp.pertubation_name) for idx,exp in enumerate(experiments.values())]\n",
    "fig.show()"
   ]
  },
  {
   "cell_type": "markdown",
   "metadata": {},
   "source": [
    "Calculate and plot mean property (time series,  mean per frame of all movies)"
   ]
  },
  {
   "cell_type": "code",
   "execution_count": 25,
   "metadata": {},
   "outputs": [],
   "source": [
    "from scipy import stats\n",
    "\n",
    "\n",
    "exp = experiments[list(experiments.keys())[0]]\n",
    "prop = 'pitch_y_frame'\n",
    "prop = 'r'\n",
    "prop = 'CM_dot_dot_projected'\n",
    "props = ['pitch_y_frame_dot_dot','q']\n",
    "\n",
    "window = (73*3)//2\n",
    "fig,ax = plt.subplots(2,1,sharex=True)\n",
    "max_prop = {}\n",
    "for idx,prop in enumerate(props):\n",
    "    max_prop[prop] = [] \n",
    "    for exp in experiments.values():\n",
    "        mov_to_keep = []\n",
    "        acc_mean,time_inter = exp.mean_time_series_prop(prop,'body')\n",
    "        time_to_check = (time_inter > 0 ) & (time_inter <100 )\n",
    "        time_for_max = time_inter[time_to_check]\n",
    "        max_prop[prop].append(time_for_max[np.nanargmax(acc_mean[time_to_check])])\n",
    "        ax[idx].plot(time_inter,acc_mean)"
   ]
  },
  {
   "cell_type": "markdown",
   "metadata": {},
   "source": [
    "Try PCA"
   ]
  },
  {
   "cell_type": "code",
   "execution_count": 19,
   "metadata": {},
   "outputs": [
    {
     "name": "stderr",
     "output_type": "stream",
     "text": [
      "C:\\Users\\Roni\\AppData\\Local\\Temp\\ipykernel_31184\\2630784800.py:13: RuntimeWarning:\n",
      "\n",
      "Mean of empty slice\n",
      "\n",
      "C:\\Users\\Roni\\AppData\\Local\\Temp\\ipykernel_31184\\2630784800.py:13: RuntimeWarning:\n",
      "\n",
      "Mean of empty slice\n",
      "\n",
      "C:\\Users\\Roni\\AppData\\Local\\Temp\\ipykernel_31184\\2630784800.py:13: RuntimeWarning:\n",
      "\n",
      "Mean of empty slice\n",
      "\n",
      "c:\\Users\\Roni\\anaconda3\\lib\\site-packages\\sklearn\\cluster\\_kmeans.py:1382: UserWarning:\n",
      "\n",
      "KMeans is known to have a memory leak on Windows with MKL, when there are less chunks than available threads. You can avoid it by setting the environment variable OMP_NUM_THREADS=1.\n",
      "\n"
     ]
    },
    {
     "name": "stdout",
     "output_type": "stream",
     "text": [
      "[0 0 0 0 0 0 0 2 2 2 0 0 2 1 0 0 1 0 2 2 2 2 2 0 0 2 2 2 0 0 0 2 0 0 2 2 0\n",
      " 0 2]\n"
     ]
    },
    {
     "data": {
      "text/plain": [
       "array([[ 2.58930919e-03, -3.21593360e-07, -9.99996648e-01],\n",
       "       [-9.99996645e-01, -7.69076209e-05, -2.58930916e-03]])"
      ]
     },
     "execution_count": 19,
     "metadata": {},
     "output_type": "execute_result"
    }
   ],
   "source": [
    "from sklearn.decomposition import PCA\n",
    "import pandas as pd\n",
    "from sklearn.cluster import KMeans\n",
    "\n",
    "mov_feat = []\n",
    "props = ['CM_dot_dot_projected','CM_dot_projected','pitch_y_frame_dot_dot']\n",
    "\n",
    "exp_pd = []\n",
    "for exp in list(experiments.values())[0:3]:\n",
    "    mov_feat = []\n",
    "    for idx,mov_name in enumerate(exp.mov_names):\n",
    "        mov = exp.get_mov(mov_name)\n",
    "        mov_feat.append(np.nanmean(mov.data['body'][15:60,:],axis = 0))\n",
    "\n",
    "    featpd_exp = pd.DataFrame(data = mov_feat,columns = mov.header['body'])\n",
    "    featpd_exp['exp_name'] = exp.experiment_name\n",
    "    featpd_exp['mov'] = exp.mov_names\n",
    "    exp_pd.append(featpd_exp)\n",
    "\n",
    "feat = pd.concat(exp_pd,axis = 0).dropna().reset_index()\n",
    "\n",
    "\n",
    "dataforpca = feat[props]\n",
    "n_comp = 2\n",
    "pca = PCA(n_components=n_comp)\n",
    "principalComponents = pca.fit_transform(dataforpca)\n",
    "principalDf = pd.DataFrame(data = principalComponents\n",
    "             , columns = [f'pca_{idx}' for idx in range(n_comp)])\n",
    "\n",
    "pca_name = [f'pca_{idx}' for idx in range(pca.n_components_)]\n",
    "\n",
    "\n",
    "featpd = pd.concat([feat, principalDf], axis = 1)\n",
    "kmeans = KMeans(n_clusters=3, random_state=0, n_init=\"auto\").fit(featpd[pca_name])\n",
    "print(kmeans.labels_)\n",
    "pca.components_\n"
   ]
  },
  {
   "cell_type": "code",
   "execution_count": 18,
   "metadata": {},
   "outputs": [
    {
     "name": "stderr",
     "output_type": "stream",
     "text": [
      "c:\\Users\\Roni\\Documents\\experiment-analysis\\data_analysis\\Experiment.py:112: RuntimeWarning:\n",
      "\n",
      "Mean of empty slice\n",
      "\n"
     ]
    }
   ],
   "source": [
    "\n",
    "fig = go.Figure()\n",
    "\n",
    "for lbl in np.unique(kmeans.labels_):\n",
    "    exp_names = np.unique(feat.iloc[kmeans.labels_==lbl]['exp_name'])\n",
    "    feat_lbl = feat.iloc[kmeans.labels_==lbl]\n",
    "    for idx,exp_name in enumerate(exp_names): \n",
    "        mov_exp_lbl = list(feat_lbl.loc[feat_lbl['exp_name'] == exp_name]['mov'])\n",
    "\n",
    "        prop = 'pitch_y_frame_dot'\n",
    "        prop = 'CM_dot_dot_projected'\n",
    "        # prop = 'pitch_body'\n",
    "\n",
    "        color_map = colormap.datad[\"tab10\"]['listed']\n",
    "\n",
    "        experiments[exp_name].plot_prop_movies(prop,'body',fig,mov = mov_exp_lbl,case = 'plot_exp',prop_x = 'time',color = color_map[lbl],legend = f'{exp_name}_cluster{lbl}')\n",
    "fig.show()\n",
    "# feat.iloc[kmeans.labels_==lbl]['exp_name'] == exp_names[0]\n",
    "from scipy import stats\n",
    "\n",
    "\n",
    "exp = experiments[list(experiments.keys())[0]]\n",
    "prop = 'pitch_y_frame'\n",
    "prop = 'q'\n",
    "prop = 'CM_dot_dot_projected'\n",
    "props = ['pitch_y_frame_dot_dot','pitch_y_frame_dot']\n",
    "\n",
    "window = (73*3)//2\n",
    "fig,ax = plt.subplots(2,1,sharex=True)\n",
    "max_prop = {}\n",
    "for idx,prop in enumerate(props):\n",
    "    max_prop[prop] = [] \n",
    "    for exp in experiments.values():\n",
    "        mov_to_keep = []\n",
    "        acc_mean,time_inter = exp.mean_time_series_prop(prop,'body')\n",
    "        time_to_check = (time_inter > 0 ) & (time_inter <100 )\n",
    "        time_for_max = time_inter[time_to_check]\n",
    "        max_prop[prop].append(time_for_max[np.nanargmax(acc_mean[time_to_check])])\n",
    "        ax[idx].plot(time_inter,acc_mean)"
   ]
  },
  {
   "cell_type": "markdown",
   "metadata": {},
   "source": [
    "Plot and save figures"
   ]
  },
  {
   "cell_type": "code",
   "execution_count": null,
   "metadata": {},
   "outputs": [],
   "source": [
    "import plotly.graph_objects as go\n",
    "import plotly\n",
    "import matplotlib.cm as colormap\n",
    "color_map = colormap.datad[\"tab10\"]['listed']\n",
    "\n",
    "\n",
    "\n",
    "def plot_and_save_movie_prop(exp,yprop,wing_body,add_horizontal_line = False):\n",
    "    \n",
    "    fig = go.Figure()\n",
    "\n",
    "    exp.plot_prop_movies(yprop,'body',color_map[0],fig,mov = False,case = 'plot_mov')\n",
    "    fig.show()\n",
    "    plotly.offline.plot(fig, filename=f'{exp.figures_path}/{yprop}_plot.html',auto_open=False)\n",
    "\n",
    "\n",
    "\n",
    "\n",
    "for exp in experiments:\n",
    "    try:\n",
    "        exp.plot_3d_traj_movies('CM_dot_dot_projected',save_plot = True, mov = False)\n",
    "\n",
    "        plot_and_save_movie_prop(exp,yprop = 'CM_dot_dot_projected',wing_body = 'body',add_horizontal_line = 0)\n",
    "        plot_and_save_movie_prop(exp,yprop = 'pitch_y_frame',wing_body = 'body',add_horizontal_line = 0)\n",
    "        plot_and_save_movie_prop(exp,yprop = 'pitch_y_frame_dot',wing_body = 'body',add_horizontal_line = 0)\n",
    "        plot_and_save_movie_prop(exp,yprop = 'CM_dot_projected',wing_body = 'body',add_horizontal_line = 0)\n",
    "    except:\n",
    "        continue\n",
    "    # exp.mean_mean_props_movies('phi_rw_min_val','phi_lw_min_val','mean_wing','mean_front_phi')\n",
    "    # exp.mean_mean_props_movies('phi_rw','phi_lw','mean_wing','mean_mean_phi')\n",
    "\n",
    "    # plot_and_save_movie_prop(exp,yprop = 'mean_front_phi',wing_body = 'mean_wing')\n",
    "    # plot_and_save_movie_prop(exp,yprop = 'mean_mean_phi',wing_body = 'mean_wing')\n",
    "\n"
   ]
  }
 ],
 "metadata": {
  "kernelspec": {
   "display_name": "base",
   "language": "python",
   "name": "python3"
  },
  "language_info": {
   "codemirror_mode": {
    "name": "ipython",
    "version": 3
   },
   "file_extension": ".py",
   "mimetype": "text/x-python",
   "name": "python",
   "nbconvert_exporter": "python",
   "pygments_lexer": "ipython3",
   "version": "3.10.9"
  }
 },
 "nbformat": 4,
 "nbformat_minor": 2
}
