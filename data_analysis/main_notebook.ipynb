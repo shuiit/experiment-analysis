{
 "cells": [
  {
   "cell_type": "code",
   "execution_count": 1,
   "metadata": {},
   "outputs": [],
   "source": [
    "\n",
    "from Experiment import Experiment\n",
    "import matplotlib.pyplot as plt\n",
    "import Plotters \n",
    "import plotly.graph_objects as go\n",
    "import plotly\n",
    "import numpy as np\n",
    "\n",
    "import time\n",
    "import matplotlib.cm as colormap\n",
    "\n",
    "%matplotlib qt\n",
    "\n",
    "loadir = 'H:/My Drive/dark 2022/csv_dark' # dir to save the data frame in # H:\\My Drive\\Ronis Exp\\sagiv\\data_analysis\n",
    "exp_name =['manipulated_2023_08_10_100ms',\n",
    "           'manipulated_2022_02_03_dark',\n",
    "           'manipulated_2023_08_06_40ms',\n",
    "           'manipulated_2023_08_09_60ms',\n",
    "           'manipulated_2023_08_09_80ms',\n",
    "           'manipulated_2023_08_07_10ms']\n",
    "\n",
    "\n",
    "# ['manipulated_2022_02_03_dark',\n",
    "#            'manipulated_2023_08_10_100ms',\n",
    "#            'manipulated_2023_08_09_80ms',\n",
    "#            'manipulated_2023_08_09_60ms',\n",
    "#            'manipulated_2023_08_06_40ms',\n",
    "#            'manipulated_2023_08_07_10ms',\n",
    "#            'manipulated_2023_08_07_5ms',\n",
    "# ] \n",
    "\n",
    "def dont_show_movs(exp_name,movs_to_del):\n",
    "    return [mov_name for mov_name in experiments[exp_name].mov_names if mov_name not in movs_to_del ] \n",
    "\n",
    "mov_dark_delete = ['mov30','mov40','mov57','mov59']\n",
    "mov_100_delete = ['mov10','mov102','mov19','mov34','mov35','mov47','mov51','mov52','mov66','mov68','mov73','mov90']\n",
    "mov_80_delete = ['mov119','mov49','mov97','mov99']\n",
    "mov_40_delete = ['mov64']\n",
    "mov_60_delete = ['mov12','mov13','mov147','mov165','mov21','mov24','mov26','mov48','mov86']\n",
    "mov_10_delete = ['mov46','mov54']\n",
    "mov_5_delete = ['mov44']\n",
    "\n",
    "\n",
    "color_map = colormap.datad[\"tab10\"]['listed']\n",
    "\n",
    "experiments = {exp:Experiment(loadir,exp) for exp in exp_name} # load experiments\n"
   ]
  },
  {
   "cell_type": "markdown",
   "metadata": {},
   "source": [
    "Smooth, calculate projected axes and angles"
   ]
  },
  {
   "cell_type": "code",
   "execution_count": 2,
   "metadata": {},
   "outputs": [
    {
     "name": "stderr",
     "output_type": "stream",
     "text": [
      "c:\\Users\\Roni\\Documents\\experiment-analysis\\data_analysis\\Movie.py:107: RuntimeWarning:\n",
      "\n",
      "invalid value encountered in arccos\n",
      "\n"
     ]
    },
    {
     "data": {
      "text/plain": [
       "[None, None, None, None, None, None]"
      ]
     },
     "execution_count": 2,
     "metadata": {},
     "output_type": "execute_result"
    }
   ],
   "source": [
    "[exp.smooth_prop_movies('CM_real_x_body',['','_dot','_dot_dot'],'body')  for exp in experiments.values()] # smooth and derive\n",
    "\n",
    "\n",
    "[exp.project_axes_movies(['X_x_body_projected','X_y_body_projected'])  for exp in experiments.values()] # X_body axis projected to xy plane\n",
    "[exp.project_axes_movies(['CM_dot_xax','CM_dot_yax'],axis = 'CM_real_x_body_dot_smth',wing_body = 'body',add_to_vectors = True)  for exp in experiments.values()] # Velocity direction in the projected X_body axes (xy plane) \n",
    "\n",
    "# calculate the size of the velocity projected on the xy plane\n",
    "[exp.project_prop_movies('CM_real_x_body_dot_smth',header_name = 'CM_dot_x',three_col = 2,ax_to_proj = 'X_x_body_projected',add_to_vectors = True)  for exp in experiments.values()]\n",
    "[exp.project_prop_movies('CM_real_x_body_dot_smth',header_name = 'CM_dot_y',three_col = 2,ax_to_proj = 'X_y_body_projected',add_to_vectors = True)  for exp in experiments.values()]\n",
    "\n",
    "\n",
    "# calculate the size of the acceleration projected on the xy plane\n",
    "[exp.project_prop_movies('CM_real_x_body_dot_dot_smth',header_name = 'CM_dot_dot_x',three_col = 2,ax_to_proj = 'X_x_body_projected')  for exp in experiments.values()]\n",
    "[exp.project_prop_movies('CM_real_x_body_dot_dot_smth',header_name = 'CM_dot_dot_y',three_col = 2,ax_to_proj = 'X_y_body_projected')  for exp in experiments.values()]\n",
    "\n",
    "[exp.pqr_movies() for exp in experiments.values()] # calculate p,q,r (angular velocity in body axis)\n",
    "\n",
    "[exp.mean_mean_props_movies('phi_rw','phi_lw','mean_wing','mean_mean_phi') for exp in experiments.values()] # calculate the mean value of two properties\n",
    "\n",
    "\n",
    "[exp.substruct_first_frame('yaw_body','body')  for exp in experiments.values()] # substract the zero frame from a property ( {prop}_min_ref_frame )\n",
    "[exp.velocity_amplitude('CM_dot_x_projected','CM_dot_y_projected','body')  for exp in experiments.values()] # calculate the amplitude of the velocity on xy plane\n",
    "\n",
    "# calculate the difference between current direction and another one at the same time:\n",
    "# the angle between Xbody on the xy plane and the velocity direction on the xy plane \n",
    "[exp.delta_ang_all_time_movies('X_x_body_projected','CM_dot_xax','slip_angle_beta',three_col = 2) for exp in experiments.values()] \n",
    "\n",
    "# calculate the difference in angle between current property and in referance frame:\n",
    "# the angle between Xbody on the xy (in 0 time) plane and Xbody on xy plane \n",
    "[exp.delta_ref_ang_movies('X_x_body_projected','delta_ang_Xax',axis = 'X_x_body_projected')  for exp in experiments.values()]\n",
    "\n",
    "# the angle between Xbody on the xy (in 0 time) plane and the velocity direction on the xy plane \n",
    "[exp.delta_ref_ang_movies('CM_dot_x_projected','delta_ang_CM_dot_x',axis = 'CM_dot_xax',delta_ang = 0) for exp in experiments.values()]\n"
   ]
  },
  {
   "cell_type": "markdown",
   "metadata": {},
   "source": [
    "Calculate first peak/ min/ max"
   ]
  },
  {
   "cell_type": "code",
   "execution_count": 3,
   "metadata": {},
   "outputs": [],
   "source": [
    "exp = experiments[list(experiments.keys())[0]]\n",
    "[exp.get_peaks_movies('pitch_y_frame_dot_dot','peaks_max',t0 = 5, t1 = 50) for exp in experiments.values()]\n",
    "[exp.get_peaks_movies('pitch_y_frame_dot_dot','min') for exp in experiments.values()]\n",
    "[exp.get_peaks_movies('pitch_body','peaks_max',t0 = 40, t1 = 100) for exp in experiments.values()]\n",
    "[exp.get_peaks_movies('CM_dot_dot_x_projected','min') for exp in experiments.values()]\n",
    "[exp.get_peaks_movies('pitch_y_frame','max') for exp in experiments.values()]\n",
    "[exp.get_peaks_movies('pitch_body','max') for exp in experiments.values()]\n",
    "\n",
    "[exp.get_peaks_movies('CM_dot_x_projected','min') for exp in experiments.values()]\n",
    "[exp.get_peaks_movies('CM_dot_x_projected','zero_v') for exp in experiments.values()]\n",
    "\n",
    "[exp.get_peaks_movies('amp_v','peaks_min') for exp in experiments.values()]\n",
    "\n",
    "[exp.get_peaks_movies('amp_v','peaks_min') for exp in experiments.values()]\n",
    "[exp.get_peaks_movies('delta_ang_Xax','max') for exp in experiments.values()]\n",
    "\n",
    "\n",
    "[exp.get_peaks_movies('CM_dot_x_projected','half_v') for exp in experiments.values()]\n",
    "\n",
    "\n",
    "point_name = 'CM_dot_x_projected_zero_v'\n",
    "list_trace,layout = zip(*[exp.interest_point_hist(point_name,xbins = dict(start=0,end=300, size=5)) for exp in experiments.values()])\n",
    "fig = go.Figure(data=list_trace, layout=layout[0]).show()\n"
   ]
  },
  {
   "cell_type": "code",
   "execution_count": 55,
   "metadata": {},
   "outputs": [],
   "source": [
    "\n",
    "exp = experiments['manipulated_2023_08_09_60ms']\n",
    "prop = 'delta_ang_Xax'\n",
    "\n",
    "fig = go.Figure()\n",
    "exp.plot_prop_movies(prop,'body',fig,case = 'plot_mov',prop_x = 'time')\n",
    "fig.show()\n"
   ]
  },
  {
   "cell_type": "code",
   "execution_count": 14,
   "metadata": {},
   "outputs": [],
   "source": [
    "\n",
    "exp = experiments['manipulated_2023_08_09_60ms']\n",
    "prop = 'CM_dot_x_projected'\n",
    "\n",
    "fig = go.Figure()\n",
    "exp.plot_prop_movies(prop,'body',fig,case = 'plot_mov',prop_x = 'time')\n",
    "exp.add_point_to_plot_movies('CM_dot_x_projected_half_v',prop,fig) \n",
    "fig.show()\n",
    "\n"
   ]
  },
  {
   "cell_type": "code",
   "execution_count": 30,
   "metadata": {},
   "outputs": [
    {
     "data": {
      "text/plain": [
       "78.88602986297838"
      ]
     },
     "execution_count": 30,
     "metadata": {},
     "output_type": "execute_result"
    }
   ],
   "source": [
    "np.nanmean(prop[-200:]) - np.nanmean(prop[0:200])"
   ]
  },
  {
   "cell_type": "code",
   "execution_count": 52,
   "metadata": {},
   "outputs": [
    {
     "data": {
      "text/plain": [
       "{'pitch_body': 0,\n",
       " 'yaw_body': 1,\n",
       " 'roll_body': 2,\n",
       " 'pitch_body_dot': 3,\n",
       " 'yaw_body_dot': 4,\n",
       " 'roll_body_dot': 5,\n",
       " 'pitch_body_dot_dot': 6,\n",
       " 'yaw_body_dot_dot': 7,\n",
       " 'roll_body_dot_dot': 8,\n",
       " 'frames': 9,\n",
       " 'time': 10,\n",
       " 'CM_real_x_body': 11,\n",
       " 'CM_real_y_body': 12,\n",
       " 'CM_real_z_body': 13,\n",
       " 'phi_rw_max_idx': 14,\n",
       " 'phi_rw_max_val': 15,\n",
       " 'phi_lw_max_idx': 16,\n",
       " 'phi_lw_max_val': 17,\n",
       " 'phi_rw_min_idx': 18,\n",
       " 'phi_rw_min_val': 19,\n",
       " 'phi_lw_min_idx': 20,\n",
       " 'phi_lw_min_val': 21,\n",
       " 'yaw_z_frame': 22,\n",
       " 'pitch_y_frame': 23,\n",
       " 'roll_x_frame': 24,\n",
       " 'yaw_z_frame_dot': 25,\n",
       " 'pitch_y_frame_dot': 26,\n",
       " 'roll_x_frame_dot': 27,\n",
       " 'yaw_z_frame_dot_dot': 28,\n",
       " 'pitch_y_frame_dot_dot': 29,\n",
       " 'roll_x_frame_dot_dot': 30,\n",
       " 'mean_idx': 31}"
      ]
     },
     "execution_count": 52,
     "metadata": {},
     "output_type": "execute_result"
    }
   ],
   "source": [
    "mov.header['mean_body']"
   ]
  },
  {
   "cell_type": "code",
   "execution_count": 58,
   "metadata": {},
   "outputs": [],
   "source": [
    "exp = experiments['manipulated_2023_08_09_60ms']\n",
    "prop_name = 'yaw_body'\n",
    "dict_yaw = {'no_change':[],'change':[]}\n",
    "for mov_nm in exp.mov_names:\n",
    "    mov = exp.get_mov(mov_nm)\n",
    "    prop = mov.get_prop(prop_name,'body')\n",
    "    if np.abs(np.nanmean(prop[0:200]) - np.nanmean(prop[-200:])) > 20:\n",
    "        dict_yaw['change'].append(mov_nm )\n",
    "    else:\n",
    "        dict_yaw['no_change'].append(mov_nm )\n",
    "\n",
    "fig = go.Figure()\n",
    "\n",
    "exp.plot_prop_movies(prop_name,'body',fig,mov = dict_yaw['change'],case = 'plot_exp',prop_x = 'time',color = color_map[3],legend = f'cluster{1}')\n",
    "exp.plot_prop_movies(prop_name,'body',fig,mov = dict_yaw['no_change'],case = 'plot_exp',prop_x = 'time',color = color_map[4],legend = f'cluster{2}')\n",
    "fig.show()\n",
    "\n",
    "prop_name = 'CM_dot_dot_x_projected'\n",
    "fig = go.Figure()\n",
    "\n",
    "exp.plot_prop_movies(prop_name,'body',fig,mov = dict_yaw['change'],case = 'plot_exp',prop_x = 'time',color = color_map[3],legend = f'cluster{1}')\n",
    "exp.plot_prop_movies(prop_name,'body',fig,mov = dict_yaw['no_change'],case = 'plot_exp',prop_x = 'time',color = color_map[4],legend = f'cluster{2}')\n",
    "fig.show()\n",
    "\n",
    "\n",
    "\n",
    "prop_name = 'pitch_body_dot_dot'\n",
    "fig = go.Figure()\n",
    "\n",
    "exp.plot_prop_movies(prop_name,'mean_body',fig,mov = dict_yaw['change'],case = 'plot_exp',prop_x = 'time',color = color_map[3],legend = f'cluster{1}')\n",
    "exp.plot_prop_movies(prop_name,'mean_body',fig,mov = dict_yaw['no_change'],case = 'plot_exp',prop_x = 'time',color = color_map[4],legend = f'cluster{2}')\n",
    "fig.show()\n"
   ]
  },
  {
   "cell_type": "code",
   "execution_count": 7,
   "metadata": {},
   "outputs": [
    {
     "data": {
      "text/plain": [
       "<matplotlib.legend.Legend at 0x1bc498766b0>"
      ]
     },
     "execution_count": 7,
     "metadata": {},
     "output_type": "execute_result"
    }
   ],
   "source": [
    "time_idx = exp.body_header['time']\n",
    "prop_to_move = 'pitch_body_peaks_max'\n",
    "plt.figure()\n",
    "plt.hist(exp.interest_points['CM_dot_x_projected_zero_v'][:,time_idx] - exp.interest_points['pitch_y_frame_dot_dot_peaks_max'][:,time_idx], alpha =0.5, label = 'delta_zerov_pitch_dotdot')\n",
    "plt.hist(exp.interest_points['pitch_y_frame_dot_dot_peaks_max'][:,time_idx], alpha = 0.5,label = 'pitch_dotdot')\n",
    "plt.hist(exp.interest_points['CM_dot_x_projected_zero_v'][:,time_idx], alpha = 0.5,label = 'zero_v')\n",
    "plt.legend()\n",
    "\n",
    "\n",
    "plt.figure()\n",
    "plt.hist(exp.interest_points['CM_dot_x_projected_zero_v'][:,time_idx] - exp.interest_points['CM_dot_x_projected_min'][:,time_idx], alpha =0.5, label = 'delta_zerov_cm_dot')\n",
    "plt.hist(exp.interest_points['CM_dot_x_projected_min'][:,time_idx], alpha = 0.5,label = 'min_cm_dot')\n",
    "plt.hist(exp.interest_points['CM_dot_x_projected_zero_v'][:,time_idx], alpha = 0.5,label = 'zero_v')\n",
    "plt.legend()\n",
    "\n",
    "\n",
    "plt.figure()\n",
    "plt.hist(exp.interest_points['pitch_y_frame_dot_dot_peaks_max'][:,time_idx] - exp.interest_points['CM_dot_x_projected_zero_v'][:,time_idx] , alpha =0.5, label = 'delta_zerov_pitch_dotdot')\n",
    "plt.hist(exp.interest_points['CM_dot_x_projected_min'][:,time_idx] - exp.interest_points['CM_dot_x_projected_zero_v'][:,time_idx] , alpha =0.5, label = 'delta_zerov_min_cm_dot')\n",
    "plt.legend()\n",
    "\n",
    "\n",
    "\n",
    "\n",
    "plt.figure()\n",
    "plt.hist(exp.interest_points['CM_dot_x_projected_zero_v'][:,time_idx] - exp.interest_points['pitch_body_max'][:,time_idx], alpha =0.5, label = 'delta_zerov_pitch_body_max')\n",
    "plt.hist(exp.interest_points['pitch_body_max'][:,time_idx], alpha = 0.5,label = 'pitch_body_max')\n",
    "plt.hist(exp.interest_points['CM_dot_x_projected_zero_v'][:,time_idx], alpha = 0.5,label = 'zero_v')\n",
    "plt.legend()\n",
    "\n",
    "\n"
   ]
  },
  {
   "cell_type": "code",
   "execution_count": 8,
   "metadata": {},
   "outputs": [
    {
     "data": {
      "text/plain": [
       "<matplotlib.legend.Legend at 0x1ffb91c7520>"
      ]
     },
     "execution_count": 8,
     "metadata": {},
     "output_type": "execute_result"
    }
   ],
   "source": [
    "plt.figure()\n",
    "time_idx = exp.body_header['time']\n",
    "\n",
    "for exp_nm in  exp_name[:-1]:\n",
    "    exp = experiments[exp_nm]\n",
    "\n",
    "    v0_list = []\n",
    "    time_of_zero_v = exp.interest_points['CM_dot_x_projected_zero_v'][:,time_idx]\n",
    "\n",
    "    for mov_name in exp.mov_names:\n",
    "        mov = exp.get_mov(mov_name)\n",
    "        v0_list.append(mov.get_prop('CM_dot_x_projected','body')[mov.ref_frame,:])\n",
    "\n",
    "    plt.plot(v0_list,time_of_zero_v,'*',label = exp_nm)\n",
    "plt.legend()\n"
   ]
  },
  {
   "cell_type": "code",
   "execution_count": 53,
   "metadata": {},
   "outputs": [],
   "source": [
    "\n",
    "exp_name =['manipulated_2023_08_10_100ms',\n",
    "           'manipulated_2022_02_03_dark',\n",
    "           'manipulated_2023_08_06_40ms',\n",
    "           'manipulated_2023_08_09_60ms',\n",
    "           'manipulated_2023_08_09_80ms',\n",
    "           'manipulated_2023_08_07_10ms']\n",
    "prop = 'slip_angle_beta'#'slip_angle_beta'#'slip_angle_beta'\n",
    "time_idx = exp.body_header['time']\n",
    "fig,ax = plt.subplots(2,1)\n",
    "wing_body = 'body'\n",
    "for expnm in exp_name: \n",
    "    exp = experiments[expnm]\n",
    "\n",
    "    for idx,mov in enumerate(exp.mov_names):\n",
    "            \n",
    "            t0 = exp.interest_points['CM_dot_x_projected_zero_v'][idx][exp.body_header['time']]\n",
    "            mov = exp.get_mov(mov)\n",
    "            prop_vals = mov.get_prop(prop,'body')\n",
    "            time = mov.get_prop('time','body')\n",
    "            mov.data[wing_body] = np.hstack((mov.data[wing_body], time - t0))\n",
    "            mov.add_to_header([f'time_m_t0'],wing_body)\n",
    "            # ax[0].plot(time - t0,prop_vals)\n",
    "            # ax[0].title.set_text('moved to zero v')\n",
    "            # ax[1].plot(time,prop_vals)\n",
    "            # ax[1].title.set_text('original time')\n",
    "\n",
    "            \n",
    "\n",
    "\n",
    "            # mov.data[wing_body] = np.hstack((mov.data[wing_body], time - t0))\n",
    "            # mov.add_to_header([f'time_m_t0'],wing_body)\n",
    "            \n",
    "        # t0 = exp.interest_points['CM_dot_x_projected_zero_v'][idx][exp.body_header['time']]\n"
   ]
  },
  {
   "cell_type": "code",
   "execution_count": 59,
   "metadata": {},
   "outputs": [],
   "source": [
    "fig = go.Figure()\n",
    "exp = experiments['manipulated_2023_08_09_60ms']\n",
    "prop = 'slip_angle_beta'\n",
    "exp.plot_prop_movies(prop,'body',fig,case = 'plot_mov',prop_x = 'time_m_t0') \n",
    "fig.show()\n"
   ]
  },
  {
   "cell_type": "code",
   "execution_count": 58,
   "metadata": {},
   "outputs": [],
   "source": [
    "fig = go.Figure()\n",
    "prop = 'slip_angle_beta'\n",
    "[exp.plot_prop_movies(prop,'body',fig,case = 'plot_exp',prop_x = 'time_m_t0',color = color_map[idx],legend = exp.pertubation_name) for idx,exp in enumerate(experiments.values())]\n",
    "fig.show()\n"
   ]
  },
  {
   "cell_type": "markdown",
   "metadata": {},
   "source": [
    "Change in axis (delta angle) compared to its projection in t = 0"
   ]
  },
  {
   "cell_type": "code",
   "execution_count": 4,
   "metadata": {},
   "outputs": [],
   "source": [
    "\n",
    "exp_name =['manipulated_2023_08_10_100ms',\n",
    "           'manipulated_2022_02_03_dark',\n",
    "           'manipulated_2023_08_06_40ms',\n",
    "           'manipulated_2023_08_09_60ms',\n",
    "           'manipulated_2023_08_09_80ms',\n",
    "           'manipulated_2023_08_07_10ms']\n",
    "\n",
    "for expn in exp_name:\n",
    "    exp = experiments[expn]\n",
    "    fig = go.Figure()\n",
    "    exp.plot_prop_movies('delta_ang_CM_dot_x','vectors',fig,case = 'plot_mov',prop_x = 'time',add_horizontal_line = None)\n",
    "    fig.update_layout(title = expn)\n",
    "    fig.show()\n"
   ]
  },
  {
   "cell_type": "code",
   "execution_count": 62,
   "metadata": {},
   "outputs": [],
   "source": [
    "exp = experiments['manipulated_2023_08_09_60ms']\n",
    "fig = go.Figure()\n",
    "exp.plot_prop_movies('slip_angle_beta','body',fig,case = 'plot_mov',prop_x = 'time_m_t0',add_horizontal_line = None)\n",
    "fig.show()\n"
   ]
  },
  {
   "cell_type": "code",
   "execution_count": 67,
   "metadata": {},
   "outputs": [],
   "source": [
    "fig = go.Figure()\n",
    "prop = 'slip_angle_beta'\n",
    "[exp.plot_prop_movies(prop,'body',fig,case = 'plot_exp' ,prop_x = 'time_m_t0',color = color_map[idx],legend = exp.pertubation_name) for idx,exp in enumerate(experiments.values())]\n",
    "fig.show()"
   ]
  },
  {
   "cell_type": "code",
   "execution_count": 60,
   "metadata": {},
   "outputs": [],
   "source": [
    "exp = experiments['manipulated_2023_08_09_60ms']\n",
    "fig = go.Figure()\n",
    "exp.plot_prop_movies('delta_ang_Xax','body',fig,case = 'plot_mov',add_horizontal_line = None )\n",
    "\n",
    "fig.show()"
   ]
  },
  {
   "cell_type": "code",
   "execution_count": 23,
   "metadata": {},
   "outputs": [],
   "source": [
    "exp = experiments['manipulated_2023_08_09_60ms']\n",
    "fig = go.Figure()\n",
    "exp.plot_prop_movies('slip_angle_beta','vectors',fig,case = 'plot_mov',prop_x = 'time',add_horizontal_line = None)\n",
    "fig.show()\n",
    "exp = experiments['manipulated_2023_08_09_60ms']\n",
    "fig = go.Figure()\n",
    "exp.plot_prop_movies('delta_ang_Xax','vectors',fig,case = 'plot_mov',prop_x = 'time',add_horizontal_line = None)\n",
    "fig.show()\n",
    "\n"
   ]
  },
  {
   "cell_type": "code",
   "execution_count": 53,
   "metadata": {},
   "outputs": [],
   "source": [
    "exp = experiments['manipulated_2023_08_10_100ms']\n",
    "fig = go.Figure()\n",
    "exp.plot_prop_movies('slip_angle_beta','vectors',fig,case = 'plot_mov',prop_x = 'time',add_horizontal_line = None)\n",
    "fig.show()\n",
    "\n",
    "fig = go.Figure()\n",
    "exp.plot_prop_movies('slip_angle_beta','vectors',fig,case = 'plot_mov',prop_x = 'time')\n",
    "fig.show()\n",
    "fig = go.Figure()\n",
    "exp.plot_prop_movies('yaw_z_frame','body',fig,case = 'plot_mov',prop_x = 'time')\n",
    "fig.show()\n",
    "fig = go.Figure()\n",
    "exp.plot_prop_movies('delta_ang_Xax','vectors',fig,case = 'plot_mov',prop_x = 'time',add_horizontal_line = None)\n",
    "fig.show()\n",
    "\n",
    "\n"
   ]
  },
  {
   "cell_type": "code",
   "execution_count": 67,
   "metadata": {},
   "outputs": [],
   "source": [
    "fig = go.Figure()\n",
    "exp = experiments['manipulated_2022_02_03_dark']\n",
    "exp.plot_prop_movies('CM_dot_dot_y_projected','body',fig,case = 'plot_mov',prop_x = 'time')\n",
    "fig.show()\n",
    "\n",
    "phi_r_color = [[256,0,0]]*len(exp.mov_names)\n",
    "phi_l_color = [[0,0,256]]*len(exp.mov_names)\n",
    "\n",
    "fig = go.Figure()\n",
    "exp = experiments['manipulated_2022_02_03_dark']\n",
    "exp.plot_prop_movies('phi_rw','wing',fig,case = 'plot_mov',prop_x = 'time',color = phi_r_color )\n",
    "exp.plot_prop_movies('phi_lw','wing',fig,case = 'plot_mov',prop_x = 'time', color = phi_l_color)\n",
    "\n",
    "fig.show()"
   ]
  },
  {
   "cell_type": "markdown",
   "metadata": {},
   "source": [
    "3D trajectory plot"
   ]
  },
  {
   "cell_type": "code",
   "execution_count": 71,
   "metadata": {},
   "outputs": [],
   "source": [
    "\n",
    "exp = experiments['manipulated_2023_08_09_60ms']\n",
    "mov = ['mov60']\n",
    "exp.plot_3d_traj_movies('CM_dot_x_projected',mov = mov)\n"
   ]
  },
  {
   "cell_type": "code",
   "execution_count": 4,
   "metadata": {},
   "outputs": [],
   "source": [
    "mov = exp.get_mov('mov75')\n",
    "mov.from_wing_body_to_vectors('slip_angle_beta','vectors', wing_body_to_vectors = False)"
   ]
  },
  {
   "cell_type": "code",
   "execution_count": 31,
   "metadata": {},
   "outputs": [
    {
     "data": {
      "text/plain": [
       "array([ 77.625 ,  77.6875,  77.75  , ..., 331.5   , 331.5625, 331.625 ])"
      ]
     },
     "execution_count": 31,
     "metadata": {},
     "output_type": "execute_result"
    }
   ],
   "source": [
    "t0 = exp.interest_points['CM_dot_x_projected_zero_v'][idx][exp.body_header['time']]\n",
    "time[time > t0]"
   ]
  },
  {
   "cell_type": "code",
   "execution_count": 7,
   "metadata": {},
   "outputs": [
    {
     "data": {
      "text/plain": [
       "(array([20.,  8.,  4.,  1.,  0.,  0.,  0.,  0.,  0.,  1.]),\n",
       " array([50.0625 , 50.26875, 50.475  , 50.68125, 50.8875 , 51.09375,\n",
       "        51.3    , 51.50625, 51.7125 , 51.91875, 52.125  ]),\n",
       " <BarContainer object of 10 artists>)"
      ]
     },
     "execution_count": 7,
     "metadata": {},
     "output_type": "execute_result"
    }
   ],
   "source": [
    "plt.hist(exp.interest_points['slip_angle_beta_peaks_max'][:,time_idx], alpha = 0.5,label = 'min_cm_dot')\n"
   ]
  },
  {
   "cell_type": "code",
   "execution_count": 80,
   "metadata": {},
   "outputs": [
    {
     "name": "stdout",
     "output_type": "stream",
     "text": [
      "manipulated_2023_08_09_60ms\n"
     ]
    },
    {
     "data": {
      "text/plain": [
       "[<matplotlib.lines.Line2D at 0x2654b71e140>]"
      ]
     },
     "execution_count": 80,
     "metadata": {},
     "output_type": "execute_result"
    }
   ],
   "source": [
    "print(exp.experiment_name)\n",
    "mov = exp.get_mov('mov94')\n",
    "prop = mov.get_prop('CM_dot_x_projected','body')\n",
    "plt.plot(prop)"
   ]
  },
  {
   "cell_type": "code",
   "execution_count": 24,
   "metadata": {},
   "outputs": [
    {
     "data": {
      "text/plain": [
       "<matplotlib.legend.Legend at 0x218370e75e0>"
      ]
     },
     "execution_count": 24,
     "metadata": {},
     "output_type": "execute_result"
    }
   ],
   "source": [
    "for exp_name in experiments:\n",
    "    exp = experiments[exp_name]\n",
    "    time = exp.interest_points['pitch_y_frame_max'][:,exp.body_header['time']]\n",
    "    max_pitch = exp.interest_points['pitch_y_frame_max'][:,exp.body_header['pitch_body']]\n",
    "\n",
    "    plt.plot(time,\n",
    "            max_pitch,'*',label = exp_name)\n",
    "plt.legend()"
   ]
  },
  {
   "cell_type": "markdown",
   "metadata": {},
   "source": [
    "Plot histograms of peaks, plot movies time seires data with the max/min/peak data point on them"
   ]
  },
  {
   "cell_type": "code",
   "execution_count": 64,
   "metadata": {},
   "outputs": [],
   "source": [
    "# Histograms\n",
    "point_name = 'pitch_y_frame_dot_dot_peaks_max'\n",
    "list_trace,layout = zip(*[exp.interest_point_hist(point_name,xbins = dict(start=0,end=300, size=5)) for exp in experiments.values()])\n",
    "fig = go.Figure(data=list_trace, layout=layout[0]).show()\n",
    "\n",
    "point_name = 'pitch_y_frame_max'\n",
    "list_trace,layout = zip(*[exp.interest_point_hist(point_name,xbins = dict(start=0,end=300, size=5)) for exp in experiments.values()])\n",
    "fig = go.Figure(data=list_trace, layout=layout[0]).show()\n",
    "\n",
    "\n",
    "point_name = 'CM_dot_dot_projected_min'\n",
    "list_trace,layout = zip(*[exp.interest_point_hist(point_name,xbins = dict(start=0,end=300, size=5)) for exp in experiments.values()])\n",
    "fig = go.Figure(data=list_trace, layout=layout[0]).show()\n",
    "\n",
    "\n",
    "point_name = 'amp_v_peaks_min'\n",
    "list_trace,layout = zip(*[exp.interest_point_hist(point_name,xbins = dict(start=0,end=300, size=5)) for exp in experiments.values()])\n",
    "fig = go.Figure(data=list_trace, layout=layout[0]).show()\n",
    "\n",
    "\n",
    "point_name = 'CM_dot_projected_zero_v'\n",
    "list_trace,layout = zip(*[exp.interest_point_hist(point_name,xbins = dict(start=0,end=300, size=5)) for exp in experiments.values()])\n",
    "fig = go.Figure(data=list_trace, layout=layout[0]).show()"
   ]
  },
  {
   "cell_type": "code",
   "execution_count": 9,
   "metadata": {},
   "outputs": [],
   "source": [
    "exp = experiments['manipulated_2022_02_03_dark']\n",
    "fig = go.Figure()\n",
    "exp.plot_prop_movies('CM_dot_projected','body',fig,case = 'plot_mov',prop_x = 'time')\n",
    "exp.add_point_to_plot_movies('amp_v_peaks_min','amp_v',fig) \n",
    "fig.show()"
   ]
  },
  {
   "cell_type": "code",
   "execution_count": 68,
   "metadata": {},
   "outputs": [],
   "source": [
    "# time series of movies with min/max on them\n",
    "exp = experiments['manipulated_2022_02_03_dark']\n",
    "fig = go.Figure()\n",
    "exp.plot_prop_movies('pitch_y_frame_dot_dot','body',fig,case = 'plot_mov',prop_x = 'time')\n",
    "exp.add_point_to_plot_movies('pitch_y_frame_dot_dot_peaks_max','pitch_y_frame_dot_dot',fig) \n",
    "fig.show()\n",
    "\n",
    "fig = go.Figure()\n",
    "exp.plot_prop_movies('CM_dot_projected','body',fig,case = 'plot_mov',prop_x = 'time')\n",
    "exp.add_point_to_plot_movies('pitch_y_frame_dot_dot_peaks_max','CM_dot_projected',fig) \n",
    "fig.show()"
   ]
  },
  {
   "cell_type": "code",
   "execution_count": 45,
   "metadata": {},
   "outputs": [],
   "source": [
    "\n",
    "\n",
    "\n",
    "# time series of movies with min/max on them\n",
    "exp = experiments['manipulated_2022_02_03_dark']\n",
    "fig = go.Figure()\n",
    "exp.plot_prop_movies('pitch_y_frame_dot_dot','body',fig,case = 'plot_mov',prop_x = 'time')\n",
    "exp.add_point_to_plot_movies('pitch_y_frame_dot_dot_peaks_max','pitch_y_frame_dot_dot',fig) \n",
    "fig.show()\n",
    "\n",
    "fig = go.Figure()\n",
    "exp.plot_prop_movies('pitch_y_frame','body',fig,case = 'plot_mov',prop_x = 'time')\n",
    "exp.add_point_to_plot_movies('pitch_y_frame_dot_dot_min','pitch_y_frame',fig) \n",
    "fig.show()\n",
    "\n",
    "\n",
    "fig = go.Figure()\n",
    "exp.plot_prop_movies('pitch_y_frame_dot_dot','body',fig,case = 'plot_mov',prop_x = 'time')\n",
    "exp.add_point_to_plot_movies('pitch_y_frame_max','pitch_y_frame_dot_dot',fig) \n",
    "fig.show()\n",
    "\n",
    "\n",
    "fig = go.Figure()\n",
    "exp.plot_prop_movies('CM_dot_dot_projected','body',fig,case = 'plot_mov',prop_x = 'time')\n",
    "exp.add_point_to_plot_movies('CM_dot_dot_projected_min','CM_dot_dot_projected',fig) \n",
    "fig.show()\n",
    "\n",
    "\n",
    "fig = go.Figure()\n",
    "exp.plot_prop_movies('yaw_z_frame','body',fig,case = 'plot_mov',prop_x = 'time')\n",
    "exp.add_point_to_plot_movies('CM_dot_projected_zero_v','yaw_z_frame',fig) \n",
    "fig.show()\n",
    "\n",
    "\n",
    "# \n"
   ]
  },
  {
   "cell_type": "code",
   "execution_count": 23,
   "metadata": {},
   "outputs": [],
   "source": [
    "\n",
    "fig = go.Figure()\n",
    "exp.plot_prop_movies('roll_x_frame','body',fig,case = 'plot_mov',prop_x = 'time')\n",
    "# exp.add_point_to_plot_movies('CM_dot_projected_zero_v','CM_dot_y_projected',fig) \n",
    "exp.plot_prop_movies('yaw_z_frame','body',fig,case = 'plot_mov',prop_x = 'time',yaxis = 'y2')\n",
    "# exp.add_point_to_plot_movies('CM_dot_projected_zero_v','roll_body',fig,yaxis = 'y2') \n",
    "\n",
    "# yax_dict[f\"yaxis2\"] = (dict(title=prop,titlefont=dict(color=color),tickfont=dict(color=color),side = side[i],position=position[i]))\n",
    "\n",
    "\n",
    "\n",
    "fig.update_layout(title = exp.experiment_name,\n",
    "    xaxis=dict(domain=[0, 0.95]),\n",
    "    yaxis=dict(title='roll_x_frame', titlefont=dict(color='red'), tickfont=dict(color='red'), side='left', position=0),\n",
    "    yaxis2=dict(title='yaw_y_frame', titlefont=dict(color='green'), tickfont=dict(color='green'), side='right', position=0.95),\n",
    ")\n",
    "\n",
    "fig.show()"
   ]
  },
  {
   "cell_type": "markdown",
   "metadata": {},
   "source": [
    "Plot all experiments - time series"
   ]
  },
  {
   "cell_type": "code",
   "execution_count": 6,
   "metadata": {},
   "outputs": [],
   "source": [
    "fig = go.Figure()\n",
    "prop = 'pitch_y_frame_dot_dot'\n",
    "[exp.plot_prop_movies(prop,'body',fig,case = 'plot_exp',prop_x = 'time',color = color_map[idx],legend = exp.pertubation_name) for idx,exp in enumerate(experiments.values())]\n",
    "fig.show()"
   ]
  },
  {
   "cell_type": "markdown",
   "metadata": {},
   "source": [
    "Calculate and plot mean property (time series,  mean per frame of all movies)"
   ]
  },
  {
   "cell_type": "code",
   "execution_count": 53,
   "metadata": {},
   "outputs": [
    {
     "name": "stderr",
     "output_type": "stream",
     "text": [
      "g:\\Documents\\experiment_analysis\\data_analysis\\Experiment.py:121: RuntimeWarning:\n",
      "\n",
      "Mean of empty slice\n",
      "\n"
     ]
    },
    {
     "data": {
      "text/plain": [
       "<matplotlib.legend.Legend at 0x1ee687a2e60>"
      ]
     },
     "execution_count": 53,
     "metadata": {},
     "output_type": "execute_result"
    }
   ],
   "source": [
    "from scipy import stats\n",
    "\n",
    "\n",
    "exp = experiments[list(experiments.keys())[0]]\n",
    "prop = 'pitch_y_frame'\n",
    "prop = 'r'\n",
    "prop = 'CM_dot_dot_projected'\n",
    "props = ['delta_ang','delta_ang']\n",
    "\n",
    "window = (73*3)//2\n",
    "fig,ax = plt.subplots(2,1,sharex=True)\n",
    "max_prop = {}\n",
    "for idx,prop in enumerate(props):\n",
    "    max_prop[prop] = [] \n",
    "    for exp in experiments.values():\n",
    "        mov_to_keep = []\n",
    "        acc_mean,time_inter = exp.mean_time_series_prop(prop,'vectors')\n",
    "        time_to_check = (time_inter > 0 ) & (time_inter <100 )\n",
    "        time_for_max = time_inter[time_to_check]\n",
    "        max_prop[prop].append(time_for_max[np.nanargmax(acc_mean[time_to_check])])\n",
    "        ax[idx].plot(time_inter,acc_mean, label = exp.experiment_name)\n",
    "\n",
    "\n",
    "plt.legend()"
   ]
  },
  {
   "cell_type": "markdown",
   "metadata": {},
   "source": [
    "Try PCA"
   ]
  },
  {
   "cell_type": "code",
   "execution_count": 19,
   "metadata": {},
   "outputs": [
    {
     "name": "stderr",
     "output_type": "stream",
     "text": [
      "C:\\Users\\Roni\\AppData\\Local\\Temp\\ipykernel_31184\\2630784800.py:13: RuntimeWarning:\n",
      "\n",
      "Mean of empty slice\n",
      "\n",
      "C:\\Users\\Roni\\AppData\\Local\\Temp\\ipykernel_31184\\2630784800.py:13: RuntimeWarning:\n",
      "\n",
      "Mean of empty slice\n",
      "\n",
      "C:\\Users\\Roni\\AppData\\Local\\Temp\\ipykernel_31184\\2630784800.py:13: RuntimeWarning:\n",
      "\n",
      "Mean of empty slice\n",
      "\n",
      "c:\\Users\\Roni\\anaconda3\\lib\\site-packages\\sklearn\\cluster\\_kmeans.py:1382: UserWarning:\n",
      "\n",
      "KMeans is known to have a memory leak on Windows with MKL, when there are less chunks than available threads. You can avoid it by setting the environment variable OMP_NUM_THREADS=1.\n",
      "\n"
     ]
    },
    {
     "name": "stdout",
     "output_type": "stream",
     "text": [
      "[0 0 0 0 0 0 0 2 2 2 0 0 2 1 0 0 1 0 2 2 2 2 2 0 0 2 2 2 0 0 0 2 0 0 2 2 0\n",
      " 0 2]\n"
     ]
    },
    {
     "data": {
      "text/plain": [
       "array([[ 2.58930919e-03, -3.21593360e-07, -9.99996648e-01],\n",
       "       [-9.99996645e-01, -7.69076209e-05, -2.58930916e-03]])"
      ]
     },
     "execution_count": 19,
     "metadata": {},
     "output_type": "execute_result"
    }
   ],
   "source": [
    "from sklearn.decomposition import PCA\n",
    "import pandas as pd\n",
    "from sklearn.cluster import KMeans\n",
    "\n",
    "mov_feat = []\n",
    "props = ['CM_dot_dot_projected','CM_dot_projected','pitch_y_frame_dot_dot']\n",
    "\n",
    "exp_pd = []\n",
    "for exp in list(experiments.values())[0:3]:\n",
    "    mov_feat = []\n",
    "    for idx,mov_name in enumerate(exp.mov_names):\n",
    "        mov = exp.get_mov(mov_name)\n",
    "        mov_feat.append(np.nanmean(mov.data['body'][15:60,:],axis = 0))\n",
    "\n",
    "    featpd_exp = pd.DataFrame(data = mov_feat,columns = mov.header['body'])\n",
    "    featpd_exp['exp_name'] = exp.experiment_name\n",
    "    featpd_exp['mov'] = exp.mov_names\n",
    "    exp_pd.append(featpd_exp)\n",
    "\n",
    "feat = pd.concat(exp_pd,axis = 0).dropna().reset_index()\n",
    "\n",
    "\n",
    "dataforpca = feat[props]\n",
    "n_comp = 2\n",
    "pca = PCA(n_components=n_comp)\n",
    "principalComponents = pca.fit_transform(dataforpca)\n",
    "principalDf = pd.DataFrame(data = principalComponents\n",
    "             , columns = [f'pca_{idx}' for idx in range(n_comp)])\n",
    "\n",
    "pca_name = [f'pca_{idx}' for idx in range(pca.n_components_)]\n",
    "\n",
    "\n",
    "featpd = pd.concat([feat, principalDf], axis = 1)\n",
    "kmeans = KMeans(n_clusters=3, random_state=0, n_init=\"auto\").fit(featpd[pca_name])\n",
    "print(kmeans.labels_)\n",
    "pca.components_\n"
   ]
  },
  {
   "cell_type": "code",
   "execution_count": 18,
   "metadata": {},
   "outputs": [
    {
     "name": "stderr",
     "output_type": "stream",
     "text": [
      "c:\\Users\\Roni\\Documents\\experiment-analysis\\data_analysis\\Experiment.py:112: RuntimeWarning:\n",
      "\n",
      "Mean of empty slice\n",
      "\n"
     ]
    }
   ],
   "source": [
    "\n",
    "fig = go.Figure()\n",
    "\n",
    "for lbl in np.unique(kmeans.labels_):\n",
    "    exp_names = np.unique(feat.iloc[kmeans.labels_==lbl]['exp_name'])\n",
    "    feat_lbl = feat.iloc[kmeans.labels_==lbl]\n",
    "    for idx,exp_name in enumerate(exp_names): \n",
    "        mov_exp_lbl = list(feat_lbl.loc[feat_lbl['exp_name'] == exp_name]['mov'])\n",
    "\n",
    "        prop = 'pitch_y_frame_dot'\n",
    "        prop = 'CM_dot_dot_projected'\n",
    "        # prop = 'pitch_body'\n",
    "\n",
    "        color_map = colormap.datad[\"tab10\"]['listed']\n",
    "\n",
    "        experiments[exp_name].plot_prop_movies(prop,'body',fig,mov = mov_exp_lbl,case = 'plot_exp',prop_x = 'time',color = color_map[lbl],legend = f'{exp_name}_cluster{lbl}')\n",
    "fig.show()\n",
    "# feat.iloc[kmeans.labels_==lbl]['exp_name'] == exp_names[0]\n",
    "from scipy import stats\n",
    "\n",
    "\n",
    "exp = experiments[list(experiments.keys())[0]]\n",
    "prop = 'pitch_y_frame'\n",
    "prop = 'q'\n",
    "prop = 'CM_dot_dot_projected'\n",
    "props = ['pitch_y_frame_dot_dot','pitch_y_frame_dot']\n",
    "\n",
    "window = (73*3)//2\n",
    "fig,ax = plt.subplots(2,1,sharex=True)\n",
    "max_prop = {}\n",
    "for idx,prop in enumerate(props):\n",
    "    max_prop[prop] = [] \n",
    "    for exp in experiments.values():\n",
    "        mov_to_keep = []\n",
    "        acc_mean,time_inter = exp.mean_time_series_prop(prop,'body')\n",
    "        time_to_check = (time_inter > 0 ) & (time_inter <100 )\n",
    "        time_for_max = time_inter[time_to_check]\n",
    "        max_prop[prop].append(time_for_max[np.nanargmax(acc_mean[time_to_check])])\n",
    "        ax[idx].plot(time_inter,acc_mean)"
   ]
  },
  {
   "cell_type": "markdown",
   "metadata": {},
   "source": [
    "Plot and save figures"
   ]
  },
  {
   "cell_type": "code",
   "execution_count": 11,
   "metadata": {},
   "outputs": [
    {
     "data": {
      "text/plain": [
       "<Experiment.Experiment at 0x2b537c203d0>"
      ]
     },
     "execution_count": 11,
     "metadata": {},
     "output_type": "execute_result"
    }
   ],
   "source": [
    "exp"
   ]
  },
  {
   "cell_type": "code",
   "execution_count": 22,
   "metadata": {},
   "outputs": [],
   "source": [
    "import plotly.graph_objects as go\n",
    "import plotly\n",
    "import matplotlib.cm as colormap\n",
    "color_map = colormap.datad[\"tab10\"]['listed']\n",
    "\n",
    "\n",
    "\n",
    "def plot_and_save_movie_prop(exp,yprop,wing_body,title,add_horizontal_line = None):\n",
    "    \n",
    "    fig = go.Figure()\n",
    "\n",
    "    exp.plot_prop_movies(yprop,wing_body,fig,case = 'plot_mov',prop_x = 'time',add_horizontal_line = add_horizontal_line)\n",
    "    fig.update_layout(title = title)\n",
    "   \n",
    "    fig.show()\n",
    "    plotly.offline.plot(fig, filename=f'{exp.figures_path}/{yprop}_plot.html',auto_open=False)\n",
    "\n",
    "\n",
    "\n",
    "\n",
    "for exp in experiments:\n",
    "    try:\n",
    "        exp = experiments[exp]\n",
    "        exp.plot_3d_traj_movies('CM_dot_x_projected',save_plot = True, mov = False)\n",
    "\n",
    "        plot_and_save_movie_prop(exp, 'slip_angle_beta', 'vectors','dot product between Xbody_xy and V_xy', add_horizontal_line = 0)\n",
    "        plot_and_save_movie_prop(exp, 'delta_ang_CM_dot_x','vectors','dot product between initial V_xy and V_xy',add_horizontal_line = None)\n",
    "        plot_and_save_movie_prop(exp, 'delta_ang_Xax','vectors','dot product between initial Xbody_xy and Xbody_xy',add_horizontal_line = None)\n",
    "\n",
    "        plot_and_save_movie_prop(exp, 'CM_dot_dot_x_projected','acceleration projected on XY',wing_body = 'body',add_horizontal_line = 0)\n",
    "        plot_and_save_movie_prop(exp, 'pitch_y_frame','pitch angle rotated to first frame', 'body',add_horizontal_line = 0)\n",
    "        plot_and_save_movie_prop(exp, 'pitch_y_frame_dot','pitch_dot rotated to first frame' 'body',add_horizontal_line = 0)\n",
    "        plot_and_save_movie_prop(exp, 'CM_dot_x_projected','velocity projected on XY', 'body',add_horizontal_line = 0)\n",
    "    except:\n",
    "        continue\n",
    "    # exp.mean_mean_props_movies('phi_rw_min_val','phi_lw_min_val','mean_wing','mean_front_phi')\n",
    "    # exp.mean_mean_props_movies('phi_rw','phi_lw','mean_wing','mean_mean_phi')\n",
    "\n",
    "    # plot_and_save_movie_prop(exp,yprop = 'mean_front_phi',wing_body = 'mean_wing')\n",
    "    # plot_and_save_movie_prop(exp,yprop = 'mean_mean_phi',wing_body = 'mean_wing')\n",
    "\n"
   ]
  }
 ],
 "metadata": {
  "kernelspec": {
   "display_name": "base",
   "language": "python",
   "name": "python3"
  },
  "language_info": {
   "codemirror_mode": {
    "name": "ipython",
    "version": 3
   },
   "file_extension": ".py",
   "mimetype": "text/x-python",
   "name": "python",
   "nbconvert_exporter": "python",
   "pygments_lexer": "ipython3",
   "version": "3.10.9"
  }
 },
 "nbformat": 4,
 "nbformat_minor": 2
}
