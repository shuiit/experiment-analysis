{
 "cells": [
  {
   "cell_type": "markdown",
   "metadata": {},
   "source": [
    "blink - movs: 65 66 69 - 40ms\n",
    "\n",
    "Plots: \n",
    "- time response: pitch_dot_dot ~ 30ms\n",
    "                 zero_x: ~ 85 ms\n",
    "                 min_CM_dot_dot: ~ 75 ms\n",
    "- linear correletion: pitch vs CM_dot_dot\n",
    "- correction of velocity direction: time series: CM_x_dot_projected\n",
    "                                                 delta angle between initial CM_x_dot_projected direction and final\n",
    "                                    histogram :  initial angle (mean on frames) - final angle(mean on frames)\n",
    "                        - memory? \n",
    "                        - correction time from light? \n",
    "                        - correct in dark? in 100 ms? not sure\n",
    "\n",
    "- they try to keep delta yaw 0 and go back to the same velocity. its not the same target! \n",
    "they have velocity in the Y direction (slip) when they react to dark, they slip for a while and continue the according to their position \n",
    "most of them will keep the same yaw (it means they need to mesure their angular position some how and keep it the same)\n",
    "- they manage to keep the same yaw while changing the velocity \n",
    "(kind of balance - they use the wings to slip but keep the yaw the same, something symetric should happen)\n",
    "- they go back to the same velocity size, is it their baseline or they remember?\n",
    "\n",
    "- when in total darkness they manage to keep the yaw but the velocity doesnt neceseely stay the same (which means it adds slip). \n",
    "* they mesure gravity - for pitch? how they keep the same yaw? (not all of them keep the same yaw, less than the pulse one) \n",
    "* velocity mesurment - oprical flow and probably antena. the fact that some of them regain the same velocity means that optical flow is not the only sensor\n",
    "\n",
    "--- the dark response: pitch up and backwards fly  - they try to keep the same yaw and go back to the same velocity. \n",
    "if the light turns on they manage to regain the same velocity. they probably keep the same direction as a delta t from the lighs turning on"
   ]
  },
  {
   "cell_type": "code",
   "execution_count": 30,
   "metadata": {},
   "outputs": [],
   "source": [
    "\n",
    "from Experiment import Experiment\n",
    "import matplotlib.pyplot as plt\n",
    "import Plotters \n",
    "import plotly.graph_objects as go\n",
    "import plotly\n",
    "import numpy as np\n",
    "\n",
    "import time\n",
    "import matplotlib.cm as colormap\n",
    "\n",
    "%matplotlib qt\n",
    "\n",
    "\n",
    "loadir = 'H:/My Drive/dark 2022/csv_dark' # dir to save the data frame in # H:\\My Drive\\Ronis Exp\\sagiv\\data_analysis\n",
    "exp_name =['manipulated_2022_02_03_dark','manipulated_2023_08_09_60ms']\n",
    "\n",
    "# ['manipulated_2023_08_07_10ms',\n",
    "#             'manipulated_2023_08_06_40ms',\n",
    "#            'manipulated_2023_08_09_60ms',\n",
    "#            'manipulated_2023_08_09_80ms',\n",
    "#            'manipulated_2023_08_10_100ms',\n",
    "#            'manipulated_2022_02_03_dark',\n",
    "#            'manipulated_2022_01_31_darkdown']\n",
    "\n",
    "\n",
    "\n",
    "\n",
    "def dont_show_movs(exp_name,movs_to_del):\n",
    "    return [mov_name for mov_name in experiments[exp_name].mov_names if mov_name not in movs_to_del ] \n",
    "\n",
    "mov_dark_delete = ['mov30','mov40','mov57','mov59']\n",
    "mov_100_delete = ['mov10','mov102','mov19','mov34','mov35','mov47','mov51','mov52','mov66','mov68','mov73','mov90']\n",
    "mov_80_delete = ['mov119','mov49','mov97','mov99']\n",
    "mov_40_delete = ['mov64']\n",
    "mov_60_delete = ['mov12','mov13','mov147','mov165','mov21','mov24','mov26','mov48','mov86']\n",
    "mov_10_delete = ['mov46','mov54']\n",
    "mov_5_delete = ['mov44']\n",
    "\n",
    "\n",
    "color_map = colormap.datad[\"tab10\"]['listed']\n",
    "\n",
    "experiments = {exp:Experiment(loadir,exp) for exp in exp_name} # load experiments\n"
   ]
  },
  {
   "cell_type": "code",
   "execution_count": 25,
   "metadata": {},
   "outputs": [
    {
     "data": {
      "text/plain": [
       "[None]"
      ]
     },
     "execution_count": 25,
     "metadata": {},
     "output_type": "execute_result"
    }
   ],
   "source": [
    "\n",
    "[exp.xy_body_on_sp_movies()  for exp in experiments.values()] # smooth and derive\n"
   ]
  },
  {
   "cell_type": "markdown",
   "metadata": {},
   "source": [
    "Smooth, calculate projected axes and angles"
   ]
  },
  {
   "cell_type": "code",
   "execution_count": 31,
   "metadata": {},
   "outputs": [
    {
     "name": "stderr",
     "output_type": "stream",
     "text": [
      "c:\\Users\\Roni\\Documents\\experiment-analysis\\data_analysis\\Movie.py:124: RuntimeWarning:\n",
      "\n",
      "invalid value encountered in arccos\n",
      "\n",
      "c:\\Users\\Roni\\Documents\\experiment-analysis\\data_analysis\\Movie.py:369: RuntimeWarning:\n",
      "\n",
      "divide by zero encountered in divide\n",
      "\n"
     ]
    }
   ],
   "source": [
    "[exp.from_vector_to_wing_body('Y_x_body',['vectors','body'])  for exp in experiments.values()] # smooth and derive\n",
    "\n",
    "\n",
    "[exp.smooth_prop_movies('CM_real_x_body',['','_dot','_dot_dot'],'body')  for exp in experiments.values()] # smooth and derive\n",
    "\n",
    "\n",
    "[exp.project_axes_movies(['X_x_body_projected','X_y_body_projected'], add_to_vectors = ['vectors','body'])  for exp in experiments.values()] # X_body axis projected to xy plane\n",
    "[exp.project_axes_movies(['Y_x_body_projected','Y_y_body_projected'],axis = 'Y_x_body',add_to_vectors = ['vectors','body'])  for exp in experiments.values()] # X_body axis projected to xy plane\n",
    "\n",
    "[exp.project_axes_movies(['CM_dot_xax','CM_dot_yax'],axis = 'CM_real_x_body_dot_smth',wing_body = 'body',add_to_vectors = ['body','vectors'])  for exp in experiments.values()] # Velocity direction in the projected X_body axes (xy plane) \n",
    "\n",
    "# calculate the size of the velocity projected on the xy plane\n",
    "[exp.project_prop_movies('CM_real_x_body_dot_smth',header_name = 'CM_dot_x',three_col = 2,ax_to_proj = 'X_x_body_projected',add_to_vectors = True)  for exp in experiments.values()]\n",
    "[exp.project_prop_movies('CM_real_x_body_dot_smth',header_name = 'CM_dot_y',three_col = 2,ax_to_proj = 'Y_x_body_projected',add_to_vectors = True)  for exp in experiments.values()]\n",
    "\n",
    "\n",
    "# calculate the size of the acceleration projected on the xy plane\n",
    "[exp.project_prop_movies('CM_real_x_body_dot_dot_smth',header_name = 'CM_dot_dot_x',three_col = 2,ax_to_proj = 'X_x_body_projected')  for exp in experiments.values()]\n",
    "[exp.project_prop_movies('CM_real_x_body_dot_dot_smth',header_name = 'CM_dot_dot_y',three_col = 2,ax_to_proj = 'Y_x_body_projected')  for exp in experiments.values()]\n",
    "\n",
    "[exp.pqr_movies() for exp in experiments.values()] # calculate p,q,r (angular velocity in body axis)\n",
    "\n",
    "[exp.mean_mean_props_movies('phi_rw','phi_lw','mean_wing','mean_mean_phi') for exp in experiments.values()] # calculate the mean value of two properties\n",
    "\n",
    "\n",
    "[exp.substruct_first_frame('yaw_body','body')  for exp in experiments.values()] # substract the zero frame from a property ( {prop}_min_ref_frame )\n",
    "\n",
    "# calculate the difference between current direction and another one at the same time:\n",
    "# the angle between Xbody on the xy plane and the velocity direction on the xy plane \n",
    "[exp.delta_ang_all_time_movies('X_x_body_projected','CM_dot_xax','slip_angle_beta',three_col = 2) for exp in experiments.values()] \n",
    "\n",
    "# calculate the difference in angle between current property and in referance frame:\n",
    "# the angle between Xbody on the xy (in 0 time) plane and Xbody on xy plane \n",
    "[exp.delta_ref_ang_movies('X_x_body_projected','delta_ang_Xax',axis = 'X_x_body_projected')  for exp in experiments.values()]\n",
    "\n",
    "# the angle between Xbody on the xy (in 0 time) plane and the velocity direction on the xy plane \n",
    "[exp.delta_ref_ang_movies('CM_dot_xax','delta_ang_CM_dot_x',axis = 'CM_dot_xax',delta_ang = 0) for exp in experiments.values()]\n",
    "[exp.project_prop_all_axes_movies('CM_real_x_body_dot_smth',header_name = 'CM_dot_x',three_col = 2,ax_to_proj = 'X_x_body_projected')  for exp in experiments.values()]\n",
    "[exp.project_prop_all_axes_movies('CM_real_x_body_dot_smth',header_name = 'CM_dot_y',three_col = 2,ax_to_proj = 'Y_x_body_projected')  for exp in experiments.values()]\n",
    "\n",
    "\n",
    "\n",
    "[exp.project_prop_all_axes_movies('CM_real_x_body_dot_dot_smth',header_name = 'CM_dot_dot_y',three_col = 2,ax_to_proj = 'Y_x_body_projected')  for exp in experiments.values()]\n",
    "[exp.project_prop_all_axes_movies('CM_real_x_body_dot_dot_smth',header_name = 'CM_dot_dot_x',three_col = 2,ax_to_proj = 'X_x_body_projected')  for exp in experiments.values()]\n",
    "\n",
    "[exp.project_prop_all_axes_movies('CM_real_x_body_dot_dot_smth',header_name = 'CM_dot_dot_y_body',three_col = 2,ax_to_proj = 'Y_x_body')  for exp in experiments.values()]\n",
    "\n",
    "[exp.calculate_phi_amp_movies('rw','mean_body')  for exp in experiments.values()]\n",
    "[exp.calculate_phi_amp_movies('lw','mean_body')  for exp in experiments.values()]\n",
    "[exp.calculate_freq_movies('phi_rw_min_idx', 'mean_body')  for exp in experiments.values()]\n",
    "[exp.calculate_freq_movies('phi_lw_min_idx', 'mean_body')  for exp in experiments.values()]\n",
    "\n",
    "\n",
    "\n",
    "props_to_mean = ['x','y','z']\n",
    "[[exp.mean_by_stroke_movies(f'CM_real_{x}_body_dot_dot_smth','mean_body','body')  for exp in experiments.values()] for x in props_to_mean]\n",
    "[[exp.mean_by_stroke_movies(f'CM_dot_dot_{x}_projected_all_axes','mean_body','body')  for exp in experiments.values()] for x in ['x','y']]\n",
    "\n",
    "[[exp.mean_by_stroke_movies(f'X_{x}_body_projected','mean_body','body')  for exp in experiments.values()] for x in ['x','y']]\n",
    "[[exp.mean_by_stroke_movies(f'Y_{x}_body_projected','mean_body','body')  for exp in experiments.values()] for x in ['x','y']]\n",
    "\n"
   ]
  },
  {
   "cell_type": "markdown",
   "metadata": {},
   "source": [
    "Calculate model and project to projected body axes"
   ]
  },
  {
   "cell_type": "code",
   "execution_count": 17,
   "metadata": {},
   "outputs": [
    {
     "data": {
      "text/plain": [
       "[None]"
      ]
     },
     "execution_count": 17,
     "metadata": {},
     "output_type": "execute_result"
    }
   ],
   "source": [
    "[exp.calc_drag_movies() for exp in experiments.values()]\n",
    "\n",
    "# [exp.calculate_model_movies(add_drag = True,g = 13) for exp in experiments.values()]\n",
    "[exp.calculate_model_movies(add_drag = False) for exp in experiments.values()]"
   ]
  },
  {
   "cell_type": "code",
   "execution_count": 10,
   "metadata": {},
   "outputs": [],
   "source": [
    "# subplot of heli model\n",
    "\n",
    "exp = experiments['manipulated_2023_08_09_60ms']\n",
    "from plotly.subplots import make_subplots\n",
    "fig_subplots = make_subplots(rows=3, cols=1, subplot_titles= ['acc_x','acc_y','acc_z'])\n",
    "for idx,x in enumerate(['x','y','z']):\n",
    "    fig = go.Figure()\n",
    "\n",
    "    prop_name = [f'model_gamma_{x}_no_drag_projected_all_axes',f'model_{x}_no_drag_projected_all_axes',\n",
    "                 f'CM_dot_dot_{x}_projected_all_axes']\n",
    "    if x == 'z':\n",
    "        prop_name = [f'model_gamma_{x}_no_drag',f'model_{x}_no_drag',f'CM_real_{x}_body_dot_dot_smth']\n",
    "\n",
    "    exp.plot_prop_movies(prop_name[0],'mean_body',fig,case = 'plot_mov',prop_x = 'time' ,add_horizontal_line=None,\n",
    "                         name = 'gamma model no drag - ',showlegend = idx==0,marker_color = 'rgb(255, 100, 100)',\n",
    "                         marker_size = 3,mode = 'markers+lines')\n",
    "    exp.plot_prop_movies(prop_name[1],'body',fig,case = 'plot_mov',prop_x = 'time' ,add_horizontal_line=None,\n",
    "                         showlegend = idx==0,name = 'gamma model drag - ',marker_size = 7,mode = 'markers+lines',\n",
    "                         symbol = 'cross',marker_color = 'rgb(100, 255, 100)')\n",
    "    exp.plot_prop_movies(prop_name[2],'body',fig,case = 'plot_mov',prop_x = 'time' ,add_horizontal_line=None,name = 'experiment - ',\n",
    "                         showlegend = idx==0,mode = 'markers+lines',symbol = 'triangle-up',marker_color = 'rgb(0, 0, 0)',marker_size = 3)\n",
    "    traces = fig.data\n",
    "\n",
    "    # Add traces to the subplots\n",
    "    for trace in traces:\n",
    "        fig_subplots.add_trace(trace, row=idx + 1, col=1)\n",
    "\n",
    "    # Update layout of subplots\n",
    "fig_subplots.update_layout(title='Subplots with Extracted Traces')\n",
    "plotly.offline.plot(fig_subplots, filename=f'{exp.figures_path}/with_drag_plot.html',auto_open=False)\n",
    "\n",
    "# Display the subplots\n",
    "fig_subplots.show()"
   ]
  },
  {
   "cell_type": "code",
   "execution_count": 11,
   "metadata": {},
   "outputs": [
    {
     "ename": "KeyError",
     "evalue": "'model_gamma_x_drag'",
     "output_type": "error",
     "traceback": [
      "\u001b[1;31m---------------------------------------------------------------------------\u001b[0m",
      "\u001b[1;31mKeyError\u001b[0m                                  Traceback (most recent call last)",
      "Cell \u001b[1;32mIn[11], line 17\u001b[0m\n\u001b[0;32m     12\u001b[0m     prop_name \u001b[38;5;241m=\u001b[39m [\u001b[38;5;124mf\u001b[39m\u001b[38;5;124m'\u001b[39m\u001b[38;5;124mmodel_gamma_\u001b[39m\u001b[38;5;132;01m{\u001b[39;00mx\u001b[38;5;132;01m}\u001b[39;00m\u001b[38;5;124m_no_drag\u001b[39m\u001b[38;5;124m'\u001b[39m,\u001b[38;5;124mf\u001b[39m\u001b[38;5;124m'\u001b[39m\u001b[38;5;124mmodel_gamma_\u001b[39m\u001b[38;5;132;01m{\u001b[39;00mx\u001b[38;5;132;01m}\u001b[39;00m\u001b[38;5;124m_drag\u001b[39m\u001b[38;5;124m'\u001b[39m,\u001b[38;5;124mf\u001b[39m\u001b[38;5;124m'\u001b[39m\u001b[38;5;124mCM_real_\u001b[39m\u001b[38;5;132;01m{\u001b[39;00mx\u001b[38;5;132;01m}\u001b[39;00m\u001b[38;5;124m_body_dot_dot_smth\u001b[39m\u001b[38;5;124m'\u001b[39m]\n\u001b[0;32m     14\u001b[0m exp\u001b[38;5;241m.\u001b[39mplot_prop_movies(prop_name[\u001b[38;5;241m0\u001b[39m],\u001b[38;5;124m'\u001b[39m\u001b[38;5;124mmean_body\u001b[39m\u001b[38;5;124m'\u001b[39m,fig,case \u001b[38;5;241m=\u001b[39m \u001b[38;5;124m'\u001b[39m\u001b[38;5;124mplot_mov\u001b[39m\u001b[38;5;124m'\u001b[39m,prop_x \u001b[38;5;241m=\u001b[39m \u001b[38;5;124m'\u001b[39m\u001b[38;5;124mtime\u001b[39m\u001b[38;5;124m'\u001b[39m ,add_horizontal_line\u001b[38;5;241m=\u001b[39m\u001b[38;5;28;01mNone\u001b[39;00m,\n\u001b[0;32m     15\u001b[0m                      name \u001b[38;5;241m=\u001b[39m \u001b[38;5;124m'\u001b[39m\u001b[38;5;124mgamma model no drag - \u001b[39m\u001b[38;5;124m'\u001b[39m,showlegend \u001b[38;5;241m=\u001b[39m idx\u001b[38;5;241m==\u001b[39m\u001b[38;5;241m0\u001b[39m,marker_color \u001b[38;5;241m=\u001b[39m \u001b[38;5;124m'\u001b[39m\u001b[38;5;124mrgb(255, 100, 100)\u001b[39m\u001b[38;5;124m'\u001b[39m,\n\u001b[0;32m     16\u001b[0m                      marker_size \u001b[38;5;241m=\u001b[39m \u001b[38;5;241m3\u001b[39m,mode \u001b[38;5;241m=\u001b[39m \u001b[38;5;124m'\u001b[39m\u001b[38;5;124mmarkers+lines\u001b[39m\u001b[38;5;124m'\u001b[39m)\n\u001b[1;32m---> 17\u001b[0m \u001b[43mexp\u001b[49m\u001b[38;5;241;43m.\u001b[39;49m\u001b[43mplot_prop_movies\u001b[49m\u001b[43m(\u001b[49m\u001b[43mprop_name\u001b[49m\u001b[43m[\u001b[49m\u001b[38;5;241;43m1\u001b[39;49m\u001b[43m]\u001b[49m\u001b[43m,\u001b[49m\u001b[38;5;124;43m'\u001b[39;49m\u001b[38;5;124;43mmean_body\u001b[39;49m\u001b[38;5;124;43m'\u001b[39;49m\u001b[43m,\u001b[49m\u001b[43mfig\u001b[49m\u001b[43m,\u001b[49m\u001b[43mcase\u001b[49m\u001b[43m \u001b[49m\u001b[38;5;241;43m=\u001b[39;49m\u001b[43m \u001b[49m\u001b[38;5;124;43m'\u001b[39;49m\u001b[38;5;124;43mplot_mov\u001b[39;49m\u001b[38;5;124;43m'\u001b[39;49m\u001b[43m,\u001b[49m\u001b[43mprop_x\u001b[49m\u001b[43m \u001b[49m\u001b[38;5;241;43m=\u001b[39;49m\u001b[43m \u001b[49m\u001b[38;5;124;43m'\u001b[39;49m\u001b[38;5;124;43mtime\u001b[39;49m\u001b[38;5;124;43m'\u001b[39;49m\u001b[43m \u001b[49m\u001b[43m,\u001b[49m\u001b[43madd_horizontal_line\u001b[49m\u001b[38;5;241;43m=\u001b[39;49m\u001b[38;5;28;43;01mNone\u001b[39;49;00m\u001b[43m,\u001b[49m\n\u001b[0;32m     18\u001b[0m \u001b[43m                     \u001b[49m\u001b[43mshowlegend\u001b[49m\u001b[43m \u001b[49m\u001b[38;5;241;43m=\u001b[39;49m\u001b[43m \u001b[49m\u001b[43midx\u001b[49m\u001b[38;5;241;43m==\u001b[39;49m\u001b[38;5;241;43m0\u001b[39;49m\u001b[43m,\u001b[49m\u001b[43mname\u001b[49m\u001b[43m \u001b[49m\u001b[38;5;241;43m=\u001b[39;49m\u001b[43m \u001b[49m\u001b[38;5;124;43m'\u001b[39;49m\u001b[38;5;124;43mgamma model drag - \u001b[39;49m\u001b[38;5;124;43m'\u001b[39;49m\u001b[43m,\u001b[49m\u001b[43mmarker_size\u001b[49m\u001b[43m \u001b[49m\u001b[38;5;241;43m=\u001b[39;49m\u001b[43m \u001b[49m\u001b[38;5;241;43m7\u001b[39;49m\u001b[43m,\u001b[49m\u001b[43mmode\u001b[49m\u001b[43m \u001b[49m\u001b[38;5;241;43m=\u001b[39;49m\u001b[43m \u001b[49m\u001b[38;5;124;43m'\u001b[39;49m\u001b[38;5;124;43mmarkers+lines\u001b[39;49m\u001b[38;5;124;43m'\u001b[39;49m\u001b[43m,\u001b[49m\n\u001b[0;32m     19\u001b[0m \u001b[43m                     \u001b[49m\u001b[43msymbol\u001b[49m\u001b[43m \u001b[49m\u001b[38;5;241;43m=\u001b[39;49m\u001b[43m \u001b[49m\u001b[38;5;124;43m'\u001b[39;49m\u001b[38;5;124;43mcross\u001b[39;49m\u001b[38;5;124;43m'\u001b[39;49m\u001b[43m,\u001b[49m\u001b[43mmarker_color\u001b[49m\u001b[43m \u001b[49m\u001b[38;5;241;43m=\u001b[39;49m\u001b[43m \u001b[49m\u001b[38;5;124;43m'\u001b[39;49m\u001b[38;5;124;43mrgb(100, 255, 100)\u001b[39;49m\u001b[38;5;124;43m'\u001b[39;49m\u001b[43m)\u001b[49m\n\u001b[0;32m     20\u001b[0m exp\u001b[38;5;241m.\u001b[39mplot_prop_movies(prop_name[\u001b[38;5;241m2\u001b[39m],\u001b[38;5;124m'\u001b[39m\u001b[38;5;124mbody\u001b[39m\u001b[38;5;124m'\u001b[39m,fig,case \u001b[38;5;241m=\u001b[39m \u001b[38;5;124m'\u001b[39m\u001b[38;5;124mplot_mov\u001b[39m\u001b[38;5;124m'\u001b[39m,prop_x \u001b[38;5;241m=\u001b[39m \u001b[38;5;124m'\u001b[39m\u001b[38;5;124mtime\u001b[39m\u001b[38;5;124m'\u001b[39m ,add_horizontal_line\u001b[38;5;241m=\u001b[39m\u001b[38;5;28;01mNone\u001b[39;00m,name \u001b[38;5;241m=\u001b[39m \u001b[38;5;124m'\u001b[39m\u001b[38;5;124mexperiment - \u001b[39m\u001b[38;5;124m'\u001b[39m,\n\u001b[0;32m     21\u001b[0m                      showlegend \u001b[38;5;241m=\u001b[39m idx\u001b[38;5;241m==\u001b[39m\u001b[38;5;241m0\u001b[39m,mode \u001b[38;5;241m=\u001b[39m \u001b[38;5;124m'\u001b[39m\u001b[38;5;124mmarkers+lines\u001b[39m\u001b[38;5;124m'\u001b[39m,symbol \u001b[38;5;241m=\u001b[39m \u001b[38;5;124m'\u001b[39m\u001b[38;5;124mtriangle-up\u001b[39m\u001b[38;5;124m'\u001b[39m,marker_color \u001b[38;5;241m=\u001b[39m \u001b[38;5;124m'\u001b[39m\u001b[38;5;124mrgb(0, 0, 0)\u001b[39m\u001b[38;5;124m'\u001b[39m,marker_size \u001b[38;5;241m=\u001b[39m \u001b[38;5;241m3\u001b[39m)\n\u001b[0;32m     22\u001b[0m traces \u001b[38;5;241m=\u001b[39m fig\u001b[38;5;241m.\u001b[39mdata\n",
      "File \u001b[1;32mc:\\Users\\Roni\\Documents\\experiment-analysis\\data_analysis\\Experiment.py:105\u001b[0m, in \u001b[0;36mExperiment.plot_prop_movies\u001b[1;34m(self, prop, wing_body, fig, mov, case, prop_x, add_horizontal_line, color, legend, **kwargs)\u001b[0m\n\u001b[0;32m    103\u001b[0m color \u001b[38;5;241m=\u001b[39m [\u001b[38;5;28mself\u001b[39m\u001b[38;5;241m.\u001b[39mcolor_map[idx\u001b[38;5;241m%\u001b[39m\u001b[38;5;28mlen\u001b[39m(\u001b[38;5;28mself\u001b[39m\u001b[38;5;241m.\u001b[39mcolor_map)] \u001b[38;5;28;01mfor\u001b[39;00m idx,mov_name \u001b[38;5;129;01min\u001b[39;00m \u001b[38;5;28menumerate\u001b[39m(mov_names)] \u001b[38;5;28;01mif\u001b[39;00m color \u001b[38;5;241m==\u001b[39m \u001b[38;5;28;01mFalse\u001b[39;00m \u001b[38;5;28;01melse\u001b[39;00m color \n\u001b[0;32m    104\u001b[0m \u001b[38;5;28;01mif\u001b[39;00m \u001b[38;5;124m'\u001b[39m\u001b[38;5;124mplot_exp\u001b[39m\u001b[38;5;124m'\u001b[39m \u001b[38;5;241m==\u001b[39m case: [\u001b[38;5;28mself\u001b[39m\u001b[38;5;241m.\u001b[39mget_mov(mov_name)\u001b[38;5;241m.\u001b[39mplot_prop(prop,wing_body,color,legend,fig,showlegend \u001b[38;5;241m=\u001b[39m idx \u001b[38;5;241m==\u001b[39m \u001b[38;5;241m0\u001b[39m,prop_x \u001b[38;5;241m=\u001b[39m prop_x,\u001b[38;5;241m*\u001b[39m\u001b[38;5;241m*\u001b[39mkwargs) \u001b[38;5;28;01mfor\u001b[39;00m idx,mov_name \u001b[38;5;129;01min\u001b[39;00m \u001b[38;5;28menumerate\u001b[39m(mov_names)]\n\u001b[1;32m--> 105\u001b[0m \u001b[38;5;28;01mif\u001b[39;00m \u001b[38;5;124m'\u001b[39m\u001b[38;5;124mplot_mov\u001b[39m\u001b[38;5;124m'\u001b[39m \u001b[38;5;241m==\u001b[39m case: [\u001b[38;5;28mself\u001b[39m\u001b[38;5;241m.\u001b[39mget_mov(mov_name)\u001b[38;5;241m.\u001b[39mplot_prop(prop,wing_body,color[idx],legend[idx],fig,prop_x \u001b[38;5;241m=\u001b[39m prop_x,\u001b[38;5;241m*\u001b[39m\u001b[38;5;241m*\u001b[39mkwargs) \u001b[38;5;28;01mfor\u001b[39;00m idx,mov_name \u001b[38;5;129;01min\u001b[39;00m \u001b[38;5;28menumerate\u001b[39m(mov_names)]\n\u001b[0;32m    107\u001b[0m \u001b[38;5;28;01mif\u001b[39;00m add_horizontal_line \u001b[38;5;241m!=\u001b[39m \u001b[38;5;28;01mNone\u001b[39;00m: fig\u001b[38;5;241m.\u001b[39madd_hline(y\u001b[38;5;241m=\u001b[39madd_horizontal_line, line_width\u001b[38;5;241m=\u001b[39m\u001b[38;5;241m3\u001b[39m, line_color\u001b[38;5;241m=\u001b[39m\u001b[38;5;124m\"\u001b[39m\u001b[38;5;124mlime\u001b[39m\u001b[38;5;124m\"\u001b[39m)\n\u001b[0;32m    108\u001b[0m fig\u001b[38;5;241m.\u001b[39madd_vline(x\u001b[38;5;241m=\u001b[39m\u001b[38;5;241m0\u001b[39m, line_width\u001b[38;5;241m=\u001b[39m\u001b[38;5;241m3\u001b[39m, line_color\u001b[38;5;241m=\u001b[39m\u001b[38;5;124m\"\u001b[39m\u001b[38;5;124mlime\u001b[39m\u001b[38;5;124m\"\u001b[39m)\n",
      "File \u001b[1;32mc:\\Users\\Roni\\Documents\\experiment-analysis\\data_analysis\\Experiment.py:105\u001b[0m, in \u001b[0;36m<listcomp>\u001b[1;34m(.0)\u001b[0m\n\u001b[0;32m    103\u001b[0m color \u001b[38;5;241m=\u001b[39m [\u001b[38;5;28mself\u001b[39m\u001b[38;5;241m.\u001b[39mcolor_map[idx\u001b[38;5;241m%\u001b[39m\u001b[38;5;28mlen\u001b[39m(\u001b[38;5;28mself\u001b[39m\u001b[38;5;241m.\u001b[39mcolor_map)] \u001b[38;5;28;01mfor\u001b[39;00m idx,mov_name \u001b[38;5;129;01min\u001b[39;00m \u001b[38;5;28menumerate\u001b[39m(mov_names)] \u001b[38;5;28;01mif\u001b[39;00m color \u001b[38;5;241m==\u001b[39m \u001b[38;5;28;01mFalse\u001b[39;00m \u001b[38;5;28;01melse\u001b[39;00m color \n\u001b[0;32m    104\u001b[0m \u001b[38;5;28;01mif\u001b[39;00m \u001b[38;5;124m'\u001b[39m\u001b[38;5;124mplot_exp\u001b[39m\u001b[38;5;124m'\u001b[39m \u001b[38;5;241m==\u001b[39m case: [\u001b[38;5;28mself\u001b[39m\u001b[38;5;241m.\u001b[39mget_mov(mov_name)\u001b[38;5;241m.\u001b[39mplot_prop(prop,wing_body,color,legend,fig,showlegend \u001b[38;5;241m=\u001b[39m idx \u001b[38;5;241m==\u001b[39m \u001b[38;5;241m0\u001b[39m,prop_x \u001b[38;5;241m=\u001b[39m prop_x,\u001b[38;5;241m*\u001b[39m\u001b[38;5;241m*\u001b[39mkwargs) \u001b[38;5;28;01mfor\u001b[39;00m idx,mov_name \u001b[38;5;129;01min\u001b[39;00m \u001b[38;5;28menumerate\u001b[39m(mov_names)]\n\u001b[1;32m--> 105\u001b[0m \u001b[38;5;28;01mif\u001b[39;00m \u001b[38;5;124m'\u001b[39m\u001b[38;5;124mplot_mov\u001b[39m\u001b[38;5;124m'\u001b[39m \u001b[38;5;241m==\u001b[39m case: [\u001b[38;5;28mself\u001b[39m\u001b[38;5;241m.\u001b[39mget_mov(mov_name)\u001b[38;5;241m.\u001b[39mplot_prop(prop,wing_body,color[idx],legend[idx],fig,prop_x \u001b[38;5;241m=\u001b[39m prop_x,\u001b[38;5;241m*\u001b[39m\u001b[38;5;241m*\u001b[39mkwargs) \u001b[38;5;28;01mfor\u001b[39;00m idx,mov_name \u001b[38;5;129;01min\u001b[39;00m \u001b[38;5;28menumerate\u001b[39m(mov_names)]\n\u001b[0;32m    107\u001b[0m \u001b[38;5;28;01mif\u001b[39;00m add_horizontal_line \u001b[38;5;241m!=\u001b[39m \u001b[38;5;28;01mNone\u001b[39;00m: fig\u001b[38;5;241m.\u001b[39madd_hline(y\u001b[38;5;241m=\u001b[39madd_horizontal_line, line_width\u001b[38;5;241m=\u001b[39m\u001b[38;5;241m3\u001b[39m, line_color\u001b[38;5;241m=\u001b[39m\u001b[38;5;124m\"\u001b[39m\u001b[38;5;124mlime\u001b[39m\u001b[38;5;124m\"\u001b[39m)\n\u001b[0;32m    108\u001b[0m fig\u001b[38;5;241m.\u001b[39madd_vline(x\u001b[38;5;241m=\u001b[39m\u001b[38;5;241m0\u001b[39m, line_width\u001b[38;5;241m=\u001b[39m\u001b[38;5;241m3\u001b[39m, line_color\u001b[38;5;241m=\u001b[39m\u001b[38;5;124m\"\u001b[39m\u001b[38;5;124mlime\u001b[39m\u001b[38;5;124m\"\u001b[39m)\n",
      "File \u001b[1;32mc:\\Users\\Roni\\Documents\\experiment-analysis\\data_analysis\\Movie.py:362\u001b[0m, in \u001b[0;36mMovie.plot_prop\u001b[1;34m(self, prop, wing_body, color, group_name, fig, prop_x, t0, t1, **kwargs)\u001b[0m\n\u001b[0;32m    359\u001b[0m t0_idx \u001b[38;5;241m=\u001b[39m  \u001b[38;5;28mself\u001b[39m\u001b[38;5;241m.\u001b[39mget_idx_of_time(t0,wing_body) \u001b[38;5;28;01mif\u001b[39;00m ((t0 \u001b[38;5;241m!=\u001b[39m \u001b[38;5;28;01mFalse\u001b[39;00m) \u001b[38;5;129;01mand\u001b[39;00m (\u001b[38;5;28mlen\u001b[39m(\u001b[38;5;28mself\u001b[39m\u001b[38;5;241m.\u001b[39mget_idx_of_time(t0,wing_body))\u001b[38;5;241m>\u001b[39m\u001b[38;5;241m0\u001b[39m)) \u001b[38;5;28;01melse\u001b[39;00m [\u001b[38;5;241m0\u001b[39m]\n\u001b[0;32m    360\u001b[0m t1_idx \u001b[38;5;241m=\u001b[39m  \u001b[38;5;28mself\u001b[39m\u001b[38;5;241m.\u001b[39mget_idx_of_time(t1,wing_body) \u001b[38;5;28;01mif\u001b[39;00m ((t1 \u001b[38;5;241m!=\u001b[39m \u001b[38;5;28;01mFalse\u001b[39;00m) \u001b[38;5;129;01mand\u001b[39;00m (\u001b[38;5;28mlen\u001b[39m(\u001b[38;5;28mself\u001b[39m\u001b[38;5;241m.\u001b[39mget_idx_of_time(t1,wing_body))\u001b[38;5;241m>\u001b[39m\u001b[38;5;241m0\u001b[39m)) \u001b[38;5;28;01melse\u001b[39;00m [\u001b[38;5;28mint\u001b[39m(\u001b[38;5;241m-\u001b[39m\u001b[38;5;241m1\u001b[39m)]\n\u001b[1;32m--> 362\u001b[0m data_y \u001b[38;5;241m=\u001b[39m \u001b[38;5;28;43mself\u001b[39;49m\u001b[38;5;241;43m.\u001b[39;49m\u001b[43mget_prop\u001b[49m\u001b[43m(\u001b[49m\u001b[43mprop\u001b[49m\u001b[43m,\u001b[49m\u001b[43mwing_body\u001b[49m\u001b[43m)\u001b[49m\n\u001b[0;32m    363\u001b[0m data_x \u001b[38;5;241m=\u001b[39m \u001b[38;5;28mself\u001b[39m\u001b[38;5;241m.\u001b[39mget_prop(prop_x,wing_body)\n\u001b[0;32m    365\u001b[0m \u001b[38;5;28;01mreturn\u001b[39;00m Plotters\u001b[38;5;241m.\u001b[39mplot_prop_movie(data_x[t0_idx[\u001b[38;5;241m0\u001b[39m]:t1_idx[\u001b[38;5;241m0\u001b[39m],\u001b[38;5;241m0\u001b[39m],data_y[t0_idx[\u001b[38;5;241m0\u001b[39m]:t1_idx[\u001b[38;5;241m0\u001b[39m],\u001b[38;5;241m0\u001b[39m],color,group_name,fig \u001b[38;5;241m=\u001b[39m fig,\u001b[38;5;241m*\u001b[39m\u001b[38;5;241m*\u001b[39mkwargs)\n",
      "File \u001b[1;32mc:\\Users\\Roni\\Documents\\experiment-analysis\\data_analysis\\Movie.py:332\u001b[0m, in \u001b[0;36mMovie.get_prop\u001b[1;34m(self, prop, wing_body, three_col)\u001b[0m\n\u001b[0;32m    331\u001b[0m \u001b[38;5;28;01mdef\u001b[39;00m \u001b[38;5;21mget_prop\u001b[39m(\u001b[38;5;28mself\u001b[39m,prop,wing_body,three_col \u001b[38;5;241m=\u001b[39m \u001b[38;5;241m1\u001b[39m):\n\u001b[1;32m--> 332\u001b[0m     \u001b[38;5;28;01mreturn\u001b[39;00m \u001b[38;5;28mself\u001b[39m\u001b[38;5;241m.\u001b[39mdata[wing_body][:,\u001b[38;5;28;43mself\u001b[39;49m\u001b[38;5;241;43m.\u001b[39;49m\u001b[43mheader\u001b[49m\u001b[43m[\u001b[49m\u001b[43mwing_body\u001b[49m\u001b[43m]\u001b[49m\u001b[43m[\u001b[49m\u001b[43mprop\u001b[49m\u001b[43m]\u001b[49m:\u001b[38;5;28mself\u001b[39m\u001b[38;5;241m.\u001b[39mheader[wing_body][prop] \u001b[38;5;241m+\u001b[39m three_col]\u001b[38;5;241m.\u001b[39mcopy()\n",
      "\u001b[1;31mKeyError\u001b[0m: 'model_gamma_x_drag'"
     ]
    }
   ],
   "source": [
    "# subplot of heli model\n",
    "\n",
    "exp = experiments['manipulated_2023_08_09_60ms']\n",
    "from plotly.subplots import make_subplots\n",
    "fig_subplots = make_subplots(rows=3, cols=1, subplot_titles= ['acc_x','acc_y','acc_z'])\n",
    "for idx,x in enumerate(['x','y','z']):\n",
    "    fig = go.Figure()\n",
    "\n",
    "    prop_name = [f'model_gamma_{x}_no_drag',f'model_gamma_{x}_drag',\n",
    "                 f'CM_real_{x}_body_dot_dot_smth']\n",
    "    if x == 'z':\n",
    "        prop_name = [f'model_gamma_{x}_no_drag',f'model_gamma_{x}_drag',f'CM_real_{x}_body_dot_dot_smth']\n",
    "\n",
    "    exp.plot_prop_movies(prop_name[0],'mean_body',fig,case = 'plot_mov',prop_x = 'time' ,add_horizontal_line=None,\n",
    "                         name = 'gamma model no drag - ',showlegend = idx==0,marker_color = 'rgb(255, 100, 100)',\n",
    "                         marker_size = 3,mode = 'markers+lines')\n",
    "    exp.plot_prop_movies(prop_name[1],'mean_body',fig,case = 'plot_mov',prop_x = 'time' ,add_horizontal_line=None,\n",
    "                         showlegend = idx==0,name = 'gamma model drag - ',marker_size = 7,mode = 'markers+lines',\n",
    "                         symbol = 'cross',marker_color = 'rgb(100, 255, 100)')\n",
    "    exp.plot_prop_movies(prop_name[2],'body',fig,case = 'plot_mov',prop_x = 'time' ,add_horizontal_line=None,name = 'experiment - ',\n",
    "                         showlegend = idx==0,mode = 'markers+lines',symbol = 'triangle-up',marker_color = 'rgb(0, 0, 0)',marker_size = 3)\n",
    "    traces = fig.data\n",
    "\n",
    "    # Add traces to the subplots\n",
    "    for trace in traces:\n",
    "        fig_subplots.add_trace(trace, row=idx + 1, col=1)\n",
    "\n",
    "    # Update layout of subplots\n",
    "fig_subplots.update_layout(title='Subplots with Extracted Traces')\n",
    "plotly.offline.plot(fig_subplots, filename=f'{exp.figures_path}/with_drag_plot.html',auto_open=False)\n",
    "\n",
    "# Display the subplots\n",
    "fig_subplots.show()"
   ]
  },
  {
   "cell_type": "markdown",
   "metadata": {},
   "source": [
    "Subplots of heli model"
   ]
  },
  {
   "cell_type": "markdown",
   "metadata": {},
   "source": [
    "error and RMS - Model vs exp"
   ]
  },
  {
   "cell_type": "code",
   "execution_count": 23,
   "metadata": {},
   "outputs": [
    {
     "data": {
      "text/plain": [
       "<matplotlib.legend.Legend at 0x1f9bb267c70>"
      ]
     },
     "execution_count": 23,
     "metadata": {},
     "output_type": "execute_result"
    }
   ],
   "source": [
    "# error and RMS - Model vs exp\n",
    "\n",
    "\n",
    "drag = 'no_drag'\n",
    "exp = experiments['manipulated_2023_08_09_60ms']\n",
    "# z_model = exp.diff_model_exp_movies(f'model_z_{drag}','CM_real_z_body_dot_dot_smth')\n",
    "# z_model_correct = exp.diff_model_exp_movies(f'model_gamma_z_{drag}','CM_real_z_body_dot_dot_smth')\n",
    "\n",
    "\n",
    "x_model_correct = exp.diff_model_exp_movies(f'model_gamma_x_no_drag_projected_all_axes','CM_dot_dot_x_projected_all_axes')\n",
    "\n",
    "y_model_correct = exp.diff_model_exp_movies(f'model_gamma_y_no_drag_projected_all_axes','CM_dot_dot_y_projected_all_axes')\n",
    "\n",
    "\n",
    "fig,ax = plt.subplots(1,3)\n",
    "range_bins = [-6,6]\n",
    "ax[0].hist(x_model_correct[0][:,1],bins = 100,alpha = 0.5,range = range_bins)\n",
    "\n",
    "ax[1].hist(y_model_correct[0][:,1],bins = 100,alpha = 0.5,range = range_bins)\n",
    "\n",
    "ax[2].hist(z_model_correct[0][:,1],bins = 100,alpha = 0.5,range = range_bins)\n",
    "ax[2].hist(z_model[0][:,1],bins = 50,alpha = 0.5,range = range_bins)\n",
    "\n",
    "plt.legend(['model','corrected'])\n"
   ]
  },
  {
   "cell_type": "code",
   "execution_count": 29,
   "metadata": {},
   "outputs": [
    {
     "data": {
      "text/plain": [
       "<matplotlib.legend.Legend at 0x1ae14c79e40>"
      ]
     },
     "execution_count": 29,
     "metadata": {},
     "output_type": "execute_result"
    }
   ],
   "source": [
    "# error and RMS - Model vs exp\n",
    "\n",
    "drag = 'no_drag'\n",
    "exp = experiments['manipulated_2023_08_09_60ms']\n",
    "z_model = exp.diff_model_exp_movies(f'model_z_{drag}','CM_real_z_body_dot_dot_smth')\n",
    "z_model_correct = exp.diff_model_exp_movies(f'model_gamma_z_{drag}','CM_real_z_body_dot_dot_smth')\n",
    "\n",
    "\n",
    "x_model = exp.diff_model_exp_movies(f'model_x_{drag}','CM_real_x_body_dot_dot_smth')\n",
    "x_model_correct = exp.diff_model_exp_movies(f'model_gamma_x_{drag}','CM_real_x_body_dot_dot_smth')\n",
    "\n",
    "y_model = exp.diff_model_exp_movies(f'model_y_{drag}','CM_real_y_body_dot_dot_smth')\n",
    "y_model_correct = exp.diff_model_exp_movies(f'model_gamma_y_{drag}','CM_real_y_body_dot_dot_smth')\n",
    "\n",
    "\n",
    "fig,ax = plt.subplots(1,3)\n",
    "range_bins = [-6,6]\n",
    "ax[0].hist(x_model_correct[0][:,1],bins = 50,alpha = 0.5,range = range_bins)\n",
    "ax[0].hist(x_model[0][:,1],bins = 50,alpha = 0.5,range = range_bins)\n",
    "\n",
    "ax[1].hist(y_model_correct[0][:,1],bins = 50,alpha = 0.5,range = range_bins)\n",
    "ax[1].hist(y_model[0][:,1],bins = 50,alpha = 0.5,range = range_bins)\n",
    "\n",
    "ax[2].hist(z_model_correct[0][:,1],bins = 50,alpha = 0.5,range = range_bins)\n",
    "ax[2].hist(z_model[0][:,1],bins = 50,alpha = 0.5,range = range_bins)\n",
    "\n",
    "plt.legend(['model','corrected'])\n"
   ]
  },
  {
   "cell_type": "code",
   "execution_count": 11,
   "metadata": {},
   "outputs": [
    {
     "data": {
      "text/plain": [
       "{'pitch_body': 0,\n",
       " 'yaw_body': 1,\n",
       " 'roll_body': 2,\n",
       " 'pitch_body_dot': 3,\n",
       " 'yaw_body_dot': 4,\n",
       " 'roll_body_dot': 5,\n",
       " 'pitch_body_dot_dot': 6,\n",
       " 'yaw_body_dot_dot': 7,\n",
       " 'roll_body_dot_dot': 8,\n",
       " 'frames': 9,\n",
       " 'time': 10,\n",
       " 'CM_real_x_body': 11,\n",
       " 'CM_real_y_body': 12,\n",
       " 'CM_real_z_body': 13,\n",
       " 'phi_rw_max_idx': 14,\n",
       " 'phi_rw_max_val': 15,\n",
       " 'phi_lw_max_idx': 16,\n",
       " 'phi_lw_max_val': 17,\n",
       " 'phi_rw_min_idx': 18,\n",
       " 'phi_rw_min_val': 19,\n",
       " 'phi_lw_min_idx': 20,\n",
       " 'phi_lw_min_val': 21,\n",
       " 'yaw_z_frame': 22,\n",
       " 'pitch_y_frame': 23,\n",
       " 'roll_x_frame': 24,\n",
       " 'Y_x_body': 25,\n",
       " 'CM_real_x_body_smth': 26,\n",
       " 'CM_real_y_body_smth': 27,\n",
       " 'CM_real_z_body_smth': 28,\n",
       " 'CM_real_x_body_dot_smth': 29,\n",
       " 'CM_real_y_body_dot_smth': 30,\n",
       " 'CM_real_z_body_dot_smth': 31,\n",
       " 'CM_real_x_body_dot_dot_smth': 32,\n",
       " 'CM_real_y_body_dot_dot_smth': 33,\n",
       " 'CM_real_z_body_dot_dot_smth': 34,\n",
       " 'X_x_body_projected': 35,\n",
       " 'X_y_body_projected': 36,\n",
       " 'Y_x_body_projected': 37,\n",
       " 'Y_y_body_projected': 38,\n",
       " 'CM_dot_xax': 39,\n",
       " 'CM_dot_yax': 40,\n",
       " 'CM_dot_x_projected': 41,\n",
       " 'CM_dot_y_projected': 42,\n",
       " 'CM_dot_dot_x_projected': 43,\n",
       " 'CM_dot_dot_y_projected': 44,\n",
       " 'p': 45,\n",
       " 'q': 46,\n",
       " 'r': 47,\n",
       " 'p_dot': 48,\n",
       " 'q_dot': 49,\n",
       " 'r_dot': 50,\n",
       " 'yaw_body_min_ref_frame': 51,\n",
       " 'slip_angle_beta': 52,\n",
       " 'delta_ang_Xax': 53,\n",
       " 'delta_ang_CM_dot_x': 54,\n",
       " 'CM_dot_x_projected_all_axes': 55,\n",
       " 'CM_dot_y_projected_all_axes': 56,\n",
       " 'CM_dot_dot_y_projected_all_axes': 57,\n",
       " 'CM_dot_dot_x_projected_all_axes': 58,\n",
       " 'CM_dot_dot_y_body_projected_all_axes': 59,\n",
       " 'drag_x': 60,\n",
       " 'drag_y': 61,\n",
       " 'drag_z': 62,\n",
       " 'model_nog_x_no_drag': 63,\n",
       " 'model_nog_y_no_drag': 64,\n",
       " 'model_nog_z_no_drag': 65,\n",
       " 'model_x_no_drag': 66,\n",
       " 'model_y_no_drag': 67,\n",
       " 'model_z_no_drag': 68,\n",
       " 'model_x_no_drag_projected_all_axes': 69,\n",
       " 'model_y_no_drag_projected_all_axes': 70}"
      ]
     },
     "execution_count": 11,
     "metadata": {},
     "output_type": "execute_result"
    }
   ],
   "source": [
    "mov = exp.get_mov('mov101')\n",
    "mov.header['body']"
   ]
  },
  {
   "cell_type": "code",
   "execution_count": null,
   "metadata": {},
   "outputs": [],
   "source": [
    "fig = go.Figure()\n",
    "exp = experiments['manipulated_2022_02_03_dark']\n",
    "exp.plot_prop_movies('pitch_body','body',fig,case = 'plot_mov',prop_x = 'CM_dot_dot_x_projected_all_axes' ,add_horizontal_line=None,name = 'calculated')\n",
    "fig.show()\n",
    "\n",
    "fig = go.Figure()\n",
    "exp = experiments['manipulated_2023_08_09_60ms']\n",
    "exp.plot_prop_movies('pitch_body','body',fig,case = 'plot_mov',prop_x = 'CM_dot_dot_x_projected_all_axes' ,add_horizontal_line=None,name = 'calculated')\n",
    "fig.show()"
   ]
  },
  {
   "cell_type": "code",
   "execution_count": 26,
   "metadata": {},
   "outputs": [
    {
     "name": "stderr",
     "output_type": "stream",
     "text": [
      "C:\\Users\\Roni\\AppData\\Local\\Temp\\ipykernel_20612\\1238036132.py:8: RuntimeWarning:\n",
      "\n",
      "invalid value encountered in arcsin\n",
      "\n",
      "C:\\Users\\Roni\\AppData\\Local\\Temp\\ipykernel_20612\\1238036132.py:14: RuntimeWarning:\n",
      "\n",
      "invalid value encountered in arcsin\n",
      "\n"
     ]
    },
    {
     "data": {
      "text/plain": [
       "(array([2.000e+00, 1.000e+00, 4.000e+00, 1.000e+01, 1.100e+01, 9.000e+00,\n",
       "        1.400e+01, 1.600e+01, 9.000e+00, 1.800e+01, 2.400e+01, 3.000e+01,\n",
       "        3.800e+01, 5.300e+01, 6.400e+01, 6.500e+01, 9.400e+01, 1.150e+02,\n",
       "        1.320e+02, 1.580e+02, 2.140e+02, 3.670e+02, 6.190e+02, 1.416e+03,\n",
       "        2.127e+03, 1.656e+03, 7.720e+02, 3.900e+02, 2.550e+02, 1.960e+02,\n",
       "        1.580e+02, 1.230e+02, 7.800e+01, 7.400e+01, 6.100e+01, 5.500e+01,\n",
       "        3.900e+01, 2.800e+01, 2.900e+01, 2.400e+01, 1.000e+01, 1.500e+01,\n",
       "        1.800e+01, 1.900e+01, 1.400e+01, 8.000e+00, 6.000e+00, 6.000e+00,\n",
       "        2.000e+00, 1.000e+00]),\n",
       " array([-1.55622117, -1.49425666, -1.43229215, -1.37032764, -1.30836313,\n",
       "        -1.24639862, -1.18443411, -1.12246959, -1.06050508, -0.99854057,\n",
       "        -0.93657606, -0.87461155, -0.81264704, -0.75068253, -0.68871802,\n",
       "        -0.62675351, -0.56478899, -0.50282448, -0.44085997, -0.37889546,\n",
       "        -0.31693095, -0.25496644, -0.19300193, -0.13103742, -0.0690729 ,\n",
       "        -0.00710839,  0.05485612,  0.11682063,  0.17878514,  0.24074965,\n",
       "         0.30271416,  0.36467867,  0.42664318,  0.4886077 ,  0.55057221,\n",
       "         0.61253672,  0.67450123,  0.73646574,  0.79843025,  0.86039476,\n",
       "         0.92235927,  0.98432379,  1.0462883 ,  1.10825281,  1.17021732,\n",
       "         1.23218183,  1.29414634,  1.35611085,  1.41807536,  1.48003987,\n",
       "         1.54200439]),\n",
       " <BarContainer object of 50 artists>)"
      ]
     },
     "execution_count": 26,
     "metadata": {},
     "output_type": "execute_result"
    }
   ],
   "source": [
    "diff_mod_exp = []\n",
    "exp = experiments['manipulated_2023_08_09_60ms']\n",
    "wing_body = 'mean_body'\n",
    "for mov_name in exp.mov_names:\n",
    "    mov = exp.get_mov(mov_name)\n",
    "    model_x = (mov.get_prop('model_gamma_x_drag',wing_body))\n",
    "    exp_x = (mov.get_prop('CM_real_x_body_dot_dot_smth',wing_body))\n",
    "    diff_mod_exp.append(np.arcsin((model_x-exp_x)/exp_x/9.8))\n",
    "plt.hist(np.vstack(diff_mod_exp),bins = 50)\n",
    "for mov_name in exp.mov_names:\n",
    "    mov = exp.get_mov(mov_name)\n",
    "    model_x = (mov.get_prop('model_gamma_z_drag',wing_body))\n",
    "    exp_x = (mov.get_prop('CM_real_z_body_dot_dot_smth',wing_body))\n",
    "    diff_mod_exp.append(np.arcsin((model_x-exp_x)/exp_x/9.8))\n",
    "plt.hist(np.vstack(diff_mod_exp),bins = 50,alpha = 0.5)\n"
   ]
  },
  {
   "cell_type": "code",
   "execution_count": 33,
   "metadata": {},
   "outputs": [],
   "source": [
    "exp = experiments['manipulated_2023_08_09_60ms']\n",
    "fig = go.Figure()\n",
    "\n",
    "# exp.plot_prop_movies('freq_max_rw','mean_wing',fig,case = 'plot_mov',prop_x = 'time' ,add_horizontal_line=None)\n",
    "exp.plot_prop_movies('acc_zlab_g','body',fig,case = 'plot_mov',prop_x = 'time' ,add_horizontal_line=None,name = 'calculated')\n",
    "exp.plot_prop_movies('CM_real_z_body_dot_dot_smth','body',fig,case = 'plot_mov',prop_x = 'time' ,add_horizontal_line=None,mode = 'markers+lines',name = 'measured',marker_size = 6)\n",
    "\n",
    "fig.show()"
   ]
  },
  {
   "cell_type": "code",
   "execution_count": 34,
   "metadata": {},
   "outputs": [
    {
     "data": {
      "text/plain": [
       "[None, None, None, None, None, None, None]"
      ]
     },
     "execution_count": 34,
     "metadata": {},
     "output_type": "execute_result"
    }
   ],
   "source": [
    "[exp.calc_force_movies()  for exp in experiments.values()]\n"
   ]
  },
  {
   "cell_type": "code",
   "execution_count": 35,
   "metadata": {},
   "outputs": [],
   "source": [
    "exp = experiments['manipulated_2023_08_09_60ms']\n",
    "fig = go.Figure()\n",
    "\n",
    "# exp.plot_prop_movies('freq_max_rw','mean_wing',fig,case = 'plot_mov',prop_x = 'time' ,add_horizontal_line=None)\n",
    "exp.plot_prop_movies('CM_dot_dot_y_projected_all_axes','body',fig,case = 'plot_mov',prop_x = 'CM_real_z_body_dot_dot_smth' ,add_horizontal_line=None)\n",
    "\n",
    "fig.show()"
   ]
  },
  {
   "cell_type": "code",
   "execution_count": 36,
   "metadata": {},
   "outputs": [],
   "source": [
    "exp = experiments['manipulated_2022_01_31_darkdown']\n",
    "fig = go.Figure()\n",
    "\n",
    "# exp.plot_prop_movies('freq_max_rw','mean_wing',fig,case = 'plot_mov',prop_x = 'time' ,add_horizontal_line=None)\n",
    "exp.plot_prop_movies('force_size','body',fig,case = 'plot_mov',prop_x = 'time' ,add_horizontal_line=None)\n",
    "\n",
    "fig.show()\n",
    "\n",
    "fig = go.Figure()\n",
    "\n",
    "# exp.plot_prop_movies('freq_max_rw','mean_wing',fig,case = 'plot_mov',prop_x = 'time' ,add_horizontal_line=None)\n",
    "exp.plot_prop_movies('CM_dot_dot_x_projected_all_axes','body',fig,case = 'plot_mov',prop_x = 'time' ,add_horizontal_line=None)\n",
    "\n",
    "fig.show()\n",
    "\n",
    "fig = go.Figure()\n",
    "\n",
    "# exp.plot_prop_movies('freq_max_rw','mean_wing',fig,case = 'plot_mov',prop_x = 'time' ,add_horizontal_line=None)\n",
    "exp.plot_prop_movies('CM_dot_dot_y_projected_all_axes','body',fig,case = 'plot_mov',prop_x = 'time' ,add_horizontal_line=None)\n",
    "\n",
    "fig.show()"
   ]
  },
  {
   "cell_type": "code",
   "execution_count": 37,
   "metadata": {},
   "outputs": [],
   "source": [
    "exp = experiments['manipulated_2022_02_03_dark']\n",
    "\n",
    "fig = go.Figure()\n",
    "\n",
    "# exp.plot_prop_movies('freq_max_rw','mean_wing',fig,case = 'plot_mov',prop_x = 'time' ,add_horizontal_line=None)\n",
    "exp.plot_prop_movies('CM_dot_dot_x_projected_all_axes','body',fig,case = 'plot_mov',prop_x = 'time' ,add_horizontal_line=None)\n",
    "\n",
    "fig.show()"
   ]
  },
  {
   "cell_type": "code",
   "execution_count": 38,
   "metadata": {},
   "outputs": [
    {
     "data": {
      "text/plain": [
       "[None, None, None, None, None, None, None]"
      ]
     },
     "execution_count": 38,
     "metadata": {},
     "output_type": "execute_result"
    }
   ],
   "source": [
    "[exp.substruct_first_frame('CM_real_x_body_smth','body')  for exp in experiments.values()] # substract the zero frame from a property ( {prop}_min_ref_frame )\n",
    "[exp.substruct_first_frame('CM_real_y_body_smth','body')  for exp in experiments.values()] # substract the zero frame from a property ( {prop}_min_ref_frame )\n"
   ]
  },
  {
   "cell_type": "code",
   "execution_count": 39,
   "metadata": {},
   "outputs": [],
   "source": [
    "\n",
    "exp = experiments['manipulated_2022_02_03_dark']\n",
    "\n",
    "fig = go.Figure()\n",
    "\n",
    "# exp.plot_prop_movies('freq_max_rw','mean_wing',fig,case = 'plot_mov',prop_x = 'time' ,add_horizontal_line=None)\n",
    "exp.plot_prop_movies('CM_real_x_body_smth_min_ref_frame','body',fig,case = 'plot_mov',prop_x = 'CM_real_y_body_smth_min_ref_frame' ,add_horizontal_line=None)\n",
    "\n",
    "fig.show()"
   ]
  },
  {
   "cell_type": "code",
   "execution_count": 40,
   "metadata": {},
   "outputs": [],
   "source": [
    "exp = experiments['manipulated_2023_08_09_60ms']\n",
    "mov = exp.get_mov('mov101')\n",
    "\n",
    "\n",
    "\n",
    "ay = mov.get_prop('CM_real_y_body_dot_dot_smth','body')\n",
    "ax = mov.get_prop('CM_real_x_body_dot_dot_smth','body')\n",
    "az = mov.get_prop('CM_real_z_body_dot_dot_smth','body')\n",
    "\n",
    "\n",
    "\n",
    "force = np.hstack((ax,ay,az))\n",
    "force_norm = (force.T/np.linalg.norm(force,axis = 1)).T\n",
    "# force_size = dict(force_size = np.sqrt(np.sum(force**2,axis = 1)))\n",
    "\n",
    "exp = experiments['manipulated_2022_02_03_dark']\n",
    "mov.plot_3d_traj_movie('CM_real_y_body_dot_dot_smth',forces = force_norm)\n",
    "\n"
   ]
  },
  {
   "cell_type": "code",
   "execution_count": 13,
   "metadata": {},
   "outputs": [],
   "source": [
    "exp = experiments['manipulated_2023_08_09_60ms']\n",
    "fig = go.Figure()\n",
    "\n",
    "# exp.plot_prop_movies('freq_max_rw','mean_wing',fig,case = 'plot_mov',prop_x = 'time' ,add_horizontal_line=None)\n",
    "exp.plot_prop_movies('roll_body','body',fig,case = 'plot_mov',prop_x = 'time' ,add_horizontal_line=None)\n",
    "exp.plot_prop_movies('delta_ang_Xax','body',fig,case = 'plot_mov',prop_x = 'time' ,add_horizontal_line=None)\n",
    "\n",
    "fig.show()\n",
    "\n",
    "phi_r_color = [[256,0,0]]*len(exp.mov_names)\n",
    "phi_l_color = [[0,0,256]]*len(exp.mov_names)\n",
    "\n",
    "fig = go.Figure()\n",
    "exp.plot_prop_movies('theta_rw','wing',fig,case = 'plot_mov',prop_x = 'time',color = phi_r_color )\n",
    "exp.plot_prop_movies('theta_lw','wing',fig,case = 'plot_mov',prop_x = 'time', color = phi_l_color)\n",
    "\n",
    "exp.plot_prop_movies('psi_rw','wing',fig,case = 'plot_mov',prop_x = 'time',color = phi_r_color )\n",
    "exp.plot_prop_movies('psi_lw','wing',fig,case = 'plot_mov',prop_x = 'time', color = phi_l_color)\n",
    "\n",
    "\n",
    "exp.plot_prop_movies('phi_lw','wing',fig,case = 'plot_mov',prop_x = 'time',color = phi_l_color )\n",
    "exp.plot_prop_movies('phi_rw','wing',fig,case = 'plot_mov',prop_x = 'time', color = phi_r_color)\n",
    "\n",
    "fig.show()\n",
    "\n"
   ]
  },
  {
   "cell_type": "code",
   "execution_count": 42,
   "metadata": {},
   "outputs": [],
   "source": [
    "\n",
    "fig = go.Figure()\n",
    "exp.plot_prop_movies('CM_real_y_body_dot_dot_smth','body',fig,case = 'plot_mov',prop_x = 'time' )\n",
    "\n",
    "fig.show()\n"
   ]
  },
  {
   "cell_type": "code",
   "execution_count": 43,
   "metadata": {},
   "outputs": [
    {
     "name": "stderr",
     "output_type": "stream",
     "text": [
      "c:\\Users\\Roni\\Documents\\experiment-analysis\\data_analysis\\Movie.py:379: RuntimeWarning:\n",
      "\n",
      "divide by zero encountered in divide\n",
      "\n"
     ]
    },
    {
     "data": {
      "text/plain": [
       "[None, None, None, None, None, None, None]"
      ]
     },
     "execution_count": 43,
     "metadata": {},
     "output_type": "execute_result"
    }
   ],
   "source": [
    "idx_prop = 'phi_rw_min_idx'\n",
    "mean_wing_body = 'mean_body'\n",
    "[exp.calculate_freq_movies(idx_prop, 'mean_body')  for exp in experiments.values()]\n",
    "\n",
    "idx_prop = 'phi_lw_min_idx'\n",
    "[exp.calculate_freq_movies(idx_prop, 'mean_body')  for exp in experiments.values()]\n",
    "\n",
    "prop = 'CM_dot_dot_x_projected'\n",
    "[exp.mean_by_stroke_movies(prop,mean_wing_body,'body')  for exp in experiments.values()]\n",
    "\n",
    "\n",
    "prop = 'CM_dot_x_projected'\n",
    "[exp.mean_by_stroke_movies(prop,mean_wing_body,'body')  for exp in experiments.values()]\n",
    "prop = 'delta_ang_CM_dot_x'\n",
    "[exp.mean_by_stroke_movies(prop,mean_wing_body,'body')  for exp in experiments.values()]\n",
    "prop = 'delta_ang_Xax'\n",
    "[exp.mean_by_stroke_movies(prop,mean_wing_body,'body')  for exp in experiments.values()]\n",
    "\n",
    "\n",
    "prop = 'CM_dot_y_projected_all_axes'\n",
    "[exp.mean_by_stroke_movies(prop,mean_wing_body,'body')  for exp in experiments.values()]\n",
    "\n",
    "\n",
    "[exp.sub_two_props_movies('delta_ang_Xax','roll_body','body',['delta_roll_yaw'])  for exp in experiments.values()]\n",
    "\n",
    "\n",
    "\n"
   ]
  },
  {
   "cell_type": "code",
   "execution_count": 44,
   "metadata": {},
   "outputs": [
    {
     "data": {
      "text/plain": [
       "[None, None, None, None, None, None, None]"
      ]
     },
     "execution_count": 44,
     "metadata": {},
     "output_type": "execute_result"
    }
   ],
   "source": [
    "\n",
    "prop = 'CM_dot_y_projected_all_axes'\n",
    "[exp.mean_by_stroke_movies(prop,mean_wing_body,'body')  for exp in experiments.values()]\n"
   ]
  },
  {
   "cell_type": "code",
   "execution_count": 45,
   "metadata": {},
   "outputs": [
    {
     "data": {
      "text/plain": [
       "[None, None, None, None, None, None, None]"
      ]
     },
     "execution_count": 45,
     "metadata": {},
     "output_type": "execute_result"
    }
   ],
   "source": [
    "prop = 'CM_dot_dot_x_projected_all_axes'\n",
    "[exp.mean_by_stroke_movies(prop,'mean_body','body')  for exp in experiments.values()]\n"
   ]
  },
  {
   "cell_type": "code",
   "execution_count": 46,
   "metadata": {},
   "outputs": [
    {
     "data": {
      "text/plain": [
       "[None, None, None, None, None, None, None]"
      ]
     },
     "execution_count": 46,
     "metadata": {},
     "output_type": "execute_result"
    }
   ],
   "source": [
    "[exp.calculate_phi_amp_movies('rw',mean_wing_body)  for exp in experiments.values()]\n",
    "[exp.calculate_phi_amp_movies('lw',mean_wing_body)  for exp in experiments.values()]\n"
   ]
  },
  {
   "cell_type": "code",
   "execution_count": 47,
   "metadata": {},
   "outputs": [
    {
     "data": {
      "text/plain": [
       "[None, None, None, None, None, None, None]"
      ]
     },
     "execution_count": 47,
     "metadata": {},
     "output_type": "execute_result"
    }
   ],
   "source": [
    "[exp.sub_two_props_movies('phi_lw_max_val','phi_rw_max_val','mean_body',['delta_max_phi'])  for exp in experiments.values()]\n",
    "[exp.sub_two_props_movies('phi_lw_min_val','phi_rw_min_val','mean_body',['delta_min_phi'])  for exp in experiments.values()]\n",
    "[exp.sub_two_props_movies('amp_lw','amp_rw','mean_body',['delta_amp'])  for exp in experiments.values()]\n",
    "\n",
    "\n",
    "[exp.sub_two_props_movies('freq_phi_lw_min_idx','freq_phi_rw_min_idx','mean_body',['delta_freq'])  for exp in experiments.values()]\n",
    "\n"
   ]
  },
  {
   "cell_type": "code",
   "execution_count": 48,
   "metadata": {},
   "outputs": [],
   "source": [
    "fig = go.Figure()\n",
    "exp.plot_prop_movies('delta_ang_Xax','body',fig,case = 'plot_mov',prop_x = 'time' ,add_horizontal_line=None,mode = 'markers')\n",
    "fig.show()\n",
    "\n"
   ]
  },
  {
   "cell_type": "code",
   "execution_count": 49,
   "metadata": {},
   "outputs": [],
   "source": [
    "fig = go.Figure()\n",
    "exp.plot_prop_movies('CM_dot_dot_y_projected_all_axes','body',fig,case = 'plot_mov',prop_x = 'time' ,add_horizontal_line=None,mode = 'markers')\n",
    "fig.show()\n"
   ]
  },
  {
   "cell_type": "code",
   "execution_count": 50,
   "metadata": {},
   "outputs": [],
   "source": [
    "fig = go.Figure()\n",
    "exp.plot_prop_movies('CM_dot_dot_y_projected_all_axes','body',fig,case = 'plot_mov',prop_x = 'time' ,add_horizontal_line=None,mode = 'markers')\n",
    "exp.plot_prop_movies('roll_body','body',fig,case = 'plot_mov',prop_x = 'time' ,add_horizontal_line=None,mode = 'markers')\n",
    "fig.show()"
   ]
  },
  {
   "cell_type": "code",
   "execution_count": 51,
   "metadata": {},
   "outputs": [],
   "source": [
    "\n",
    "fig = go.Figure()\n",
    "exp.plot_prop_movies('CM_dot_dot_y_projected_all_axes','body',fig,case = 'plot_mov',prop_x = 'roll_body' ,add_horizontal_line=None,mode = 'markers')\n",
    "fig.show()\n",
    "\n",
    "\n",
    "fig = go.Figure()\n",
    "exp.plot_prop_movies('CM_dot_dot_x_projected_all_axes','body',fig,case = 'plot_mov',prop_x = 'pitch_body' ,add_horizontal_line=None,mode = 'markers')\n",
    "fig.show()\n",
    "\n"
   ]
  },
  {
   "cell_type": "code",
   "execution_count": 52,
   "metadata": {},
   "outputs": [
    {
     "ename": "KeyError",
     "evalue": "'p'",
     "output_type": "error",
     "traceback": [
      "\u001b[1;31m---------------------------------------------------------------------------\u001b[0m",
      "\u001b[1;31mKeyError\u001b[0m                                  Traceback (most recent call last)",
      "Cell \u001b[1;32mIn[52], line 4\u001b[0m\n\u001b[0;32m      1\u001b[0m exp \u001b[38;5;241m=\u001b[39m experiments[\u001b[38;5;124m'\u001b[39m\u001b[38;5;124mmanipulated_2023_08_09_60ms\u001b[39m\u001b[38;5;124m'\u001b[39m]\n\u001b[0;32m      3\u001b[0m fig \u001b[38;5;241m=\u001b[39m go\u001b[38;5;241m.\u001b[39mFigure()\n\u001b[1;32m----> 4\u001b[0m \u001b[43mexp\u001b[49m\u001b[38;5;241;43m.\u001b[39;49m\u001b[43mplot_prop_movies\u001b[49m\u001b[43m(\u001b[49m\u001b[38;5;124;43m'\u001b[39;49m\u001b[38;5;124;43mCM_dot_dot_y_projected_all_axes\u001b[39;49m\u001b[38;5;124;43m'\u001b[39;49m\u001b[43m,\u001b[49m\u001b[38;5;124;43m'\u001b[39;49m\u001b[38;5;124;43mmean_body\u001b[39;49m\u001b[38;5;124;43m'\u001b[39;49m\u001b[43m,\u001b[49m\u001b[43mfig\u001b[49m\u001b[43m,\u001b[49m\u001b[43mcase\u001b[49m\u001b[43m \u001b[49m\u001b[38;5;241;43m=\u001b[39;49m\u001b[43m \u001b[49m\u001b[38;5;124;43m'\u001b[39;49m\u001b[38;5;124;43mplot_mov\u001b[39;49m\u001b[38;5;124;43m'\u001b[39;49m\u001b[43m,\u001b[49m\u001b[43mprop_x\u001b[49m\u001b[43m \u001b[49m\u001b[38;5;241;43m=\u001b[39;49m\u001b[43m \u001b[49m\u001b[38;5;124;43m'\u001b[39;49m\u001b[38;5;124;43mp\u001b[39;49m\u001b[38;5;124;43m'\u001b[39;49m\u001b[43m \u001b[49m\u001b[43m,\u001b[49m\u001b[43madd_horizontal_line\u001b[49m\u001b[38;5;241;43m=\u001b[39;49m\u001b[38;5;28;43;01mNone\u001b[39;49;00m\u001b[43m,\u001b[49m\u001b[43mmode\u001b[49m\u001b[43m \u001b[49m\u001b[38;5;241;43m=\u001b[39;49m\u001b[43m \u001b[49m\u001b[38;5;124;43m'\u001b[39;49m\u001b[38;5;124;43mmarkers\u001b[39;49m\u001b[38;5;124;43m'\u001b[39;49m\u001b[43m)\u001b[49m\n\u001b[0;32m      5\u001b[0m fig\u001b[38;5;241m.\u001b[39mshow()\n\u001b[0;32m      8\u001b[0m fig \u001b[38;5;241m=\u001b[39m go\u001b[38;5;241m.\u001b[39mFigure()\n",
      "File \u001b[1;32mc:\\Users\\Roni\\Documents\\experiment-analysis\\data_analysis\\Experiment.py:84\u001b[0m, in \u001b[0;36mExperiment.plot_prop_movies\u001b[1;34m(self, prop, wing_body, fig, mov, case, prop_x, add_horizontal_line, color, legend, **kwargs)\u001b[0m\n\u001b[0;32m     82\u001b[0m color \u001b[38;5;241m=\u001b[39m [\u001b[38;5;28mself\u001b[39m\u001b[38;5;241m.\u001b[39mcolor_map[idx\u001b[38;5;241m%\u001b[39m\u001b[38;5;28mlen\u001b[39m(\u001b[38;5;28mself\u001b[39m\u001b[38;5;241m.\u001b[39mcolor_map)] \u001b[38;5;28;01mfor\u001b[39;00m idx,mov_name \u001b[38;5;129;01min\u001b[39;00m \u001b[38;5;28menumerate\u001b[39m(mov_names)] \u001b[38;5;28;01mif\u001b[39;00m color \u001b[38;5;241m==\u001b[39m \u001b[38;5;28;01mFalse\u001b[39;00m \u001b[38;5;28;01melse\u001b[39;00m color \n\u001b[0;32m     83\u001b[0m \u001b[38;5;28;01mif\u001b[39;00m \u001b[38;5;124m'\u001b[39m\u001b[38;5;124mplot_exp\u001b[39m\u001b[38;5;124m'\u001b[39m \u001b[38;5;241m==\u001b[39m case: [\u001b[38;5;28mself\u001b[39m\u001b[38;5;241m.\u001b[39mget_mov(mov_name)\u001b[38;5;241m.\u001b[39mplot_prop(prop,wing_body,color,legend,fig,showlegend \u001b[38;5;241m=\u001b[39m idx \u001b[38;5;241m==\u001b[39m \u001b[38;5;241m0\u001b[39m,prop_x \u001b[38;5;241m=\u001b[39m prop_x,\u001b[38;5;241m*\u001b[39m\u001b[38;5;241m*\u001b[39mkwargs) \u001b[38;5;28;01mfor\u001b[39;00m idx,mov_name \u001b[38;5;129;01min\u001b[39;00m \u001b[38;5;28menumerate\u001b[39m(mov_names)]\n\u001b[1;32m---> 84\u001b[0m \u001b[38;5;28;01mif\u001b[39;00m \u001b[38;5;124m'\u001b[39m\u001b[38;5;124mplot_mov\u001b[39m\u001b[38;5;124m'\u001b[39m \u001b[38;5;241m==\u001b[39m case: [\u001b[38;5;28mself\u001b[39m\u001b[38;5;241m.\u001b[39mget_mov(mov_name)\u001b[38;5;241m.\u001b[39mplot_prop(prop,wing_body,color[idx],legend[idx],fig,prop_x \u001b[38;5;241m=\u001b[39m prop_x,\u001b[38;5;241m*\u001b[39m\u001b[38;5;241m*\u001b[39mkwargs) \u001b[38;5;28;01mfor\u001b[39;00m idx,mov_name \u001b[38;5;129;01min\u001b[39;00m \u001b[38;5;28menumerate\u001b[39m(mov_names)]\n\u001b[0;32m     86\u001b[0m \u001b[38;5;28;01mif\u001b[39;00m add_horizontal_line \u001b[38;5;241m!=\u001b[39m \u001b[38;5;28;01mNone\u001b[39;00m: fig\u001b[38;5;241m.\u001b[39madd_hline(y\u001b[38;5;241m=\u001b[39madd_horizontal_line, line_width\u001b[38;5;241m=\u001b[39m\u001b[38;5;241m3\u001b[39m, line_color\u001b[38;5;241m=\u001b[39m\u001b[38;5;124m\"\u001b[39m\u001b[38;5;124mlime\u001b[39m\u001b[38;5;124m\"\u001b[39m)\n\u001b[0;32m     87\u001b[0m fig\u001b[38;5;241m.\u001b[39madd_vline(x\u001b[38;5;241m=\u001b[39m\u001b[38;5;241m0\u001b[39m, line_width\u001b[38;5;241m=\u001b[39m\u001b[38;5;241m3\u001b[39m, line_color\u001b[38;5;241m=\u001b[39m\u001b[38;5;124m\"\u001b[39m\u001b[38;5;124mlime\u001b[39m\u001b[38;5;124m\"\u001b[39m)\n",
      "File \u001b[1;32mc:\\Users\\Roni\\Documents\\experiment-analysis\\data_analysis\\Experiment.py:84\u001b[0m, in \u001b[0;36m<listcomp>\u001b[1;34m(.0)\u001b[0m\n\u001b[0;32m     82\u001b[0m color \u001b[38;5;241m=\u001b[39m [\u001b[38;5;28mself\u001b[39m\u001b[38;5;241m.\u001b[39mcolor_map[idx\u001b[38;5;241m%\u001b[39m\u001b[38;5;28mlen\u001b[39m(\u001b[38;5;28mself\u001b[39m\u001b[38;5;241m.\u001b[39mcolor_map)] \u001b[38;5;28;01mfor\u001b[39;00m idx,mov_name \u001b[38;5;129;01min\u001b[39;00m \u001b[38;5;28menumerate\u001b[39m(mov_names)] \u001b[38;5;28;01mif\u001b[39;00m color \u001b[38;5;241m==\u001b[39m \u001b[38;5;28;01mFalse\u001b[39;00m \u001b[38;5;28;01melse\u001b[39;00m color \n\u001b[0;32m     83\u001b[0m \u001b[38;5;28;01mif\u001b[39;00m \u001b[38;5;124m'\u001b[39m\u001b[38;5;124mplot_exp\u001b[39m\u001b[38;5;124m'\u001b[39m \u001b[38;5;241m==\u001b[39m case: [\u001b[38;5;28mself\u001b[39m\u001b[38;5;241m.\u001b[39mget_mov(mov_name)\u001b[38;5;241m.\u001b[39mplot_prop(prop,wing_body,color,legend,fig,showlegend \u001b[38;5;241m=\u001b[39m idx \u001b[38;5;241m==\u001b[39m \u001b[38;5;241m0\u001b[39m,prop_x \u001b[38;5;241m=\u001b[39m prop_x,\u001b[38;5;241m*\u001b[39m\u001b[38;5;241m*\u001b[39mkwargs) \u001b[38;5;28;01mfor\u001b[39;00m idx,mov_name \u001b[38;5;129;01min\u001b[39;00m \u001b[38;5;28menumerate\u001b[39m(mov_names)]\n\u001b[1;32m---> 84\u001b[0m \u001b[38;5;28;01mif\u001b[39;00m \u001b[38;5;124m'\u001b[39m\u001b[38;5;124mplot_mov\u001b[39m\u001b[38;5;124m'\u001b[39m \u001b[38;5;241m==\u001b[39m case: [\u001b[38;5;28mself\u001b[39m\u001b[38;5;241m.\u001b[39mget_mov(mov_name)\u001b[38;5;241m.\u001b[39mplot_prop(prop,wing_body,color[idx],legend[idx],fig,prop_x \u001b[38;5;241m=\u001b[39m prop_x,\u001b[38;5;241m*\u001b[39m\u001b[38;5;241m*\u001b[39mkwargs) \u001b[38;5;28;01mfor\u001b[39;00m idx,mov_name \u001b[38;5;129;01min\u001b[39;00m \u001b[38;5;28menumerate\u001b[39m(mov_names)]\n\u001b[0;32m     86\u001b[0m \u001b[38;5;28;01mif\u001b[39;00m add_horizontal_line \u001b[38;5;241m!=\u001b[39m \u001b[38;5;28;01mNone\u001b[39;00m: fig\u001b[38;5;241m.\u001b[39madd_hline(y\u001b[38;5;241m=\u001b[39madd_horizontal_line, line_width\u001b[38;5;241m=\u001b[39m\u001b[38;5;241m3\u001b[39m, line_color\u001b[38;5;241m=\u001b[39m\u001b[38;5;124m\"\u001b[39m\u001b[38;5;124mlime\u001b[39m\u001b[38;5;124m\"\u001b[39m)\n\u001b[0;32m     87\u001b[0m fig\u001b[38;5;241m.\u001b[39madd_vline(x\u001b[38;5;241m=\u001b[39m\u001b[38;5;241m0\u001b[39m, line_width\u001b[38;5;241m=\u001b[39m\u001b[38;5;241m3\u001b[39m, line_color\u001b[38;5;241m=\u001b[39m\u001b[38;5;124m\"\u001b[39m\u001b[38;5;124mlime\u001b[39m\u001b[38;5;124m\"\u001b[39m)\n",
      "File \u001b[1;32mc:\\Users\\Roni\\Documents\\experiment-analysis\\data_analysis\\Movie.py:373\u001b[0m, in \u001b[0;36mMovie.plot_prop\u001b[1;34m(self, prop, wing_body, color, group_name, fig, prop_x, t0, t1, **kwargs)\u001b[0m\n\u001b[0;32m    370\u001b[0m t1_idx \u001b[38;5;241m=\u001b[39m  \u001b[38;5;28mself\u001b[39m\u001b[38;5;241m.\u001b[39mget_idx_of_time(t1,wing_body) \u001b[38;5;28;01mif\u001b[39;00m ((t1 \u001b[38;5;241m!=\u001b[39m \u001b[38;5;28;01mFalse\u001b[39;00m) \u001b[38;5;129;01mand\u001b[39;00m (\u001b[38;5;28mlen\u001b[39m(\u001b[38;5;28mself\u001b[39m\u001b[38;5;241m.\u001b[39mget_idx_of_time(t1,wing_body))\u001b[38;5;241m>\u001b[39m\u001b[38;5;241m0\u001b[39m)) \u001b[38;5;28;01melse\u001b[39;00m [\u001b[38;5;28mint\u001b[39m(\u001b[38;5;241m-\u001b[39m\u001b[38;5;241m1\u001b[39m)]\n\u001b[0;32m    372\u001b[0m data_y \u001b[38;5;241m=\u001b[39m \u001b[38;5;28mself\u001b[39m\u001b[38;5;241m.\u001b[39mget_prop(prop,wing_body)\n\u001b[1;32m--> 373\u001b[0m data_x \u001b[38;5;241m=\u001b[39m \u001b[38;5;28;43mself\u001b[39;49m\u001b[38;5;241;43m.\u001b[39;49m\u001b[43mget_prop\u001b[49m\u001b[43m(\u001b[49m\u001b[43mprop_x\u001b[49m\u001b[43m,\u001b[49m\u001b[43mwing_body\u001b[49m\u001b[43m)\u001b[49m\n\u001b[0;32m    375\u001b[0m \u001b[38;5;28;01mreturn\u001b[39;00m Plotters\u001b[38;5;241m.\u001b[39mplot_prop_movie(data_x[t0_idx[\u001b[38;5;241m0\u001b[39m]:t1_idx[\u001b[38;5;241m0\u001b[39m],\u001b[38;5;241m0\u001b[39m],data_y[t0_idx[\u001b[38;5;241m0\u001b[39m]:t1_idx[\u001b[38;5;241m0\u001b[39m],\u001b[38;5;241m0\u001b[39m],color,group_name,fig \u001b[38;5;241m=\u001b[39m fig,\u001b[38;5;241m*\u001b[39m\u001b[38;5;241m*\u001b[39mkwargs)\n",
      "File \u001b[1;32mc:\\Users\\Roni\\Documents\\experiment-analysis\\data_analysis\\Movie.py:331\u001b[0m, in \u001b[0;36mMovie.get_prop\u001b[1;34m(self, prop, wing_body, three_col)\u001b[0m\n\u001b[0;32m    330\u001b[0m \u001b[38;5;28;01mdef\u001b[39;00m \u001b[38;5;21mget_prop\u001b[39m(\u001b[38;5;28mself\u001b[39m,prop,wing_body,three_col \u001b[38;5;241m=\u001b[39m \u001b[38;5;241m1\u001b[39m):\n\u001b[1;32m--> 331\u001b[0m     \u001b[38;5;28;01mreturn\u001b[39;00m \u001b[38;5;28mself\u001b[39m\u001b[38;5;241m.\u001b[39mdata[wing_body][:,\u001b[38;5;28;43mself\u001b[39;49m\u001b[38;5;241;43m.\u001b[39;49m\u001b[43mheader\u001b[49m\u001b[43m[\u001b[49m\u001b[43mwing_body\u001b[49m\u001b[43m]\u001b[49m\u001b[43m[\u001b[49m\u001b[43mprop\u001b[49m\u001b[43m]\u001b[49m:\u001b[38;5;28mself\u001b[39m\u001b[38;5;241m.\u001b[39mheader[wing_body][prop] \u001b[38;5;241m+\u001b[39m three_col]\u001b[38;5;241m.\u001b[39mcopy()\n",
      "\u001b[1;31mKeyError\u001b[0m: 'p'"
     ]
    }
   ],
   "source": [
    "exp = experiments['manipulated_2023_08_09_60ms']\n",
    "\n",
    "fig = go.Figure()\n",
    "exp.plot_prop_movies('CM_dot_dot_y_projected_all_axes','mean_body',fig,case = 'plot_mov',prop_x = 'p' ,add_horizontal_line=None,mode = 'markers')\n",
    "fig.show()\n",
    "\n",
    "\n",
    "fig = go.Figure()\n",
    "exp.plot_prop_movies('CM_dot_dot_y_projected_all_axes','mean_body',fig,case = 'plot_mov',prop_x = 'delta_max_phi' ,add_horizontal_line=None,mode = 'markers')\n",
    "fig.show()\n",
    "\n",
    "\n",
    "fig = go.Figure()\n",
    "exp.plot_prop_movies('CM_dot_dot_y_projected_all_axes','mean_body',fig,case = 'plot_mov',prop_x = 'delta_amp' ,add_horizontal_line=None,mode = 'markers')\n",
    "fig.show()\n",
    "\n",
    "\n",
    "\n",
    "fig = go.Figure()\n",
    "exp.plot_prop_movies('CM_dot_dot_y_projected_all_axes','mean_body',fig,case = 'plot_mov',prop_x = 'delta_freq' ,add_horizontal_line=None,mode = 'markers')\n",
    "fig.show()"
   ]
  },
  {
   "cell_type": "code",
   "execution_count": null,
   "metadata": {},
   "outputs": [],
   "source": [
    "\n",
    "fig = go.Figure()\n",
    "exp.plot_prop_movies('delta_ang_Xax','mean_body',fig,case = 'plot_mov',prop_x = 'delta_amp' ,add_horizontal_line=None,mode = 'markers')\n",
    "fig.show()"
   ]
  },
  {
   "cell_type": "code",
   "execution_count": null,
   "metadata": {},
   "outputs": [],
   "source": [
    "fig = go.Figure()\n",
    "\n",
    "exp.plot_prop_movies('roll_body','body',fig,case = 'plot_mov',prop_x = 'time' ,add_horizontal_line=None)\n",
    "exp.plot_prop_movies('CM_dot_dot_y_projected_all_axes','body',fig,case = 'plot_mov',prop_x = 'time' ,add_horizontal_line=None)\n",
    "fig.show()"
   ]
  },
  {
   "cell_type": "code",
   "execution_count": null,
   "metadata": {},
   "outputs": [],
   "source": [
    "\n",
    "fig = go.Figure()\n",
    "exp.plot_prop_movies('delta_amp','mean_body',fig,case = 'plot_mov',prop_x = 'time' ,add_horizontal_line=None,mode = 'markers')\n",
    "\n",
    "exp.plot_prop_movies('delta_ang_Xax','mean_body',fig,case = 'plot_mov',prop_x = 'time' ,add_horizontal_line=None)\n",
    "fig.show()"
   ]
  },
  {
   "cell_type": "code",
   "execution_count": null,
   "metadata": {},
   "outputs": [],
   "source": [
    "exp = experiments['manipulated_2023_08_09_60ms']\n",
    "\n",
    "fig = go.Figure()\n",
    "\n",
    "# exp.plot_prop_movies('freq_max_rw','mean_wing',fig,case = 'plot_mov',prop_x = 'time' ,add_horizontal_line=None)\n",
    "exp.plot_prop_movies('CM_dot_dot_x_projected','body',fig,case = 'plot_mov',prop_x = 'pitch_body' ,add_horizontal_line=None,mode = 'markers')\n",
    "\n",
    "fig.show()"
   ]
  },
  {
   "cell_type": "code",
   "execution_count": null,
   "metadata": {},
   "outputs": [],
   "source": [
    "exp = experiments['manipulated_2023_08_09_60ms']\n",
    "\n",
    "fig = go.Figure()\n",
    "\n",
    "# exp.plot_prop_movies('freq_max_rw','mean_wing',fig,case = 'plot_mov',prop_x = 'time' ,add_horizontal_line=None)\n",
    "exp.plot_prop_movies('delta_roll_yaw','body',fig,case = 'plot_mov',prop_x = 'time' ,add_horizontal_line=None)\n",
    "exp.plot_prop_movies('delta_ang_Xax','body',fig,case = 'plot_mov',prop_x = 'time' ,add_horizontal_line=None)\n",
    "\n",
    "fig.show()"
   ]
  },
  {
   "cell_type": "code",
   "execution_count": null,
   "metadata": {},
   "outputs": [],
   "source": [
    "from plotly.subplots import make_subplots\n",
    "time_vec = [10,60,100,220,280]\n",
    "\n",
    "xbins = dict(start=0,end=360,size = 10)\n",
    "fig = Plotters.subplot_histograms_delta_prop(time_vec,experiments,'delta_ang_CM_dot_x',color_map,xbins,'body')\n",
    "fig.show()\n",
    "\n",
    "\n",
    "\n"
   ]
  },
  {
   "cell_type": "markdown",
   "metadata": {},
   "source": [
    "Violin plot"
   ]
  },
  {
   "cell_type": "code",
   "execution_count": null,
   "metadata": {},
   "outputs": [
    {
     "data": {
      "text/plain": [
       "'H:/My Drive/dark 2022/csv_dark/figures/2023_08_09_60ms'"
      ]
     },
     "execution_count": 28,
     "metadata": {},
     "output_type": "execute_result"
    }
   ],
   "source": [
    "exp.figures_path"
   ]
  },
  {
   "cell_type": "code",
   "execution_count": null,
   "metadata": {},
   "outputs": [
    {
     "name": "stderr",
     "output_type": "stream",
     "text": [
      "c:\\Users\\Roni\\Documents\\experiment-analysis\\data_analysis\\Movie.py:343: RuntimeWarning:\n",
      "\n",
      "Mean of empty slice\n",
      "\n",
      "c:\\Users\\Roni\\Documents\\experiment-analysis\\data_analysis\\Movie.py:343: RuntimeWarning:\n",
      "\n",
      "Mean of empty slice\n",
      "\n",
      "c:\\Users\\Roni\\Documents\\experiment-analysis\\data_analysis\\Movie.py:343: RuntimeWarning:\n",
      "\n",
      "Mean of empty slice\n",
      "\n",
      "c:\\Users\\Roni\\Documents\\experiment-analysis\\data_analysis\\Movie.py:343: RuntimeWarning:\n",
      "\n",
      "Mean of empty slice\n",
      "\n",
      "c:\\Users\\Roni\\Documents\\experiment-analysis\\data_analysis\\Movie.py:343: RuntimeWarning:\n",
      "\n",
      "Mean of empty slice\n",
      "\n",
      "c:\\Users\\Roni\\Documents\\experiment-analysis\\data_analysis\\Movie.py:343: RuntimeWarning:\n",
      "\n",
      "Mean of empty slice\n",
      "\n",
      "c:\\Users\\Roni\\Documents\\experiment-analysis\\data_analysis\\Movie.py:343: RuntimeWarning:\n",
      "\n",
      "Mean of empty slice\n",
      "\n",
      "c:\\Users\\Roni\\Documents\\experiment-analysis\\data_analysis\\Movie.py:343: RuntimeWarning:\n",
      "\n",
      "Mean of empty slice\n",
      "\n",
      "c:\\Users\\Roni\\Documents\\experiment-analysis\\data_analysis\\Movie.py:343: RuntimeWarning:\n",
      "\n",
      "Mean of empty slice\n",
      "\n",
      "c:\\Users\\Roni\\Documents\\experiment-analysis\\data_analysis\\Movie.py:343: RuntimeWarning:\n",
      "\n",
      "Mean of empty slice\n",
      "\n",
      "c:\\Users\\Roni\\Documents\\experiment-analysis\\data_analysis\\Movie.py:343: RuntimeWarning:\n",
      "\n",
      "Mean of empty slice\n",
      "\n",
      "c:\\Users\\Roni\\Documents\\experiment-analysis\\data_analysis\\Movie.py:343: RuntimeWarning:\n",
      "\n",
      "Mean of empty slice\n",
      "\n",
      "c:\\Users\\Roni\\Documents\\experiment-analysis\\data_analysis\\Movie.py:343: RuntimeWarning:\n",
      "\n",
      "Mean of empty slice\n",
      "\n",
      "c:\\Users\\Roni\\Documents\\experiment-analysis\\data_analysis\\Movie.py:343: RuntimeWarning:\n",
      "\n",
      "Mean of empty slice\n",
      "\n"
     ]
    },
    {
     "data": {
      "text/plain": [
       "'I:/My Drive/Research/Dark/article/figures/html/CM_dot_x_violin_plot.html'"
      ]
     },
     "execution_count": 327,
     "metadata": {},
     "output_type": "execute_result"
    }
   ],
   "source": [
    "\n",
    "\n",
    "t_vec = [0,20,75,150,200]\n",
    "delta_t = 73*5/16000*1000\n",
    "prop = 'freq_phi_rw_min_idx'\n",
    "data = [exp.mean_prop_time_vector_movies(prop,delta_t,t_vec, mov = False) for exp in  experiments.values()]\n",
    "\n",
    "\n",
    "fig = go.Figure()\n",
    "[Plotters.vplot(dat,fig,'t0','freq_phi_rw_min_idx',exp_name) for dat,exp_name in zip(data,experiments.keys())]\n",
    "fig.show()\n",
    "\n",
    "\n",
    "prop = 'CM_dot_x_projected'\n",
    "data = [exp.mean_prop_time_vector_movies(prop,delta_t,t_vec, mov = False,sub_mean = False) for exp in  experiments.values()]\n",
    "\n",
    "\n",
    "fig = go.Figure()\n",
    "[Plotters.vplot(dat,fig,'t0','CM_dot_x_projected',exp_name) for dat,exp_name in zip(data,experiments.keys())]\n",
    "fig.show()\n",
    "\n",
    "plotly.offline.plot(fig, filename=f'I:/My Drive/Research/Dark/article/figures/html/CM_dot_x_violin_plot.html',auto_open=False)\n",
    "\n"
   ]
  },
  {
   "cell_type": "code",
   "execution_count": null,
   "metadata": {},
   "outputs": [
    {
     "data": {
      "text/plain": [
       "[None, None, None, None, None, None]"
      ]
     },
     "execution_count": 59,
     "metadata": {},
     "output_type": "execute_result"
    }
   ],
   "source": [
    "prop = 'CM_real_z_body_dot_dot_smth'\n",
    "[exp.mean_by_stroke_movies(prop,mean_wing_body,'body')  for exp in experiments.values()]\n",
    "\n"
   ]
  },
  {
   "cell_type": "markdown",
   "metadata": {},
   "source": [
    "Histograms"
   ]
  },
  {
   "cell_type": "code",
   "execution_count": null,
   "metadata": {},
   "outputs": [],
   "source": [
    "exp = experiments[list(experiments.keys())[0]]\n",
    "[exp.get_peaks_movies('q','max') for exp in experiments.values()]\n",
    "[exp.get_peaks_movies('pitch_body','peaks_max',t0 = 40, t1 = 100) for exp in experiments.values()]\n",
    "[exp.get_peaks_movies('CM_dot_dot_x_projected','min') for exp in experiments.values()]\n",
    "[exp.get_peaks_movies('pitch_y_frame','max') for exp in experiments.values()]\n",
    "[exp.get_peaks_movies('pitch_body','max') for exp in experiments.values()]\n",
    "[exp.get_peaks_movies('CM_dot_x_projected','min') for exp in experiments.values()]\n",
    "[exp.get_peaks_movies('CM_dot_x_projected','zero_v') for exp in experiments.values()]\n",
    "[exp.get_peaks_movies('delta_ang_Xax','max') for exp in experiments.values()]\n",
    "[exp.get_peaks_movies('CM_dot_dot_x_projected','peaks_max',t0 = 5, t1 = 100) for exp in experiments.values()]\n",
    "\n",
    "[exp.get_peaks_movies('CM_dot_x_projected','half_v') for exp in experiments.values()]\n",
    "\n",
    "prop  = 'CM_dot_x_projected_zero_v'\n",
    "[exp.subtract_interest_time_from_time(prop,'time_m_zero_v') for exp in experiments.values()]\n",
    "\n",
    "point_name = 'CM_dot_x_projected_zero_v'\n",
    "list_trace,layout = zip(*[exp.interest_point_hist(point_name,xbins = dict(start=0,end=300, size=5)) for exp in experiments.values()])\n",
    "\n",
    "fig = go.Figure(data=list_trace, layout=layout[0]).show()\n",
    "\n",
    "\n",
    "point_name = 'CM_dot_dot_x_projected_min'\n",
    "list_trace,layout = zip(*[exp.interest_point_hist(point_name,xbins = dict(start=0,end=300, size=5)) for exp in experiments.values()])\n",
    "fig = go.Figure(data=list_trace, layout=layout[0]).show()\n",
    "\n",
    "\n",
    "point_name = 'CM_dot_dot_x_projected_peaks_max'\n",
    "list_trace,layout = zip(*[exp.interest_point_hist(point_name,xbins = dict(start=0,end=300, size=5)) for exp in experiments.values()])\n",
    "fig = go.Figure(data=list_trace, layout=layout[0]).show()\n"
   ]
  },
  {
   "cell_type": "code",
   "execution_count": null,
   "metadata": {},
   "outputs": [
    {
     "ename": "KeyError",
     "evalue": "'time_m_zero_v'",
     "output_type": "error",
     "traceback": [
      "\u001b[1;31m---------------------------------------------------------------------------\u001b[0m",
      "\u001b[1;31mKeyError\u001b[0m                                  Traceback (most recent call last)",
      "Cell \u001b[1;32mIn[212], line 11\u001b[0m\n\u001b[0;32m      9\u001b[0m prop \u001b[38;5;241m=\u001b[39m \u001b[38;5;124m'\u001b[39m\u001b[38;5;124mdelta_ang_CM_dot_x\u001b[39m\u001b[38;5;124m'\u001b[39m\n\u001b[0;32m     10\u001b[0m fig \u001b[38;5;241m=\u001b[39m go\u001b[38;5;241m.\u001b[39mFigure()\n\u001b[1;32m---> 11\u001b[0m \u001b[43mexp\u001b[49m\u001b[38;5;241;43m.\u001b[39;49m\u001b[43mplot_prop_movies\u001b[49m\u001b[43m(\u001b[49m\u001b[43mprop\u001b[49m\u001b[43m,\u001b[49m\u001b[38;5;124;43m'\u001b[39;49m\u001b[38;5;124;43mbody\u001b[39;49m\u001b[38;5;124;43m'\u001b[39;49m\u001b[43m,\u001b[49m\u001b[43mfig\u001b[49m\u001b[43m,\u001b[49m\u001b[43mcase\u001b[49m\u001b[43m \u001b[49m\u001b[38;5;241;43m=\u001b[39;49m\u001b[43m \u001b[49m\u001b[38;5;124;43m'\u001b[39;49m\u001b[38;5;124;43mplot_mov\u001b[39;49m\u001b[38;5;124;43m'\u001b[39;49m\u001b[43m,\u001b[49m\u001b[43mprop_x\u001b[49m\u001b[43m \u001b[49m\u001b[38;5;241;43m=\u001b[39;49m\u001b[43m \u001b[49m\u001b[38;5;124;43m'\u001b[39;49m\u001b[38;5;124;43mtime_m_zero_v\u001b[39;49m\u001b[38;5;124;43m'\u001b[39;49m\u001b[43m)\u001b[49m\n\u001b[0;32m     12\u001b[0m fig\u001b[38;5;241m.\u001b[39mshow()\n\u001b[0;32m     15\u001b[0m prop \u001b[38;5;241m=\u001b[39m \u001b[38;5;124m'\u001b[39m\u001b[38;5;124mdelta_ang_Xax\u001b[39m\u001b[38;5;124m'\u001b[39m\n",
      "File \u001b[1;32mc:\\Users\\Roni\\Documents\\experiment-analysis\\data_analysis\\Experiment.py:81\u001b[0m, in \u001b[0;36mExperiment.plot_prop_movies\u001b[1;34m(self, prop, wing_body, fig, mov, case, prop_x, add_horizontal_line, color, legend, **kwargs)\u001b[0m\n\u001b[0;32m     79\u001b[0m color \u001b[38;5;241m=\u001b[39m [\u001b[38;5;28mself\u001b[39m\u001b[38;5;241m.\u001b[39mcolor_map[idx\u001b[38;5;241m%\u001b[39m\u001b[38;5;28mlen\u001b[39m(\u001b[38;5;28mself\u001b[39m\u001b[38;5;241m.\u001b[39mcolor_map)] \u001b[38;5;28;01mfor\u001b[39;00m idx,mov_name \u001b[38;5;129;01min\u001b[39;00m \u001b[38;5;28menumerate\u001b[39m(mov_names)] \u001b[38;5;28;01mif\u001b[39;00m color \u001b[38;5;241m==\u001b[39m \u001b[38;5;28;01mFalse\u001b[39;00m \u001b[38;5;28;01melse\u001b[39;00m color \n\u001b[0;32m     80\u001b[0m \u001b[38;5;28;01mif\u001b[39;00m \u001b[38;5;124m'\u001b[39m\u001b[38;5;124mplot_exp\u001b[39m\u001b[38;5;124m'\u001b[39m \u001b[38;5;241m==\u001b[39m case: [\u001b[38;5;28mself\u001b[39m\u001b[38;5;241m.\u001b[39mget_mov(mov_name)\u001b[38;5;241m.\u001b[39mplot_prop(prop,wing_body,color,legend,fig,showlegend \u001b[38;5;241m=\u001b[39m idx \u001b[38;5;241m==\u001b[39m \u001b[38;5;241m0\u001b[39m,prop_x \u001b[38;5;241m=\u001b[39m prop_x,\u001b[38;5;241m*\u001b[39m\u001b[38;5;241m*\u001b[39mkwargs) \u001b[38;5;28;01mfor\u001b[39;00m idx,mov_name \u001b[38;5;129;01min\u001b[39;00m \u001b[38;5;28menumerate\u001b[39m(mov_names)]\n\u001b[1;32m---> 81\u001b[0m \u001b[38;5;28;01mif\u001b[39;00m \u001b[38;5;124m'\u001b[39m\u001b[38;5;124mplot_mov\u001b[39m\u001b[38;5;124m'\u001b[39m \u001b[38;5;241m==\u001b[39m case: [\u001b[38;5;28mself\u001b[39m\u001b[38;5;241m.\u001b[39mget_mov(mov_name)\u001b[38;5;241m.\u001b[39mplot_prop(prop,wing_body,color[idx],legend[idx],fig,prop_x \u001b[38;5;241m=\u001b[39m prop_x,\u001b[38;5;241m*\u001b[39m\u001b[38;5;241m*\u001b[39mkwargs) \u001b[38;5;28;01mfor\u001b[39;00m idx,mov_name \u001b[38;5;129;01min\u001b[39;00m \u001b[38;5;28menumerate\u001b[39m(mov_names)]\n\u001b[0;32m     83\u001b[0m \u001b[38;5;28;01mif\u001b[39;00m add_horizontal_line \u001b[38;5;241m!=\u001b[39m \u001b[38;5;28;01mNone\u001b[39;00m: fig\u001b[38;5;241m.\u001b[39madd_hline(y\u001b[38;5;241m=\u001b[39madd_horizontal_line, line_width\u001b[38;5;241m=\u001b[39m\u001b[38;5;241m3\u001b[39m, line_color\u001b[38;5;241m=\u001b[39m\u001b[38;5;124m\"\u001b[39m\u001b[38;5;124mlime\u001b[39m\u001b[38;5;124m\"\u001b[39m)\n\u001b[0;32m     84\u001b[0m fig\u001b[38;5;241m.\u001b[39madd_vline(x\u001b[38;5;241m=\u001b[39m\u001b[38;5;241m0\u001b[39m, line_width\u001b[38;5;241m=\u001b[39m\u001b[38;5;241m3\u001b[39m, line_color\u001b[38;5;241m=\u001b[39m\u001b[38;5;124m\"\u001b[39m\u001b[38;5;124mlime\u001b[39m\u001b[38;5;124m\"\u001b[39m)\n",
      "File \u001b[1;32mc:\\Users\\Roni\\Documents\\experiment-analysis\\data_analysis\\Experiment.py:81\u001b[0m, in \u001b[0;36m<listcomp>\u001b[1;34m(.0)\u001b[0m\n\u001b[0;32m     79\u001b[0m color \u001b[38;5;241m=\u001b[39m [\u001b[38;5;28mself\u001b[39m\u001b[38;5;241m.\u001b[39mcolor_map[idx\u001b[38;5;241m%\u001b[39m\u001b[38;5;28mlen\u001b[39m(\u001b[38;5;28mself\u001b[39m\u001b[38;5;241m.\u001b[39mcolor_map)] \u001b[38;5;28;01mfor\u001b[39;00m idx,mov_name \u001b[38;5;129;01min\u001b[39;00m \u001b[38;5;28menumerate\u001b[39m(mov_names)] \u001b[38;5;28;01mif\u001b[39;00m color \u001b[38;5;241m==\u001b[39m \u001b[38;5;28;01mFalse\u001b[39;00m \u001b[38;5;28;01melse\u001b[39;00m color \n\u001b[0;32m     80\u001b[0m \u001b[38;5;28;01mif\u001b[39;00m \u001b[38;5;124m'\u001b[39m\u001b[38;5;124mplot_exp\u001b[39m\u001b[38;5;124m'\u001b[39m \u001b[38;5;241m==\u001b[39m case: [\u001b[38;5;28mself\u001b[39m\u001b[38;5;241m.\u001b[39mget_mov(mov_name)\u001b[38;5;241m.\u001b[39mplot_prop(prop,wing_body,color,legend,fig,showlegend \u001b[38;5;241m=\u001b[39m idx \u001b[38;5;241m==\u001b[39m \u001b[38;5;241m0\u001b[39m,prop_x \u001b[38;5;241m=\u001b[39m prop_x,\u001b[38;5;241m*\u001b[39m\u001b[38;5;241m*\u001b[39mkwargs) \u001b[38;5;28;01mfor\u001b[39;00m idx,mov_name \u001b[38;5;129;01min\u001b[39;00m \u001b[38;5;28menumerate\u001b[39m(mov_names)]\n\u001b[1;32m---> 81\u001b[0m \u001b[38;5;28;01mif\u001b[39;00m \u001b[38;5;124m'\u001b[39m\u001b[38;5;124mplot_mov\u001b[39m\u001b[38;5;124m'\u001b[39m \u001b[38;5;241m==\u001b[39m case: [\u001b[38;5;28mself\u001b[39m\u001b[38;5;241m.\u001b[39mget_mov(mov_name)\u001b[38;5;241m.\u001b[39mplot_prop(prop,wing_body,color[idx],legend[idx],fig,prop_x \u001b[38;5;241m=\u001b[39m prop_x,\u001b[38;5;241m*\u001b[39m\u001b[38;5;241m*\u001b[39mkwargs) \u001b[38;5;28;01mfor\u001b[39;00m idx,mov_name \u001b[38;5;129;01min\u001b[39;00m \u001b[38;5;28menumerate\u001b[39m(mov_names)]\n\u001b[0;32m     83\u001b[0m \u001b[38;5;28;01mif\u001b[39;00m add_horizontal_line \u001b[38;5;241m!=\u001b[39m \u001b[38;5;28;01mNone\u001b[39;00m: fig\u001b[38;5;241m.\u001b[39madd_hline(y\u001b[38;5;241m=\u001b[39madd_horizontal_line, line_width\u001b[38;5;241m=\u001b[39m\u001b[38;5;241m3\u001b[39m, line_color\u001b[38;5;241m=\u001b[39m\u001b[38;5;124m\"\u001b[39m\u001b[38;5;124mlime\u001b[39m\u001b[38;5;124m\"\u001b[39m)\n\u001b[0;32m     84\u001b[0m fig\u001b[38;5;241m.\u001b[39madd_vline(x\u001b[38;5;241m=\u001b[39m\u001b[38;5;241m0\u001b[39m, line_width\u001b[38;5;241m=\u001b[39m\u001b[38;5;241m3\u001b[39m, line_color\u001b[38;5;241m=\u001b[39m\u001b[38;5;124m\"\u001b[39m\u001b[38;5;124mlime\u001b[39m\u001b[38;5;124m\"\u001b[39m)\n",
      "File \u001b[1;32mc:\\Users\\Roni\\Documents\\experiment-analysis\\data_analysis\\Movie.py:353\u001b[0m, in \u001b[0;36mMovie.plot_prop\u001b[1;34m(self, prop, wing_body, color, name, fig, prop_x, t0, t1, **kwargs)\u001b[0m\n\u001b[0;32m    350\u001b[0m t1_idx \u001b[38;5;241m=\u001b[39m  \u001b[38;5;28mself\u001b[39m\u001b[38;5;241m.\u001b[39mget_idx_of_time(t1,wing_body) \u001b[38;5;28;01mif\u001b[39;00m ((t1 \u001b[38;5;241m!=\u001b[39m \u001b[38;5;28;01mFalse\u001b[39;00m) \u001b[38;5;129;01mand\u001b[39;00m (\u001b[38;5;28mlen\u001b[39m(\u001b[38;5;28mself\u001b[39m\u001b[38;5;241m.\u001b[39mget_idx_of_time(t1,wing_body))\u001b[38;5;241m>\u001b[39m\u001b[38;5;241m0\u001b[39m)) \u001b[38;5;28;01melse\u001b[39;00m [\u001b[38;5;28mint\u001b[39m(\u001b[38;5;241m-\u001b[39m\u001b[38;5;241m1\u001b[39m)]\n\u001b[0;32m    352\u001b[0m data_y \u001b[38;5;241m=\u001b[39m \u001b[38;5;28mself\u001b[39m\u001b[38;5;241m.\u001b[39mget_prop(prop,wing_body)\n\u001b[1;32m--> 353\u001b[0m data_x \u001b[38;5;241m=\u001b[39m \u001b[38;5;28;43mself\u001b[39;49m\u001b[38;5;241;43m.\u001b[39;49m\u001b[43mget_prop\u001b[49m\u001b[43m(\u001b[49m\u001b[43mprop_x\u001b[49m\u001b[43m,\u001b[49m\u001b[43mwing_body\u001b[49m\u001b[43m)\u001b[49m\n\u001b[0;32m    355\u001b[0m \u001b[38;5;28;01mreturn\u001b[39;00m Plotters\u001b[38;5;241m.\u001b[39mplot_prop_movie(data_x[t0_idx[\u001b[38;5;241m0\u001b[39m]:t1_idx[\u001b[38;5;241m0\u001b[39m],\u001b[38;5;241m0\u001b[39m],data_y[t0_idx[\u001b[38;5;241m0\u001b[39m]:t1_idx[\u001b[38;5;241m0\u001b[39m],\u001b[38;5;241m0\u001b[39m],color,name,fig \u001b[38;5;241m=\u001b[39m fig,\u001b[38;5;241m*\u001b[39m\u001b[38;5;241m*\u001b[39mkwargs)\n",
      "File \u001b[1;32mc:\\Users\\Roni\\Documents\\experiment-analysis\\data_analysis\\Movie.py:311\u001b[0m, in \u001b[0;36mMovie.get_prop\u001b[1;34m(self, prop, wing_body, three_col)\u001b[0m\n\u001b[0;32m    310\u001b[0m \u001b[38;5;28;01mdef\u001b[39;00m \u001b[38;5;21mget_prop\u001b[39m(\u001b[38;5;28mself\u001b[39m,prop,wing_body,three_col \u001b[38;5;241m=\u001b[39m \u001b[38;5;241m1\u001b[39m):\n\u001b[1;32m--> 311\u001b[0m     \u001b[38;5;28;01mreturn\u001b[39;00m \u001b[38;5;28mself\u001b[39m\u001b[38;5;241m.\u001b[39mdata[wing_body][:,\u001b[38;5;28;43mself\u001b[39;49m\u001b[38;5;241;43m.\u001b[39;49m\u001b[43mheader\u001b[49m\u001b[43m[\u001b[49m\u001b[43mwing_body\u001b[49m\u001b[43m]\u001b[49m\u001b[43m[\u001b[49m\u001b[43mprop\u001b[49m\u001b[43m]\u001b[49m:\u001b[38;5;28mself\u001b[39m\u001b[38;5;241m.\u001b[39mheader[wing_body][prop] \u001b[38;5;241m+\u001b[39m three_col]\u001b[38;5;241m.\u001b[39mcopy()\n",
      "\u001b[1;31mKeyError\u001b[0m: 'time_m_zero_v'"
     ]
    }
   ],
   "source": [
    "exp = experiments['manipulated_2023_08_06_40ms']#['manipulated_2022_02_03_dark']#['manipulated_2023_08_09_60ms']\n",
    "# exp_name =['manipulated_2023_08_07_10ms',\n",
    "#             'manipulated_2023_08_06_40ms',\n",
    "#            'manipulated_2023_08_09_60ms',\n",
    "#            'manipulated_2023_08_09_80ms',\n",
    "#            'manipulated_2023_08_10_100ms',\n",
    "#            'manipulated_2022_02_03_dark']\n",
    "\n",
    "prop = 'delta_ang_CM_dot_x'\n",
    "fig = go.Figure()\n",
    "exp.plot_prop_movies(prop,'body',fig,case = 'plot_mov',prop_x = 'time_m_zero_v')\n",
    "fig.show()\n",
    "\n",
    "\n",
    "prop = 'delta_ang_Xax'\n",
    "fig = go.Figure()\n",
    "exp.plot_prop_movies(prop,'body',fig,case = 'plot_mov',prop_x = 'time')\n",
    "fig.show()\n",
    "\n",
    "prop = 'delta_ang_CM_dot_x'\n",
    "fig = go.Figure()\n",
    "exp.plot_prop_movies(prop,'body',fig,case = 'plot_mov',prop_x = 'time')\n",
    "exp.plot_prop_movies('delta_ang_Xax','body',fig,case = 'plot_mov',prop_x = 'time')\n",
    "\n",
    "fig.show()\n",
    "\n",
    "\n",
    "fig.show()\n",
    "fig = go.Figure()\n",
    "exp.plot_prop_movies('freq_phi_rw_min_idx','mean_body',fig,case = 'plot_mov',prop_x = 'time' ,\n",
    "                     add_horizontal_line=None)\n",
    "fig.show()\n",
    "\n"
   ]
  },
  {
   "cell_type": "code",
   "execution_count": null,
   "metadata": {},
   "outputs": [],
   "source": [
    "from scipy.signal import argrelextrema, savgol_filter,find_peaks\n",
    "\n",
    "def dot_interp(data):\n",
    "    # sgn = np.sign(np.cross(vector,data))[:,-1]\n",
    "\n",
    "    \n",
    "    not_nan = np.logical_not(np.isnan(data))\n",
    "    indices = np.arange(len(data))\n",
    "    return np.interp(indices, indices[not_nan], data[not_nan])[::,np.newaxis]\n",
    "\n",
    "\n",
    "exp = experiments['manipulated_2023_08_09_60ms']\n",
    "mov = exp.get_mov('mov101')\n",
    "time = mov.get_prop(f'time','vectors')\n",
    "cm = mov.get_prop(f'CM_real_x_body','body',three_col=3)\n",
    "\n",
    "deriv = 1\n",
    "\n",
    "fig,ax = plt.subplots(4,1,sharex=True)\n",
    "\n",
    "for wing in ['lw','rw']:\n",
    "    tip_rw = mov.get_prop(f'tip_x_{wing}','vectors',three_col=3) \n",
    "    tip_wing_ax = np.hstack([dot_interp(tip_rw[:,idx]) for idx in range(tip_rw.shape[1])])\n",
    "\n",
    "    deriv = 1\n",
    "    smoothed_tip_dot = savgol_filter(tip_wing_ax.T/mov.dt**deriv,71,2,deriv = deriv).T\n",
    "\n",
    "\n",
    "\n",
    "    chord_rw = mov.get_prop(f'chord_x_{wing}','vectors',three_col=3)\n",
    "    span_rw = mov.get_prop(f'span_x_{wing}','vectors',three_col=3)\n",
    "    z_wing = np.cross(span_rw,chord_rw)\n",
    "    z_wing = z_wing/np.linalg.norm(z_wing,axis = 1)[::,np.newaxis]\n",
    "\n",
    "    deriv = 0\n",
    "    # chord_rw = savgol_filter(chord_rw.T/mov.dt**deriv,3,2,deriv = deriv).T\n",
    "    # span_rw = savgol_filter(span_rw.T/mov.dt**deriv,3,2,deriv = deriv).T\n",
    "    # z_wing = savgol_filter(z_wing.T/mov.dt**deriv,3,2,deriv = deriv).T\n",
    "\n",
    "    projected = np.vstack([np.sum(vector*smoothed_tip_dot,axis = 1) for vector in [span_rw,chord_rw,z_wing]]).T\n",
    "\n",
    "    # angles = np.arctan(projected[:,2]/projected[:,1])\n",
    "    # shifted_angles = np.where(angles < 0, angles +np.pi, angles)\n",
    "\n",
    "    \n",
    "    angles = np.arctan2(projected[:,2],projected[:,1])\n",
    "    # shifted_angles = np.where(angles < 0, angles +np.pi, angles)\n",
    "    shifted_angles = np.abs(angles)\n",
    "    # shifted_angles_body = np.unwrap(angles_body,discont = np.pi,period = 6*np.pi)\n",
    "    psi = mov.get_prop(f'psi_{wing}','wing')\n",
    "    phi = mov.get_prop(f'phi_{wing}','wing')\n",
    "    theta = mov.get_prop(f'theta_{wing}','wing')\n",
    "\n",
    "    # shifted_angles_body = angles_body\n",
    "    if wing == 'lw':\n",
    "\n",
    "        # ax[0].plot(time,-np.arctan(smoothed[2],smoothed[1]),'-*',color = 'blue')\n",
    "\n",
    "        ax[0].plot(time,shifted_angles*180/np.pi,'-*',color = 'blue')\n",
    "        ax[1].plot(time,psi,'-*',color = 'blue')\n",
    "        ax[2].plot(time,phi,'-*',color = 'blue')\n",
    "        ax[3].plot(time,theta,'-*',color = 'blue')\n",
    "\n",
    "    else:\n",
    "        ax[0].plot(time,shifted_angles*180/np.pi,'-*',color = 'red')\n",
    "\n",
    "        ax[1].plot(time,psi,'-*',color = 'red')\n",
    "\n",
    "        ax[2].plot(time,phi,'-*',color = 'red')\n",
    "\n",
    "        ax[3].plot(time,theta,'-*',color = 'red')\n",
    "\n",
    "ax[0].grid()\n",
    "ax[1].grid()\n",
    "ax[2].grid()\n",
    "ax[3].grid()\n",
    "# # plt.figure()\n",
    "#     plt.plot(time,smoothed_cm.T[:,0]/10)\n",
    "\n",
    "\n",
    "ax = plt.figure().add_subplot(111,projection='3d')\n",
    "ax.set_aspect('equal')\n",
    "color = ['r','b','k','g']\n",
    "label_vec = ['s','c','z','u']\n",
    "boxsize = 0.05\n",
    "tm = [0,10,20]\n",
    "for vector,clr,lbl in zip([span_rw,chord_rw,z_wing,smoothed_tip_dot],color,label_vec):\n",
    "    for t in tm:\n",
    "\n",
    "        vec = vector[t]/np.linalg.norm(vector[t])\n",
    "        u,v,w = vec/100\n",
    "\n",
    "        x,y,z = cm[t]*10\n",
    "\n",
    "        ax.plot([x,x+u], [y,y+v], [z,z+w],color = clr,label = lbl)\n",
    "    ax.set_zlim(-boxsize, boxsize)\n",
    "\n",
    "    ax.set_ylim(-boxsize, boxsize)\n",
    "    ax.set_xlim(-boxsize, boxsize)\n",
    "ax.legend()"
   ]
  },
  {
   "cell_type": "code",
   "execution_count": null,
   "metadata": {},
   "outputs": [
    {
     "ename": "IndexError",
     "evalue": "index 0 is out of bounds for axis 0 with size 0",
     "output_type": "error",
     "traceback": [
      "\u001b[1;31m---------------------------------------------------------------------------\u001b[0m",
      "\u001b[1;31mIndexError\u001b[0m                                Traceback (most recent call last)",
      "Cell \u001b[1;32mIn[79], line 26\u001b[0m\n\u001b[0;32m     23\u001b[0m smoothed \u001b[38;5;241m=\u001b[39m savgol_filter(delta_ang_CM_dot_x\u001b[38;5;241m.\u001b[39mT\u001b[38;5;241m/\u001b[39mmov\u001b[38;5;241m.\u001b[39mdt\u001b[38;5;241m*\u001b[39m\u001b[38;5;241m*\u001b[39m\u001b[38;5;241m1\u001b[39m,\u001b[38;5;241m500\u001b[39m,\u001b[38;5;241m3\u001b[39m,deriv \u001b[38;5;241m=\u001b[39m \u001b[38;5;241m1\u001b[39m)\n\u001b[0;32m     25\u001b[0m max_peak \u001b[38;5;241m=\u001b[39m find_peaks(np\u001b[38;5;241m.\u001b[39mabs(smoothed),prominence \u001b[38;5;241m=\u001b[39m \u001b[38;5;241m3000\u001b[39m)[\u001b[38;5;241m0\u001b[39m]\n\u001b[1;32m---> 26\u001b[0m max_peak[\u001b[38;5;241m0\u001b[39m]  \u001b[38;5;241m=\u001b[39m \u001b[43mmax_peak\u001b[49m\u001b[43m[\u001b[49m\u001b[38;5;241;43m0\u001b[39;49m\u001b[43m]\u001b[49m \u001b[38;5;241m+\u001b[39m\u001b[38;5;241m60\u001b[39m \n\u001b[0;32m     28\u001b[0m \u001b[38;5;28;01mif\u001b[39;00m \u001b[38;5;28mlen\u001b[39m(max_peak) \u001b[38;5;241m>\u001b[39m \u001b[38;5;241m1\u001b[39m :\n\u001b[0;32m     29\u001b[0m     ax[\u001b[38;5;241m1\u001b[39m]\u001b[38;5;241m.\u001b[39mplot(time,delta_ang_CM_dot_x)\n",
      "\u001b[1;31mIndexError\u001b[0m: index 0 is out of bounds for axis 0 with size 0"
     ]
    }
   ],
   "source": [
    "from scipy.signal import argrelextrema, savgol_filter,find_peaks\n",
    "exp = experiments['manipulated_2023_08_09_60ms']#['manipulated_2022_02_03_dark']#['manipulated_2023_08_09_60ms']\n",
    "t0 = 12\n",
    "t1 = 70\n",
    "fig,ax = plt.subplots(2,1,sharex = True)\n",
    "fig2,ax2 = plt.subplots(1,8)\n",
    "fig1,ax1 = plt.subplots(1,1)\n",
    "\n",
    "ini_time = []\n",
    "slip_time = []\n",
    "delta_t = 300\n",
    "# mov29, mov21\n",
    "for mov_name in dict_v['lt_zero']:\n",
    "    mov = exp.get_mov(mov_name)\n",
    "    delta_ang_CM_dot_x = mov.get_prop('delta_ang_CM_dot_x','body')[:,0]\n",
    "    pitch = mov.get_prop('pitch_body','body')[:,0]\n",
    "\n",
    "    delta_ang_CM_dot_x[np.isnan(delta_ang_CM_dot_x)] = 0\n",
    "    time = mov.get_prop('time','body')[:,0]\n",
    "    delta_roll_yaw = mov.get_prop('delta_roll_yaw','body')[:,0]\n",
    "\n",
    "\n",
    "    smoothed = savgol_filter(delta_ang_CM_dot_x.T/mov.dt**1,500,3,deriv = 1)\n",
    "\n",
    "    max_peak = find_peaks(np.abs(smoothed),prominence = 3000)[0]\n",
    "\n",
    "    if len(max_peak) > 1 :\n",
    "        ax[1].plot(time,delta_ang_CM_dot_x)\n",
    "        ax[0].plot(time,delta_roll_yaw)\n",
    "\n",
    "        ax[1].plot(time[max_peak[0] - delta_t:max_peak[0]+delta_t ],delta_ang_CM_dot_x[max_peak[0] - delta_t:max_peak[0]+delta_t ],color = 'orange')\n",
    "        ax[1].plot(time[mov.ref_frame - 100:mov.ref_frame+300 ],delta_ang_CM_dot_x[mov.ref_frame - 100:mov.ref_frame+300 ],color = 'orange')\n",
    "        ax[0].plot(time[max_peak[0] - delta_t:max_peak[0]+delta_t ],delta_roll_yaw[max_peak[0] - delta_t:max_peak[0]+delta_t ],color = 'red')\n",
    "        ax[0].plot(time[mov.ref_frame - 100:mov.ref_frame+300 ],delta_roll_yaw[mov.ref_frame - 100:mov.ref_frame+300 ],color = 'red')\n",
    "\n",
    "\n",
    "    if len(max_peak) > 1 :\n",
    "        \n",
    "        idx = mov.mean_time(time[[max_peak[0] - delta_t,max_peak[0] + delta_t]],'mean_body', time = 'time')\n",
    "\n",
    "        idx_ini = mov.mean_time(time[[mov.ref_frame - 100,mov.ref_frame + 300]],'mean_body', time = 'time')\n",
    "\n",
    "        \n",
    "\n",
    "\n",
    "        min_val_lw_min = mov.get_prop('phi_lw_min_val','mean_body')[:,0]\n",
    "        min_val_lw_max = mov.get_prop('phi_lw_max_val','mean_body')[:,0]\n",
    "        min_val_rw_min = mov.get_prop('phi_rw_min_val','mean_body')[:,0]\n",
    "        min_val_rw_max = mov.get_prop('phi_rw_max_val','mean_body')[:,0]\n",
    "        pitch_dot = mov.get_prop('pitch_body_dot_dot','mean_body')[:,0]\n",
    "        freq_r = mov.get_prop('freq_phi_rw_min_idx','mean_body')[:,0]\n",
    "        freq_l = mov.get_prop('freq_phi_lw_min_idx','mean_body')[:,0]\n",
    "\n",
    "        delta_cm_dot = mov.get_prop('delta_ang_CM_dot_x','mean_body')[:,0]\n",
    "        \n",
    "\n",
    "        time_mean = mov.get_prop('time','mean_body')[:,0]\n",
    "\n",
    "        ini_time.append([np.nanmean(min_val_lw_max[idx_ini[0]:idx_ini[1]]),np.nanmean(min_val_lw_min[idx_ini[0]:idx_ini[1]]),\n",
    "                         np.nanmean(min_val_rw_max[idx_ini[0]:idx_ini[1]]),np.nanmean(min_val_rw_min[idx_ini[0]:idx_ini[1]]),\n",
    "                         np.nanmean(freq_l[idx_ini[0]:idx_ini[1]]),np.nanmean(freq_r[idx_ini[0]:idx_ini[1]]),\n",
    "                         np.nanmean(pitch_dot[idx_ini[0]:idx_ini[1]]),np.nanmean(delta_cm_dot[idx_ini[0]:idx_ini[1]])]) \n",
    "        \n",
    "        \n",
    "        slip_time.append([np.nanmean(min_val_lw_max[idx[0]:idx[1]]),np.nanmean(min_val_lw_min[idx[0]:idx[1]]),\n",
    "                          np.nanmean(min_val_rw_max[idx[0]:idx[1]]),np.nanmean(min_val_rw_min[idx[0]:idx[1]]),\n",
    "                          np.nanmean(freq_l[idx[0]:idx[1]]),np.nanmean(freq_r[idx[0]:idx[1]]),\n",
    "                          np.nanmean(pitch_dot[idx[0]:idx[1]]),np.nanmean(delta_cm_dot[idx[0]:idx[1]])]) \n",
    "        \n",
    "ini_time = np.array(ini_time)\n",
    "slip_time = np.array(slip_time)\n",
    "idx4plot = range(slip_time.shape[0])#np.where(np.abs(slip_time[:, 7]) > 100)[0]\n",
    "bins = 10\n",
    "\n",
    "\n",
    "ax2[0].hist((ini_time[idx4plot,0] + ini_time[idx4plot,2])/2,alpha = 0.5,bins = bins,stacked = True)\n",
    "ax2[0].hist((slip_time[idx4plot,0] + slip_time[idx4plot,2])/2,alpha = 0.5,bins = bins,stacked = True)\n",
    "plt.legend(['ini','slip'])\n",
    "ax2[0].set_title('mean_max')\n",
    "\n",
    "\n",
    "ax2[1].hist((ini_time[idx4plot,1] + ini_time[idx4plot,3])/2,alpha = 0.5,bins = bins,stacked = True)\n",
    "ax2[1].hist((slip_time[idx4plot,1] + slip_time[idx4plot,3])/2,alpha = 0.5,bins = bins,stacked = True)\n",
    "plt.legend(['ini','slip'])\n",
    "ax2[1].set_title('mean_min')\n",
    "\n",
    "\n",
    "ax2[2].hist(((ini_time[idx4plot,0] - ini_time[idx4plot,1]) + (ini_time[idx4plot,2] - ini_time[idx4plot,3]))/2,\n",
    "            alpha = 0.5,bins = bins,stacked = True)\n",
    "ax2[2].hist(((slip_time[idx4plot,0] - slip_time[idx4plot,1]) + (slip_time[idx4plot,2] - slip_time[idx4plot,3]))/2,\n",
    "            alpha = 0.5,bins = bins,stacked = True)\n",
    "plt.legend(['ini','slip'])\n",
    "ax2[2].set_title('mean_amp')\n",
    "\n",
    "\n",
    "ax2[3].hist(ini_time[idx4plot,6],alpha = 0.5,bins = bins,stacked = True)\n",
    "ax2[3].hist(slip_time[idx4plot,6],alpha = 0.5,bins = bins,stacked = True)\n",
    "plt.legend(['ini','slip'])\n",
    "ax2[3].set_title('pitch_dot_dot')\n",
    "\n",
    "\n",
    "\n",
    "ax2[4].hist(np.abs(ini_time[idx4plot,5] - ini_time[idx4plot,4]),alpha = 0.5,bins = bins,stacked = True,range = (0,5))\n",
    "ax2[4].hist(np.abs(slip_time[idx4plot,5] - slip_time[idx4plot,4]),alpha = 0.5,bins = bins,stacked = True,range = (0,5))\n",
    "plt.legend(['ini','slip'])\n",
    "ax2[4].set_title('freq_r - freq_l')\n",
    "\n",
    "\n",
    "\n",
    "ax2[5].hist(ini_time[idx4plot,0] - ini_time[idx4plot,2] ,alpha = 0.5,bins = bins,stacked = True)\n",
    "ax2[5].hist(slip_time[idx4plot,0] - slip_time[idx4plot,2],alpha = 0.5,bins = bins,stacked = True)\n",
    "plt.legend(['ini','slip'])\n",
    "ax2[5].set_title('max_lmr')\n",
    "\n",
    "\n",
    "\n",
    "ax2[6].hist(ini_time[idx4plot,1] - ini_time[idx4plot,3] ,alpha = 0.5,bins = bins,stacked = True)\n",
    "ax2[6].hist(slip_time[idx4plot,1] - slip_time[idx4plot,3],alpha = 0.5,bins = bins,stacked = True)\n",
    "plt.legend(['ini','slip'])\n",
    "ax2[6].set_title('min_lmr')\n",
    "\n",
    "\n",
    "\n",
    "ax2[7].hist(ini_time[idx4plot,7]  ,alpha = 0.5,bins = bins,stacked = True)\n",
    "ax2[7].hist(slip_time[idx4plot,7] ,alpha = 0.5,bins = bins,stacked = True)\n",
    "plt.legend(['ini','slip'])\n",
    "ax2[7].set_title('cm_y_dot')\n",
    "# ax1.plot(ini_time[:,0],ini_time[:,1],'*')\n",
    "# ax1.plot(slip_time[:,0],slip_time[:,1],'*')\n",
    "\n",
    "plt.legend(['ini','slip'])\n",
    "\n",
    "\n",
    "    # plt.plot(time[idx],grad[idx],'*')\n"
   ]
  },
  {
   "cell_type": "code",
   "execution_count": null,
   "metadata": {},
   "outputs": [
    {
     "data": {
      "text/plain": [
       "array([], dtype=int64)"
      ]
     },
     "execution_count": 349,
     "metadata": {},
     "output_type": "execute_result"
    }
   ],
   "source": [
    "idx4plot = np.where(np.logical_and(slip_time[:, 7] > 10, slip_time[:, 7] < -10))[0]\n",
    "idx4plot"
   ]
  },
  {
   "cell_type": "code",
   "execution_count": null,
   "metadata": {},
   "outputs": [],
   "source": [
    "\n",
    "\n",
    "fig1,ax1 = plt.subplots(1,1)\n",
    "\n",
    "ax1.plot(ini_time[idx4plot,7],(ini_time[idx4plot,0] - ini_time[idx4plot,1]) - (ini_time[idx4plot,2] - ini_time[idx4plot,3]) ,'*')\n",
    "ax1.plot(slip_time[idx4plot,7],(slip_time[idx4plot,0] - slip_time[idx4plot,1]) - (slip_time[idx4plot,2] - slip_time[idx4plot,3]) ,'*')\n",
    "\n",
    "plt.show()\n",
    "\n",
    "\n",
    "fig3,ax3 = plt.subplots(1,1)\n",
    "\n",
    "ax3.plot(ini_time[idx4plot,7],(ini_time[idx4plot,0] - ini_time[idx4plot,2] )  ,'*')\n",
    "ax3.plot(slip_time[idx4plot,7],slip_time[idx4plot,1] - slip_time[idx4plot,3]  ,'*')\n",
    "\n",
    "plt.show()"
   ]
  },
  {
   "cell_type": "code",
   "execution_count": null,
   "metadata": {},
   "outputs": [
    {
     "ename": "KeyError",
     "evalue": "'slip_angle_betaY'",
     "output_type": "error",
     "traceback": [
      "\u001b[1;31m---------------------------------------------------------------------------\u001b[0m",
      "\u001b[1;31mKeyError\u001b[0m                                  Traceback (most recent call last)",
      "Cell \u001b[1;32mIn[228], line 4\u001b[0m\n\u001b[0;32m      1\u001b[0m fig \u001b[38;5;241m=\u001b[39m go\u001b[38;5;241m.\u001b[39mFigure()\n\u001b[0;32m      3\u001b[0m \u001b[38;5;66;03m# exp.plot_prop_movies('freq_max_rw','mean_wing',fig,case = 'plot_mov',prop_x = 'time' ,add_horizontal_line=None)\u001b[39;00m\n\u001b[1;32m----> 4\u001b[0m \u001b[43mexp\u001b[49m\u001b[38;5;241;43m.\u001b[39;49m\u001b[43mplot_prop_movies\u001b[49m\u001b[43m(\u001b[49m\u001b[38;5;124;43m'\u001b[39;49m\u001b[38;5;124;43mslip_angle_betaY\u001b[39;49m\u001b[38;5;124;43m'\u001b[39;49m\u001b[43m,\u001b[49m\u001b[38;5;124;43m'\u001b[39;49m\u001b[38;5;124;43mbody\u001b[39;49m\u001b[38;5;124;43m'\u001b[39;49m\u001b[43m,\u001b[49m\u001b[43mfig\u001b[49m\u001b[43m,\u001b[49m\u001b[43mcase\u001b[49m\u001b[43m \u001b[49m\u001b[38;5;241;43m=\u001b[39;49m\u001b[43m \u001b[49m\u001b[38;5;124;43m'\u001b[39;49m\u001b[38;5;124;43mplot_mov\u001b[39;49m\u001b[38;5;124;43m'\u001b[39;49m\u001b[43m,\u001b[49m\u001b[43mprop_x\u001b[49m\u001b[43m \u001b[49m\u001b[38;5;241;43m=\u001b[39;49m\u001b[43m \u001b[49m\u001b[38;5;124;43m'\u001b[39;49m\u001b[38;5;124;43mtime\u001b[39;49m\u001b[38;5;124;43m'\u001b[39;49m\u001b[43m \u001b[49m\u001b[43m,\u001b[49m\u001b[43madd_horizontal_line\u001b[49m\u001b[38;5;241;43m=\u001b[39;49m\u001b[38;5;28;43;01mNone\u001b[39;49;00m\u001b[43m)\u001b[49m\n\u001b[0;32m      6\u001b[0m fig\u001b[38;5;241m.\u001b[39mshow()\n",
      "File \u001b[1;32mc:\\Users\\Roni\\Documents\\experiment-analysis\\data_analysis\\Experiment.py:81\u001b[0m, in \u001b[0;36mExperiment.plot_prop_movies\u001b[1;34m(self, prop, wing_body, fig, mov, case, prop_x, add_horizontal_line, color, legend, **kwargs)\u001b[0m\n\u001b[0;32m     79\u001b[0m color \u001b[38;5;241m=\u001b[39m [\u001b[38;5;28mself\u001b[39m\u001b[38;5;241m.\u001b[39mcolor_map[idx\u001b[38;5;241m%\u001b[39m\u001b[38;5;28mlen\u001b[39m(\u001b[38;5;28mself\u001b[39m\u001b[38;5;241m.\u001b[39mcolor_map)] \u001b[38;5;28;01mfor\u001b[39;00m idx,mov_name \u001b[38;5;129;01min\u001b[39;00m \u001b[38;5;28menumerate\u001b[39m(mov_names)] \u001b[38;5;28;01mif\u001b[39;00m color \u001b[38;5;241m==\u001b[39m \u001b[38;5;28;01mFalse\u001b[39;00m \u001b[38;5;28;01melse\u001b[39;00m color \n\u001b[0;32m     80\u001b[0m \u001b[38;5;28;01mif\u001b[39;00m \u001b[38;5;124m'\u001b[39m\u001b[38;5;124mplot_exp\u001b[39m\u001b[38;5;124m'\u001b[39m \u001b[38;5;241m==\u001b[39m case: [\u001b[38;5;28mself\u001b[39m\u001b[38;5;241m.\u001b[39mget_mov(mov_name)\u001b[38;5;241m.\u001b[39mplot_prop(prop,wing_body,color,legend,fig,showlegend \u001b[38;5;241m=\u001b[39m idx \u001b[38;5;241m==\u001b[39m \u001b[38;5;241m0\u001b[39m,prop_x \u001b[38;5;241m=\u001b[39m prop_x,\u001b[38;5;241m*\u001b[39m\u001b[38;5;241m*\u001b[39mkwargs) \u001b[38;5;28;01mfor\u001b[39;00m idx,mov_name \u001b[38;5;129;01min\u001b[39;00m \u001b[38;5;28menumerate\u001b[39m(mov_names)]\n\u001b[1;32m---> 81\u001b[0m \u001b[38;5;28;01mif\u001b[39;00m \u001b[38;5;124m'\u001b[39m\u001b[38;5;124mplot_mov\u001b[39m\u001b[38;5;124m'\u001b[39m \u001b[38;5;241m==\u001b[39m case: [\u001b[38;5;28mself\u001b[39m\u001b[38;5;241m.\u001b[39mget_mov(mov_name)\u001b[38;5;241m.\u001b[39mplot_prop(prop,wing_body,color[idx],legend[idx],fig,prop_x \u001b[38;5;241m=\u001b[39m prop_x,\u001b[38;5;241m*\u001b[39m\u001b[38;5;241m*\u001b[39mkwargs) \u001b[38;5;28;01mfor\u001b[39;00m idx,mov_name \u001b[38;5;129;01min\u001b[39;00m \u001b[38;5;28menumerate\u001b[39m(mov_names)]\n\u001b[0;32m     83\u001b[0m \u001b[38;5;28;01mif\u001b[39;00m add_horizontal_line \u001b[38;5;241m!=\u001b[39m \u001b[38;5;28;01mNone\u001b[39;00m: fig\u001b[38;5;241m.\u001b[39madd_hline(y\u001b[38;5;241m=\u001b[39madd_horizontal_line, line_width\u001b[38;5;241m=\u001b[39m\u001b[38;5;241m3\u001b[39m, line_color\u001b[38;5;241m=\u001b[39m\u001b[38;5;124m\"\u001b[39m\u001b[38;5;124mlime\u001b[39m\u001b[38;5;124m\"\u001b[39m)\n\u001b[0;32m     84\u001b[0m fig\u001b[38;5;241m.\u001b[39madd_vline(x\u001b[38;5;241m=\u001b[39m\u001b[38;5;241m0\u001b[39m, line_width\u001b[38;5;241m=\u001b[39m\u001b[38;5;241m3\u001b[39m, line_color\u001b[38;5;241m=\u001b[39m\u001b[38;5;124m\"\u001b[39m\u001b[38;5;124mlime\u001b[39m\u001b[38;5;124m\"\u001b[39m)\n",
      "File \u001b[1;32mc:\\Users\\Roni\\Documents\\experiment-analysis\\data_analysis\\Experiment.py:81\u001b[0m, in \u001b[0;36m<listcomp>\u001b[1;34m(.0)\u001b[0m\n\u001b[0;32m     79\u001b[0m color \u001b[38;5;241m=\u001b[39m [\u001b[38;5;28mself\u001b[39m\u001b[38;5;241m.\u001b[39mcolor_map[idx\u001b[38;5;241m%\u001b[39m\u001b[38;5;28mlen\u001b[39m(\u001b[38;5;28mself\u001b[39m\u001b[38;5;241m.\u001b[39mcolor_map)] \u001b[38;5;28;01mfor\u001b[39;00m idx,mov_name \u001b[38;5;129;01min\u001b[39;00m \u001b[38;5;28menumerate\u001b[39m(mov_names)] \u001b[38;5;28;01mif\u001b[39;00m color \u001b[38;5;241m==\u001b[39m \u001b[38;5;28;01mFalse\u001b[39;00m \u001b[38;5;28;01melse\u001b[39;00m color \n\u001b[0;32m     80\u001b[0m \u001b[38;5;28;01mif\u001b[39;00m \u001b[38;5;124m'\u001b[39m\u001b[38;5;124mplot_exp\u001b[39m\u001b[38;5;124m'\u001b[39m \u001b[38;5;241m==\u001b[39m case: [\u001b[38;5;28mself\u001b[39m\u001b[38;5;241m.\u001b[39mget_mov(mov_name)\u001b[38;5;241m.\u001b[39mplot_prop(prop,wing_body,color,legend,fig,showlegend \u001b[38;5;241m=\u001b[39m idx \u001b[38;5;241m==\u001b[39m \u001b[38;5;241m0\u001b[39m,prop_x \u001b[38;5;241m=\u001b[39m prop_x,\u001b[38;5;241m*\u001b[39m\u001b[38;5;241m*\u001b[39mkwargs) \u001b[38;5;28;01mfor\u001b[39;00m idx,mov_name \u001b[38;5;129;01min\u001b[39;00m \u001b[38;5;28menumerate\u001b[39m(mov_names)]\n\u001b[1;32m---> 81\u001b[0m \u001b[38;5;28;01mif\u001b[39;00m \u001b[38;5;124m'\u001b[39m\u001b[38;5;124mplot_mov\u001b[39m\u001b[38;5;124m'\u001b[39m \u001b[38;5;241m==\u001b[39m case: [\u001b[38;5;28mself\u001b[39m\u001b[38;5;241m.\u001b[39mget_mov(mov_name)\u001b[38;5;241m.\u001b[39mplot_prop(prop,wing_body,color[idx],legend[idx],fig,prop_x \u001b[38;5;241m=\u001b[39m prop_x,\u001b[38;5;241m*\u001b[39m\u001b[38;5;241m*\u001b[39mkwargs) \u001b[38;5;28;01mfor\u001b[39;00m idx,mov_name \u001b[38;5;129;01min\u001b[39;00m \u001b[38;5;28menumerate\u001b[39m(mov_names)]\n\u001b[0;32m     83\u001b[0m \u001b[38;5;28;01mif\u001b[39;00m add_horizontal_line \u001b[38;5;241m!=\u001b[39m \u001b[38;5;28;01mNone\u001b[39;00m: fig\u001b[38;5;241m.\u001b[39madd_hline(y\u001b[38;5;241m=\u001b[39madd_horizontal_line, line_width\u001b[38;5;241m=\u001b[39m\u001b[38;5;241m3\u001b[39m, line_color\u001b[38;5;241m=\u001b[39m\u001b[38;5;124m\"\u001b[39m\u001b[38;5;124mlime\u001b[39m\u001b[38;5;124m\"\u001b[39m)\n\u001b[0;32m     84\u001b[0m fig\u001b[38;5;241m.\u001b[39madd_vline(x\u001b[38;5;241m=\u001b[39m\u001b[38;5;241m0\u001b[39m, line_width\u001b[38;5;241m=\u001b[39m\u001b[38;5;241m3\u001b[39m, line_color\u001b[38;5;241m=\u001b[39m\u001b[38;5;124m\"\u001b[39m\u001b[38;5;124mlime\u001b[39m\u001b[38;5;124m\"\u001b[39m)\n",
      "File \u001b[1;32mc:\\Users\\Roni\\Documents\\experiment-analysis\\data_analysis\\Movie.py:331\u001b[0m, in \u001b[0;36mMovie.plot_prop\u001b[1;34m(self, prop, wing_body, color, name, fig, prop_x, t0, t1, **kwargs)\u001b[0m\n\u001b[0;32m    328\u001b[0m t0_idx \u001b[38;5;241m=\u001b[39m  \u001b[38;5;28mself\u001b[39m\u001b[38;5;241m.\u001b[39mget_idx_of_time(t0,wing_body) \u001b[38;5;28;01mif\u001b[39;00m ((t0 \u001b[38;5;241m!=\u001b[39m \u001b[38;5;28;01mFalse\u001b[39;00m) \u001b[38;5;129;01mand\u001b[39;00m (\u001b[38;5;28mlen\u001b[39m(\u001b[38;5;28mself\u001b[39m\u001b[38;5;241m.\u001b[39mget_idx_of_time(t0,wing_body))\u001b[38;5;241m>\u001b[39m\u001b[38;5;241m0\u001b[39m)) \u001b[38;5;28;01melse\u001b[39;00m [\u001b[38;5;241m0\u001b[39m]\n\u001b[0;32m    329\u001b[0m t1_idx \u001b[38;5;241m=\u001b[39m  \u001b[38;5;28mself\u001b[39m\u001b[38;5;241m.\u001b[39mget_idx_of_time(t1,wing_body) \u001b[38;5;28;01mif\u001b[39;00m ((t1 \u001b[38;5;241m!=\u001b[39m \u001b[38;5;28;01mFalse\u001b[39;00m) \u001b[38;5;129;01mand\u001b[39;00m (\u001b[38;5;28mlen\u001b[39m(\u001b[38;5;28mself\u001b[39m\u001b[38;5;241m.\u001b[39mget_idx_of_time(t1,wing_body))\u001b[38;5;241m>\u001b[39m\u001b[38;5;241m0\u001b[39m)) \u001b[38;5;28;01melse\u001b[39;00m [\u001b[38;5;28mint\u001b[39m(\u001b[38;5;241m-\u001b[39m\u001b[38;5;241m1\u001b[39m)]\n\u001b[1;32m--> 331\u001b[0m data_y \u001b[38;5;241m=\u001b[39m \u001b[38;5;28;43mself\u001b[39;49m\u001b[38;5;241;43m.\u001b[39;49m\u001b[43mget_prop\u001b[49m\u001b[43m(\u001b[49m\u001b[43mprop\u001b[49m\u001b[43m,\u001b[49m\u001b[43mwing_body\u001b[49m\u001b[43m)\u001b[49m\n\u001b[0;32m    332\u001b[0m data_x \u001b[38;5;241m=\u001b[39m \u001b[38;5;28mself\u001b[39m\u001b[38;5;241m.\u001b[39mget_prop(prop_x,wing_body)\n\u001b[0;32m    334\u001b[0m \u001b[38;5;28;01mreturn\u001b[39;00m Plotters\u001b[38;5;241m.\u001b[39mplot_prop_movie(data_x[t0_idx[\u001b[38;5;241m0\u001b[39m]:t1_idx[\u001b[38;5;241m0\u001b[39m],\u001b[38;5;241m0\u001b[39m],data_y[t0_idx[\u001b[38;5;241m0\u001b[39m]:t1_idx[\u001b[38;5;241m0\u001b[39m],\u001b[38;5;241m0\u001b[39m],color,name,fig \u001b[38;5;241m=\u001b[39m fig,\u001b[38;5;241m*\u001b[39m\u001b[38;5;241m*\u001b[39mkwargs)\n",
      "File \u001b[1;32mc:\\Users\\Roni\\Documents\\experiment-analysis\\data_analysis\\Movie.py:290\u001b[0m, in \u001b[0;36mMovie.get_prop\u001b[1;34m(self, prop, wing_body, three_col)\u001b[0m\n\u001b[0;32m    289\u001b[0m \u001b[38;5;28;01mdef\u001b[39;00m \u001b[38;5;21mget_prop\u001b[39m(\u001b[38;5;28mself\u001b[39m,prop,wing_body,three_col \u001b[38;5;241m=\u001b[39m \u001b[38;5;241m1\u001b[39m):\n\u001b[1;32m--> 290\u001b[0m     \u001b[38;5;28;01mreturn\u001b[39;00m \u001b[38;5;28mself\u001b[39m\u001b[38;5;241m.\u001b[39mdata[wing_body][:,\u001b[38;5;28;43mself\u001b[39;49m\u001b[38;5;241;43m.\u001b[39;49m\u001b[43mheader\u001b[49m\u001b[43m[\u001b[49m\u001b[43mwing_body\u001b[49m\u001b[43m]\u001b[49m\u001b[43m[\u001b[49m\u001b[43mprop\u001b[49m\u001b[43m]\u001b[49m:\u001b[38;5;28mself\u001b[39m\u001b[38;5;241m.\u001b[39mheader[wing_body][prop] \u001b[38;5;241m+\u001b[39m three_col]\u001b[38;5;241m.\u001b[39mcopy()\n",
      "\u001b[1;31mKeyError\u001b[0m: 'slip_angle_betaY'"
     ]
    }
   ],
   "source": [
    "\n",
    "fig = go.Figure()\n",
    "\n",
    "# exp.plot_prop_movies('freq_max_rw','mean_wing',fig,case = 'plot_mov',prop_x = 'time' ,add_horizontal_line=None)\n",
    "exp.plot_prop_movies('slip_angle_betaY','body',fig,case = 'plot_mov',prop_x = 'time' ,add_horizontal_line=None)\n",
    "\n",
    "fig.show()"
   ]
  },
  {
   "cell_type": "code",
   "execution_count": null,
   "metadata": {},
   "outputs": [],
   "source": [
    "fig = go.Figure()\n",
    "\n",
    "exp.plot_prop_movies('phi_rw_min_val','mean_body',fig,case = 'plot_mov',prop_x = 'time' ,\n",
    "                     add_horizontal_line=None,t0 = 0,t1 = 60)\n",
    "\n",
    "exp.plot_prop_movies('phi_lw_min_val','mean_body',fig,case = 'plot_mov',prop_x = 'time' ,\n",
    "                     add_horizontal_line=None,t0 = 0,t1 = 60)\n",
    "fig.show()"
   ]
  },
  {
   "cell_type": "code",
   "execution_count": null,
   "metadata": {},
   "outputs": [],
   "source": [
    "exp = experiments['manipulated_2023_08_10_100ms']#['manipulated_2022_02_03_dark']#['manipulated_2023_08_09_60ms']\n",
    "fig = go.Figure()\n",
    "exp.plot_prop_movies('freq_phi_rw_min_idx','mean_body',fig,case = 'plot_mov',prop_x = 'time' ,\n",
    "                     add_horizontal_line=None)\n",
    "fig.show()"
   ]
  },
  {
   "cell_type": "code",
   "execution_count": null,
   "metadata": {},
   "outputs": [
    {
     "data": {
      "text/plain": [
       "[None, None, None, None, None, None]"
      ]
     },
     "execution_count": 45,
     "metadata": {},
     "output_type": "execute_result"
    }
   ],
   "source": [
    "\n",
    "prop = 'q_dot'\n",
    "[exp.mean_by_stroke_movies(prop,mean_wing_body,'body')  for exp in experiments.values()]"
   ]
  },
  {
   "cell_type": "code",
   "execution_count": null,
   "metadata": {},
   "outputs": [
    {
     "data": {
      "text/plain": [
       "[None, None, None, None, None, None]"
      ]
     },
     "execution_count": 40,
     "metadata": {},
     "output_type": "execute_result"
    }
   ],
   "source": [
    "[exp.mean_mean_props_movies('phi_rw_min_val','phi_lw_min_val','mean_body','mean_mean_phi') for exp in experiments.values()] # calculate the mean value of two properties\n"
   ]
  },
  {
   "cell_type": "code",
   "execution_count": null,
   "metadata": {},
   "outputs": [],
   "source": [
    "exp = experiments['manipulated_2023_08_09_60ms']#['manipulated_2022_02_03_dark']#['manipulated_2023_08_09_60ms']\n",
    "phi_r_color = [[256,0,0]]*len(exp.mov_names)\n",
    "phi_l_color = [[0,0,256]]*len(exp.mov_names)\n",
    "\n",
    "fig = go.Figure()\n",
    "\n",
    "exp.plot_prop_movies('phi_rw_min_val','mean_body',fig,case = 'plot_mov',prop_x = 'time' ,\n",
    "                     add_horizontal_line=None)\n",
    "fig.show()\n",
    "\n",
    "\n",
    "\n",
    "\n",
    "\n",
    "fig = go.Figure()\n",
    "exp.plot_prop_movies('CM_dot_dot_x_projected','mean_body',fig,case = 'plot_mov',prop_x = 'time' ,add_horizontal_line=None)\n",
    "fig.show()\n",
    "fig = go.Figure()\n",
    "exp.plot_prop_movies('delta_ang_CM_dot_x','body',fig,case = 'plot_mov',prop_x = 'time' ,add_horizontal_line=None)\n",
    "\n",
    "fig.show()\n",
    "fig = go.Figure()\n",
    "exp.plot_prop_movies('freq_phi_rw_min_idx','mean_body',fig,case = 'plot_mov',prop_x = 'freq_phi_lw_min_idx' ,\n",
    "                     add_horizontal_line=None,color = phi_r_color)\n",
    "fig.show()\n",
    "\n",
    "fig = go.Figure()\n",
    "exp.plot_prop_movies('amp_rw','mean_body',fig,case = 'plot_mov',prop_x = 'phi_rw_min_val' ,\n",
    "                     add_horizontal_line=None,mode = 'markers', color = phi_r_color)\n",
    "exp.plot_prop_movies('amp_lw','mean_body',fig,case = 'plot_mov',prop_x = 'phi_lw_max_val' ,\n",
    "                     add_horizontal_line=None,mode = 'markers',color = phi_l_color)\n",
    "fig.show()"
   ]
  },
  {
   "cell_type": "code",
   "execution_count": null,
   "metadata": {},
   "outputs": [],
   "source": [
    "exp = experiments['manipulated_2022_02_03_dark']#['manipulated_2022_02_03_dark']#['manipulated_2023_08_09_60ms']\n",
    "\n",
    "fig = go.Figure()\n",
    "\n",
    "phi_r_color = [[256,0,0]]*len(exp.mov_names)\n",
    "phi_l_color = [[0,0,256]]*len(exp.mov_names)\n",
    "# exp.plot_prop_movies('amp_real2','mean_wing',fig,case = 'plot_mov',prop_x = 'time' ,add_horizontal_line=None)\n",
    "exp.plot_prop_movies('delta_ang_CM_dot_x','body',fig,case = 'plot_mov',prop_x = 'time' ,add_horizontal_line=None)\n",
    "fig.show()\n",
    "\n",
    "\n",
    "\n",
    "\n",
    "fig = go.Figure()\n",
    "\n",
    "exp.plot_prop_movies('phi_rw_min_val','mean_wing',fig,case = 'plot_mov',prop_x = 'time' ,add_horizontal_line=None,color = phi_r_color)\n",
    "exp.plot_prop_movies('phi_lw_min_val','mean_wing',fig,case = 'plot_mov',prop_x = 'time' ,add_horizontal_line=None,color = phi_l_color)\n",
    "\n",
    "# exp.plot_prop_movies('phi_rw_max_val','mean_wing',fig,case = 'plot_mov',prop_x = 'time' ,add_horizontal_line=None,color = phi_r_color)\n",
    "# exp.plot_prop_movies('phi_lw_max_val','mean_wing',fig,case = 'plot_mov',prop_x = 'time' ,add_horizontal_line=None,color = phi_l_color)\n",
    "fig.show()\n"
   ]
  },
  {
   "cell_type": "code",
   "execution_count": null,
   "metadata": {},
   "outputs": [],
   "source": [
    "exp = experiments['manipulated_2023_08_09_60ms']#['manipulated_2022_02_03_dark']#['manipulated_2023_08_09_60ms']\n",
    "\n",
    "prop = 'delta_ang_Xax'\n",
    "fig = go.Figure()\n",
    "exp.plot_prop_movies(prop,'body',fig,case = 'plot_mov',prop_x = 'time')\n",
    "exp.plot_prop_movies('delta_ang_CM_dot_x','body',fig,case = 'plot_mov',prop_x = 'time')\n",
    "\n",
    "fig.show()\n",
    "\n",
    "\n",
    "\n",
    "phi_r_color = [[256,0,0]]*len(exp.mov_names)\n",
    "phi_l_color = [[0,0,256]]*len(exp.mov_names)\n",
    "\n",
    "fig = go.Figure()\n",
    "exp.plot_prop_movies('phi_rw','wing',fig,case = 'plot_mov',prop_x = 'time',color = phi_r_color )\n",
    "exp.plot_prop_movies('phi_lw','wing',fig,case = 'plot_mov',prop_x = 'time', color = phi_l_color)\n",
    "fig.show()\n"
   ]
  },
  {
   "cell_type": "markdown",
   "metadata": {},
   "source": [
    "Plot 3d trajectory"
   ]
  },
  {
   "cell_type": "code",
   "execution_count": null,
   "metadata": {},
   "outputs": [],
   "source": [
    "mov = ['mov140','mov141','mov143','mov144','mov146','mov147']\n",
    "exp = experiments['manipulated_2023_08_09_60ms']\n",
    "exp.plot_3d_traj_movies('delta_ang_CM_dot_x',mov = mov)\n"
   ]
  },
  {
   "cell_type": "code",
   "execution_count": null,
   "metadata": {},
   "outputs": [
    {
     "ename": "KeyError",
     "evalue": "'delta_roll_yaw'",
     "output_type": "error",
     "traceback": [
      "\u001b[1;31m---------------------------------------------------------------------------\u001b[0m",
      "\u001b[1;31mKeyError\u001b[0m                                  Traceback (most recent call last)",
      "Cell \u001b[1;32mIn[17], line 6\u001b[0m\n\u001b[0;32m      4\u001b[0m \u001b[38;5;28;01mfor\u001b[39;00m mov_nm \u001b[38;5;129;01min\u001b[39;00m exp\u001b[38;5;241m.\u001b[39mmov_names:\n\u001b[0;32m      5\u001b[0m     mov \u001b[38;5;241m=\u001b[39m exp\u001b[38;5;241m.\u001b[39mget_mov(mov_nm)\n\u001b[1;32m----> 6\u001b[0m     prop \u001b[38;5;241m=\u001b[39m \u001b[43mmov\u001b[49m\u001b[38;5;241;43m.\u001b[39;49m\u001b[43mget_prop\u001b[49m\u001b[43m(\u001b[49m\u001b[43mprop_name\u001b[49m\u001b[43m,\u001b[49m\u001b[38;5;124;43m'\u001b[39;49m\u001b[38;5;124;43mbody\u001b[39;49m\u001b[38;5;124;43m'\u001b[39;49m\u001b[43m)\u001b[49m\n\u001b[0;32m      7\u001b[0m     \u001b[38;5;28;01mif\u001b[39;00m np\u001b[38;5;241m.\u001b[39mabs( np\u001b[38;5;241m.\u001b[39mnanmean(prop[\u001b[38;5;241m-\u001b[39m\u001b[38;5;241m300\u001b[39m:])) \u001b[38;5;241m>\u001b[39m\u001b[38;5;241m20\u001b[39m:\n\u001b[0;32m      8\u001b[0m         dict_v[\u001b[38;5;124m'\u001b[39m\u001b[38;5;124mlt_zero\u001b[39m\u001b[38;5;124m'\u001b[39m]\u001b[38;5;241m.\u001b[39mappend(mov_nm )\n",
      "File \u001b[1;32mc:\\Users\\Roni\\Documents\\experiment-analysis\\data_analysis\\Movie.py:330\u001b[0m, in \u001b[0;36mMovie.get_prop\u001b[1;34m(self, prop, wing_body, three_col)\u001b[0m\n\u001b[0;32m    329\u001b[0m \u001b[38;5;28;01mdef\u001b[39;00m \u001b[38;5;21mget_prop\u001b[39m(\u001b[38;5;28mself\u001b[39m,prop,wing_body,three_col \u001b[38;5;241m=\u001b[39m \u001b[38;5;241m1\u001b[39m):\n\u001b[1;32m--> 330\u001b[0m     \u001b[38;5;28;01mreturn\u001b[39;00m \u001b[38;5;28mself\u001b[39m\u001b[38;5;241m.\u001b[39mdata[wing_body][:,\u001b[38;5;28;43mself\u001b[39;49m\u001b[38;5;241;43m.\u001b[39;49m\u001b[43mheader\u001b[49m\u001b[43m[\u001b[49m\u001b[43mwing_body\u001b[49m\u001b[43m]\u001b[49m\u001b[43m[\u001b[49m\u001b[43mprop\u001b[49m\u001b[43m]\u001b[49m:\u001b[38;5;28mself\u001b[39m\u001b[38;5;241m.\u001b[39mheader[wing_body][prop] \u001b[38;5;241m+\u001b[39m three_col]\u001b[38;5;241m.\u001b[39mcopy()\n",
      "\u001b[1;31mKeyError\u001b[0m: 'delta_roll_yaw'"
     ]
    }
   ],
   "source": [
    "\n",
    "\n",
    "exp = experiments['manipulated_2023_08_09_60ms']\n",
    "prop_name = 'delta_roll_yaw' #  np.abs( np.nanmean(prop[-300:])) >20:\n",
    "dict_v = {'lt_zero':[],'gt_zero':[]}\n",
    "for mov_nm in exp.mov_names:\n",
    "    mov = exp.get_mov(mov_nm)\n",
    "    prop = mov.get_prop(prop_name,'body')\n",
    "    if np.abs( np.nanmean(prop[-300:])) >20:\n",
    "        dict_v['lt_zero'].append(mov_nm )\n",
    "    else:\n",
    "        dict_v['gt_zero'].append(mov_nm )\n",
    "\n",
    "fig = go.Figure()\n",
    "\n",
    "exp.plot_prop_movies(prop_name,'body',fig,mov = dict_v['lt_zero'],case = 'plot_exp',prop_x = 'time',color = color_map[3],legend = f'cluster{1}')\n",
    "exp.plot_prop_movies(prop_name,'body',fig,mov = dict_v['gt_zero'],case = 'plot_exp',prop_x = 'time',color = color_map[4],legend = f'cluster{2}')\n",
    "fig.show()\n",
    "\n",
    "\n",
    "prop_name = 'CM_dot_y_projected_all_axes'\n",
    "fig = go.Figure()\n",
    "\n",
    "exp.plot_prop_movies(prop_name,'body',fig,mov = dict_v['lt_zero'],case = 'plot_exp',prop_x = 'time',color = color_map[3],legend = f'cluster{1}')\n",
    "exp.plot_prop_movies(prop_name,'body',fig,mov = dict_v['gt_zero'],case = 'plot_exp',prop_x = 'time',color = color_map[4],legend = f'cluster{2}')\n",
    "fig.show()\n",
    "\n",
    "\n",
    "prop_name = 'CM_dot_y_projected'\n",
    "fig = go.Figure()\n",
    "\n",
    "exp.plot_prop_movies(prop_name,'body',fig,mov = dict_v['lt_zero'],case = 'plot_exp',prop_x = 'time',color = color_map[3],legend = f'cluster{1}')\n",
    "exp.plot_prop_movies(prop_name,'body',fig,mov = dict_v['gt_zero'],case = 'plot_exp',prop_x = 'time',color = color_map[4],legend = f'cluster{2}')\n",
    "fig.show()\n",
    "\n",
    "\n",
    "prop_name = 'roll_body'\n",
    "fig = go.Figure()\n",
    "\n",
    "exp.plot_prop_movies(prop_name,'mean_body',fig,mov = dict_v['lt_zero'],case = 'plot_exp',prop_x = 'delta_amp',color = color_map[3],legend = f'cluster{1}',mode = 'markers')\n",
    "exp.plot_prop_movies(prop_name,'mean_body',fig,mov = dict_v['gt_zero'],case = 'plot_exp',prop_x = 'delta_amp',color = color_map[4],legend = f'cluster{2}',mode = 'markers')\n",
    "fig.show()\n",
    "\n"
   ]
  },
  {
   "cell_type": "code",
   "execution_count": null,
   "metadata": {},
   "outputs": [
    {
     "data": {
      "text/plain": [
       "[None, None, None, None, None, None]"
      ]
     },
     "execution_count": 134,
     "metadata": {},
     "output_type": "execute_result"
    }
   ],
   "source": [
    "\n",
    "prop = 'roll_body'\n",
    "[exp.mean_by_stroke_movies(prop,'mean_body','body')  for exp in experiments.values()]\n"
   ]
  },
  {
   "cell_type": "code",
   "execution_count": null,
   "metadata": {},
   "outputs": [],
   "source": [
    "prop_name = 'CM_dot_y_projected_all_axes'\n",
    "fig = go.Figure()\n",
    "exp = experiments['manipulated_2023_08_09_60ms']\n",
    "\n",
    "exp.plot_prop_movies(prop_name,'body',fig,mov = dict_v['lt_zero'],case = 'plot_mov',prop_x = 'time_m_zero_v',mode = 'markers')\n",
    "# exp.plot_prop_movies(prop_name,'mean_body',fig,mov = dict_v['gt_zero'],case = 'plot_mov',prop_x = 'delta_amp',color = color_map[4],mode = 'markers')\n",
    "fig.show()"
   ]
  },
  {
   "cell_type": "code",
   "execution_count": null,
   "metadata": {},
   "outputs": [],
   "source": [
    "prop_name = 'delta_ang_Xax'\n",
    "fig = go.Figure()\n",
    "\n",
    "exp.plot_prop_movies(prop_name,'mean_body',fig,mov = dict_v['lt_zero'],case = 'plot_exp',prop_x = 'delta_amp',color = color_map[3],legend = f'cluster{1}',mode = 'markers')\n",
    "exp.plot_prop_movies(prop_name,'mean_body',fig,mov = dict_v['gt_zero'],case = 'plot_exp',prop_x = 'delta_amp',color = color_map[4],legend = f'cluster{2}',mode = 'markers')\n",
    "fig.show()"
   ]
  },
  {
   "cell_type": "code",
   "execution_count": null,
   "metadata": {},
   "outputs": [
    {
     "data": {
      "text/plain": [
       "['mov101',\n",
       " 'mov128',\n",
       " 'mov133',\n",
       " 'mov136',\n",
       " 'mov137',\n",
       " 'mov143',\n",
       " 'mov153',\n",
       " 'mov165',\n",
       " 'mov22',\n",
       " 'mov26',\n",
       " 'mov3',\n",
       " 'mov36',\n",
       " 'mov51',\n",
       " 'mov56',\n",
       " 'mov61',\n",
       " 'mov62',\n",
       " 'mov64',\n",
       " 'mov71',\n",
       " 'mov78',\n",
       " 'mov79',\n",
       " 'mov80',\n",
       " 'mov91',\n",
       " 'mov94']"
      ]
     },
     "execution_count": 25,
     "metadata": {},
     "output_type": "execute_result"
    }
   ],
   "source": [
    "dict_v['lt_zero']"
   ]
  },
  {
   "cell_type": "code",
   "execution_count": null,
   "metadata": {},
   "outputs": [
    {
     "data": {
      "text/plain": [
       "<matplotlib.quiver.Quiver at 0x230166d8130>"
      ]
     },
     "execution_count": 250,
     "metadata": {},
     "output_type": "execute_result"
    }
   ],
   "source": [
    "mov = exp.get_mov('mov8')\n",
    "ay = mov.get_prop('CM_dot_dot_y_projected_all_axes','body')\n",
    "ax = mov.get_prop('CM_dot_dot_x_projected_all_axes','body')\n",
    "az = mov.get_prop('CM_real_z_body_dot_dot_smth','body')\n",
    "\n",
    "\n",
    "cm = mov.get_prop('CM_real_x_body','body',three_col=2)\n",
    "\n",
    "force = np.hstack((ax,ay))\n",
    "force = (force.T/np.linalg.norm(force,axis = 1)).T\n",
    "\n",
    "exp = experiments['manipulated_2023_08_09_60ms']\n",
    "mov = ['mov60']\n",
    "exp.plot_3d_traj_movies('CM_dot_x_projected',mov = mov,force = force)\n",
    "\n",
    "\n",
    "# skp = 50\n",
    "# plt.scatter(cm[:,0],cm[:,1])\n",
    "# plt.quiver(cm[::skp,0],cm[::skp,1],force[::skp,0],force[::skp,1])\n",
    "\n"
   ]
  },
  {
   "cell_type": "code",
   "execution_count": null,
   "metadata": {},
   "outputs": [
    {
     "ename": "KeyboardInterrupt",
     "evalue": "",
     "output_type": "error",
     "traceback": [
      "\u001b[1;31m---------------------------------------------------------------------------\u001b[0m",
      "\u001b[1;31mKeyboardInterrupt\u001b[0m                         Traceback (most recent call last)",
      "Cell \u001b[1;32mIn[15], line 19\u001b[0m\n\u001b[0;32m     16\u001b[0m roll \u001b[38;5;241m=\u001b[39m mov\u001b[38;5;241m.\u001b[39mget_prop(\u001b[38;5;124m'\u001b[39m\u001b[38;5;124mroll_body\u001b[39m\u001b[38;5;124m'\u001b[39m,\u001b[38;5;124m'\u001b[39m\u001b[38;5;124mbody\u001b[39m\u001b[38;5;124m'\u001b[39m)[:,\u001b[38;5;241m0\u001b[39m]\n\u001b[0;32m     17\u001b[0m time \u001b[38;5;241m=\u001b[39m mov\u001b[38;5;241m.\u001b[39mget_prop(\u001b[38;5;124m'\u001b[39m\u001b[38;5;124mtime\u001b[39m\u001b[38;5;124m'\u001b[39m,\u001b[38;5;124m'\u001b[39m\u001b[38;5;124mbody\u001b[39m\u001b[38;5;124m'\u001b[39m)[:,\u001b[38;5;241m0\u001b[39m]\n\u001b[1;32m---> 19\u001b[0m rot_mat \u001b[38;5;241m=\u001b[39m [rotation_matrix(yaw\u001b[38;5;241m*\u001b[39mnp\u001b[38;5;241m.\u001b[39mpi\u001b[38;5;241m/\u001b[39m\u001b[38;5;241m180\u001b[39m,\u001b[38;5;241m-\u001b[39mpitch\u001b[38;5;241m*\u001b[39mnp\u001b[38;5;241m.\u001b[39mpi\u001b[38;5;241m/\u001b[39m\u001b[38;5;241m180\u001b[39m,roll\u001b[38;5;241m*\u001b[39mnp\u001b[38;5;241m.\u001b[39mpi\u001b[38;5;241m/\u001b[39m\u001b[38;5;241m180\u001b[39m)\u001b[38;5;241m.\u001b[39mT \u001b[38;5;28;01mfor\u001b[39;00m yaw,pitch,roll \u001b[38;5;129;01min\u001b[39;00m \u001b[38;5;28mzip\u001b[39m(yaw,pitch,roll)]\n\u001b[0;32m     20\u001b[0m vxyz \u001b[38;5;241m=\u001b[39m mov\u001b[38;5;241m.\u001b[39mget_prop(\u001b[38;5;124m'\u001b[39m\u001b[38;5;124mCM_real_x_body_dot_smth\u001b[39m\u001b[38;5;124m'\u001b[39m,\u001b[38;5;124m'\u001b[39m\u001b[38;5;124mbody\u001b[39m\u001b[38;5;124m'\u001b[39m,three_col\u001b[38;5;241m=\u001b[39m\u001b[38;5;241m3\u001b[39m)\n\u001b[0;32m     21\u001b[0m axyz \u001b[38;5;241m=\u001b[39m mov\u001b[38;5;241m.\u001b[39mget_prop(\u001b[38;5;124m'\u001b[39m\u001b[38;5;124mCM_real_x_body_dot_dot_smth\u001b[39m\u001b[38;5;124m'\u001b[39m,\u001b[38;5;124m'\u001b[39m\u001b[38;5;124mbody\u001b[39m\u001b[38;5;124m'\u001b[39m,three_col\u001b[38;5;241m=\u001b[39m\u001b[38;5;241m3\u001b[39m)\n",
      "Cell \u001b[1;32mIn[15], line 19\u001b[0m, in \u001b[0;36m<listcomp>\u001b[1;34m(.0)\u001b[0m\n\u001b[0;32m     16\u001b[0m roll \u001b[38;5;241m=\u001b[39m mov\u001b[38;5;241m.\u001b[39mget_prop(\u001b[38;5;124m'\u001b[39m\u001b[38;5;124mroll_body\u001b[39m\u001b[38;5;124m'\u001b[39m,\u001b[38;5;124m'\u001b[39m\u001b[38;5;124mbody\u001b[39m\u001b[38;5;124m'\u001b[39m)[:,\u001b[38;5;241m0\u001b[39m]\n\u001b[0;32m     17\u001b[0m time \u001b[38;5;241m=\u001b[39m mov\u001b[38;5;241m.\u001b[39mget_prop(\u001b[38;5;124m'\u001b[39m\u001b[38;5;124mtime\u001b[39m\u001b[38;5;124m'\u001b[39m,\u001b[38;5;124m'\u001b[39m\u001b[38;5;124mbody\u001b[39m\u001b[38;5;124m'\u001b[39m)[:,\u001b[38;5;241m0\u001b[39m]\n\u001b[1;32m---> 19\u001b[0m rot_mat \u001b[38;5;241m=\u001b[39m [\u001b[43mrotation_matrix\u001b[49m\u001b[43m(\u001b[49m\u001b[43myaw\u001b[49m\u001b[38;5;241;43m*\u001b[39;49m\u001b[43mnp\u001b[49m\u001b[38;5;241;43m.\u001b[39;49m\u001b[43mpi\u001b[49m\u001b[38;5;241;43m/\u001b[39;49m\u001b[38;5;241;43m180\u001b[39;49m\u001b[43m,\u001b[49m\u001b[38;5;241;43m-\u001b[39;49m\u001b[43mpitch\u001b[49m\u001b[38;5;241;43m*\u001b[39;49m\u001b[43mnp\u001b[49m\u001b[38;5;241;43m.\u001b[39;49m\u001b[43mpi\u001b[49m\u001b[38;5;241;43m/\u001b[39;49m\u001b[38;5;241;43m180\u001b[39;49m\u001b[43m,\u001b[49m\u001b[43mroll\u001b[49m\u001b[38;5;241;43m*\u001b[39;49m\u001b[43mnp\u001b[49m\u001b[38;5;241;43m.\u001b[39;49m\u001b[43mpi\u001b[49m\u001b[38;5;241;43m/\u001b[39;49m\u001b[38;5;241;43m180\u001b[39;49m\u001b[43m)\u001b[49m\u001b[38;5;241m.\u001b[39mT \u001b[38;5;28;01mfor\u001b[39;00m yaw,pitch,roll \u001b[38;5;129;01min\u001b[39;00m \u001b[38;5;28mzip\u001b[39m(yaw,pitch,roll)]\n\u001b[0;32m     20\u001b[0m vxyz \u001b[38;5;241m=\u001b[39m mov\u001b[38;5;241m.\u001b[39mget_prop(\u001b[38;5;124m'\u001b[39m\u001b[38;5;124mCM_real_x_body_dot_smth\u001b[39m\u001b[38;5;124m'\u001b[39m,\u001b[38;5;124m'\u001b[39m\u001b[38;5;124mbody\u001b[39m\u001b[38;5;124m'\u001b[39m,three_col\u001b[38;5;241m=\u001b[39m\u001b[38;5;241m3\u001b[39m)\n\u001b[0;32m     21\u001b[0m axyz \u001b[38;5;241m=\u001b[39m mov\u001b[38;5;241m.\u001b[39mget_prop(\u001b[38;5;124m'\u001b[39m\u001b[38;5;124mCM_real_x_body_dot_dot_smth\u001b[39m\u001b[38;5;124m'\u001b[39m,\u001b[38;5;124m'\u001b[39m\u001b[38;5;124mbody\u001b[39m\u001b[38;5;124m'\u001b[39m,three_col\u001b[38;5;241m=\u001b[39m\u001b[38;5;241m3\u001b[39m)\n",
      "Cell \u001b[1;32mIn[15], line 3\u001b[0m, in \u001b[0;36mrotation_matrix\u001b[1;34m(yaw, pitch, roll)\u001b[0m\n\u001b[0;32m      1\u001b[0m \u001b[38;5;28;01mdef\u001b[39;00m \u001b[38;5;21mrotation_matrix\u001b[39m(yaw,pitch,roll):\n\u001b[0;32m      2\u001b[0m     roll_mat \u001b[38;5;241m=\u001b[39m np\u001b[38;5;241m.\u001b[39mvstack([[\u001b[38;5;241m1\u001b[39m,\u001b[38;5;241m0\u001b[39m,\u001b[38;5;241m0\u001b[39m],[\u001b[38;5;241m0\u001b[39m ,np\u001b[38;5;241m.\u001b[39mcos(roll),\u001b[38;5;241m-\u001b[39mnp\u001b[38;5;241m.\u001b[39msin(roll)],[\u001b[38;5;241m0\u001b[39m, np\u001b[38;5;241m.\u001b[39msin(roll), np\u001b[38;5;241m.\u001b[39mcos(roll)]])\n\u001b[1;32m----> 3\u001b[0m     pitch_mat \u001b[38;5;241m=\u001b[39m \u001b[43mnp\u001b[49m\u001b[38;5;241;43m.\u001b[39;49m\u001b[43mvstack\u001b[49m\u001b[43m(\u001b[49m\u001b[43m[\u001b[49m\u001b[43m[\u001b[49m\u001b[43mnp\u001b[49m\u001b[38;5;241;43m.\u001b[39;49m\u001b[43mcos\u001b[49m\u001b[43m(\u001b[49m\u001b[43mpitch\u001b[49m\u001b[43m)\u001b[49m\u001b[43m,\u001b[49m\u001b[38;5;241;43m0\u001b[39;49m\u001b[43m,\u001b[49m\u001b[43mnp\u001b[49m\u001b[38;5;241;43m.\u001b[39;49m\u001b[43msin\u001b[49m\u001b[43m(\u001b[49m\u001b[43mpitch\u001b[49m\u001b[43m)\u001b[49m\u001b[43m]\u001b[49m\u001b[43m,\u001b[49m\u001b[43m[\u001b[49m\u001b[38;5;241;43m0\u001b[39;49m\u001b[43m,\u001b[49m\u001b[43m \u001b[49m\u001b[38;5;241;43m1\u001b[39;49m\u001b[43m,\u001b[49m\u001b[38;5;241;43m0\u001b[39;49m\u001b[43m]\u001b[49m\u001b[43m,\u001b[49m\u001b[43m[\u001b[49m\u001b[38;5;241;43m-\u001b[39;49m\u001b[43mnp\u001b[49m\u001b[38;5;241;43m.\u001b[39;49m\u001b[43msin\u001b[49m\u001b[43m(\u001b[49m\u001b[43mpitch\u001b[49m\u001b[43m)\u001b[49m\u001b[43m,\u001b[49m\u001b[43m \u001b[49m\u001b[38;5;241;43m0\u001b[39;49m\u001b[43m,\u001b[49m\u001b[43m \u001b[49m\u001b[43mnp\u001b[49m\u001b[38;5;241;43m.\u001b[39;49m\u001b[43mcos\u001b[49m\u001b[43m(\u001b[49m\u001b[43mpitch\u001b[49m\u001b[43m)\u001b[49m\u001b[43m]\u001b[49m\u001b[43m]\u001b[49m\u001b[43m)\u001b[49m\n\u001b[0;32m      4\u001b[0m     yaw_mat \u001b[38;5;241m=\u001b[39m np\u001b[38;5;241m.\u001b[39mvstack([[np\u001b[38;5;241m.\u001b[39mcos(yaw),\u001b[38;5;241m-\u001b[39mnp\u001b[38;5;241m.\u001b[39msin(yaw),\u001b[38;5;241m0\u001b[39m],[np\u001b[38;5;241m.\u001b[39msin(yaw),np\u001b[38;5;241m.\u001b[39mcos(yaw),\u001b[38;5;241m0\u001b[39m],[\u001b[38;5;241m0\u001b[39m, \u001b[38;5;241m0\u001b[39m, \u001b[38;5;241m1\u001b[39m]])\n\u001b[0;32m      5\u001b[0m     \u001b[38;5;28;01mreturn\u001b[39;00m yaw_mat \u001b[38;5;241m@\u001b[39m pitch_mat \u001b[38;5;241m@\u001b[39m roll_mat\n",
      "File \u001b[1;32m<__array_function__ internals>:180\u001b[0m, in \u001b[0;36mvstack\u001b[1;34m(*args, **kwargs)\u001b[0m\n",
      "File \u001b[1;32mc:\\Users\\Roni\\anaconda3\\lib\\site-packages\\numpy\\core\\shape_base.py:282\u001b[0m, in \u001b[0;36mvstack\u001b[1;34m(tup)\u001b[0m\n\u001b[0;32m    280\u001b[0m \u001b[38;5;28;01mif\u001b[39;00m \u001b[38;5;129;01mnot\u001b[39;00m \u001b[38;5;28misinstance\u001b[39m(arrs, \u001b[38;5;28mlist\u001b[39m):\n\u001b[0;32m    281\u001b[0m     arrs \u001b[38;5;241m=\u001b[39m [arrs]\n\u001b[1;32m--> 282\u001b[0m \u001b[38;5;28;01mreturn\u001b[39;00m \u001b[43m_nx\u001b[49m\u001b[38;5;241;43m.\u001b[39;49m\u001b[43mconcatenate\u001b[49m\u001b[43m(\u001b[49m\u001b[43marrs\u001b[49m\u001b[43m,\u001b[49m\u001b[43m \u001b[49m\u001b[38;5;241;43m0\u001b[39;49m\u001b[43m)\u001b[49m\n",
      "File \u001b[1;32m<__array_function__ internals>:180\u001b[0m, in \u001b[0;36mconcatenate\u001b[1;34m(*args, **kwargs)\u001b[0m\n",
      "\u001b[1;31mKeyboardInterrupt\u001b[0m: "
     ]
    }
   ],
   "source": [
    "\n",
    "def rotation_matrix(yaw,pitch,roll):\n",
    "    roll_mat = np.vstack([[1,0,0],[0 ,np.cos(roll),-np.sin(roll)],[0, np.sin(roll), np.cos(roll)]])\n",
    "    pitch_mat = np.vstack([[np.cos(pitch),0,np.sin(pitch)],[0, 1,0],[-np.sin(pitch), 0, np.cos(pitch)]])\n",
    "    yaw_mat = np.vstack([[np.cos(yaw),-np.sin(yaw),0],[np.sin(yaw),np.cos(yaw),0],[0, 0, 1]])\n",
    "    return yaw_mat @ pitch_mat @ roll_mat\n",
    "\n",
    "\n",
    "for exp_name in experiments.keys():\n",
    "    exp = experiments[exp_name]\n",
    "    wing_body = 'body'\n",
    "    for mov_name in exp.mov_names:\n",
    "        mov = exp.get_mov(mov_name)\n",
    "\n",
    "        yaw = mov.get_prop('yaw_body','body')[:,0]\n",
    "        pitch = mov.get_prop('pitch_body','body')[:,0]\n",
    "        roll = mov.get_prop('roll_body','body')[:,0]\n",
    "        time = mov.get_prop('time','body')[:,0]\n",
    "\n",
    "        rot_mat = [rotation_matrix(yaw*np.pi/180,-pitch*np.pi/180,roll*np.pi/180).T for yaw,pitch,roll in zip(yaw,pitch,roll)]\n",
    "        vxyz = mov.get_prop('CM_real_x_body_dot_smth','body',three_col=3)\n",
    "        axyz = mov.get_prop('CM_real_x_body_dot_dot_smth','body',three_col=3)\n",
    "\n",
    "        uvw = np.vstack([rot_mat @ vxyz for rot_mat,vxyz in zip(rot_mat,vxyz)])\n",
    "        uvw_dot = np.vstack([rot_mat @ axyz for rot_mat,axyz in zip(rot_mat,axyz)])\n",
    "\n",
    "        vz_sp = uvw[:,0]*np.cos(np.radians(45)) + uvw[:,2]*np.cos(np.radians(45))\n",
    "        vx_sp = uvw[:,0]*np.cos(np.radians(45)) - uvw[:,2]*np.cos(np.radians(45))\n",
    "\n",
    "\n",
    "\n",
    "        az_sp = uvw_dot[:,0]*np.cos(np.radians(45)) + uvw_dot[:,2]*np.cos(np.radians(45))\n",
    "        ax_sp = uvw_dot[:,0]*np.cos(np.radians(45)) - uvw_dot[:,2]*np.cos(np.radians(45))\n",
    "\n",
    "        mov.data[wing_body] = np.hstack((mov.data[wing_body], uvw))\n",
    "        mov.add_to_header(['u','v','w'],wing_body)\n",
    "\n",
    "        \n",
    "        mov.data[wing_body] = np.hstack((mov.data[wing_body], uvw_dot))\n",
    "        mov.add_to_header(['u_dot','v_dot','w_dot'],wing_body)\n",
    "\n",
    "        mov.data[wing_body] = np.vstack((mov.data[wing_body].T, vz_sp)).T\n",
    "        mov.add_to_header(['vz_sp'],wing_body)\n",
    "        mov.data[wing_body] = np.vstack((mov.data[wing_body].T, vx_sp)).T\n",
    "        mov.add_to_header(['vx_sp'],wing_body)\n",
    "\n",
    "        \n",
    "        mov.data[wing_body] = np.vstack((mov.data[wing_body].T, az_sp)).T\n",
    "        mov.add_to_header(['az_sp'],wing_body)\n",
    "        mov.data[wing_body] = np.vstack((mov.data[wing_body].T, ax_sp)).T\n",
    "        mov.add_to_header(['ax_sp'],wing_body)\n",
    "# fig,ax = plt.subplots(2,1)\n",
    "# ax[0].plot(time,vx_sp)\n",
    "# ax[0].plot(time,uvw[:,1])\n",
    "# ax[0].plot(time,vz_sp)\n",
    "\n",
    "# ax[1].plot(vxyz)\n",
    "    \n",
    "# for mov_name in exp.mov_names:\n",
    "\n",
    "    \n",
    "    # mov.data[wing_body] = np.hstack((mov.data[wing_body], uvw))\n",
    "    # mov.add_to_header(['u','v','w'],wing_body)\n",
    "\n",
    "    # mov.data[wing_body] = np.vstack((mov.data[wing_body].T, asp_z)).T\n",
    "    # mov.add_to_header(['asp_z'],wing_body)\n"
   ]
  },
  {
   "cell_type": "code",
   "execution_count": null,
   "metadata": {},
   "outputs": [
    {
     "name": "stderr",
     "output_type": "stream",
     "text": [
      "g:\\Documents\\experiment_analysis\\data_analysis\\Experiment.py:136: RuntimeWarning:\n",
      "\n",
      "Mean of empty slice\n",
      "\n"
     ]
    }
   ],
   "source": [
    "for name in ['ax_sp','az_sp','v_dot']:\n",
    "    f,tm = exp.mean_time_series_prop(name,wing_body,window = (73*7)//2,dt = 1/16000)\n",
    "    plt.plot(tm,f)"
   ]
  },
  {
   "cell_type": "markdown",
   "metadata": {},
   "source": [
    "Plot property and add interest point"
   ]
  },
  {
   "cell_type": "code",
   "execution_count": null,
   "metadata": {},
   "outputs": [],
   "source": [
    "\n",
    "exp = experiments['manipulated_2023_08_06_40ms']\n",
    "prop = 'CM_dot_dot_x_projected'\n",
    "\n",
    "fig = go.Figure()\n",
    "exp.plot_prop_movies(prop,'body',fig,case = 'plot_mov',prop_x = 'time')\n",
    "exp.add_point_to_plot_movies('CM_dot_dot_x_projected_peaks_max',prop,fig) \n",
    "fig.show()\n",
    "\n"
   ]
  },
  {
   "cell_type": "code",
   "execution_count": null,
   "metadata": {},
   "outputs": [],
   "source": [
    "fig = go.Figure()\n",
    "exp = experiments['manipulated_2022_02_03_dark']\n",
    "exp.plot_prop_movies('CM_dot_dot_y_projected','body',fig,case = 'plot_mov',prop_x = 'time')\n",
    "fig.show()\n",
    "\n",
    "phi_r_color = [[256,0,0]]*len(exp.mov_names)\n",
    "phi_l_color = [[0,0,256]]*len(exp.mov_names)\n",
    "\n",
    "fig = go.Figure()\n",
    "exp = experiments['manipulated_2022_02_03_dark']\n",
    "exp.plot_prop_movies('phi_rw','wing',fig,case = 'plot_mov',prop_x = 'time',color = phi_r_color )\n",
    "exp.plot_prop_movies('phi_lw','wing',fig,case = 'plot_mov',prop_x = 'time', color = phi_l_color)\n",
    "\n",
    "fig.show()"
   ]
  },
  {
   "cell_type": "markdown",
   "metadata": {},
   "source": [
    "3D trajectory plot"
   ]
  },
  {
   "cell_type": "code",
   "execution_count": null,
   "metadata": {},
   "outputs": [],
   "source": [
    "\n",
    "exp = experiments['manipulated_2023_08_09_60ms']\n",
    "mov = ['mov60']\n",
    "exp.plot_3d_traj_movies('CM_dot_x_projected',mov = mov)\n"
   ]
  },
  {
   "cell_type": "markdown",
   "metadata": {},
   "source": [
    "Plot histograms of peaks, plot movies time seires data with the max/min/peak data point on them"
   ]
  },
  {
   "cell_type": "code",
   "execution_count": null,
   "metadata": {},
   "outputs": [
    {
     "ename": "KeyError",
     "evalue": "'CM_dot_dot_projected_min'",
     "output_type": "error",
     "traceback": [
      "\u001b[1;31m---------------------------------------------------------------------------\u001b[0m",
      "\u001b[1;31mKeyError\u001b[0m                                  Traceback (most recent call last)",
      "Cell \u001b[1;32mIn[14], line 12\u001b[0m\n\u001b[0;32m      8\u001b[0m fig \u001b[38;5;241m=\u001b[39m go\u001b[38;5;241m.\u001b[39mFigure(data\u001b[38;5;241m=\u001b[39mlist_trace, layout\u001b[38;5;241m=\u001b[39mlayout[\u001b[38;5;241m0\u001b[39m])\u001b[38;5;241m.\u001b[39mshow()\n\u001b[0;32m     11\u001b[0m point_name \u001b[38;5;241m=\u001b[39m \u001b[38;5;124m'\u001b[39m\u001b[38;5;124mCM_dot_dot_projected_min\u001b[39m\u001b[38;5;124m'\u001b[39m\n\u001b[1;32m---> 12\u001b[0m list_trace,layout \u001b[38;5;241m=\u001b[39m \u001b[38;5;28mzip\u001b[39m(\u001b[38;5;241m*\u001b[39m[exp\u001b[38;5;241m.\u001b[39minterest_point_hist(point_name,xbins \u001b[38;5;241m=\u001b[39m \u001b[38;5;28mdict\u001b[39m(start\u001b[38;5;241m=\u001b[39m\u001b[38;5;241m0\u001b[39m,end\u001b[38;5;241m=\u001b[39m\u001b[38;5;241m300\u001b[39m, size\u001b[38;5;241m=\u001b[39m\u001b[38;5;241m5\u001b[39m)) \u001b[38;5;28;01mfor\u001b[39;00m exp \u001b[38;5;129;01min\u001b[39;00m experiments\u001b[38;5;241m.\u001b[39mvalues()])\n\u001b[0;32m     13\u001b[0m fig \u001b[38;5;241m=\u001b[39m go\u001b[38;5;241m.\u001b[39mFigure(data\u001b[38;5;241m=\u001b[39mlist_trace, layout\u001b[38;5;241m=\u001b[39mlayout[\u001b[38;5;241m0\u001b[39m])\u001b[38;5;241m.\u001b[39mshow()\n\u001b[0;32m     16\u001b[0m point_name \u001b[38;5;241m=\u001b[39m \u001b[38;5;124m'\u001b[39m\u001b[38;5;124mamp_v_peaks_min\u001b[39m\u001b[38;5;124m'\u001b[39m\n",
      "Cell \u001b[1;32mIn[14], line 12\u001b[0m, in \u001b[0;36m<listcomp>\u001b[1;34m(.0)\u001b[0m\n\u001b[0;32m      8\u001b[0m fig \u001b[38;5;241m=\u001b[39m go\u001b[38;5;241m.\u001b[39mFigure(data\u001b[38;5;241m=\u001b[39mlist_trace, layout\u001b[38;5;241m=\u001b[39mlayout[\u001b[38;5;241m0\u001b[39m])\u001b[38;5;241m.\u001b[39mshow()\n\u001b[0;32m     11\u001b[0m point_name \u001b[38;5;241m=\u001b[39m \u001b[38;5;124m'\u001b[39m\u001b[38;5;124mCM_dot_dot_projected_min\u001b[39m\u001b[38;5;124m'\u001b[39m\n\u001b[1;32m---> 12\u001b[0m list_trace,layout \u001b[38;5;241m=\u001b[39m \u001b[38;5;28mzip\u001b[39m(\u001b[38;5;241m*\u001b[39m[\u001b[43mexp\u001b[49m\u001b[38;5;241;43m.\u001b[39;49m\u001b[43minterest_point_hist\u001b[49m\u001b[43m(\u001b[49m\u001b[43mpoint_name\u001b[49m\u001b[43m,\u001b[49m\u001b[43mxbins\u001b[49m\u001b[43m \u001b[49m\u001b[38;5;241;43m=\u001b[39;49m\u001b[43m \u001b[49m\u001b[38;5;28;43mdict\u001b[39;49m\u001b[43m(\u001b[49m\u001b[43mstart\u001b[49m\u001b[38;5;241;43m=\u001b[39;49m\u001b[38;5;241;43m0\u001b[39;49m\u001b[43m,\u001b[49m\u001b[43mend\u001b[49m\u001b[38;5;241;43m=\u001b[39;49m\u001b[38;5;241;43m300\u001b[39;49m\u001b[43m,\u001b[49m\u001b[43m \u001b[49m\u001b[43msize\u001b[49m\u001b[38;5;241;43m=\u001b[39;49m\u001b[38;5;241;43m5\u001b[39;49m\u001b[43m)\u001b[49m\u001b[43m)\u001b[49m \u001b[38;5;28;01mfor\u001b[39;00m exp \u001b[38;5;129;01min\u001b[39;00m experiments\u001b[38;5;241m.\u001b[39mvalues()])\n\u001b[0;32m     13\u001b[0m fig \u001b[38;5;241m=\u001b[39m go\u001b[38;5;241m.\u001b[39mFigure(data\u001b[38;5;241m=\u001b[39mlist_trace, layout\u001b[38;5;241m=\u001b[39mlayout[\u001b[38;5;241m0\u001b[39m])\u001b[38;5;241m.\u001b[39mshow()\n\u001b[0;32m     16\u001b[0m point_name \u001b[38;5;241m=\u001b[39m \u001b[38;5;124m'\u001b[39m\u001b[38;5;124mamp_v_peaks_min\u001b[39m\u001b[38;5;124m'\u001b[39m\n",
      "File \u001b[1;32mg:\\Documents\\experiment_analysis\\data_analysis\\Experiment.py:97\u001b[0m, in \u001b[0;36mExperiment.interest_point_hist\u001b[1;34m(self, point_name, prop, **kwargs)\u001b[0m\n\u001b[0;32m     96\u001b[0m \u001b[38;5;28;01mdef\u001b[39;00m \u001b[38;5;21minterest_point_hist\u001b[39m(\u001b[38;5;28mself\u001b[39m,point_name,prop \u001b[38;5;241m=\u001b[39m \u001b[38;5;124m'\u001b[39m\u001b[38;5;124mtime\u001b[39m\u001b[38;5;124m'\u001b[39m,\u001b[38;5;241m*\u001b[39m\u001b[38;5;241m*\u001b[39mkwargs):\n\u001b[1;32m---> 97\u001b[0m     \u001b[38;5;28;01mreturn\u001b[39;00m Plotters\u001b[38;5;241m.\u001b[39mhistogram(\u001b[38;5;28;43mself\u001b[39;49m\u001b[38;5;241;43m.\u001b[39;49m\u001b[43minterest_points\u001b[49m\u001b[43m[\u001b[49m\u001b[43mpoint_name\u001b[49m\u001b[43m]\u001b[49m[:,\u001b[38;5;28mself\u001b[39m\u001b[38;5;241m.\u001b[39mbody_header[prop]],\u001b[38;5;28mself\u001b[39m\u001b[38;5;241m.\u001b[39mexperiment_name,prop, point_name,\u001b[38;5;241m*\u001b[39m\u001b[38;5;241m*\u001b[39mkwargs)\n",
      "\u001b[1;31mKeyError\u001b[0m: 'CM_dot_dot_projected_min'"
     ]
    }
   ],
   "source": [
    "# Histograms\n",
    "point_name = 'pitch_y_frame_dot_dot_peaks_max'\n",
    "list_trace,layout = zip(*[exp.interest_point_hist(point_name,xbins = dict(start=0,end=300, size=5)) for exp in experiments.values()])\n",
    "fig = go.Figure(data=list_trace, layout=layout[0]).show()\n",
    "\n",
    "point_name = 'pitch_y_frame_max'\n",
    "list_trace,layout = zip(*[exp.interest_point_hist(point_name,xbins = dict(start=0,end=300, size=5)) for exp in experiments.values()])\n",
    "fig = go.Figure(data=list_trace, layout=layout[0]).show()\n",
    "\n",
    "\n",
    "point_name = 'CM_dot_dot_projected_min'\n",
    "list_trace,layout = zip(*[exp.interest_point_hist(point_name,xbins = dict(start=0,end=300, size=5)) for exp in experiments.values()])\n",
    "fig = go.Figure(data=list_trace, layout=layout[0]).show()\n",
    "\n",
    "\n",
    "point_name = 'amp_v_peaks_min'\n",
    "list_trace,layout = zip(*[exp.interest_point_hist(point_name,xbins = dict(start=0,end=300, size=5)) for exp in experiments.values()])\n",
    "fig = go.Figure(data=list_trace, layout=layout[0]).show()\n",
    "\n",
    "\n",
    "point_name = 'CM_dot_projected_zero_v'\n",
    "list_trace,layout = zip(*[exp.interest_point_hist(point_name,xbins = dict(start=0,end=300, size=5)) for exp in experiments.values()])\n",
    "fig = go.Figure(data=list_trace, layout=layout[0]).show()"
   ]
  },
  {
   "cell_type": "code",
   "execution_count": null,
   "metadata": {},
   "outputs": [],
   "source": [
    "exp = experiments['manipulated_2022_02_03_dark']\n",
    "fig = go.Figure()\n",
    "exp.plot_prop_movies('CM_dot_projected','body',fig,case = 'plot_mov',prop_x = 'time')\n",
    "exp.add_point_to_plot_movies('amp_v_peaks_min','amp_v',fig) \n",
    "fig.show()"
   ]
  },
  {
   "cell_type": "code",
   "execution_count": null,
   "metadata": {},
   "outputs": [],
   "source": [
    "# time series of movies with min/max on them\n",
    "exp = experiments['manipulated_2022_02_03_dark']\n",
    "fig = go.Figure()\n",
    "exp.plot_prop_movies('pitch_y_frame_dot_dot','body',fig,case = 'plot_mov',prop_x = 'time')\n",
    "exp.add_point_to_plot_movies('pitch_y_frame_dot_dot_peaks_max','pitch_y_frame_dot_dot',fig) \n",
    "fig.show()\n",
    "\n",
    "fig = go.Figure()\n",
    "exp.plot_prop_movies('CM_dot_projected','body',fig,case = 'plot_mov',prop_x = 'time')\n",
    "exp.add_point_to_plot_movies('pitch_y_frame_dot_dot_peaks_max','CM_dot_projected',fig) \n",
    "fig.show()"
   ]
  },
  {
   "cell_type": "code",
   "execution_count": null,
   "metadata": {},
   "outputs": [],
   "source": [
    "\n",
    "fig = go.Figure()\n",
    "exp.plot_prop_movies('roll_x_frame','body',fig,case = 'plot_mov',prop_x = 'time')\n",
    "# exp.add_point_to_plot_movies('CM_dot_projected_zero_v','CM_dot_y_projected',fig) \n",
    "exp.plot_prop_movies('yaw_z_frame','body',fig,case = 'plot_mov',prop_x = 'time',yaxis = 'y2')\n",
    "# exp.add_point_to_plot_movies('CM_dot_projected_zero_v','roll_body',fig,yaxis = 'y2') \n",
    "\n",
    "# yax_dict[f\"yaxis2\"] = (dict(title=prop,titlefont=dict(color=color),tickfont=dict(color=color),side = side[i],position=position[i]))\n",
    "\n",
    "\n",
    "\n",
    "fig.update_layout(title = exp.experiment_name,\n",
    "    xaxis=dict(domain=[0, 0.95]),\n",
    "    yaxis=dict(title='roll_x_frame', titlefont=dict(color='red'), tickfont=dict(color='red'), side='left', position=0),\n",
    "    yaxis2=dict(title='yaw_y_frame', titlefont=dict(color='green'), tickfont=dict(color='green'), side='right', position=0.95),\n",
    ")\n",
    "\n",
    "fig.show()"
   ]
  },
  {
   "cell_type": "markdown",
   "metadata": {},
   "source": [
    "Plot all experiments - time series"
   ]
  },
  {
   "cell_type": "code",
   "execution_count": null,
   "metadata": {},
   "outputs": [],
   "source": [
    "fig = go.Figure()\n",
    "prop = 'pitch_y_frame_dot_dot'\n",
    "[exp.plot_prop_movies(prop,'body',fig,case = 'plot_exp',prop_x = 'time',color = color_map[idx],legend = exp.pertubation_name) for idx,exp in enumerate(experiments.values())]\n",
    "fig.show()"
   ]
  },
  {
   "cell_type": "markdown",
   "metadata": {},
   "source": [
    "Calculate and plot mean property (time series,  mean per frame of all movies)"
   ]
  },
  {
   "cell_type": "code",
   "execution_count": null,
   "metadata": {},
   "outputs": [
    {
     "name": "stderr",
     "output_type": "stream",
     "text": [
      "g:\\Documents\\experiment_analysis\\data_analysis\\Experiment.py:121: RuntimeWarning:\n",
      "\n",
      "Mean of empty slice\n",
      "\n"
     ]
    },
    {
     "data": {
      "text/plain": [
       "<matplotlib.legend.Legend at 0x1ee687a2e60>"
      ]
     },
     "execution_count": 53,
     "metadata": {},
     "output_type": "execute_result"
    }
   ],
   "source": [
    "from scipy import stats\n",
    "\n",
    "\n",
    "exp = experiments[list(experiments.keys())[0]]\n",
    "prop = 'pitch_y_frame'\n",
    "prop = 'r'\n",
    "prop = 'CM_dot_dot_projected'\n",
    "props = ['delta_ang','delta_ang']\n",
    "\n",
    "window = (73*3)//2\n",
    "fig,ax = plt.subplots(2,1,sharex=True)\n",
    "max_prop = {}\n",
    "for idx,prop in enumerate(props):\n",
    "    max_prop[prop] = [] \n",
    "    for exp in experiments.values():\n",
    "        mov_to_keep = []\n",
    "        acc_mean,time_inter = exp.mean_time_series_prop(prop,'vectors')\n",
    "        time_to_check = (time_inter > 0 ) & (time_inter <100 )\n",
    "        time_for_max = time_inter[time_to_check]\n",
    "        max_prop[prop].append(time_for_max[np.nanargmax(acc_mean[time_to_check])])\n",
    "        ax[idx].plot(time_inter,acc_mean, label = exp.experiment_name)\n",
    "\n",
    "\n",
    "plt.legend()"
   ]
  },
  {
   "cell_type": "code",
   "execution_count": null,
   "metadata": {},
   "outputs": [
    {
     "data": {
      "text/plain": [
       "{'pitch_body': 0,\n",
       " 'yaw_body': 1,\n",
       " 'roll_body': 2,\n",
       " 'pitch_body_dot': 3,\n",
       " 'yaw_body_dot': 4,\n",
       " 'roll_body_dot': 5,\n",
       " 'pitch_body_dot_dot': 6,\n",
       " 'yaw_body_dot_dot': 7,\n",
       " 'roll_body_dot_dot': 8,\n",
       " 'frames': 9,\n",
       " 'time': 10,\n",
       " 'CM_real_x_body': 11,\n",
       " 'CM_real_y_body': 12,\n",
       " 'CM_real_z_body': 13,\n",
       " 'phi_rw_max_idx': 14,\n",
       " 'phi_rw_max_val': 15,\n",
       " 'phi_lw_max_idx': 16,\n",
       " 'phi_lw_max_val': 17,\n",
       " 'phi_rw_min_idx': 18,\n",
       " 'phi_rw_min_val': 19,\n",
       " 'phi_lw_min_idx': 20,\n",
       " 'phi_lw_min_val': 21,\n",
       " 'yaw_z_frame': 22,\n",
       " 'pitch_y_frame': 23,\n",
       " 'roll_x_frame': 24,\n",
       " 'mean_idx': 25,\n",
       " 'freq_phi_rw_min_idx': 26,\n",
       " 'CM_dot_dot_x_projected': 27,\n",
       " 'delta_ang_CM_dot_x': 28,\n",
       " 'delta_ang_Xax': 29}"
      ]
     },
     "execution_count": 16,
     "metadata": {},
     "output_type": "execute_result"
    }
   ],
   "source": [
    "mov.header['mean_body']"
   ]
  },
  {
   "cell_type": "markdown",
   "metadata": {},
   "source": [
    "Try PCA"
   ]
  },
  {
   "cell_type": "code",
   "execution_count": null,
   "metadata": {},
   "outputs": [],
   "source": [
    "exp.mov_names"
   ]
  },
  {
   "cell_type": "code",
   "execution_count": null,
   "metadata": {},
   "outputs": [
    {
     "name": "stdout",
     "output_type": "stream",
     "text": [
      "[0 0 0 ... 0 0 0]\n"
     ]
    },
    {
     "data": {
      "text/plain": [
       "array([[-9.89891583e-04,  9.99999510e-01],\n",
       "       [-9.99999510e-01, -9.89891583e-04]])"
      ]
     },
     "execution_count": 57,
     "metadata": {},
     "output_type": "execute_result"
    }
   ],
   "source": [
    "from sklearn.decomposition import PCA\n",
    "import pandas as pd\n",
    "from sklearn.cluster import KMeans\n",
    "\n",
    "mov_feat = []\n",
    "props = ['CM_dot_dot_x_projected','freq_phi_rw_min_idx']\n",
    "\n",
    "exp_pd = []\n",
    "for exp in list(experiments.values())[1:2]:\n",
    "    mov_feat = []\n",
    "    for idx,mov_name in enumerate(exp.mov_names):\n",
    "        mov = exp.get_mov(mov_name)\n",
    "        mov_feat.append(mov.data['mean_body'])\n",
    "\n",
    "    featpd_exp = pd.DataFrame(data = np.vstack(mov_feat),columns = mov.header['mean_body'])\n",
    "    featpd_exp['exp_name'] = exp.experiment_name\n",
    "    # featpd_exp['mov'] = exp.mov_names\n",
    "    exp_pd.append(featpd_exp)\n",
    "\n",
    "feat = pd.concat(exp_pd,axis = 0).dropna().reset_index()\n",
    "\n",
    "\n",
    "dataforpca = feat[props]\n",
    "n_comp = len(props)\n",
    "pca = PCA(n_components=n_comp)\n",
    "principalComponents = pca.fit_transform(dataforpca)\n",
    "principalDf = pd.DataFrame(data = principalComponents\n",
    "             , columns = [f'pca_{idx}' for idx in range(n_comp)])\n",
    "\n",
    "pca_name = [f'pca_{idx}' for idx in range(pca.n_components_)]\n",
    "\n",
    "\n",
    "featpd = pd.concat([feat, principalDf], axis = 1)\n",
    "kmeans = KMeans(n_clusters=n_comp, random_state=0, n_init=\"auto\").fit(featpd[pca_name])\n",
    "print(kmeans.labels_)\n",
    "pca.components_\n"
   ]
  },
  {
   "cell_type": "code",
   "execution_count": null,
   "metadata": {},
   "outputs": [],
   "source": [
    "for lbl in np.unique(kmeans.labels_):\n",
    "    feat.iloc[kmeans.labels_==lbl]['delta_ang_CM_dot_x'].plot(marker = '*')"
   ]
  },
  {
   "cell_type": "code",
   "execution_count": null,
   "metadata": {},
   "outputs": [
    {
     "ename": "KeyError",
     "evalue": "'index'",
     "output_type": "error",
     "traceback": [
      "\u001b[1;31m---------------------------------------------------------------------------\u001b[0m",
      "\u001b[1;31mKeyError\u001b[0m                                  Traceback (most recent call last)",
      "Cell \u001b[1;32mIn[31], line 15\u001b[0m\n\u001b[0;32m     11\u001b[0m         \u001b[38;5;66;03m# prop = 'pitch_body'\u001b[39;00m\n\u001b[0;32m     13\u001b[0m         color_map \u001b[38;5;241m=\u001b[39m colormap\u001b[38;5;241m.\u001b[39mdatad[\u001b[38;5;124m\"\u001b[39m\u001b[38;5;124mtab10\u001b[39m\u001b[38;5;124m\"\u001b[39m][\u001b[38;5;124m'\u001b[39m\u001b[38;5;124mlisted\u001b[39m\u001b[38;5;124m'\u001b[39m]\n\u001b[1;32m---> 15\u001b[0m         \u001b[43mexperiments\u001b[49m\u001b[43m[\u001b[49m\u001b[43mexp_name\u001b[49m\u001b[43m]\u001b[49m\u001b[38;5;241;43m.\u001b[39;49m\u001b[43mplot_prop_movies\u001b[49m\u001b[43m(\u001b[49m\u001b[43mprop\u001b[49m\u001b[43m,\u001b[49m\u001b[38;5;124;43m'\u001b[39;49m\u001b[38;5;124;43mbody\u001b[39;49m\u001b[38;5;124;43m'\u001b[39;49m\u001b[43m,\u001b[49m\u001b[43mfig\u001b[49m\u001b[43m,\u001b[49m\u001b[43mmov\u001b[49m\u001b[43m \u001b[49m\u001b[38;5;241;43m=\u001b[39;49m\u001b[43m \u001b[49m\u001b[43mmov_exp_lbl\u001b[49m\u001b[43m,\u001b[49m\u001b[43mcase\u001b[49m\u001b[43m \u001b[49m\u001b[38;5;241;43m=\u001b[39;49m\u001b[43m \u001b[49m\u001b[38;5;124;43m'\u001b[39;49m\u001b[38;5;124;43mplot_exp\u001b[39;49m\u001b[38;5;124;43m'\u001b[39;49m\u001b[43m,\u001b[49m\u001b[43mprop_x\u001b[49m\u001b[43m \u001b[49m\u001b[38;5;241;43m=\u001b[39;49m\u001b[43m \u001b[49m\u001b[38;5;124;43m'\u001b[39;49m\u001b[38;5;124;43mtime\u001b[39;49m\u001b[38;5;124;43m'\u001b[39;49m\u001b[43m,\u001b[49m\u001b[43mcolor\u001b[49m\u001b[43m \u001b[49m\u001b[38;5;241;43m=\u001b[39;49m\u001b[43m \u001b[49m\u001b[43mcolor_map\u001b[49m\u001b[43m[\u001b[49m\u001b[43mlbl\u001b[49m\u001b[43m]\u001b[49m\u001b[43m,\u001b[49m\u001b[43mlegend\u001b[49m\u001b[43m \u001b[49m\u001b[38;5;241;43m=\u001b[39;49m\u001b[43m \u001b[49m\u001b[38;5;124;43mf\u001b[39;49m\u001b[38;5;124;43m'\u001b[39;49m\u001b[38;5;132;43;01m{\u001b[39;49;00m\u001b[43mexp_name\u001b[49m\u001b[38;5;132;43;01m}\u001b[39;49;00m\u001b[38;5;124;43m_cluster\u001b[39;49m\u001b[38;5;132;43;01m{\u001b[39;49;00m\u001b[43mlbl\u001b[49m\u001b[38;5;132;43;01m}\u001b[39;49;00m\u001b[38;5;124;43m'\u001b[39;49m\u001b[43m)\u001b[49m\n\u001b[0;32m     16\u001b[0m fig\u001b[38;5;241m.\u001b[39mshow()\n\u001b[0;32m     17\u001b[0m \u001b[38;5;66;03m# feat.iloc[kmeans.labels_==lbl]['exp_name'] == exp_names[0]\u001b[39;00m\n",
      "File \u001b[1;32mc:\\Users\\Roni\\Documents\\experiment-analysis\\data_analysis\\Experiment.py:72\u001b[0m, in \u001b[0;36mExperiment.plot_prop_movies\u001b[1;34m(self, prop, wing_body, fig, mov, case, prop_x, add_horizontal_line, color, legend, **kwargs)\u001b[0m\n\u001b[0;32m     69\u001b[0m legend \u001b[38;5;241m=\u001b[39m mov_names \u001b[38;5;28;01mif\u001b[39;00m legend \u001b[38;5;241m==\u001b[39m \u001b[38;5;28;01mFalse\u001b[39;00m \u001b[38;5;28;01melse\u001b[39;00m legend\n\u001b[0;32m     71\u001b[0m color \u001b[38;5;241m=\u001b[39m [\u001b[38;5;28mself\u001b[39m\u001b[38;5;241m.\u001b[39mcolor_map[idx\u001b[38;5;241m%\u001b[39m\u001b[38;5;28mlen\u001b[39m(\u001b[38;5;28mself\u001b[39m\u001b[38;5;241m.\u001b[39mcolor_map)] \u001b[38;5;28;01mfor\u001b[39;00m idx,mov_name \u001b[38;5;129;01min\u001b[39;00m \u001b[38;5;28menumerate\u001b[39m(mov_names)] \u001b[38;5;28;01mif\u001b[39;00m color \u001b[38;5;241m==\u001b[39m \u001b[38;5;28;01mFalse\u001b[39;00m \u001b[38;5;28;01melse\u001b[39;00m color \n\u001b[1;32m---> 72\u001b[0m \u001b[38;5;28;01mif\u001b[39;00m \u001b[38;5;124m'\u001b[39m\u001b[38;5;124mplot_exp\u001b[39m\u001b[38;5;124m'\u001b[39m \u001b[38;5;241m==\u001b[39m case: [\u001b[38;5;28mself\u001b[39m\u001b[38;5;241m.\u001b[39mget_mov(mov_name)\u001b[38;5;241m.\u001b[39mplot_prop(prop,wing_body,color,legend,fig,showlegend \u001b[38;5;241m=\u001b[39m idx \u001b[38;5;241m==\u001b[39m \u001b[38;5;241m0\u001b[39m,prop_x \u001b[38;5;241m=\u001b[39m prop_x,\u001b[38;5;241m*\u001b[39m\u001b[38;5;241m*\u001b[39mkwargs) \u001b[38;5;28;01mfor\u001b[39;00m idx,mov_name \u001b[38;5;129;01min\u001b[39;00m \u001b[38;5;28menumerate\u001b[39m(mov_names)]\n\u001b[0;32m     73\u001b[0m \u001b[38;5;28;01mif\u001b[39;00m \u001b[38;5;124m'\u001b[39m\u001b[38;5;124mplot_mov\u001b[39m\u001b[38;5;124m'\u001b[39m \u001b[38;5;241m==\u001b[39m case: [\u001b[38;5;28mself\u001b[39m\u001b[38;5;241m.\u001b[39mget_mov(mov_name)\u001b[38;5;241m.\u001b[39mplot_prop(prop,wing_body,color[idx],legend[idx],fig,prop_x \u001b[38;5;241m=\u001b[39m prop_x,\u001b[38;5;241m*\u001b[39m\u001b[38;5;241m*\u001b[39mkwargs) \u001b[38;5;28;01mfor\u001b[39;00m idx,mov_name \u001b[38;5;129;01min\u001b[39;00m \u001b[38;5;28menumerate\u001b[39m(mov_names)]\n\u001b[0;32m     75\u001b[0m \u001b[38;5;28;01mif\u001b[39;00m add_horizontal_line \u001b[38;5;241m!=\u001b[39m \u001b[38;5;28;01mNone\u001b[39;00m: fig\u001b[38;5;241m.\u001b[39madd_hline(y\u001b[38;5;241m=\u001b[39madd_horizontal_line, line_width\u001b[38;5;241m=\u001b[39m\u001b[38;5;241m3\u001b[39m, line_color\u001b[38;5;241m=\u001b[39m\u001b[38;5;124m\"\u001b[39m\u001b[38;5;124mlime\u001b[39m\u001b[38;5;124m\"\u001b[39m)\n",
      "File \u001b[1;32mc:\\Users\\Roni\\Documents\\experiment-analysis\\data_analysis\\Experiment.py:72\u001b[0m, in \u001b[0;36m<listcomp>\u001b[1;34m(.0)\u001b[0m\n\u001b[0;32m     69\u001b[0m legend \u001b[38;5;241m=\u001b[39m mov_names \u001b[38;5;28;01mif\u001b[39;00m legend \u001b[38;5;241m==\u001b[39m \u001b[38;5;28;01mFalse\u001b[39;00m \u001b[38;5;28;01melse\u001b[39;00m legend\n\u001b[0;32m     71\u001b[0m color \u001b[38;5;241m=\u001b[39m [\u001b[38;5;28mself\u001b[39m\u001b[38;5;241m.\u001b[39mcolor_map[idx\u001b[38;5;241m%\u001b[39m\u001b[38;5;28mlen\u001b[39m(\u001b[38;5;28mself\u001b[39m\u001b[38;5;241m.\u001b[39mcolor_map)] \u001b[38;5;28;01mfor\u001b[39;00m idx,mov_name \u001b[38;5;129;01min\u001b[39;00m \u001b[38;5;28menumerate\u001b[39m(mov_names)] \u001b[38;5;28;01mif\u001b[39;00m color \u001b[38;5;241m==\u001b[39m \u001b[38;5;28;01mFalse\u001b[39;00m \u001b[38;5;28;01melse\u001b[39;00m color \n\u001b[1;32m---> 72\u001b[0m \u001b[38;5;28;01mif\u001b[39;00m \u001b[38;5;124m'\u001b[39m\u001b[38;5;124mplot_exp\u001b[39m\u001b[38;5;124m'\u001b[39m \u001b[38;5;241m==\u001b[39m case: [\u001b[38;5;28;43mself\u001b[39;49m\u001b[38;5;241;43m.\u001b[39;49m\u001b[43mget_mov\u001b[49m\u001b[43m(\u001b[49m\u001b[43mmov_name\u001b[49m\u001b[43m)\u001b[49m\u001b[38;5;241m.\u001b[39mplot_prop(prop,wing_body,color,legend,fig,showlegend \u001b[38;5;241m=\u001b[39m idx \u001b[38;5;241m==\u001b[39m \u001b[38;5;241m0\u001b[39m,prop_x \u001b[38;5;241m=\u001b[39m prop_x,\u001b[38;5;241m*\u001b[39m\u001b[38;5;241m*\u001b[39mkwargs) \u001b[38;5;28;01mfor\u001b[39;00m idx,mov_name \u001b[38;5;129;01min\u001b[39;00m \u001b[38;5;28menumerate\u001b[39m(mov_names)]\n\u001b[0;32m     73\u001b[0m \u001b[38;5;28;01mif\u001b[39;00m \u001b[38;5;124m'\u001b[39m\u001b[38;5;124mplot_mov\u001b[39m\u001b[38;5;124m'\u001b[39m \u001b[38;5;241m==\u001b[39m case: [\u001b[38;5;28mself\u001b[39m\u001b[38;5;241m.\u001b[39mget_mov(mov_name)\u001b[38;5;241m.\u001b[39mplot_prop(prop,wing_body,color[idx],legend[idx],fig,prop_x \u001b[38;5;241m=\u001b[39m prop_x,\u001b[38;5;241m*\u001b[39m\u001b[38;5;241m*\u001b[39mkwargs) \u001b[38;5;28;01mfor\u001b[39;00m idx,mov_name \u001b[38;5;129;01min\u001b[39;00m \u001b[38;5;28menumerate\u001b[39m(mov_names)]\n\u001b[0;32m     75\u001b[0m \u001b[38;5;28;01mif\u001b[39;00m add_horizontal_line \u001b[38;5;241m!=\u001b[39m \u001b[38;5;28;01mNone\u001b[39;00m: fig\u001b[38;5;241m.\u001b[39madd_hline(y\u001b[38;5;241m=\u001b[39madd_horizontal_line, line_width\u001b[38;5;241m=\u001b[39m\u001b[38;5;241m3\u001b[39m, line_color\u001b[38;5;241m=\u001b[39m\u001b[38;5;124m\"\u001b[39m\u001b[38;5;124mlime\u001b[39m\u001b[38;5;124m\"\u001b[39m)\n",
      "File \u001b[1;32mc:\\Users\\Roni\\Documents\\experiment-analysis\\data_analysis\\Experiment.py:127\u001b[0m, in \u001b[0;36mExperiment.get_mov\u001b[1;34m(self, mov_name)\u001b[0m\n\u001b[0;32m    126\u001b[0m \u001b[38;5;28;01mdef\u001b[39;00m \u001b[38;5;21mget_mov\u001b[39m(\u001b[38;5;28mself\u001b[39m,mov_name):\n\u001b[1;32m--> 127\u001b[0m     \u001b[38;5;28;01mreturn\u001b[39;00m \u001b[38;5;28;43mself\u001b[39;49m\u001b[38;5;241;43m.\u001b[39;49m\u001b[43mexp_dict\u001b[49m\u001b[43m[\u001b[49m\u001b[43mmov_name\u001b[49m\u001b[43m]\u001b[49m\n",
      "\u001b[1;31mKeyError\u001b[0m: 'index'"
     ]
    }
   ],
   "source": [
    "\n",
    "fig = go.Figure()\n",
    "\n",
    "for lbl in np.unique(kmeans.labels_):\n",
    "    exp_names = np.unique(feat.iloc[kmeans.labels_==lbl]['exp_name'])\n",
    "    feat_lbl = feat.iloc[kmeans.labels_==lbl]\n",
    "    for idx,exp_name in enumerate(exp_names): \n",
    "        mov_exp_lbl = list(feat_lbl.loc[feat_lbl['exp_name'] == exp_name])\n",
    "\n",
    "        prop = 'pitch_y_frame_dot'\n",
    "        prop = 'CM_dot_dot_projected'\n",
    "        # prop = 'pitch_body'\n",
    "\n",
    "        color_map = colormap.datad[\"tab10\"]['listed']\n",
    "\n",
    "        experiments[exp_name].plot_prop_movies(prop,'body',fig,mov = mov_exp_lbl,case = 'plot_exp',prop_x = 'time',color = color_map[lbl],legend = f'{exp_name}_cluster{lbl}')\n",
    "fig.show()\n",
    "# feat.iloc[kmeans.labels_==lbl]['exp_name'] == exp_names[0]\n",
    "from scipy import stats\n",
    "\n",
    "\n",
    "exp = experiments[list(experiments.keys())[0]]\n",
    "prop = 'pitch_y_frame'\n",
    "prop = 'q'\n",
    "prop = 'CM_dot_dot_projected'\n",
    "props = ['pitch_y_frame_dot_dot','pitch_y_frame_dot']\n",
    "\n",
    "window = (73*3)//2\n",
    "fig,ax = plt.subplots(2,1,sharex=True)\n",
    "max_prop = {}\n",
    "for idx,prop in enumerate(props):\n",
    "    max_prop[prop] = [] \n",
    "    for exp in experiments.values():\n",
    "        mov_to_keep = []\n",
    "        acc_mean,time_inter = exp.mean_time_series_prop(prop,'body')\n",
    "        time_to_check = (time_inter > 0 ) & (time_inter <100 )\n",
    "        time_for_max = time_inter[time_to_check]\n",
    "        max_prop[prop].append(time_for_max[np.nanargmax(acc_mean[time_to_check])])\n",
    "        ax[idx].plot(time_inter,acc_mean)"
   ]
  },
  {
   "cell_type": "markdown",
   "metadata": {},
   "source": [
    "Plot and save figures"
   ]
  },
  {
   "cell_type": "code",
   "execution_count": null,
   "metadata": {},
   "outputs": [],
   "source": [
    "        plot_and_save_movie_prop(exp, 'CM_dot_dot_x_projected','body','acceleration projected on XY',add_horizontal_line = 0)\n"
   ]
  },
  {
   "cell_type": "code",
   "execution_count": null,
   "metadata": {},
   "outputs": [],
   "source": [
    "import plotly.graph_objects as go\n",
    "import plotly\n",
    "import matplotlib.cm as colormap\n",
    "color_map = colormap.datad[\"tab10\"]['listed']\n",
    "\n",
    "\n",
    "\n",
    "def plot_and_save_movie_prop(exp,yprop,wing_body,title,add_horizontal_line = None):\n",
    "    \n",
    "    fig = go.Figure()\n",
    "\n",
    "    exp.plot_prop_movies(yprop,wing_body,fig,case = 'plot_mov',prop_x = 'time',add_horizontal_line = add_horizontal_line)\n",
    "    fig.update_layout(title = title)\n",
    "   \n",
    "    fig.show()\n",
    "    plotly.offline.plot(fig, filename=f'{exp.figures_path}/{yprop}_plot.html',auto_open=False)\n",
    "\n",
    "\n",
    "\n",
    "\n",
    "for exp in experiments:\n",
    "    try:\n",
    "        exp = experiments[exp]\n",
    "        exp.plot_3d_traj_movies('CM_dot_x_projected',save_plot = True, mov = False)\n",
    "\n",
    "        plot_and_save_movie_prop(exp, 'slip_angle_beta', 'vectors','slip angle [ang]', add_horizontal_line = 0)\n",
    "        plot_and_save_movie_prop(exp, 'delta_ang_CM_dot_x','vectors','change in velocity direction [ang]',add_horizontal_line = None)\n",
    "        plot_and_save_movie_prop(exp, 'delta_ang_Xax','vectors','change in body axis [ang]',add_horizontal_line = None)\n",
    "\n",
    "        plot_and_save_movie_prop(exp, 'CM_dot_dot_x_projected','body','acceleration projected on XY',add_horizontal_line = 0)\n",
    "        plot_and_save_movie_prop(exp, 'pitch_body','body','pitch angle', add_horizontal_line = 0)\n",
    "        plot_and_save_movie_prop(exp, 'pitch_body_dot','body','pitch_dot', add_horizontal_line = 0)\n",
    "        plot_and_save_movie_prop(exp, 'CM_dot_x_projected','body','velocity projected on XY', add_horizontal_line = 0)\n",
    "    except:\n",
    "        continue\n",
    "    # exp.mean_mean_props_movies('phi_rw_min_val','phi_lw_min_val','mean_wing','mean_front_phi')\n",
    "    # exp.mean_mean_props_movies('phi_rw','phi_lw','mean_wing','mean_mean_phi')\n",
    "\n",
    "    # plot_and_save_movie_prop(exp,yprop = 'mean_front_phi',wing_body = 'mean_wing')\n",
    "    # plot_and_save_movie_prop(exp,yprop = 'mean_mean_phi',wing_body = 'mean_wing')\n",
    "\n"
   ]
  },
  {
   "cell_type": "code",
   "execution_count": null,
   "metadata": {},
   "outputs": [],
   "source": [
    "def add_axis(axis,fig,line_width,sp,color):\n",
    "    origin = [0, 0, 0]\n",
    "    x_end = origin + axis\n",
    "    # Create traces for each axis\n",
    "    fig.add_trace(go.Scatter3d(x=[origin[0], x_end[0]], y=[origin[1], x_end[1]], z=[origin[2], x_end[2]], \n",
    "                               mode='lines', name=f'{sp}',line=dict(width=line_width,color = color)))\n",
    "    return fig\n",
    "\n",
    "def plot_rotation_matrix_axes(rotation_matrix,fig,sp,line_width):\n",
    "    # Extract axes vectors\n",
    "    x_axis = rotation_matrix[:, 0]\n",
    "    y_axis = rotation_matrix[:, 1]\n",
    "    z_axis = rotation_matrix[:, 2]\n",
    "    \n",
    "    # Define endpoints of axes\n",
    "  \n",
    "    # Create traces for each axis\n",
    "    fig = add_axis(x_axis,fig,line_width,f'X-axis_{sp}','red')\n",
    "    fig = add_axis(y_axis,fig,line_width,f'Y-axis_{sp}','green')\n",
    "    fig = add_axis(z_axis,fig,line_width,f'Z-axis_{sp}','blue')\n",
    "    \n",
    "    return fig\n",
    "    # Create figure and plot\n",
    "   \n",
    "\n",
    "frame = 2000 - 274\n",
    "\n",
    "fig = go.Figure()\n",
    "fig = plot_rotation_matrix_axes(np.dot(rot_mat[frame],rot_mat_sp)*10,fig,'sp',line_width = 3)\n",
    "fig = plot_rotation_matrix_axes(rot_mat[frame]*10,fig,'body',line_width = 10)\n",
    "fig = add_axis(acc[frame],fig,5,'acc','pink')\n",
    "fig = add_axis((acc_calc[frame]),fig,5,'acc_z_sp','black')\n",
    "fig = add_axis((acc_calc[frame] - np.array([0,0,1])*9.8),fig,5,'acc_z_sp - g_zlab','black')\n",
    "\n",
    "fig.show()\n",
    "\n",
    "# Plot the axes\n"
   ]
  }
 ],
 "metadata": {
  "kernelspec": {
   "display_name": "base",
   "language": "python",
   "name": "python3"
  },
  "language_info": {
   "codemirror_mode": {
    "name": "ipython",
    "version": 3
   },
   "file_extension": ".py",
   "mimetype": "text/x-python",
   "name": "python",
   "nbconvert_exporter": "python",
   "pygments_lexer": "ipython3",
   "version": "3.10.9"
  }
 },
 "nbformat": 4,
 "nbformat_minor": 2
}
