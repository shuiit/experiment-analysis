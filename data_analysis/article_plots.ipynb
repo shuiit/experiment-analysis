{
 "cells": [
  {
   "cell_type": "code",
   "execution_count": 30,
   "metadata": {},
   "outputs": [],
   "source": [
    "\n",
    "from Experiment import Experiment\n",
    "import matplotlib.pyplot as plt\n",
    "import Plotters \n",
    "import plotly.graph_objects as go\n",
    "import plotly\n",
    "import numpy as np\n",
    "\n",
    "import time\n",
    "import matplotlib.cm as colormap\n",
    "\n",
    "%matplotlib qt\n",
    "\n",
    "\n",
    "loadir = 'H:/My Drive/dark 2022/csv_dark' # dir to save the data frame in # H:\\My Drive\\Ronis Exp\\sagiv\\data_analysis\n",
    "exp_name =['manipulated_2022_02_03_dark','manipulated_2023_08_09_60ms']\n",
    "\n",
    "# ['manipulated_2023_08_07_10ms',\n",
    "#             'manipulated_2023_08_06_40ms',\n",
    "#            'manipulated_2023_08_09_60ms',\n",
    "#            'manipulated_2023_08_09_80ms',\n",
    "#            'manipulated_2023_08_10_100ms',\n",
    "#            'manipulated_2022_02_03_dark',\n",
    "#            'manipulated_2022_01_31_darkdown']\n",
    "\n",
    "def dont_show_movs(exp_name,movs_to_del):\n",
    "    return [mov_name for mov_name in experiments[exp_name].mov_names if mov_name not in movs_to_del ] \n",
    "\n",
    "mov_dark_delete = ['mov30','mov40','mov57','mov59']\n",
    "mov_100_delete = ['mov10','mov102','mov19','mov34','mov35','mov47','mov51','mov52','mov66','mov68','mov73','mov90']\n",
    "mov_80_delete = ['mov119','mov49','mov97','mov99']\n",
    "mov_40_delete = ['mov64']\n",
    "mov_60_delete = ['mov12','mov13','mov147','mov165','mov21','mov24','mov26','mov48','mov86']\n",
    "mov_10_delete = ['mov46','mov54']\n",
    "mov_5_delete = ['mov44']\n",
    "\n",
    "\n",
    "color_map = colormap.datad[\"tab10\"]['listed']\n",
    "\n",
    "experiments = {exp:Experiment(loadir,exp) for exp in exp_name} # load experiments\n"
   ]
  },
  {
   "cell_type": "code",
   "execution_count": 31,
   "metadata": {},
   "outputs": [
    {
     "name": "stderr",
     "output_type": "stream",
     "text": [
      "c:\\Users\\Roni\\Documents\\experiment-analysis\\data_analysis\\Movie.py:124: RuntimeWarning:\n",
      "\n",
      "invalid value encountered in arccos\n",
      "\n",
      "c:\\Users\\Roni\\Documents\\experiment-analysis\\data_analysis\\Movie.py:369: RuntimeWarning:\n",
      "\n",
      "divide by zero encountered in divide\n",
      "\n"
     ]
    },
    {
     "data": {
      "text/plain": [
       "[None, None]"
      ]
     },
     "execution_count": 31,
     "metadata": {},
     "output_type": "execute_result"
    }
   ],
   "source": [
    "# calculations - projections, frequency, angles\n",
    "\n",
    "[exp.from_vector_to_wing_body('Y_x_body',['vectors','body'])  for exp in experiments.values()] # smooth and derive\n",
    "\n",
    "\n",
    "[exp.smooth_prop_movies('CM_real_x_body',['','_dot','_dot_dot'],'body')  for exp in experiments.values()] # smooth and derive\n",
    "\n",
    "\n",
    "[exp.project_axes_movies(['X_x_body_projected','X_y_body_projected'], add_to_vectors = ['vectors','body'])  for exp in experiments.values()] # X_body axis projected to xy plane\n",
    "[exp.project_axes_movies(['Y_x_body_projected','Y_y_body_projected'],axis = 'Y_x_body',add_to_vectors = ['vectors','body'])  for exp in experiments.values()] # X_body axis projected to xy plane\n",
    "\n",
    "[exp.project_axes_movies(['CM_dot_xax','CM_dot_yax'],axis = 'CM_real_x_body_dot_smth',wing_body = 'body',add_to_vectors = ['body','vectors'])  for exp in experiments.values()] # Velocity direction in the projected X_body axes (xy plane) \n",
    "\n",
    "# calculate the size of the velocity projected on the xy plane\n",
    "[exp.project_prop_movies('CM_real_x_body_dot_smth',header_name = 'CM_dot_x',three_col = 2,ax_to_proj = 'X_x_body_projected',add_to_vectors = True)  for exp in experiments.values()]\n",
    "[exp.project_prop_movies('CM_real_x_body_dot_smth',header_name = 'CM_dot_y',three_col = 2,ax_to_proj = 'Y_x_body_projected',add_to_vectors = True)  for exp in experiments.values()]\n",
    "\n",
    "\n",
    "# calculate the size of the acceleration projected on the xy plane\n",
    "[exp.project_prop_movies('CM_real_x_body_dot_dot_smth',header_name = 'CM_dot_dot_x',three_col = 2,ax_to_proj = 'X_x_body_projected')  for exp in experiments.values()]\n",
    "[exp.project_prop_movies('CM_real_x_body_dot_dot_smth',header_name = 'CM_dot_dot_y',three_col = 2,ax_to_proj = 'Y_x_body_projected')  for exp in experiments.values()]\n",
    "\n",
    "[exp.pqr_movies() for exp in experiments.values()] # calculate p,q,r (angular velocity in body axis)\n",
    "\n",
    "[exp.mean_mean_props_movies('phi_rw','phi_lw','mean_wing','mean_mean_phi') for exp in experiments.values()] # calculate the mean value of two properties\n",
    "\n",
    "\n",
    "[exp.substruct_first_frame('yaw_body','body')  for exp in experiments.values()] # substract the zero frame from a property ( {prop}_min_ref_frame )\n",
    "\n",
    "# calculate the difference between current direction and another one at the same time:\n",
    "# the angle between Xbody on the xy plane and the velocity direction on the xy plane \n",
    "[exp.delta_ang_all_time_movies('X_x_body_projected','CM_dot_xax','slip_angle_beta',three_col = 2) for exp in experiments.values()] \n",
    "\n",
    "# calculate the difference in angle between current property and in referance frame:\n",
    "# the angle between Xbody on the xy (in 0 time) plane and Xbody on xy plane \n",
    "[exp.delta_ref_ang_movies('X_x_body_projected','delta_ang_Xax',axis = 'X_x_body_projected')  for exp in experiments.values()]\n",
    "\n",
    "# the angle between Xbody on the xy (in 0 time) plane and the velocity direction on the xy plane \n",
    "[exp.delta_ref_ang_movies('CM_dot_xax','delta_ang_CM_dot_x',axis = 'CM_dot_xax',delta_ang = 0) for exp in experiments.values()]\n",
    "\n",
    "# project velocity and accelerations\n",
    "[exp.project_prop_all_axes_movies('CM_real_x_body_dot_smth',header_name = 'CM_dot_x',three_col = 2,ax_to_proj = 'X_x_body_projected')  for exp in experiments.values()]\n",
    "[exp.project_prop_all_axes_movies('CM_real_x_body_dot_smth',header_name = 'CM_dot_y',three_col = 2,ax_to_proj = 'Y_x_body_projected')  for exp in experiments.values()]\n",
    "\n",
    "[exp.project_prop_all_axes_movies('CM_real_x_body_dot_dot_smth',header_name = 'CM_dot_dot_y',three_col = 2,ax_to_proj = 'Y_x_body_projected')  for exp in experiments.values()]\n",
    "[exp.project_prop_all_axes_movies('CM_real_x_body_dot_dot_smth',header_name = 'CM_dot_dot_x',three_col = 2,ax_to_proj = 'X_x_body_projected')  for exp in experiments.values()]\n",
    "\n",
    "[exp.project_prop_all_axes_movies('CM_real_x_body_dot_dot_smth',header_name = 'CM_dot_dot_y_body',three_col = 2,ax_to_proj = 'Y_x_body')  for exp in experiments.values()]\n",
    "\n",
    "# calculate amplitude of phi and frequency\n",
    "[exp.calculate_phi_amp_movies('rw','mean_body')  for exp in experiments.values()]\n",
    "[exp.calculate_phi_amp_movies('lw','mean_body')  for exp in experiments.values()]\n",
    "\n",
    "[exp.calculate_freq_movies('phi_rw_min_idx', 'mean_body')  for exp in experiments.values()]\n",
    "[exp.calculate_freq_movies('phi_lw_min_idx', 'mean_body')  for exp in experiments.values()]\n",
    "\n",
    "\n",
    "# averge properties by stroke \n",
    "props_to_mean = ['x','y','z']\n",
    "[[exp.mean_by_stroke_movies(f'CM_real_{x}_body_dot_dot_smth','mean_body','body')  for exp in experiments.values()] for x in props_to_mean]\n",
    "[[exp.mean_by_stroke_movies(f'CM_dot_dot_{x}_projected_all_axes','mean_body','body')  for exp in experiments.values()] for x in ['x','y']]\n",
    "[[exp.mean_by_stroke_movies(f'CM_dot_x_projected','mean_body','body')  for exp in experiments.values()] for x in props_to_mean]\n",
    "\n",
    "[[exp.mean_by_stroke_movies(f'X_{x}_body_projected','mean_body','body')  for exp in experiments.values()] for x in ['x','y']]\n",
    "[[exp.mean_by_stroke_movies(f'Y_{x}_body_projected','mean_body','body')  for exp in experiments.values()] for x in ['x','y']]\n",
    "\n",
    "\n",
    "# histogram calculations\n",
    "exp = experiments[list(experiments.keys())[0]]\n",
    "[exp.get_peaks_movies('q','max') for exp in experiments.values()]\n",
    "[exp.get_peaks_movies('CM_dot_dot_x_projected','min') for exp in experiments.values()]\n",
    "[exp.get_peaks_movies('pitch_y_frame','max') for exp in experiments.values()]\n",
    "[exp.get_peaks_movies('pitch_body','max') for exp in experiments.values()]\n",
    "[exp.get_peaks_movies('CM_dot_x_projected','min') for exp in experiments.values()]\n",
    "[exp.get_peaks_movies('CM_dot_x_projected','zero_v') for exp in experiments.values()]\n",
    "[exp.get_peaks_movies('delta_ang_Xax','max') for exp in experiments.values()]\n",
    "[exp.get_peaks_movies('CM_dot_dot_x_projected','peaks_max',t0 = 5, t1 = 100) for exp in experiments.values()]\n",
    "[exp.get_peaks_movies('CM_dot_x_projected','half_v') for exp in experiments.values()]\n",
    "\n",
    "[exp.subtract_interest_time_from_time('CM_dot_x_projected_zero_v','time_m_zero_v') for exp in experiments.values()]\n"
   ]
  },
  {
   "cell_type": "markdown",
   "metadata": {},
   "source": [
    "PLOTS"
   ]
  },
  {
   "cell_type": "code",
   "execution_count": 32,
   "metadata": {},
   "outputs": [],
   "source": [
    "# plot pitch and roll vs acceleration\n",
    "fig = go.Figure()\n",
    "exp = experiments['manipulated_2022_02_03_dark']\n",
    "exp.plot_prop_movies('pitch_body','body',fig,case = 'plot_mov',prop_x = 'CM_dot_dot_x_projected_all_axes' ,add_horizontal_line=None,name = 'calculated')\n",
    "fig.show()\n",
    "\n",
    "fig = go.Figure()\n",
    "exp.plot_prop_movies('roll_body','body',fig,case = 'plot_mov',prop_x = 'CM_dot_dot_y_projected_all_axes' ,add_horizontal_line=None,name = 'calculated')\n",
    "fig.show()"
   ]
  },
  {
   "cell_type": "code",
   "execution_count": 44,
   "metadata": {},
   "outputs": [],
   "source": [
    "# plot slip angle and delta yaw\n",
    "\n",
    "exp = experiments['manipulated_2022_02_03_dark']\n",
    "fig = go.Figure()\n",
    "exp.plot_prop_movies('slip_angle_beta','body',fig,case = 'plot_mov',prop_x = 'time' ,add_horizontal_line=None)\n",
    "fig.show()\n",
    "\n",
    "fig = go.Figure()\n",
    "exp.plot_prop_movies('delta_ang_Xax','body',fig,case = 'plot_mov',prop_x = 'time' ,add_horizontal_line=None)\n",
    "fig.show()"
   ]
  },
  {
   "cell_type": "code",
   "execution_count": 33,
   "metadata": {},
   "outputs": [],
   "source": [
    "# plot body angles\n",
    "exp = experiments['manipulated_2023_08_09_60ms']\n",
    "fig = go.Figure()\n",
    "exp.plot_prop_movies('roll_body','body',fig,case = 'plot_mov',prop_x = 'time' ,add_horizontal_line=None)\n",
    "fig.show()\n",
    "\n",
    "fig = go.Figure()\n",
    "exp.plot_prop_movies('pitch_body','body',fig,case = 'plot_mov',prop_x = 'time' ,add_horizontal_line=None)\n",
    "fig.show()\n",
    "\n",
    "fig = go.Figure()\n",
    "exp.plot_prop_movies('yaw_body','body',fig,case = 'plot_mov',prop_x = 'time' ,add_horizontal_line=None)\n",
    "fig.show()\n"
   ]
  },
  {
   "cell_type": "code",
   "execution_count": 47,
   "metadata": {},
   "outputs": [],
   "source": [
    "# velocity and acceleration\n",
    "\n",
    "fig = go.Figure()\n",
    "exp.plot_prop_movies('CM_dot_x_projected','body',fig,case = 'plot_mov',prop_x = 'time' ,add_horizontal_line=None)\n",
    "fig.show()\n",
    "\n",
    "fig = go.Figure()\n",
    "exp.plot_prop_movies('CM_dot_dot_x_projected','body',fig,case = 'plot_mov',prop_x = 'time' ,add_horizontal_line=None)\n",
    "fig.show()\n",
    "\n",
    "\n",
    "fig = go.Figure()\n",
    "exp.plot_prop_movies('CM_real_z_body_dot_smth','body',fig,case = 'plot_mov',prop_x = 'time' ,add_horizontal_line=None)\n",
    "fig.show()"
   ]
  },
  {
   "cell_type": "code",
   "execution_count": 49,
   "metadata": {},
   "outputs": [],
   "source": [
    "exp = experiments['manipulated_2023_08_09_60ms']\n",
    "fig = go.Figure()\n",
    "exp.plot_prop_movies('CM_real_z_body_dot_smth','body',fig,case = 'plot_mov',prop_x = 'time' ,add_horizontal_line=None)\n",
    "fig.show()"
   ]
  },
  {
   "cell_type": "code",
   "execution_count": 35,
   "metadata": {},
   "outputs": [],
   "source": [
    "# plot wings angle\n",
    "\n",
    "phi_r_color = [[256,0,0]]*len(exp.mov_names)\n",
    "phi_l_color = [[0,0,256]]*len(exp.mov_names)\n",
    "\n",
    "fig = go.Figure()\n",
    "exp.plot_prop_movies('theta_rw','wing',fig,case = 'plot_mov',prop_x = 'time',color = phi_r_color )\n",
    "exp.plot_prop_movies('theta_lw','wing',fig,case = 'plot_mov',prop_x = 'time', color = phi_l_color)\n",
    "\n",
    "exp.plot_prop_movies('psi_rw','wing',fig,case = 'plot_mov',prop_x = 'time',color = phi_r_color )\n",
    "exp.plot_prop_movies('psi_lw','wing',fig,case = 'plot_mov',prop_x = 'time', color = phi_l_color)\n",
    "\n",
    "exp.plot_prop_movies('phi_lw','wing',fig,case = 'plot_mov',prop_x = 'time',color = phi_l_color )\n",
    "exp.plot_prop_movies('phi_rw','wing',fig,case = 'plot_mov',prop_x = 'time', color = phi_r_color)\n",
    "\n",
    "fig.show()\n",
    "\n"
   ]
  },
  {
   "cell_type": "code",
   "execution_count": 36,
   "metadata": {},
   "outputs": [],
   "source": [
    "exp = experiments['manipulated_2023_08_09_60ms']\n",
    "mov = ['mov101']\n",
    "exp.plot_3d_traj_movies('CM_dot_x_projected',mov = mov)\n",
    "fig.show()\n",
    "\n"
   ]
  },
  {
   "cell_type": "code",
   "execution_count": 37,
   "metadata": {},
   "outputs": [],
   "source": [
    "time_vec = [10,60,100,220,280]\n",
    "\n",
    "xbins = dict(start=0,end=360,size = 10)\n",
    "fig = Plotters.subplot_histograms_delta_prop(time_vec,experiments,'delta_ang_CM_dot_x',color_map,xbins,'body')\n",
    "fig.show()\n"
   ]
  },
  {
   "cell_type": "code",
   "execution_count": 38,
   "metadata": {},
   "outputs": [
    {
     "name": "stderr",
     "output_type": "stream",
     "text": [
      "c:\\Users\\Roni\\Documents\\experiment-analysis\\data_analysis\\Movie.py:345: RuntimeWarning:\n",
      "\n",
      "Mean of empty slice\n",
      "\n",
      "c:\\Users\\Roni\\Documents\\experiment-analysis\\data_analysis\\Movie.py:345: RuntimeWarning:\n",
      "\n",
      "Mean of empty slice\n",
      "\n",
      "c:\\Users\\Roni\\Documents\\experiment-analysis\\data_analysis\\Movie.py:345: RuntimeWarning:\n",
      "\n",
      "Mean of empty slice\n",
      "\n",
      "c:\\Users\\Roni\\Documents\\experiment-analysis\\data_analysis\\Movie.py:345: RuntimeWarning:\n",
      "\n",
      "Mean of empty slice\n",
      "\n"
     ]
    },
    {
     "data": {
      "text/plain": [
       "'I:/My Drive/Research/Dark/article/figures/html/CM_dot_x_violin_plot.html'"
      ]
     },
     "execution_count": 38,
     "metadata": {},
     "output_type": "execute_result"
    }
   ],
   "source": [
    "\n",
    "t_vec = [0,20,75,150,200]\n",
    "delta_t = 73*5/16000*1000\n",
    "prop = 'freq_phi_rw_min_idx'\n",
    "data = [exp.mean_prop_time_vector_movies(prop,delta_t,t_vec, mov = False) for exp in  experiments.values()]\n",
    "\n",
    "\n",
    "fig = go.Figure()\n",
    "[Plotters.vplot(dat,fig,'t0','freq_phi_rw_min_idx',exp_name) for dat,exp_name in zip(data,experiments.keys())]\n",
    "fig.show()\n",
    "\n",
    "\n",
    "prop = 'CM_dot_x_projected'\n",
    "data = [exp.mean_prop_time_vector_movies(prop,delta_t,t_vec, mov = False,sub_mean = False) for exp in  experiments.values()]\n",
    "\n",
    "\n",
    "fig = go.Figure()\n",
    "[Plotters.vplot(dat,fig,'t0','CM_dot_x_projected',exp_name) for dat,exp_name in zip(data,experiments.keys())]\n",
    "fig.show()\n",
    "\n",
    "plotly.offline.plot(fig, filename=f'I:/My Drive/Research/Dark/article/figures/html/CM_dot_x_violin_plot.html',auto_open=False)\n",
    "\n"
   ]
  },
  {
   "cell_type": "code",
   "execution_count": 39,
   "metadata": {},
   "outputs": [],
   "source": [
    "\n",
    "point_name = 'CM_dot_x_projected_zero_v'\n",
    "list_trace,layout = zip(*[exp.interest_point_hist(point_name,xbins = dict(start=0,end=300, size=5)) for exp in experiments.values()])\n",
    "\n",
    "fig = go.Figure(data=list_trace, layout=layout[0]).show()\n",
    "\n",
    "\n",
    "point_name = 'CM_dot_dot_x_projected_min'\n",
    "list_trace,layout = zip(*[exp.interest_point_hist(point_name,xbins = dict(start=0,end=300, size=5)) for exp in experiments.values()])\n",
    "fig = go.Figure(data=list_trace, layout=layout[0]).show()\n",
    "\n",
    "\n",
    "point_name = 'CM_dot_dot_x_projected_peaks_max'\n",
    "list_trace,layout = zip(*[exp.interest_point_hist(point_name,xbins = dict(start=0,end=300, size=5)) for exp in experiments.values()])\n",
    "fig = go.Figure(data=list_trace, layout=layout[0]).show()\n"
   ]
  }
 ],
 "metadata": {
  "kernelspec": {
   "display_name": "base",
   "language": "python",
   "name": "python3"
  },
  "language_info": {
   "codemirror_mode": {
    "name": "ipython",
    "version": 3
   },
   "file_extension": ".py",
   "mimetype": "text/x-python",
   "name": "python",
   "nbconvert_exporter": "python",
   "pygments_lexer": "ipython3",
   "version": "3.10.9"
  }
 },
 "nbformat": 4,
 "nbformat_minor": 2
}
