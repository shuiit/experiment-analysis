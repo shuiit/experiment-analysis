{
 "cells": [
  {
   "cell_type": "code",
   "execution_count": 1,
   "metadata": {},
   "outputs": [
    {
     "data": {
      "text/plain": [
       "[None, None, None, None, None, None, None]"
      ]
     },
     "execution_count": 1,
     "metadata": {},
     "output_type": "execute_result"
    }
   ],
   "source": [
    "\n",
    "from Experiment import Experiment\n",
    "import matplotlib.pyplot as plt\n",
    "import Plotters \n",
    "import plotly.graph_objects as go\n",
    "import plotly\n",
    "import numpy as np\n",
    "\n",
    "import time\n",
    "import matplotlib.cm as colormap\n",
    "\n",
    "%matplotlib qt\n",
    "\n",
    "loadir = 'H:/My Drive/dark 2022/csv_dark' # dir to save the data frame in # H:\\My Drive\\Ronis Exp\\sagiv\\data_analysis\n",
    "exp_name =['manipulated_2022_02_03_dark',\n",
    "           'manipulated_2023_08_10_100ms',\n",
    "           'manipulated_2023_08_09_80ms',\n",
    "           'manipulated_2023_08_09_60ms',\n",
    "           'manipulated_2023_08_06_40ms',\n",
    "           'manipulated_2023_08_07_10ms',\n",
    "           'manipulated_2023_08_07_5ms',\n",
    "] \n",
    "color_map = colormap.datad[\"tab10\"]['listed']\n",
    "\n",
    "\n",
    "experiments = {exp:Experiment(loadir,exp) for exp in exp_name}\n",
    "[exp.smooth_prop_movies('CM_real_x_body',['','_dot','_dot_dot'],'body')  for exp in experiments.values()]\n",
    "[exp.project_prop_movies('CM_real_x_body_dot_smth')  for exp in experiments.values()]\n",
    "[exp.project_prop_movies('CM_real_x_body_dot_dot_smth',header_name = 'CM_dot_dot')  for exp in experiments.values()]\n",
    "zero_velocity = [exp.zero_velocity_movies('CM_dot_dot_projected') for exp in experiments.values()]\n",
    "\n",
    "[exp.pqr_movies() for exp in experiments.values()]\n",
    "[exp.mean_mean_props_movies('phi_rw','phi_lw','mean_wing','mean_mean_phi') for exp in experiments.values()]\n",
    "\n",
    "[exp.substruct_first_frame('yaw_body','body') for exp in experiments.values()]\n",
    "\n"
   ]
  },
  {
   "cell_type": "markdown",
   "metadata": {},
   "source": [
    "Calculate first peak/ min/ max"
   ]
  },
  {
   "cell_type": "code",
   "execution_count": 2,
   "metadata": {},
   "outputs": [
    {
     "data": {
      "text/plain": [
       "[None, None, None, None, None, None, None]"
      ]
     },
     "execution_count": 2,
     "metadata": {},
     "output_type": "execute_result"
    }
   ],
   "source": [
    "fig = go.Figure()\n",
    "exp = experiments[list(experiments.keys())[0]]\n",
    "[exp.get_peaks_movies('pitch_y_frame_dot_dot','peaks',t0 = 5, t1 = 50) for exp in experiments.values()]\n",
    "[exp.get_peaks_movies('pitch_y_frame_dot_dot','min') for exp in experiments.values()]\n",
    "[exp.get_peaks_movies('pitch_body','peaks',t0 = 40, t1 = 100) for exp in experiments.values()]\n",
    "[exp.get_peaks_movies('CM_dot_dot_projected','min') for exp in experiments.values()]\n",
    "\n",
    "[exp.get_peaks_movies('CM_dot_projected','min') for exp in experiments.values()]\n",
    "\n"
   ]
  },
  {
   "cell_type": "markdown",
   "metadata": {},
   "source": [
    "Plot histograms of peaks, plot movies time seires data with the max/min/peak data point on them"
   ]
  },
  {
   "cell_type": "code",
   "execution_count": 48,
   "metadata": {},
   "outputs": [
    {
     "ename": "KeyError",
     "evalue": "'pitch_body_max'",
     "output_type": "error",
     "traceback": [
      "\u001b[1;31m---------------------------------------------------------------------------\u001b[0m",
      "\u001b[1;31mKeyError\u001b[0m                                  Traceback (most recent call last)",
      "Cell \u001b[1;32mIn[48], line 7\u001b[0m\n\u001b[0;32m      4\u001b[0m fig \u001b[38;5;241m=\u001b[39m go\u001b[38;5;241m.\u001b[39mFigure(data\u001b[38;5;241m=\u001b[39mlist_trace, layout\u001b[38;5;241m=\u001b[39mlayout[\u001b[38;5;241m0\u001b[39m])\u001b[38;5;241m.\u001b[39mshow()\n\u001b[0;32m      6\u001b[0m point_name \u001b[38;5;241m=\u001b[39m \u001b[38;5;124m'\u001b[39m\u001b[38;5;124mpitch_body_max\u001b[39m\u001b[38;5;124m'\u001b[39m\n\u001b[1;32m----> 7\u001b[0m list_trace,layout \u001b[38;5;241m=\u001b[39m \u001b[38;5;28mzip\u001b[39m(\u001b[38;5;241m*\u001b[39m[exp\u001b[38;5;241m.\u001b[39minterest_point_hist(point_name,xbins \u001b[38;5;241m=\u001b[39m \u001b[38;5;28mdict\u001b[39m(start\u001b[38;5;241m=\u001b[39m\u001b[38;5;241m0\u001b[39m,end\u001b[38;5;241m=\u001b[39m\u001b[38;5;241m300\u001b[39m, size\u001b[38;5;241m=\u001b[39m\u001b[38;5;241m5\u001b[39m)) \u001b[38;5;28;01mfor\u001b[39;00m exp \u001b[38;5;129;01min\u001b[39;00m experiments\u001b[38;5;241m.\u001b[39mvalues()])\n\u001b[0;32m      8\u001b[0m fig \u001b[38;5;241m=\u001b[39m go\u001b[38;5;241m.\u001b[39mFigure(data\u001b[38;5;241m=\u001b[39mlist_trace, layout\u001b[38;5;241m=\u001b[39mlayout[\u001b[38;5;241m0\u001b[39m])\u001b[38;5;241m.\u001b[39mshow()\n\u001b[0;32m     11\u001b[0m point_name \u001b[38;5;241m=\u001b[39m \u001b[38;5;124m'\u001b[39m\u001b[38;5;124mCM_dot_dot_projected_min\u001b[39m\u001b[38;5;124m'\u001b[39m\n",
      "Cell \u001b[1;32mIn[48], line 7\u001b[0m, in \u001b[0;36m<listcomp>\u001b[1;34m(.0)\u001b[0m\n\u001b[0;32m      4\u001b[0m fig \u001b[38;5;241m=\u001b[39m go\u001b[38;5;241m.\u001b[39mFigure(data\u001b[38;5;241m=\u001b[39mlist_trace, layout\u001b[38;5;241m=\u001b[39mlayout[\u001b[38;5;241m0\u001b[39m])\u001b[38;5;241m.\u001b[39mshow()\n\u001b[0;32m      6\u001b[0m point_name \u001b[38;5;241m=\u001b[39m \u001b[38;5;124m'\u001b[39m\u001b[38;5;124mpitch_body_max\u001b[39m\u001b[38;5;124m'\u001b[39m\n\u001b[1;32m----> 7\u001b[0m list_trace,layout \u001b[38;5;241m=\u001b[39m \u001b[38;5;28mzip\u001b[39m(\u001b[38;5;241m*\u001b[39m[\u001b[43mexp\u001b[49m\u001b[38;5;241;43m.\u001b[39;49m\u001b[43minterest_point_hist\u001b[49m\u001b[43m(\u001b[49m\u001b[43mpoint_name\u001b[49m\u001b[43m,\u001b[49m\u001b[43mxbins\u001b[49m\u001b[43m \u001b[49m\u001b[38;5;241;43m=\u001b[39;49m\u001b[43m \u001b[49m\u001b[38;5;28;43mdict\u001b[39;49m\u001b[43m(\u001b[49m\u001b[43mstart\u001b[49m\u001b[38;5;241;43m=\u001b[39;49m\u001b[38;5;241;43m0\u001b[39;49m\u001b[43m,\u001b[49m\u001b[43mend\u001b[49m\u001b[38;5;241;43m=\u001b[39;49m\u001b[38;5;241;43m300\u001b[39;49m\u001b[43m,\u001b[49m\u001b[43m \u001b[49m\u001b[43msize\u001b[49m\u001b[38;5;241;43m=\u001b[39;49m\u001b[38;5;241;43m5\u001b[39;49m\u001b[43m)\u001b[49m\u001b[43m)\u001b[49m \u001b[38;5;28;01mfor\u001b[39;00m exp \u001b[38;5;129;01min\u001b[39;00m experiments\u001b[38;5;241m.\u001b[39mvalues()])\n\u001b[0;32m      8\u001b[0m fig \u001b[38;5;241m=\u001b[39m go\u001b[38;5;241m.\u001b[39mFigure(data\u001b[38;5;241m=\u001b[39mlist_trace, layout\u001b[38;5;241m=\u001b[39mlayout[\u001b[38;5;241m0\u001b[39m])\u001b[38;5;241m.\u001b[39mshow()\n\u001b[0;32m     11\u001b[0m point_name \u001b[38;5;241m=\u001b[39m \u001b[38;5;124m'\u001b[39m\u001b[38;5;124mCM_dot_dot_projected_min\u001b[39m\u001b[38;5;124m'\u001b[39m\n",
      "File \u001b[1;32mc:\\Users\\Roni\\Documents\\experiment-analysis\\data_analysis\\Experiment.py:91\u001b[0m, in \u001b[0;36mExperiment.interest_point_hist\u001b[1;34m(self, point_name, prop, **kwargs)\u001b[0m\n\u001b[0;32m     90\u001b[0m \u001b[38;5;28;01mdef\u001b[39;00m \u001b[38;5;21minterest_point_hist\u001b[39m(\u001b[38;5;28mself\u001b[39m,point_name,prop \u001b[38;5;241m=\u001b[39m \u001b[38;5;124m'\u001b[39m\u001b[38;5;124mtime\u001b[39m\u001b[38;5;124m'\u001b[39m,\u001b[38;5;241m*\u001b[39m\u001b[38;5;241m*\u001b[39mkwargs):\n\u001b[1;32m---> 91\u001b[0m     \u001b[38;5;28;01mreturn\u001b[39;00m Plotters\u001b[38;5;241m.\u001b[39mhistogram(\u001b[38;5;28;43mself\u001b[39;49m\u001b[38;5;241;43m.\u001b[39;49m\u001b[43minterest_points\u001b[49m\u001b[43m[\u001b[49m\u001b[43mpoint_name\u001b[49m\u001b[43m]\u001b[49m[:,\u001b[38;5;28mself\u001b[39m\u001b[38;5;241m.\u001b[39mbody_header[prop]],\u001b[38;5;28mself\u001b[39m\u001b[38;5;241m.\u001b[39mexperiment_name,prop, point_name,\u001b[38;5;241m*\u001b[39m\u001b[38;5;241m*\u001b[39mkwargs)\n",
      "\u001b[1;31mKeyError\u001b[0m: 'pitch_body_max'"
     ]
    }
   ],
   "source": [
    "# Histograms\n",
    "point_name = 'pitch_y_frame_dot_dot_min'\n",
    "list_trace,layout = zip(*[exp.interest_point_hist(point_name,xbins = dict(start=0,end=300, size=5)) for exp in experiments.values()])\n",
    "fig = go.Figure(data=list_trace, layout=layout[0]).show()\n",
    "\n",
    "point_name = 'pitch_body_max'\n",
    "list_trace,layout = zip(*[exp.interest_point_hist(point_name,xbins = dict(start=0,end=300, size=5)) for exp in experiments.values()])\n",
    "fig = go.Figure(data=list_trace, layout=layout[0]).show()\n",
    "\n",
    "\n",
    "point_name = 'CM_dot_dot_projected_min'\n",
    "list_trace,layout = zip(*[exp.interest_point_hist(point_name,xbins = dict(start=0,end=300, size=5)) for exp in experiments.values()])\n",
    "fig = go.Figure(data=list_trace, layout=layout[0]).show()\n",
    "\n",
    "\n",
    "# time series of movies with min/max on them\n",
    "exp = experiments['manipulated_2023_08_06_40ms']\n",
    "fig = go.Figure()\n",
    "exp.plot_prop_movies('pitch_y_frame_dot_dot','body',fig,case = 'plot_mov',prop_x = 'time')\n",
    "exp.add_point_to_plot_movies('pitch_y_frame_dot_dot_peaks','pitch_y_frame_dot_dot',fig) \n",
    "fig.show()\n",
    "\n",
    "fig = go.Figure()\n",
    "exp.plot_prop_movies('pitch_y_frame','body',fig,case = 'plot_mov',prop_x = 'time')\n",
    "exp.add_point_to_plot_movies('pitch_y_frame_dot_dot_min','pitch_y_frame',fig) \n",
    "fig.show()\n",
    "\n",
    "\n",
    "fig = go.Figure()\n",
    "exp.plot_prop_movies('pitch_y_frame_dot_dot','body',fig,case = 'plot_mov',prop_x = 'time')\n",
    "exp.add_point_to_plot_movies('pitch_y_frame_max','pitch_y_frame_dot_dot',fig) \n",
    "fig.show()\n",
    "\n",
    "\n",
    "fig = go.Figure()\n",
    "exp.plot_prop_movies('pitch_y_frame_dot','body',fig,case = 'plot_mov',prop_x = 'time')\n",
    "exp.add_point_to_plot_movies('CM_dot_dot_projected_min','pitch_y_frame_dot',fig) \n",
    "fig.show()\n",
    "\n",
    "# \n"
   ]
  },
  {
   "cell_type": "code",
   "execution_count": 52,
   "metadata": {},
   "outputs": [],
   "source": [
    "fig = go.Figure()\n",
    "exp = experiments['manipulated_2023_08_06_40ms']\n",
    "exp.plot_prop_movies('CM_dot_projected','body',fig,case = 'plot_mov',prop_x = 'time')\n",
    "fig.show()\n"
   ]
  },
  {
   "cell_type": "code",
   "execution_count": 54,
   "metadata": {},
   "outputs": [],
   "source": [
    "\n",
    "exp = experiments['manipulated_2023_08_10_100ms']\n",
    "mov = ['mov59','mov35']\n",
    "exp.plot_3d_traj_movies('CM_dot_projected',mov = mov)\n",
    "\n",
    "\n",
    "exp = experiments['manipulated_2023_08_06_40ms']\n",
    "mov = ['mov92','mov86']\n",
    "exp.plot_3d_traj_movies('CM_dot_projected',mov = mov)\n"
   ]
  },
  {
   "cell_type": "code",
   "execution_count": 15,
   "metadata": {},
   "outputs": [],
   "source": [
    "color_r = [(250,0,0)]*len(exp.mov_names)\n",
    "color_l = [(0,0,250)]*len(exp.mov_names)\n",
    "\n",
    "fig = go.Figure()\n",
    "exp.plot_prop_movies('phi_lw','wing',fig,case = 'plot_mov',prop_x = 'time',color = color_l)\n",
    "exp.plot_prop_movies('phi_rw','wing',fig,case = 'plot_mov',prop_x = 'time',color = color_r)\n",
    "fig.show()"
   ]
  },
  {
   "cell_type": "code",
   "execution_count": 36,
   "metadata": {},
   "outputs": [
    {
     "data": {
      "text/plain": [
       "{'time': 0,\n",
       " 'frames': 1,\n",
       " 'phi_rw': 2,\n",
       " 'theta_rw': 3,\n",
       " 'psi_rw': 4,\n",
       " 'phi_lw': 5,\n",
       " 'theta_lw': 6,\n",
       " 'psi_lw': 7,\n",
       " 'phi_rw_max_idx': 8,\n",
       " 'phi_rw_max_val': 9,\n",
       " 'phi_lw_max_idx': 10,\n",
       " 'phi_lw_max_val': 11,\n",
       " 'phi_rw_min_idx': 12,\n",
       " 'phi_rw_min_val': 13,\n",
       " 'phi_lw_min_idx': 14,\n",
       " 'phi_lw_min_val': 15,\n",
       " 'mean_idx': 16,\n",
       " 'mean_mean_phi': 17}"
      ]
     },
     "execution_count": 36,
     "metadata": {},
     "output_type": "execute_result"
    }
   ],
   "source": [
    "mov.header['mean_wing']"
   ]
  },
  {
   "cell_type": "code",
   "execution_count": 37,
   "metadata": {},
   "outputs": [
    {
     "data": {
      "text/plain": [
       "10"
      ]
     },
     "execution_count": 37,
     "metadata": {},
     "output_type": "execute_result"
    }
   ],
   "source": [
    "exp = experiments['manipulated_2023_08_10_100ms']\n",
    "mov =exp.get_mov('mov52')\n",
    "plt.plot(mov.data['mean_wing'][:,0],mov.data['mean_wing'][:,9], color = 'red')\n",
    "plt.plot(mov.data['mean_wing'][:,0],mov.data['mean_wing'][:,11],color = 'blue')\n",
    "\n",
    "plt.plot(mov.data['body'][:,10] ,mov.data['body'][:,0] -mov.data['body'][mov.ref_frame,0] - 180 )\n",
    "mov.header['body']['time']"
   ]
  },
  {
   "cell_type": "code",
   "execution_count": 16,
   "metadata": {},
   "outputs": [],
   "source": [
    "\n",
    "fig = go.Figure()\n",
    "exp.plot_prop_movies('roll_body','body',fig,case = 'plot_mov',prop_x = 'time')\n",
    "exp.plot_prop_movies('yaw_body_min_ref_frame','body',fig,case = 'plot_mov',prop_x = 'time',yaxis = 'y2')\n",
    "\n",
    "# yax_dict[f\"yaxis2\"] = (dict(title=prop,titlefont=dict(color=color),tickfont=dict(color=color),side = side[i],position=position[i]))\n",
    "\n",
    "\n",
    "\n",
    "\n",
    "fig.update_layout(\n",
    "    xaxis=dict(domain=[0, 0.95]),\n",
    "    yaxis=dict(title='pitch_body', titlefont=dict(color='red'), tickfont=dict(color='red'), side='left', position=0),\n",
    "    yaxis2=dict(title='yaw_body_min_ref_frame', titlefont=dict(color='green'), tickfont=dict(color='green'), side='right', position=0.95),\n",
    ")\n",
    "\n",
    "fig.show()"
   ]
  },
  {
   "cell_type": "code",
   "execution_count": 6,
   "metadata": {},
   "outputs": [],
   "source": [
    "\n",
    "fig = go.Figure()\n",
    "exp.plot_prop_movies('CM_real_z_body_dot_dot_smth','body',fig,case = 'plot_mov',prop_x = 'time')\n",
    "fig.show()"
   ]
  },
  {
   "cell_type": "code",
   "execution_count": 13,
   "metadata": {},
   "outputs": [],
   "source": [
    "exp = experiments['manipulated_2023_08_10_100ms']\n",
    "\n",
    "point_name = 'CM_dot_projected_min'\n",
    "list_trace,layout = zip(*[exp.interest_point_hist(point_name,xbins = dict(start=0,end=300, size=5)) for exp in experiments.values()])\n",
    "fig = go.Figure(data=list_trace, layout=layout[0]).show()\n",
    "\n",
    "\n",
    "fig = go.Figure()\n",
    "exp.plot_prop_movies('CM_dot_projected','body',fig,case = 'plot_mov',prop_x = 'time')\n",
    "exp.add_point_to_plot_movies('CM_dot_projected_min','CM_dot_projected',fig) \n",
    "fig.show()"
   ]
  },
  {
   "cell_type": "code",
   "execution_count": 4,
   "metadata": {},
   "outputs": [],
   "source": [
    "exp = experiments['manipulated_2023_08_10_100ms']\n",
    "\n",
    "point_name = 'pitch_body_peaks'\n",
    "list_trace,layout = zip(*[exp.interest_point_hist(point_name,xbins = dict(start=0,end=300, size=5)) for exp in experiments.values()])\n",
    "fig = go.Figure(data=list_trace, layout=layout[0]).show()\n",
    "\n",
    "\n",
    "fig = go.Figure()\n",
    "exp.plot_prop_movies('pitch_body','body',fig,case = 'plot_mov',prop_x = 'time')\n",
    "exp.add_point_to_plot_movies('pitch_body_peaks','pitch_body',fig) \n",
    "fig.show()"
   ]
  },
  {
   "cell_type": "code",
   "execution_count": 22,
   "metadata": {},
   "outputs": [],
   "source": [
    "\n",
    "fig = go.Figure()\n",
    "exp.plot_prop_movies('CM_dot_dot_projected','body',fig,case = 'plot_mov',prop_x = 'time')\n",
    "exp.add_point_to_plot_movies('CM_dot_dot_projected_min','CM_dot_dot_projected',fig) \n",
    "exp.plot_prop_movies('pitch_y_frame_dot_dot','body',fig,case = 'plot_mov',prop_x = 'time',yaxis = 'y2')\n",
    "exp.add_point_to_plot_movies('CM_dot_dot_projected_min','pitch_y_frame_dot_dot',fig,yaxis = 'y2') \n",
    "\n",
    "# yax_dict[f\"yaxis2\"] = (dict(title=prop,titlefont=dict(color=color),tickfont=dict(color=color),side = side[i],position=position[i]))\n",
    "\n",
    "\n",
    "\n",
    "\n",
    "fig.update_layout(\n",
    "    xaxis=dict(domain=[0, 0.95]),\n",
    "    yaxis=dict(title='CM_dot_dot_projected', titlefont=dict(color='red'), tickfont=dict(color='red'), side='left', position=0),\n",
    "    yaxis2=dict(title='pitch_body', titlefont=dict(color='green'), tickfont=dict(color='green'), side='right', position=0.95),\n",
    ")\n",
    "\n",
    "fig.show()"
   ]
  },
  {
   "cell_type": "markdown",
   "metadata": {},
   "source": [
    "Plot all experiments - time series"
   ]
  },
  {
   "cell_type": "code",
   "execution_count": 22,
   "metadata": {},
   "outputs": [],
   "source": [
    "fig = go.Figure()\n",
    "prop = 'pitch_y_frame_dot_dot'\n",
    "[exp.plot_prop_movies(prop,'body',fig,case = 'plot_exp',prop_x = 'time',color = color_map[idx],legend = exp.pertubation_name) for idx,exp in enumerate(experiments.values())]\n",
    "fig.show()"
   ]
  },
  {
   "cell_type": "markdown",
   "metadata": {},
   "source": [
    "Calculate and plot mean property (time series,  mean per frame of all movies)"
   ]
  },
  {
   "cell_type": "code",
   "execution_count": 8,
   "metadata": {},
   "outputs": [
    {
     "data": {
      "text/plain": [
       "dict_keys(['manipulated_2022_02_03_dark', 'manipulated_2023_08_10_100ms', 'manipulated_2023_08_09_80ms', 'manipulated_2023_08_09_60ms', 'manipulated_2023_08_06_40ms', 'manipulated_2023_08_07_10ms', 'manipulated_2023_08_07_5ms'])"
      ]
     },
     "execution_count": 8,
     "metadata": {},
     "output_type": "execute_result"
    }
   ],
   "source": [
    "experiments.keys()"
   ]
  },
  {
   "cell_type": "code",
   "execution_count": 18,
   "metadata": {},
   "outputs": [
    {
     "data": {
      "text/plain": [
       "dict_keys(['body', 'mean_body', 'mean_wing', 'vectors', 'wing'])"
      ]
     },
     "execution_count": 18,
     "metadata": {},
     "output_type": "execute_result"
    }
   ],
   "source": [
    "exp.get_mov('mov101').data.keys()"
   ]
  },
  {
   "cell_type": "code",
   "execution_count": 44,
   "metadata": {},
   "outputs": [],
   "source": [
    "from scipy import stats\n",
    "\n",
    "\n",
    "exp = experiments[list(experiments.keys())[0]]\n",
    "prop = 'pitch_y_frame'\n",
    "prop = 'r'\n",
    "prop = 'CM_dot_dot_projected'\n",
    "props = ['pitch_y_frame_dot_dot','p']\n",
    "\n",
    "window = (73*3)//2\n",
    "fig,ax = plt.subplots(2,1,sharex=True)\n",
    "max_prop = {}\n",
    "for idx,prop in enumerate(props):\n",
    "    max_prop[prop] = [] \n",
    "    for exp_name in list(experiments.keys())[0:3]:\n",
    "        exp = experiments[exp_name]\n",
    "        mov_to_keep = []\n",
    "        acc_mean,time_inter = exp.mean_time_series_prop(prop,'body')\n",
    "        time_to_check = (time_inter > 0 ) & (time_inter <100 )\n",
    "        time_for_max = time_inter[time_to_check]\n",
    "        max_prop[prop].append(time_for_max[np.nanargmax(acc_mean[time_to_check])])\n",
    "        ax[idx].plot(time_inter,acc_mean)"
   ]
  },
  {
   "cell_type": "markdown",
   "metadata": {},
   "source": [
    "Try PCA"
   ]
  },
  {
   "cell_type": "code",
   "execution_count": 19,
   "metadata": {},
   "outputs": [
    {
     "name": "stderr",
     "output_type": "stream",
     "text": [
      "C:\\Users\\Roni\\AppData\\Local\\Temp\\ipykernel_31184\\2630784800.py:13: RuntimeWarning:\n",
      "\n",
      "Mean of empty slice\n",
      "\n",
      "C:\\Users\\Roni\\AppData\\Local\\Temp\\ipykernel_31184\\2630784800.py:13: RuntimeWarning:\n",
      "\n",
      "Mean of empty slice\n",
      "\n",
      "C:\\Users\\Roni\\AppData\\Local\\Temp\\ipykernel_31184\\2630784800.py:13: RuntimeWarning:\n",
      "\n",
      "Mean of empty slice\n",
      "\n",
      "c:\\Users\\Roni\\anaconda3\\lib\\site-packages\\sklearn\\cluster\\_kmeans.py:1382: UserWarning:\n",
      "\n",
      "KMeans is known to have a memory leak on Windows with MKL, when there are less chunks than available threads. You can avoid it by setting the environment variable OMP_NUM_THREADS=1.\n",
      "\n"
     ]
    },
    {
     "name": "stdout",
     "output_type": "stream",
     "text": [
      "[0 0 0 0 0 0 0 2 2 2 0 0 2 1 0 0 1 0 2 2 2 2 2 0 0 2 2 2 0 0 0 2 0 0 2 2 0\n",
      " 0 2]\n"
     ]
    },
    {
     "data": {
      "text/plain": [
       "array([[ 2.58930919e-03, -3.21593360e-07, -9.99996648e-01],\n",
       "       [-9.99996645e-01, -7.69076209e-05, -2.58930916e-03]])"
      ]
     },
     "execution_count": 19,
     "metadata": {},
     "output_type": "execute_result"
    }
   ],
   "source": [
    "from sklearn.decomposition import PCA\n",
    "import pandas as pd\n",
    "from sklearn.cluster import KMeans\n",
    "\n",
    "mov_feat = []\n",
    "props = ['CM_dot_dot_projected','CM_dot_projected','pitch_y_frame_dot_dot']\n",
    "\n",
    "exp_pd = []\n",
    "for exp in list(experiments.values())[0:3]:\n",
    "    mov_feat = []\n",
    "    for idx,mov_name in enumerate(exp.mov_names):\n",
    "        mov = exp.get_mov(mov_name)\n",
    "        mov_feat.append(np.nanmean(mov.data['body'][15:60,:],axis = 0))\n",
    "\n",
    "    featpd_exp = pd.DataFrame(data = mov_feat,columns = mov.header['body'])\n",
    "    featpd_exp['exp_name'] = exp.experiment_name\n",
    "    featpd_exp['mov'] = exp.mov_names\n",
    "    exp_pd.append(featpd_exp)\n",
    "\n",
    "feat = pd.concat(exp_pd,axis = 0).dropna().reset_index()\n",
    "\n",
    "\n",
    "dataforpca = feat[props]\n",
    "n_comp = 2\n",
    "pca = PCA(n_components=n_comp)\n",
    "principalComponents = pca.fit_transform(dataforpca)\n",
    "principalDf = pd.DataFrame(data = principalComponents\n",
    "             , columns = [f'pca_{idx}' for idx in range(n_comp)])\n",
    "\n",
    "pca_name = [f'pca_{idx}' for idx in range(pca.n_components_)]\n",
    "\n",
    "\n",
    "featpd = pd.concat([feat, principalDf], axis = 1)\n",
    "kmeans = KMeans(n_clusters=3, random_state=0, n_init=\"auto\").fit(featpd[pca_name])\n",
    "print(kmeans.labels_)\n",
    "pca.components_\n"
   ]
  },
  {
   "cell_type": "code",
   "execution_count": 18,
   "metadata": {},
   "outputs": [
    {
     "name": "stderr",
     "output_type": "stream",
     "text": [
      "c:\\Users\\Roni\\Documents\\experiment-analysis\\data_analysis\\Experiment.py:112: RuntimeWarning:\n",
      "\n",
      "Mean of empty slice\n",
      "\n"
     ]
    }
   ],
   "source": [
    "\n",
    "fig = go.Figure()\n",
    "\n",
    "for lbl in np.unique(kmeans.labels_):\n",
    "    exp_names = np.unique(feat.iloc[kmeans.labels_==lbl]['exp_name'])\n",
    "    feat_lbl = feat.iloc[kmeans.labels_==lbl]\n",
    "    for idx,exp_name in enumerate(exp_names): \n",
    "        mov_exp_lbl = list(feat_lbl.loc[feat_lbl['exp_name'] == exp_name]['mov'])\n",
    "\n",
    "        prop = 'pitch_y_frame_dot'\n",
    "        prop = 'CM_dot_dot_projected'\n",
    "        # prop = 'pitch_body'\n",
    "\n",
    "        color_map = colormap.datad[\"tab10\"]['listed']\n",
    "\n",
    "        experiments[exp_name].plot_prop_movies(prop,'body',fig,mov = mov_exp_lbl,case = 'plot_exp',prop_x = 'time',color = color_map[lbl],legend = f'{exp_name}_cluster{lbl}')\n",
    "fig.show()\n",
    "# feat.iloc[kmeans.labels_==lbl]['exp_name'] == exp_names[0]\n",
    "from scipy import stats\n",
    "\n",
    "\n",
    "exp = experiments[list(experiments.keys())[0]]\n",
    "prop = 'pitch_y_frame'\n",
    "prop = 'q'\n",
    "prop = 'CM_dot_dot_projected'\n",
    "props = ['pitch_y_frame_dot_dot','pitch_y_frame_dot']\n",
    "\n",
    "window = (73*3)//2\n",
    "fig,ax = plt.subplots(2,1,sharex=True)\n",
    "max_prop = {}\n",
    "for idx,prop in enumerate(props):\n",
    "    max_prop[prop] = [] \n",
    "    for exp in experiments.values():\n",
    "        mov_to_keep = []\n",
    "        acc_mean,time_inter = exp.mean_time_series_prop(prop,'body')\n",
    "        time_to_check = (time_inter > 0 ) & (time_inter <100 )\n",
    "        time_for_max = time_inter[time_to_check]\n",
    "        max_prop[prop].append(time_for_max[np.nanargmax(acc_mean[time_to_check])])\n",
    "        ax[idx].plot(time_inter,acc_mean)"
   ]
  },
  {
   "cell_type": "markdown",
   "metadata": {},
   "source": [
    "Plot and save figures"
   ]
  },
  {
   "cell_type": "code",
   "execution_count": null,
   "metadata": {},
   "outputs": [],
   "source": [
    "import plotly.graph_objects as go\n",
    "import plotly\n",
    "import matplotlib.cm as colormap\n",
    "color_map = colormap.datad[\"tab10\"]['listed']\n",
    "\n",
    "\n",
    "\n",
    "def plot_and_save_movie_prop(exp,yprop,wing_body,add_horizontal_line = False):\n",
    "    \n",
    "    fig = go.Figure()\n",
    "\n",
    "    exp.plot_prop_movies(yprop,'body',color_map[0],fig,mov = False,case = 'plot_mov')\n",
    "    fig.show()\n",
    "    plotly.offline.plot(fig, filename=f'{exp.figures_path}/{yprop}_plot.html',auto_open=False)\n",
    "\n",
    "\n",
    "\n",
    "\n",
    "for exp in experiments:\n",
    "    try:\n",
    "        exp.plot_3d_traj_movies('CM_dot_dot_projected',save_plot = True, mov = False)\n",
    "\n",
    "        plot_and_save_movie_prop(exp,yprop = 'CM_dot_dot_projected',wing_body = 'body',add_horizontal_line = 0)\n",
    "        plot_and_save_movie_prop(exp,yprop = 'pitch_y_frame',wing_body = 'body',add_horizontal_line = 0)\n",
    "        plot_and_save_movie_prop(exp,yprop = 'pitch_y_frame_dot',wing_body = 'body',add_horizontal_line = 0)\n",
    "        plot_and_save_movie_prop(exp,yprop = 'CM_dot_projected',wing_body = 'body',add_horizontal_line = 0)\n",
    "    except:\n",
    "        continue\n",
    "    # exp.mean_mean_props_movies('phi_rw_min_val','phi_lw_min_val','mean_wing','mean_front_phi')\n",
    "    # exp.mean_mean_props_movies('phi_rw','phi_lw','mean_wing','mean_mean_phi')\n",
    "\n",
    "    # plot_and_save_movie_prop(exp,yprop = 'mean_front_phi',wing_body = 'mean_wing')\n",
    "    # plot_and_save_movie_prop(exp,yprop = 'mean_mean_phi',wing_body = 'mean_wing')\n",
    "\n"
   ]
  }
 ],
 "metadata": {
  "kernelspec": {
   "display_name": "base",
   "language": "python",
   "name": "python3"
  },
  "language_info": {
   "codemirror_mode": {
    "name": "ipython",
    "version": 3
   },
   "file_extension": ".py",
   "mimetype": "text/x-python",
   "name": "python",
   "nbconvert_exporter": "python",
   "pygments_lexer": "ipython3",
   "version": "3.10.9"
  }
 },
 "nbformat": 4,
 "nbformat_minor": 2
}
